{
 "metadata": {
  "language_info": {
   "codemirror_mode": {
    "name": "ipython",
    "version": 3
   },
   "file_extension": ".py",
   "mimetype": "text/x-python",
   "name": "python",
   "nbconvert_exporter": "python",
   "pygments_lexer": "ipython3",
   "version": 3
  },
  "orig_nbformat": 2
 },
 "nbformat": 4,
 "nbformat_minor": 2,
 "cells": [
  {
   "source": [
    "# AI 13강 : Deep Learning\n",
    "\n",
    "딥러닝 개요"
   ],
   "cell_type": "markdown",
   "metadata": {}
  },
  {
   "source": [
    "### 딥러닝\n",
    "\n",
    "인간의 신경망 이론을 이용한 인공 신경망으로 입력층과 출력층 사이에 하나 이상의 은닉층을 가진 심층신경망이다.\n",
    "- 인공신경망 : 인간의 뇌 구조를 모방하여 모델링한 수학적 모델\n",
    "    - 뉴런의 입력은 다수, 신경은 하나 출력은 다수의 입력을 한번에 처리한다\n",
    "    - 무조건 신호를 합산하여 출력하지 않고, 일정 수치 이상의 수치만을 고려한다.\n",
    "- 뉴런 & 인공신경망\n",
    "    - 입력 : 수상돌기 dendrite\n",
    "    - 입력 합산 : 세포체 cell body\n",
    "    - 출력 : 축삭 axon"
   ],
   "cell_type": "markdown",
   "metadata": {}
  },
  {
   "source": [
    "### 인공신경망의 발전\n",
    "- 1957 : perceptron\n",
    "- 1969 : multilayer perceptron\n",
    "- 1986 : backpropagation\n",
    "- 1992 : recurrent neural network\n",
    "- 1998 : 손글씨 문자인식 연구\n",
    "- 2000 : 딥러닝 용어 등장\n",
    "- 2012 : drop out algorithm\n",
    "\n",
    "=> 충분한 성능의 하드웨어와 그래픽 처리 장치, 드롭아웃 알고리즘의 발견으로 발전할 수 있었음\n"
   ],
   "cell_type": "markdown",
   "metadata": {}
  },
  {
   "source": [
    "### 분야별 알고리즘\n",
    "\n",
    "- CNN 합성곱 신경망 convolution neural network\n",
    "    - 이미지 인식\n",
    "    - 자율주행 : 주변 환경을 픽셀로 분할하여 인식\n",
    "- RNN 순환 신경망 recurrent neural network\n",
    "    - 음성, 텍스트 \n",
    "        - 길이가 가변적\n",
    "        - 문맥을 이해해야 한다 = 어느정도의 기억력이 필요\n",
    "    - 발전\n",
    "        - LSTM (Long Short-Term Memory) GRU (Gated Recurrent Unit) 가 기여\n",
    "    - 손글씨 인식 알고리즘, 독순술 정확도 알고리즘이 개발되었음"
   ],
   "cell_type": "markdown",
   "metadata": {}
  }
 ]
}