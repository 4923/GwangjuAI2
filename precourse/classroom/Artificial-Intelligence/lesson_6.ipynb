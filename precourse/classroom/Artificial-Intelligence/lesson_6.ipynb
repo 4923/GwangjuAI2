{
 "metadata": {
  "language_info": {
   "codemirror_mode": {
    "name": "ipython",
    "version": 3
   },
   "file_extension": ".py",
   "mimetype": "text/x-python",
   "name": "python",
   "nbconvert_exporter": "python",
   "pygments_lexer": "ipython3",
   "version": "3.7.10"
  },
  "orig_nbformat": 2,
  "kernelspec": {
   "name": "python3",
   "display_name": "Python 3.7.10 64-bit ('tf2_py37': conda)",
   "metadata": {
    "interpreter": {
     "hash": "cd1d6a1ed908219ec4468aac6de40605c26f50ff7dc5411b40d2b744d6443d95"
    }
   }
  }
 },
 "nbformat": 4,
 "nbformat_minor": 2,
 "cells": [
  {
   "source": [
    "# AI 6강 : 머신러닝의 기반, 확률과 통계\n"
   ],
   "cell_type": "markdown",
   "metadata": {}
  },
  {
   "source": [
    "### 학습 목표\n",
    "1. 통계학의 용어와 통계 모델링\n",
    "2. 기술 통계학과 추론 통계학의 핵심 내용"
   ],
   "cell_type": "markdown",
   "metadata": {}
  },
  {
   "source": [
    "### 통계학\n",
    "통계학은 **효과적인 의사결정**을 위해 수치 데이터를 **수집, 분석, 해석, 표현**하는 수학의 한 분야로 기술통계학과 추론 통계학으로 분류된다."
   ],
   "cell_type": "markdown",
   "metadata": {}
  },
  {
   "source": [
    "- 통계학\n",
    "    1. 기술 통계학  \n",
    "        수집한 자료를 정보로 전환하기 위해 **요약**하고 **정리**하여 특징을 추출하는 그래프적 수치절차.\n",
    "        + 연속형 데이터\n",
    "            - 키, 나이, 가격 -> 평균, 표준편차\n",
    "        + 범주형 데이터\n",
    "            - 이름, 종족, 성별 -> 빈도, 백분율\n",
    "    \n",
    "    2. 추론 통계학  \n",
    "        통계적 현상을 확률적으로 이해한다. 일부(표본)로 전체의 성질(모집단)을 조사한다. 추정과 검정을 이용하는 빈도론과 베이즈 통계를 활용한다.\n",
    "        - 예) 유권자 조사를 통해 당선 결과를 예측"
   ],
   "cell_type": "markdown",
   "metadata": {}
  },
  {
   "source": [
    "- 통계 모델링  \n",
    "    데이터에 통계학을 적용하여 변수의 유의성을 분석함으로써 데이터에 숨겨진 특징을 찾아내는 과정이다.  \n",
    "    통계 모델은 일종의 함수식으로, 데이터의 경향성을 나타낸다.  \n",
    "    - 통계 모델은 확률 분포를 따르는 가정을 포함한다.\n",
    "    - 기본 가정\n",
    "        + 모든 변수(데이터)가 만족해야 하는 기본적인 가정\n",
    "        + 이 조건을 만족할 때에만 모델의 성능이 통계학적으로 유의\n",
    "\n"
   ],
   "cell_type": "markdown",
   "metadata": {}
  },
  {
   "source": [
    "### 통계적 수치 (1)\n",
    "\n",
    "평균, 중앙값, 최빈값"
   ],
   "cell_type": "markdown",
   "metadata": {}
  },
  {
   "cell_type": "code",
   "execution_count": 18,
   "metadata": {},
   "outputs": [],
   "source": [
    "import numpy as np\n",
    "from scipy import stats"
   ]
  },
  {
   "cell_type": "code",
   "execution_count": 19,
   "metadata": {},
   "outputs": [],
   "source": [
    "np.random.seed(0)\n",
    "\n",
    "# 인자값 (0)에 할당된 난수를 불러온다.\n",
    "# 0 : 숫자의 의미보다는, 실험을 위한 '통제 가능 제한적 공간'으로 이해하는 것이 좋다."
   ]
  },
  {
   "cell_type": "code",
   "execution_count": 20,
   "metadata": {},
   "outputs": [],
   "source": [
    "data_A = np.random.randint(0, 100, 10000)  # (start, end, number of data)\n",
    "data_B = np.random.normal(size = 100)  # 분포를 이룰 무작위 데이터 생성"
   ]
  },
  {
   "cell_type": "code",
   "execution_count": 21,
   "metadata": {},
   "outputs": [
    {
     "output_type": "stream",
     "name": "stdout",
     "text": [
      "평균값 :  49.17\n중앙값 :  49.0\n최빈값 : 3 (125)\n"
     ]
    }
   ],
   "source": [
    "mean = np.mean(data_A)\n",
    "median = np.median(data_A)\n",
    "mode = stats.mode(data_A)  # mode 객체를 반환\n",
    "\n",
    "print(\"평균값 : \", mean.round(2))  # 소수점 두번째 자리에서 반올림하라\n",
    "print(\"중앙값 : \", median)\n",
    "print(f\"최빈값 : {mode[0][0]} ({mode[1][0]})\") # 최빈값, 빈도수"
   ]
  },
  {
   "cell_type": "code",
   "execution_count": 22,
   "metadata": {},
   "outputs": [
    {
     "output_type": "stream",
     "name": "stdout",
     "text": [
      "평균값 :  -0.03\n중앙값 :  -0.1024051532970941\n최빈값 : -2.862292431709955 (1)\n"
     ]
    }
   ],
   "source": [
    "mean = np.mean(data_B)\n",
    "median = np.median(data_B)\n",
    "mode = stats.mode(data_B)  # mode 객체를 반환\n",
    "\n",
    "print(\"평균값 : \", mean.round(2))  # 소수점 두번째 자리에서 반올림하라\n",
    "print(\"중앙값 : \", median)\n",
    "print(f\"최빈값 : {mode[0][0]} ({mode[1][0]})\") # 최빈값, 빈도수"
   ]
  },
  {
   "source": [
    "정규분포는 평균, 중앙, 최빈값이 동일하다"
   ],
   "cell_type": "markdown",
   "metadata": {}
  },
  {
   "source": [
    "### 통계적 수치 (2)\n",
    "\n",
    "변량의 측정, 분산, 표준편차, 사분위수"
   ],
   "cell_type": "markdown",
   "metadata": {}
  },
  {
   "source": [
    "1. 변량\n",
    "    - 변량 : 데이터, 수치\n",
    "    - 산포 : 데이터의 변량으로, 데이터가 흩어진 정도를 표현\n",
    "2. 분산 : 평균과의 거리를 제곱한 값의 평균\n",
    "    + 음수를 고려하여 제곱을 취한다.\n",
    "3. 표준편차 : 분산에 제곱근을 취한 값\n",
    "    + 분산은 값이 커서 비교가 쉽지 않으므로 보정\n",
    "    + 단위에 구애받지 않는다"
   ],
   "cell_type": "markdown",
   "metadata": {}
  },
  {
   "cell_type": "code",
   "execution_count": 23,
   "metadata": {},
   "outputs": [
    {
     "output_type": "stream",
     "name": "stdout",
     "text": [
      "분산 :  833.0\n표준편차 :  28.86\n"
     ]
    }
   ],
   "source": [
    "data_A_var = np.var(data_A)\n",
    "data_a_std = np.std(data_A)\n",
    "\n",
    "print(\"분산 : \", data_A_var.round(2))\n",
    "print(\"표준편차 : \", data_a_std.round(2))"
   ]
  },
  {
   "source": [
    "4. 사분위수 : 데이터 구성을 전체적으로 살펴보기 위해 사용한다.\n",
    "    - 박스플롯을 사용한다.\n",
    "    - 장점 : 데이터의 이상치 탐색, 중심위치 및 분포를 빠르게 파악할 수 있다.\n",
    "\n",
    "이상치는 어떻게 구하나?\n",
    "\n",
    "5. IQR (Inter Quartile Range)\n",
    "    - 사분범위의 1.5배, 3사분위수에서 1사분위수를 뺀다\n",
    "    - IQR로 이상치를 선별할 수 있다."
   ],
   "cell_type": "markdown",
   "metadata": {}
  }
 ]
}