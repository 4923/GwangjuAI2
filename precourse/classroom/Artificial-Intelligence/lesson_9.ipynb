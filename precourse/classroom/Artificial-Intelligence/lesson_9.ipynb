{
 "metadata": {
  "language_info": {
   "codemirror_mode": {
    "name": "ipython",
    "version": 3
   },
   "file_extension": ".py",
   "mimetype": "text/x-python",
   "name": "python",
   "nbconvert_exporter": "python",
   "pygments_lexer": "ipython3",
   "version": "3.7.10"
  },
  "orig_nbformat": 2,
  "kernelspec": {
   "name": "python3710jvsc74a57bd0b1c32768c3388c46e098f4634bfda4e74ee484e5ffc2ec37cd24883f67512a61",
   "display_name": "Python 3.7.10 64-bit ('tf2_py37': conda)"
  }
 },
 "nbformat": 4,
 "nbformat_minor": 2,
 "cells": [
  {
   "source": [
    "# AI 9강 : 머신러닝 알고리즘\n",
    "로지스틱 회귀, 서포트 벡터 머신"
   ],
   "cell_type": "markdown",
   "metadata": {}
  },
  {
   "source": [
    "인공지능에도 여러가지 문제 해결 방법이 있으므로 적절한 분류 알고리즘을 선택해야 한다.\n",
    "\n",
    "**영향을 주는 요인**  \n",
    "1. 변수의 특성  \n",
    "2. 데이터의 개수  \n",
    "3. 노이즈 데이터의 양  \n",
    "4. 클래스의 선형적 구분 여부  \n",
    "\n"
   ],
   "cell_type": "markdown",
   "metadata": {}
  },
  {
   "source": [
    "## 머신러닝 알고리즘 훈련을 위한 단계\n",
    "\n",
    "1. 변수를 선택하고 훈련 데이터를 수집  \n",
    "2. 모델의 성능 지표를 선택  \n",
    "3. 분류 모델과 최적화 알고리즘 선택  \n",
    "4. 모델의 성능 평가  \n",
    "5. 모델 튜닝  \n",
    "\n"
   ],
   "cell_type": "markdown",
   "metadata": {}
  },
  {
   "source": [
    "## 퍼센트론 perceptron\n",
    "\n",
    "머신러닝에서 가장 주목받는 방법인 딥러닝은 인공신경망의 원리를 차용한다.  \n",
    "딥러닝의 deep은 인공신경망의 은닉층이 여러개라는 의미인데 이 때 이 은닉층을 구성하는 것이 **퍼셉트론**이다.  \n",
    "\n",
    "우선 신경세포의 동작 방식을 알아야 한다.   \n",
    "신경세포(뉴런)은 가지돌기에서 신호를 받고, 그 신호가 일정 수치 이상 강하면 축삭돌기를 통해 신호를 전달한다.  \n",
    "뉴런이 가지돌기에서 받는 신호는 퍼셉트론의 입력값 $x$에 해당하고,  \n",
    "축삭돌기를 통해 신경세포체로 전달되는 신호가 퍼셉트론의 출력값 $y$에 해당한다.  \n",
    "\n",
    "**계단 함수 Step function**  \n",
    "이 때, 퍼셉트론에서 신호의 강도는 가중치(weight) $W$가 결정한다. 가중치가 클 수록 해당 신호의 중요도가 커지며 각 가중치는 입력값에 따라 달라진다.  \n",
    "입력값 $x$는 가중치 $w$와 곱해져 종착지 $y$로 보내지고, 곱해진 값이 임계치 threshold를 넘으면 퍼셉트론은 출력값으로 1을 출력한다"
   ],
   "cell_type": "markdown",
   "metadata": {}
  },
  {
   "source": [
    "## 로지스틱 회귀 \\[분류]\n",
    "\n",
    "> 분류를 확률로 생각하는 방식\n",
    "\n",
    "퍼셉트론 알고리즘은 선형분리 불가능 문제는 해결할 수 없으므로 퍼셉트론의 간단함을 유지하면서 퍼셉트론으로 알고리즘으로 풀 수 없는 문제를 해결하는 알고리즘을 고안했다.  \n"
   ],
   "cell_type": "markdown",
   "metadata": {}
  },
  {
   "source": [
    "### 로지스틱 시그모이드 함수\n",
    "경사하강법과 유사한 방식을 사용하나, 회귀문제가 아니라 분류문제를 해결하는 알고리즘이므로 입력값이 어떤 클래스에 분류되는지 구하기 위해 **함수**를 사용한다.  \n",
    "\n",
    "$$f(x) = \\frac{1}{1 + e^{-z}}\\\\z = w^{T}x = w_{0}x_{0}+w_{1}x_{1}+\\cdots+w_{n}x_{n}$$\n",
    "\n",
    "- 함수의 모양이 S형태를 띄기 때문에 붙여진 이름이다.  \n",
    "- $w$ : 가중치 벡터, $x$ : 입력 데이터 변수, $T$ : 전치 행렬\n"
   ],
   "cell_type": "markdown",
   "metadata": {}
  },
  {
   "cell_type": "code",
   "execution_count": 5,
   "metadata": {},
   "outputs": [],
   "source": [
    "import matplotlib.pyplot as plt\r\n",
    "import numpy as np \r\n",
    "\r\n",
    "def sigmoid(z):\r\n",
    "    return 1.0 / (1.0 + np.exp(-z))  # np.exp : numpy모듈의 지수함수\r\n",
    "\r\n",
    "z = np.arange(-7, 7, 0.1)\r\n",
    "f_x = sigmoid(z)"
   ]
  },
  {
   "cell_type": "code",
   "execution_count": 7,
   "metadata": {},
   "outputs": [
    {
     "output_type": "display_data",
     "data": {
      "text/plain": "<Figure size 432x288 with 1 Axes>",
      "image/svg+xml": "<?xml version=\"1.0\" encoding=\"utf-8\" standalone=\"no\"?>\r\n<!DOCTYPE svg PUBLIC \"-//W3C//DTD SVG 1.1//EN\"\r\n  \"http://www.w3.org/Graphics/SVG/1.1/DTD/svg11.dtd\">\r\n<!-- Created with matplotlib (https://matplotlib.org/) -->\r\n<svg height=\"279.955469pt\" version=\"1.1\" viewBox=\"0 0 424.38125 279.955469\" width=\"424.38125pt\" xmlns=\"http://www.w3.org/2000/svg\" xmlns:xlink=\"http://www.w3.org/1999/xlink\">\r\n <metadata>\r\n  <rdf:RDF xmlns:cc=\"http://creativecommons.org/ns#\" xmlns:dc=\"http://purl.org/dc/elements/1.1/\" xmlns:rdf=\"http://www.w3.org/1999/02/22-rdf-syntax-ns#\">\r\n   <cc:Work>\r\n    <dc:type rdf:resource=\"http://purl.org/dc/dcmitype/StillImage\"/>\r\n    <dc:date>2021-05-09T21:37:46.548722</dc:date>\r\n    <dc:format>image/svg+xml</dc:format>\r\n    <dc:creator>\r\n     <cc:Agent>\r\n      <dc:title>Matplotlib v3.3.4, https://matplotlib.org/</dc:title>\r\n     </cc:Agent>\r\n    </dc:creator>\r\n   </cc:Work>\r\n  </rdf:RDF>\r\n </metadata>\r\n <defs>\r\n  <style type=\"text/css\">*{stroke-linecap:butt;stroke-linejoin:round;}</style>\r\n </defs>\r\n <g id=\"figure_1\">\r\n  <g id=\"patch_1\">\r\n   <path d=\"M 0 279.955469 \r\nL 424.38125 279.955469 \r\nL 424.38125 0 \r\nL 0 0 \r\nz\r\n\" style=\"fill:none;\"/>\r\n  </g>\r\n  <g id=\"axes_1\">\r\n   <g id=\"patch_2\">\r\n    <path d=\"M 43.78125 242.399219 \r\nL 417.18125 242.399219 \r\nL 417.18125 10.999219 \r\nL 43.78125 10.999219 \r\nz\r\n\" style=\"fill:#ffffff;\"/>\r\n   </g>\r\n   <g id=\"matplotlib.axis_1\">\r\n    <g id=\"xtick_1\">\r\n     <g id=\"line2d_1\">\r\n      <defs>\r\n       <path d=\"M 0 0 \r\nL 0 3.5 \r\n\" id=\"m9881e049fa\" style=\"stroke:#000000;stroke-width:0.8;\"/>\r\n      </defs>\r\n      <g>\r\n       <use style=\"stroke:#000000;stroke-width:0.8;\" x=\"85.175168\" xlink:href=\"#m9881e049fa\" y=\"242.399219\"/>\r\n      </g>\r\n     </g>\r\n     <g id=\"text_1\">\r\n      <!-- −6 -->\r\n      <g transform=\"translate(77.804074 256.997656)scale(0.1 -0.1)\">\r\n       <defs>\r\n        <path d=\"M 10.59375 35.5 \r\nL 73.1875 35.5 \r\nL 73.1875 27.203125 \r\nL 10.59375 27.203125 \r\nz\r\n\" id=\"DejaVuSans-8722\"/>\r\n        <path d=\"M 33.015625 40.375 \r\nQ 26.375 40.375 22.484375 35.828125 \r\nQ 18.609375 31.296875 18.609375 23.390625 \r\nQ 18.609375 15.53125 22.484375 10.953125 \r\nQ 26.375 6.390625 33.015625 6.390625 \r\nQ 39.65625 6.390625 43.53125 10.953125 \r\nQ 47.40625 15.53125 47.40625 23.390625 \r\nQ 47.40625 31.296875 43.53125 35.828125 \r\nQ 39.65625 40.375 33.015625 40.375 \r\nz\r\nM 52.59375 71.296875 \r\nL 52.59375 62.3125 \r\nQ 48.875 64.0625 45.09375 64.984375 \r\nQ 41.3125 65.921875 37.59375 65.921875 \r\nQ 27.828125 65.921875 22.671875 59.328125 \r\nQ 17.53125 52.734375 16.796875 39.40625 \r\nQ 19.671875 43.65625 24.015625 45.921875 \r\nQ 28.375 48.1875 33.59375 48.1875 \r\nQ 44.578125 48.1875 50.953125 41.515625 \r\nQ 57.328125 34.859375 57.328125 23.390625 \r\nQ 57.328125 12.15625 50.6875 5.359375 \r\nQ 44.046875 -1.421875 33.015625 -1.421875 \r\nQ 20.359375 -1.421875 13.671875 8.265625 \r\nQ 6.984375 17.96875 6.984375 36.375 \r\nQ 6.984375 53.65625 15.1875 63.9375 \r\nQ 23.390625 74.21875 37.203125 74.21875 \r\nQ 40.921875 74.21875 44.703125 73.484375 \r\nQ 48.484375 72.75 52.59375 71.296875 \r\nz\r\n\" id=\"DejaVuSans-54\"/>\r\n       </defs>\r\n       <use xlink:href=\"#DejaVuSans-8722\"/>\r\n       <use x=\"83.789062\" xlink:href=\"#DejaVuSans-54\"/>\r\n      </g>\r\n     </g>\r\n    </g>\r\n    <g id=\"xtick_2\">\r\n     <g id=\"line2d_2\">\r\n      <g>\r\n       <use style=\"stroke:#000000;stroke-width:0.8;\" x=\"134.017548\" xlink:href=\"#m9881e049fa\" y=\"242.399219\"/>\r\n      </g>\r\n     </g>\r\n     <g id=\"text_2\">\r\n      <!-- −4 -->\r\n      <g transform=\"translate(126.646454 256.997656)scale(0.1 -0.1)\">\r\n       <defs>\r\n        <path d=\"M 37.796875 64.3125 \r\nL 12.890625 25.390625 \r\nL 37.796875 25.390625 \r\nz\r\nM 35.203125 72.90625 \r\nL 47.609375 72.90625 \r\nL 47.609375 25.390625 \r\nL 58.015625 25.390625 \r\nL 58.015625 17.1875 \r\nL 47.609375 17.1875 \r\nL 47.609375 0 \r\nL 37.796875 0 \r\nL 37.796875 17.1875 \r\nL 4.890625 17.1875 \r\nL 4.890625 26.703125 \r\nz\r\n\" id=\"DejaVuSans-52\"/>\r\n       </defs>\r\n       <use xlink:href=\"#DejaVuSans-8722\"/>\r\n       <use x=\"83.789062\" xlink:href=\"#DejaVuSans-52\"/>\r\n      </g>\r\n     </g>\r\n    </g>\r\n    <g id=\"xtick_3\">\r\n     <g id=\"line2d_3\">\r\n      <g>\r\n       <use style=\"stroke:#000000;stroke-width:0.8;\" x=\"182.859929\" xlink:href=\"#m9881e049fa\" y=\"242.399219\"/>\r\n      </g>\r\n     </g>\r\n     <g id=\"text_3\">\r\n      <!-- −2 -->\r\n      <g transform=\"translate(175.488835 256.997656)scale(0.1 -0.1)\">\r\n       <defs>\r\n        <path d=\"M 19.1875 8.296875 \r\nL 53.609375 8.296875 \r\nL 53.609375 0 \r\nL 7.328125 0 \r\nL 7.328125 8.296875 \r\nQ 12.9375 14.109375 22.625 23.890625 \r\nQ 32.328125 33.6875 34.8125 36.53125 \r\nQ 39.546875 41.84375 41.421875 45.53125 \r\nQ 43.3125 49.21875 43.3125 52.78125 \r\nQ 43.3125 58.59375 39.234375 62.25 \r\nQ 35.15625 65.921875 28.609375 65.921875 \r\nQ 23.96875 65.921875 18.8125 64.3125 \r\nQ 13.671875 62.703125 7.8125 59.421875 \r\nL 7.8125 69.390625 \r\nQ 13.765625 71.78125 18.9375 73 \r\nQ 24.125 74.21875 28.421875 74.21875 \r\nQ 39.75 74.21875 46.484375 68.546875 \r\nQ 53.21875 62.890625 53.21875 53.421875 \r\nQ 53.21875 48.921875 51.53125 44.890625 \r\nQ 49.859375 40.875 45.40625 35.40625 \r\nQ 44.1875 33.984375 37.640625 27.21875 \r\nQ 31.109375 20.453125 19.1875 8.296875 \r\nz\r\n\" id=\"DejaVuSans-50\"/>\r\n       </defs>\r\n       <use xlink:href=\"#DejaVuSans-8722\"/>\r\n       <use x=\"83.789062\" xlink:href=\"#DejaVuSans-50\"/>\r\n      </g>\r\n     </g>\r\n    </g>\r\n    <g id=\"xtick_4\">\r\n     <g id=\"line2d_4\">\r\n      <g>\r\n       <use style=\"stroke:#000000;stroke-width:0.8;\" x=\"231.70231\" xlink:href=\"#m9881e049fa\" y=\"242.399219\"/>\r\n      </g>\r\n     </g>\r\n     <g id=\"text_4\">\r\n      <!-- 0 -->\r\n      <g transform=\"translate(228.52106 256.997656)scale(0.1 -0.1)\">\r\n       <defs>\r\n        <path d=\"M 31.78125 66.40625 \r\nQ 24.171875 66.40625 20.328125 58.90625 \r\nQ 16.5 51.421875 16.5 36.375 \r\nQ 16.5 21.390625 20.328125 13.890625 \r\nQ 24.171875 6.390625 31.78125 6.390625 \r\nQ 39.453125 6.390625 43.28125 13.890625 \r\nQ 47.125 21.390625 47.125 36.375 \r\nQ 47.125 51.421875 43.28125 58.90625 \r\nQ 39.453125 66.40625 31.78125 66.40625 \r\nz\r\nM 31.78125 74.21875 \r\nQ 44.046875 74.21875 50.515625 64.515625 \r\nQ 56.984375 54.828125 56.984375 36.375 \r\nQ 56.984375 17.96875 50.515625 8.265625 \r\nQ 44.046875 -1.421875 31.78125 -1.421875 \r\nQ 19.53125 -1.421875 13.0625 8.265625 \r\nQ 6.59375 17.96875 6.59375 36.375 \r\nQ 6.59375 54.828125 13.0625 64.515625 \r\nQ 19.53125 74.21875 31.78125 74.21875 \r\nz\r\n\" id=\"DejaVuSans-48\"/>\r\n       </defs>\r\n       <use xlink:href=\"#DejaVuSans-48\"/>\r\n      </g>\r\n     </g>\r\n    </g>\r\n    <g id=\"xtick_5\">\r\n     <g id=\"line2d_5\">\r\n      <g>\r\n       <use style=\"stroke:#000000;stroke-width:0.8;\" x=\"280.54469\" xlink:href=\"#m9881e049fa\" y=\"242.399219\"/>\r\n      </g>\r\n     </g>\r\n     <g id=\"text_5\">\r\n      <!-- 2 -->\r\n      <g transform=\"translate(277.36344 256.997656)scale(0.1 -0.1)\">\r\n       <use xlink:href=\"#DejaVuSans-50\"/>\r\n      </g>\r\n     </g>\r\n    </g>\r\n    <g id=\"xtick_6\">\r\n     <g id=\"line2d_6\">\r\n      <g>\r\n       <use style=\"stroke:#000000;stroke-width:0.8;\" x=\"329.387071\" xlink:href=\"#m9881e049fa\" y=\"242.399219\"/>\r\n      </g>\r\n     </g>\r\n     <g id=\"text_6\">\r\n      <!-- 4 -->\r\n      <g transform=\"translate(326.205821 256.997656)scale(0.1 -0.1)\">\r\n       <use xlink:href=\"#DejaVuSans-52\"/>\r\n      </g>\r\n     </g>\r\n    </g>\r\n    <g id=\"xtick_7\">\r\n     <g id=\"line2d_7\">\r\n      <g>\r\n       <use style=\"stroke:#000000;stroke-width:0.8;\" x=\"378.229451\" xlink:href=\"#m9881e049fa\" y=\"242.399219\"/>\r\n      </g>\r\n     </g>\r\n     <g id=\"text_7\">\r\n      <!-- 6 -->\r\n      <g transform=\"translate(375.048201 256.997656)scale(0.1 -0.1)\">\r\n       <use xlink:href=\"#DejaVuSans-54\"/>\r\n      </g>\r\n     </g>\r\n    </g>\r\n    <g id=\"text_8\">\r\n     <!-- z -->\r\n     <g transform=\"translate(227.857031 270.675781)scale(0.1 -0.1)\">\r\n      <defs>\r\n       <path d=\"M 5.515625 54.6875 \r\nL 48.1875 54.6875 \r\nL 48.1875 46.484375 \r\nL 14.40625 7.171875 \r\nL 48.1875 7.171875 \r\nL 48.1875 0 \r\nL 4.296875 0 \r\nL 4.296875 8.203125 \r\nL 38.09375 47.515625 \r\nL 5.515625 47.515625 \r\nz\r\n\" id=\"DejaVuSans-122\"/>\r\n      </defs>\r\n      <use xlink:href=\"#DejaVuSans-122\"/>\r\n     </g>\r\n    </g>\r\n   </g>\r\n   <g id=\"matplotlib.axis_2\">\r\n    <g id=\"ytick_1\">\r\n     <g id=\"line2d_8\">\r\n      <path clip-path=\"url(#p29ea4d8206)\" d=\"M 43.78125 221.362855 \r\nL 417.18125 221.362855 \r\n\" style=\"fill:none;stroke:#b0b0b0;stroke-linecap:square;stroke-width:0.8;\"/>\r\n     </g>\r\n     <g id=\"line2d_9\">\r\n      <defs>\r\n       <path d=\"M 0 0 \r\nL -3.5 0 \r\n\" id=\"m299701cb51\" style=\"stroke:#000000;stroke-width:0.8;\"/>\r\n      </defs>\r\n      <g>\r\n       <use style=\"stroke:#000000;stroke-width:0.8;\" x=\"43.78125\" xlink:href=\"#m299701cb51\" y=\"221.362855\"/>\r\n      </g>\r\n     </g>\r\n     <g id=\"text_9\">\r\n      <!-- 0.0 -->\r\n      <g transform=\"translate(20.878125 225.162074)scale(0.1 -0.1)\">\r\n       <defs>\r\n        <path d=\"M 10.6875 12.40625 \r\nL 21 12.40625 \r\nL 21 0 \r\nL 10.6875 0 \r\nz\r\n\" id=\"DejaVuSans-46\"/>\r\n       </defs>\r\n       <use xlink:href=\"#DejaVuSans-48\"/>\r\n       <use x=\"63.623047\" xlink:href=\"#DejaVuSans-46\"/>\r\n       <use x=\"95.410156\" xlink:href=\"#DejaVuSans-48\"/>\r\n      </g>\r\n     </g>\r\n    </g>\r\n    <g id=\"ytick_2\">\r\n     <g id=\"line2d_10\">\r\n      <path clip-path=\"url(#p29ea4d8206)\" d=\"M 43.78125 116.181037 \r\nL 417.18125 116.181037 \r\n\" style=\"fill:none;stroke:#b0b0b0;stroke-linecap:square;stroke-width:0.8;\"/>\r\n     </g>\r\n     <g id=\"line2d_11\">\r\n      <g>\r\n       <use style=\"stroke:#000000;stroke-width:0.8;\" x=\"43.78125\" xlink:href=\"#m299701cb51\" y=\"116.181037\"/>\r\n      </g>\r\n     </g>\r\n     <g id=\"text_10\">\r\n      <!-- 0.5 -->\r\n      <g transform=\"translate(20.878125 119.980256)scale(0.1 -0.1)\">\r\n       <defs>\r\n        <path d=\"M 10.796875 72.90625 \r\nL 49.515625 72.90625 \r\nL 49.515625 64.59375 \r\nL 19.828125 64.59375 \r\nL 19.828125 46.734375 \r\nQ 21.96875 47.46875 24.109375 47.828125 \r\nQ 26.265625 48.1875 28.421875 48.1875 \r\nQ 40.625 48.1875 47.75 41.5 \r\nQ 54.890625 34.8125 54.890625 23.390625 \r\nQ 54.890625 11.625 47.5625 5.09375 \r\nQ 40.234375 -1.421875 26.90625 -1.421875 \r\nQ 22.3125 -1.421875 17.546875 -0.640625 \r\nQ 12.796875 0.140625 7.71875 1.703125 \r\nL 7.71875 11.625 \r\nQ 12.109375 9.234375 16.796875 8.0625 \r\nQ 21.484375 6.890625 26.703125 6.890625 \r\nQ 35.15625 6.890625 40.078125 11.328125 \r\nQ 45.015625 15.765625 45.015625 23.390625 \r\nQ 45.015625 31 40.078125 35.4375 \r\nQ 35.15625 39.890625 26.703125 39.890625 \r\nQ 22.75 39.890625 18.8125 39.015625 \r\nQ 14.890625 38.140625 10.796875 36.28125 \r\nz\r\n\" id=\"DejaVuSans-53\"/>\r\n       </defs>\r\n       <use xlink:href=\"#DejaVuSans-48\"/>\r\n       <use x=\"63.623047\" xlink:href=\"#DejaVuSans-46\"/>\r\n       <use x=\"95.410156\" xlink:href=\"#DejaVuSans-53\"/>\r\n      </g>\r\n     </g>\r\n    </g>\r\n    <g id=\"ytick_3\">\r\n     <g id=\"line2d_12\">\r\n      <path clip-path=\"url(#p29ea4d8206)\" d=\"M 43.78125 10.999219 \r\nL 417.18125 10.999219 \r\n\" style=\"fill:none;stroke:#b0b0b0;stroke-linecap:square;stroke-width:0.8;\"/>\r\n     </g>\r\n     <g id=\"line2d_13\">\r\n      <g>\r\n       <use style=\"stroke:#000000;stroke-width:0.8;\" x=\"43.78125\" xlink:href=\"#m299701cb51\" y=\"10.999219\"/>\r\n      </g>\r\n     </g>\r\n     <g id=\"text_11\">\r\n      <!-- 1.0 -->\r\n      <g transform=\"translate(20.878125 14.798438)scale(0.1 -0.1)\">\r\n       <defs>\r\n        <path d=\"M 12.40625 8.296875 \r\nL 28.515625 8.296875 \r\nL 28.515625 63.921875 \r\nL 10.984375 60.40625 \r\nL 10.984375 69.390625 \r\nL 28.421875 72.90625 \r\nL 38.28125 72.90625 \r\nL 38.28125 8.296875 \r\nL 54.390625 8.296875 \r\nL 54.390625 0 \r\nL 12.40625 0 \r\nz\r\n\" id=\"DejaVuSans-49\"/>\r\n       </defs>\r\n       <use xlink:href=\"#DejaVuSans-49\"/>\r\n       <use x=\"63.623047\" xlink:href=\"#DejaVuSans-46\"/>\r\n       <use x=\"95.410156\" xlink:href=\"#DejaVuSans-48\"/>\r\n      </g>\r\n     </g>\r\n    </g>\r\n    <g id=\"text_12\">\r\n     <!-- f(x) -->\r\n     <g transform=\"translate(14.798438 135.320312)rotate(-90)scale(0.1 -0.1)\">\r\n      <defs>\r\n       <path d=\"M 37.109375 75.984375 \r\nL 37.109375 68.5 \r\nL 28.515625 68.5 \r\nQ 23.6875 68.5 21.796875 66.546875 \r\nQ 19.921875 64.59375 19.921875 59.515625 \r\nL 19.921875 54.6875 \r\nL 34.71875 54.6875 \r\nL 34.71875 47.703125 \r\nL 19.921875 47.703125 \r\nL 19.921875 0 \r\nL 10.890625 0 \r\nL 10.890625 47.703125 \r\nL 2.296875 47.703125 \r\nL 2.296875 54.6875 \r\nL 10.890625 54.6875 \r\nL 10.890625 58.5 \r\nQ 10.890625 67.625 15.140625 71.796875 \r\nQ 19.390625 75.984375 28.609375 75.984375 \r\nz\r\n\" id=\"DejaVuSans-102\"/>\r\n       <path d=\"M 31 75.875 \r\nQ 24.46875 64.65625 21.28125 53.65625 \r\nQ 18.109375 42.671875 18.109375 31.390625 \r\nQ 18.109375 20.125 21.3125 9.0625 \r\nQ 24.515625 -2 31 -13.1875 \r\nL 23.1875 -13.1875 \r\nQ 15.875 -1.703125 12.234375 9.375 \r\nQ 8.59375 20.453125 8.59375 31.390625 \r\nQ 8.59375 42.28125 12.203125 53.3125 \r\nQ 15.828125 64.359375 23.1875 75.875 \r\nz\r\n\" id=\"DejaVuSans-40\"/>\r\n       <path d=\"M 54.890625 54.6875 \r\nL 35.109375 28.078125 \r\nL 55.90625 0 \r\nL 45.3125 0 \r\nL 29.390625 21.484375 \r\nL 13.484375 0 \r\nL 2.875 0 \r\nL 24.125 28.609375 \r\nL 4.6875 54.6875 \r\nL 15.28125 54.6875 \r\nL 29.78125 35.203125 \r\nL 44.28125 54.6875 \r\nz\r\n\" id=\"DejaVuSans-120\"/>\r\n       <path d=\"M 8.015625 75.875 \r\nL 15.828125 75.875 \r\nQ 23.140625 64.359375 26.78125 53.3125 \r\nQ 30.421875 42.28125 30.421875 31.390625 \r\nQ 30.421875 20.453125 26.78125 9.375 \r\nQ 23.140625 -1.703125 15.828125 -13.1875 \r\nL 8.015625 -13.1875 \r\nQ 14.5 -2 17.703125 9.0625 \r\nQ 20.90625 20.125 20.90625 31.390625 \r\nQ 20.90625 42.671875 17.703125 53.65625 \r\nQ 14.5 64.65625 8.015625 75.875 \r\nz\r\n\" id=\"DejaVuSans-41\"/>\r\n      </defs>\r\n      <use xlink:href=\"#DejaVuSans-102\"/>\r\n      <use x=\"35.205078\" xlink:href=\"#DejaVuSans-40\"/>\r\n      <use x=\"74.21875\" xlink:href=\"#DejaVuSans-120\"/>\r\n      <use x=\"133.398438\" xlink:href=\"#DejaVuSans-41\"/>\r\n     </g>\r\n    </g>\r\n   </g>\r\n   <g id=\"line2d_14\">\r\n    <path clip-path=\"url(#p29ea4d8206)\" d=\"M 60.753977 221.171203 \r\nL 82.733049 220.892093 \r\nL 97.385763 220.506646 \r\nL 109.596358 219.954923 \r\nL 119.364834 219.269358 \r\nL 126.691191 218.546734 \r\nL 134.017548 217.579211 \r\nL 138.901786 216.759831 \r\nL 143.786024 215.767815 \r\nL 148.670262 214.569064 \r\nL 153.5545 213.123811 \r\nL 158.438739 211.386176 \r\nL 163.322977 209.303933 \r\nL 168.207215 206.818646 \r\nL 173.091453 203.866344 \r\nL 175.533572 202.193898 \r\nL 177.975691 200.378979 \r\nL 180.41781 198.412851 \r\nL 182.859929 196.286895 \r\nL 185.302048 193.992763 \r\nL 187.744167 191.522549 \r\nL 190.186286 188.86898 \r\nL 192.628405 186.025632 \r\nL 195.070524 182.987159 \r\nL 197.512643 179.749539 \r\nL 199.954762 176.310323 \r\nL 202.396881 172.668887 \r\nL 207.281119 164.78736 \r\nL 212.165357 156.14476 \r\nL 217.049595 146.821827 \r\nL 221.933833 136.941332 \r\nL 229.26019 121.43575 \r\nL 241.470786 95.420742 \r\nL 246.355024 85.540247 \r\nL 251.239262 76.217314 \r\nL 256.1235 67.574714 \r\nL 261.007738 59.693187 \r\nL 263.449857 56.05175 \r\nL 265.891976 52.612535 \r\nL 268.334095 49.374915 \r\nL 270.776214 46.336442 \r\nL 273.218333 43.493094 \r\nL 275.660452 40.839525 \r\nL 278.102571 38.369311 \r\nL 280.54469 36.075179 \r\nL 282.986809 33.949223 \r\nL 285.428928 31.983094 \r\nL 287.871047 30.168176 \r\nL 292.755285 26.957021 \r\nL 297.639523 24.246523 \r\nL 302.523761 21.970432 \r\nL 307.408 20.067418 \r\nL 312.292238 18.482103 \r\nL 317.176476 17.165446 \r\nL 322.060714 16.074667 \r\nL 326.944952 15.172898 \r\nL 334.271309 14.107138 \r\nL 341.597666 13.310472 \r\nL 348.924023 12.716327 \r\nL 358.692499 12.153337 \r\nL 370.903094 11.700741 \r\nL 385.555809 11.384802 \r\nL 400.208523 11.211007 \r\nL 400.208523 11.211007 \r\n\" style=\"fill:none;stroke:#1f77b4;stroke-linecap:square;stroke-width:1.5;\"/>\r\n   </g>\r\n   <g id=\"line2d_15\">\r\n    <path clip-path=\"url(#p29ea4d8206)\" d=\"M 231.70231 242.399219 \r\nL 231.70231 10.999219 \r\n\" style=\"fill:none;stroke:#000000;stroke-linecap:square;stroke-width:1.5;\"/>\r\n   </g>\r\n   <g id=\"patch_3\">\r\n    <path d=\"M 43.78125 242.399219 \r\nL 43.78125 10.999219 \r\n\" style=\"fill:none;stroke:#000000;stroke-linecap:square;stroke-linejoin:miter;stroke-width:0.8;\"/>\r\n   </g>\r\n   <g id=\"patch_4\">\r\n    <path d=\"M 417.18125 242.399219 \r\nL 417.18125 10.999219 \r\n\" style=\"fill:none;stroke:#000000;stroke-linecap:square;stroke-linejoin:miter;stroke-width:0.8;\"/>\r\n   </g>\r\n   <g id=\"patch_5\">\r\n    <path d=\"M 43.78125 242.399219 \r\nL 417.18125 242.399219 \r\n\" style=\"fill:none;stroke:#000000;stroke-linecap:square;stroke-linejoin:miter;stroke-width:0.8;\"/>\r\n   </g>\r\n   <g id=\"patch_6\">\r\n    <path d=\"M 43.78125 10.999219 \r\nL 417.18125 10.999219 \r\n\" style=\"fill:none;stroke:#000000;stroke-linecap:square;stroke-linejoin:miter;stroke-width:0.8;\"/>\r\n   </g>\r\n  </g>\r\n </g>\r\n <defs>\r\n  <clipPath id=\"p29ea4d8206\">\r\n   <rect height=\"231.4\" width=\"373.4\" x=\"43.78125\" y=\"10.999219\"/>\r\n  </clipPath>\r\n </defs>\r\n</svg>\r\n",
      "image/png": "[encoded data removed]"
     },
     "metadata": {
      "needs_background": "light"
     }
    }
   ],
   "source": [
    "plt.plot(z, f_x)\n",
    "plt.axvline(0.0, color=\"k\")\n",
    "plt.ylim(-0.1, 1, 1)\n",
    "plt.xlabel(\"z\")\n",
    "plt.ylabel(\"f(x)\")\n",
    "\n",
    "plt.yticks([0.0, 0.5, 1.0])\n",
    "ax = plt.gca()\n",
    "ax.yaxis.grid(True)\n",
    "plt.tight_layout()\n",
    "plt.show()"
   ]
  },
  {
   "source": [
    "z값이 무한히 커지게 되면 지수함수의 값이 작아지기 때문에 1에 수렴하고  \n",
    "z값이 무한히 작아지게 되면 분모가 무한히 커지기 때문에 0에 수렴한다.  \n",
    "$\\therefore$ 어떤 값이 들어와도 시그모이드 함수를 통하면 0~1사이의 값으로 반환되기 때문에 확률처럼 다룰 수 있게 된다.  "
   ],
   "cell_type": "markdown",
   "metadata": {}
  },
  {
   "source": [
    "### [보충](https://www.youtube.com/watch?list=PLQ28Nx3M4Jrguyuwg4xe9d9t2XE639e5C&v=XnHqv4PC0-M)\n",
    "\n",
    "**logistic vs linear**  \n",
    "- logistic\n",
    "    + 데이터 : 이산적\n",
    "    + 목표 : 두 데이터를 분류할 수 있는 경계인 **결정경계 decision boundary**를 만드는 것\n",
    "- linear\n",
    "    + 데이터 : 연속적 (ex: time, weight, height)\n",
    "    + 목표 : 데이터를 가장 잘 설명할 수 있는 함수를 만드는 것\n",
    "\n",
    "**sigmoid function in tensorflow**  \n",
    "```py\n",
    "import tensorflow as tf\n",
    "\n",
    "z = tf.matmul(X, theta) + b\n",
    "tf.sigmoid(z) = tf.div(1., 1. + tf.exp(z)\n",
    "```"
   ],
   "cell_type": "markdown",
   "metadata": {}
  },
  {
   "source": [
    "**Cost Function**\n",
    "\n",
    "LR에서도 cost function을 이용해 적절한 가중치 $w$($\\theta$) 를 찾을 수 있다.  \n",
    "- 결정경계가 데이터를 지나지 않을 때 cost가 0이 된다.  \n",
    "\n",
    "수식으로 나타내면 다음과 같다.  \n",
    "\n",
    "$h_{\\theta}(x) = y then Cost = 0$ 일 때,  \n",
    "$ cost(h_{\\theta}(x), y) = -y log(h_{\\theta}(x)) - (1-y)log(1-h_{\\theta}x) $\n",
    "\n",
    "- y가 1일때 로그함수를 돌려 얻은 값과 y가 0일때 로그함수를 다시 돌려 얻은 값을 합한다. 뭔소린지 모르겠다.\n",
    "\n",
    "**cost function in tensorflow**\n",
    "\n",
    "```py\n",
    "def loss_fn(hypothesis, labels):  # 가설과 정답을 입력하여\n",
    "    cost = -tf.reduce_mean(labels * tf.log(hypothesis) + (1-labels) * tf.log(1 - hypothesis))\n",
    "    return cost  # cost를 반환\n",
    "```\n",
    "\n",
    "- hypothesis = cost 함수\n",
    "- tf.reduce_mean = 차원축소"
   ],
   "cell_type": "markdown",
   "metadata": {}
  },
  {
   "source": [
    "## 서포트 벡터 머신 Support Vector Machine"
   ],
   "cell_type": "markdown",
   "metadata": {}
  },
  {
   "source": [
    "### 목표\n",
    "마진을 최대화 하는것이 목적이다.  \n",
    "  \n",
    "레이블을 구분하기 위한 결정경계 (초평면이라고 한다.) 를 그렸을 때,  \n",
    "초평면과 가장 가까운 훈련데이터들 사이의 거리가 **마진**이다.  \n",
    "이 때 마진 계산에 사용되는 훈련데이터를 **서포트 벡터**라고 한다.  \n",
    "\n",
    "### 장점\n",
    "1. SVM을 사용하면 로지스틱 회귀를 단독으로 사용했을 때 보다 일반화를 진행할 때 오차가 낮아지는 경향이 있다.\n",
    "    - 참고 : A tutorial on support vector machines for pattern recognition (1998)\n",
    "2. 선형 분리 불가능 문제에서도 사용할 수 있다. \n",
    "    - 선형으로 분리할 수 없는 공간을 다차원 공간으로 간주하면 데이터를 분리할 수 있는 **분리 가능 공간**이 생긴다.\n",
    "    - $=>$ 다차원 공간에서 생성한 분리 가능 공간을 2차원 공간으로 옮기게 되면 선형 분리 불가능 문제에서도 **비선형 결정 경계**를 생성할 수 있다.\n",
    "\n",
    "### 단점\n",
    "계산비용\n",
    "- 다차원 공간으로 매핑하는 과정은 상당한 컴퓨팅 파워를 요한다.\n",
    "- $=>$ 해결 : **커널기법**"
   ],
   "cell_type": "markdown",
   "metadata": {}
  }
 ]
}