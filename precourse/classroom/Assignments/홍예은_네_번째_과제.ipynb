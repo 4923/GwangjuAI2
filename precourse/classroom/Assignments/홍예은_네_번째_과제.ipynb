{
  "nbformat": 4,
  "nbformat_minor": 0,
  "metadata": {
    "colab": {
      "name": "홍예은 - 네_번째_과제.ipynb",
      "provenance": [],
      "collapsed_sections": []
    },
    "kernelspec": {
      "name": "python3",
      "display_name": "Python 3"
    },
    "language_info": {
      "name": "python"
    }
  },
  "cells": [
    {
      "cell_type": "markdown",
      "metadata": {
        "id": "XsGJR5TdJxk4"
      },
      "source": [
        "## **01 인공지능 제품, 서비스 조사**\n",
        "\n",
        "AI 13강을 참고하여 평소 관심 있었거나 만들어 보고 싶었던 인공지능 서비스(제품)을 정하고,\n",
        "\n",
        "그 제품(서비스)를 설명해주세요!\n",
        "\n",
        "**가이드 라인**\n",
        "*(가이드 라인은 예일 뿐이며, 자유롭게 변형하셔도 됩니다.)*\n",
        "- 제품(서비스) 개요\n",
        "- 제품(서비스) 목적\n",
        "- 제품(서비스)에 사용된 인공지능 기술\n",
        "- 관련 논문 및 레퍼런스\n",
        "- 분량 : 공백 포함 500자 이상\n",
        "\n",
        "광주 인공지능사관학교에 입합 후 진행하고 싶은 프로젝트를 바탕으로 과제를 진행하셔도 좋습니다. **(실제 프로젝트와 무관합니다.)**\n"
      ]
    },
    {
      "cell_type": "markdown",
      "metadata": {
        "id": "uta0it0Q2bPn"
      },
      "source": [
        ""
      ]
    }
  ]
}