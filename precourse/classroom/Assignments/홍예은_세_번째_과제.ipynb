{
  "nbformat": 4,
  "nbformat_minor": 0,
  "metadata": {
    "colab": {
      "name": "홍예은 - 세_번째_과제.ipynb",
      "provenance": [],
      "collapsed_sections": []
    },
    "kernelspec": {
      "name": "python3710jvsc74a57bd0b1c32768c3388c46e098f4634bfda4e74ee484e5ffc2ec37cd24883f67512a61",
      "display_name": "Python 3.7.10 64-bit ('tf2_py37': conda)"
    }
  },
  "cells": [
    {
      "cell_type": "markdown",
      "metadata": {
        "id": "YZoFC9w181qQ"
      },
      "source": [
        "## **00 과제 제출 예시**\n",
        "아래와 같이 출력 결과와 동일한 출력을 해주시면 됩니다.\n"
      ]
    },
    {
      "cell_type": "code",
      "metadata": {
        "colab": {
          "base_uri": "https://localhost:8080/"
        },
        "id": "_T1gEcdA82H7",
        "outputId": "b80d672c-4067-404f-c79b-fddfed824281"
      },
      "source": [
        "# 출력 결과 : 광주 인공지능사관학교\n",
        "print(\"광주 인공지능사관학교\")"
      ],
      "execution_count": null,
      "outputs": [
        {
          "output_type": "stream",
          "text": [
            "광주 인공지능사관학교\n"
          ],
          "name": "stdout"
        }
      ]
    },
    {
      "cell_type": "markdown",
      "metadata": {
        "id": "W2V1XX2n9fgu"
      },
      "source": [
        "## **01 별 찍기(1)**\n",
        "첫째 줄에 별 1개, 둘째 줄에 별 2개, ..., 열번째 줄에는 별 10개를 출력해 보세요."
      ]
    },
    {
      "cell_type": "code",
      "metadata": {
        "id": "GRWOmOFg9tAK"
      },
      "source": [
        "# 출력 결과\n",
        "# *\n",
        "# **\n",
        "# ***\n",
        "# ****\n",
        "# *****\n",
        "# ******\n",
        "# *******\n",
        "# ********\n",
        "# *********\n",
        "# **********\n",
        "\n",
        "for i in range(10):\n",
        "    print('*' * (i+1))"
      ],
      "execution_count": 6,
      "outputs": [
        {
          "output_type": "stream",
          "name": "stdout",
          "text": [
            "*\n**\n***\n****\n*****\n******\n*******\n********\n*********\n**********\n"
          ]
        }
      ]
    },
    {
      "cell_type": "markdown",
      "metadata": {
        "id": "YWTw56EQ9sgW"
      },
      "source": [
        "## **02 별 찍기(2)**\n",
        "\"숫자를 입력하세요\"라는 입력창을 만든 후\n",
        "\n",
        "출력 결과(1)과 출력 결과(2)를 보고 규칙을 유추하여 별을 출력해 보세요.\n",
        "\n",
        "(입력창에 들어가는 숫자의 범위는 1부터 100까지 입니다.)"
      ]
    },
    {
      "cell_type": "code",
      "metadata": {
        "id": "AXmtfGqm-O8d"
      },
      "source": [
        "#  출력 결과(1)\n",
        "#  숫자를 입력하세요 3\n",
        "#  1\n",
        "#  *\n",
        "#  2\n",
        "#  *\n",
        "#  **\n",
        "#  3\n",
        "#  *\n",
        "#  **\n",
        "#  ***\n",
        "\n",
        "\n",
        "#  출력 결과(2)\n",
        "#  숫자를 입력하세요 5\n",
        "#  1\n",
        "#  *\n",
        "#  2\n",
        "#  *\n",
        "#  **\n",
        "#  3\n",
        "#  *\n",
        "#  **\n",
        "#  ***\n",
        "#  4\n",
        "#  *\n",
        "#  **\n",
        "#  ***\n",
        "#  ****\n",
        "#  5\n",
        "#  *\n",
        "#  **\n",
        "#  ***\n",
        "#  ****\n",
        "#  *****\n",
        "\n",
        "num = int(input('숫자를 입력하세요 '))\n",
        "for i in range(num):\n",
        "    print(i+1)\n",
        "    for j in range(i+1):\n",
        "        print('*' * (j+1))\n"
      ],
      "execution_count": 12,
      "outputs": [
        {
          "output_type": "stream",
          "name": "stdout",
          "text": [
            "1\n*\n2\n*\n**\n3\n*\n**\n***\n4\n*\n**\n***\n****\n5\n*\n**\n***\n****\n*****\n"
          ]
        }
      ]
    },
    {
      "cell_type": "markdown",
      "metadata": {
        "id": "nGzBsMtK-q60"
      },
      "source": [
        "## **03 별 찍기(3)**\n",
        "숫자 N(1 ≤ N ≤ 100)을 입력 받아 첫째 줄에는 별 N개, 둘째 줄에는 별 N-1개, ..., N번째 줄에는 별 1개를 출력해 보세요."
      ]
    },
    {
      "cell_type": "code",
      "metadata": {
        "id": "Hm62l6gO-YH8"
      },
      "source": [
        "# 출력 예시\n",
        "\n",
        "# N : 7\n",
        "# *******\n",
        "# ******\n",
        "# *****\n",
        "# ****\n",
        "# ***\n",
        "# **\n",
        "# *\n",
        "\n",
        "N = int(input())\n",
        "print(f'N : {N}')\n",
        "for i in range(N, 0, -1):\n",
        "    print(\"*\" * i)"
      ],
      "execution_count": 13,
      "outputs": [
        {
          "output_type": "stream",
          "name": "stdout",
          "text": [
            "N : 7\n*******\n******\n*****\n****\n***\n**\n*\n"
          ]
        }
      ]
    },
    {
      "cell_type": "markdown",
      "metadata": {
        "id": "UVJmu43R_OBF"
      },
      "source": [
        "## **04 소수판별**\n",
        "동쪽 끝 바다 너머 숫자들이 모여 사는 자연수 나라가 있다.\n",
        "\n",
        "어느 날 자연수 나라에 반역자 무리가 있다는 소문이 퍼졌다.\n",
        "\n",
        "반역자 무리의 특징은 1과 자기 자신으로만 나누어 떨어지는 수인 '소수'라는 것!\n",
        "\n",
        "**자연수 나라의 영웅이 되어 '소수'를 찾아내자!**\n",
        "\n",
        "변수 number_check에 \"소수인가?!\"라는 입력창을 만들어\n",
        "\n",
        "입력된 숫자가 소수라면 \"윽.. 분하구나..\", 소수가 아니라면 \"충성!!\"을 출력해주세요.\n",
        "\n",
        "~~(코드가 돌아가는데 걸리는 시간이나 성능 차이는 고려하지 않습니다.)~~\n",
        "\n",
        "**소수 : 1과 자기 자신으로만 나누어 떨어지는 수로 2, 3, 5, 7 등이 있습니다.**"
      ]
    },
    {
      "cell_type": "code",
      "metadata": {
        "id": "RylPglgAAwYG"
      },
      "source": [
        "# 출력 예시 (1)\n",
        "\n",
        "# 소수인가?! 6\n",
        "# No\n",
        "\n",
        "# 출력 예시 (2)\n",
        "\n",
        "# 소수인가?! 7\n",
        "# Yes\n",
        "\n",
        "# 아래의 함수 prime_number의 pass를 지운 후 코드를 작성해 주세요.\n",
        "# 주어진 init()함수 직접 수정 불가\n",
        "\n",
        "def prime_number(number):\n",
        "  prime = True\n",
        "  # check\n",
        "  for i in range(2, number):\n",
        "    if number % i == 0:\n",
        "      prime = False\n",
        "\n",
        "  # output\n",
        "  if prime: return \"Yes\"\n",
        "  else: return \"No\"\n",
        "\n",
        "def init():\n",
        "  number_check = int(input('소수인가?!'))\n",
        "  answer = prime_number(number_check)\n",
        "\n",
        "  print(answer)\n",
        "\n",
        "init()"
      ],
      "execution_count": 3,
      "outputs": [
        {
          "output_type": "stream",
          "name": "stdout",
          "text": [
            "Yes\n"
          ]
        }
      ]
    },
    {
      "cell_type": "markdown",
      "metadata": {
        "id": "Bpv2KGyAbXjV"
      },
      "source": [
        "## **05 함수(1)**\n",
        "사칙연산인 더하기, 빼기, 곱하기, 나누기를 add, sub, mul, div라고 가정한다. 아래의 함수 calculate의 pass를 지우고 코드를 작성한 후 주어진 입력 값을 차례로 입력했을 때 출력 결과와 같은 출력을 해주세요.\n",
        "\n",
        "(만약, 오타를 입력하면 '잘못 입력하셨습니다. 다시 입력해 주세요.'를 출력한 후 다시 시작하는 코드를 작성해 주세요.)\n",
        "\n",
        "1) 첫 번째 입력 값 : ddd 1 2\n",
        "\n",
        "2) 두 번째 입력 값 : mul 4 4\n",
        "\n",
        "\n"
      ]
    },
    {
      "cell_type": "code",
      "metadata": {
        "id": "9KxUYPOabWB0"
      },
      "source": [
        "# calculate()함수의 pass를 지운 후 코드를 작성해 주세요.\n",
        "# 주어진 변수(oper, num1, num2) 및 init()함수, calculate()함수 직접 변경 불가\n",
        "# 출력 결과 : 계산 할 사칙연산, 첫 번째 숫자, 두 번째 숫자를 입력해 주세요.(공백을 기준으로 분리)ddd 1 2\n",
        "#           잘못 입력하셨습니다. 다시 입력해 주세요.\n",
        "#           계산 할 사칙연산, 첫 번째 숫자, 두 번째 숫자를 입력해 주세요.(공백을 기준으로 분리)mul 4 4\n",
        "#           16\n",
        "\n",
        "def calculate(oper, num1, num2):\n",
        "  if oper == 'add': return print(num1 + num2)\n",
        "  elif oper == 'sub': return print(num1 - num2)\n",
        "  elif oper == 'mul': return print(num1 * num2)\n",
        "  elif oper == 'div': return print(num/div)\n",
        "  else:\n",
        "    print(\"잘못 입력하셨습니다. 다시 입력해 주세요.\")\n",
        "    return init()\n",
        "\n",
        "def init():\n",
        "  oper, num1, num2 = input('계산 할 사칙연산, 첫 번째 숫자, 두 번째 숫자를 입력해 주세요.(공백을 기준으로 분리)').split()\n",
        "  calculate(oper, int(num1), int(num2))\n",
        "\n",
        "init()"
      ],
      "execution_count": 5,
      "outputs": [
        {
          "output_type": "stream",
          "name": "stdout",
          "text": [
            "잘못 입력하셨습니다. 다시 입력해 주세요.\n",
            "16\n"
          ]
        }
      ]
    },
    {
      "cell_type": "markdown",
      "metadata": {
        "id": "25Rhj-ZSqTaY"
      },
      "source": [
        "## **06 함수(2)**\n",
        "아래 introduce_myself 함수 안의 pass를 지우시고 \n",
        "\n",
        "성별이 '남자'일 경우엔 '안녕하세요 저는 정우입니다. 나이는 31이고 남자입니다. 잘 부탁드립니다!'를 출력하고, '여자'일 경우엔 '안녕하세요 저는 희선입니다. 나이는 26이고 여자입니다. 만나서 반가워요!'를 출력하는 코드를 작성하신 후 출력 결과와 동일한 출력을 해주세요. (함수에 전달되는 인자를 사용해주세요.)"
      ]
    },
    {
      "cell_type": "code",
      "metadata": {
        "id": "Qn9lbYhFeUDN"
      },
      "source": [
        "# introduce_myself()함수의 pass를 지운 후 코드를 작성해 주세요.\n",
        "# 주어진 변수(jungwoo, heesun), init()함수, introduce_myself()함수 및 print문 직접 수정 불가\n",
        "# 출력 결과 : 안녕하세요 저는 정우입니다. 나이는 31이고 남자 입니다. 잘 부탁드립니다!\n",
        "#            안녕하세요 저는 희선입니다. 나이는 26이고 여자 입니다. 만나서 반가워요!\n",
        "\n",
        "def introduce_myself(name, age, sex):\n",
        "  greeting = f'안녕하세요 저는 {name}입니다. 나이는 {age}이고 {sex} 입니다.'\n",
        "  if sex == '남자': greeting += ' 잘 부탁드립니다!'\n",
        "  elif sex == '여자': greeting += ' 만나서 반가워요!'\n",
        "  return greeting\n",
        "\n",
        "\n",
        "def init():\n",
        "  jungwoo = introduce_myself('정우', 31, '남자')\n",
        "  heesun = introduce_myself('희선', 26, '여자')\n",
        "  print(jungwoo)\n",
        "  print(heesun)\n",
        "\n",
        "init()"
      ],
      "execution_count": 14,
      "outputs": [
        {
          "output_type": "stream",
          "name": "stdout",
          "text": [
            "안녕하세요 저는 정우입니다. 나이는 31이고 남자 입니다. 잘 부탁드립니다!\n안녕하세요 저는 희선입니다. 나이는 26이고 여자 입니다. 만나서 반가워요!\n"
          ]
        }
      ]
    },
    {
      "cell_type": "markdown",
      "metadata": {
        "id": "PjGfj1kex7AM"
      },
      "source": [
        "## **07 함수(3)**\n",
        "아래의 medal_bag에는 광주 인공지능사관학교 학생들이 대회에 참여해 얻은 메달의 종류들이 뒤죽박죽 담겨있다. 이것을 메달 별로 몇 개가 있는지 카운트해주는 count_individual 함수와 메달 별로 카운트된 것을 딕셔너리로 만들어 주는 make_dictionary 함수가 있다. pass를 지운 후 출력 결과와 동일하게 출력하는 코드를 작성해 주시고 출력 결과와 동일한 출력을 해주세요."
      ]
    },
    {
      "cell_type": "code",
      "metadata": {
        "id": "Cy3LsumLrWhm"
      },
      "source": [
        "# 주어진 count_individual()함수, make_dictionary(), init()함수 직접 수정 불가\n",
        "# 출력 결과 : {'Gold': 6, 'Silver': 4, 'Bronze': 3}\n",
        "\n",
        "def count_individual(medal_bag):\n",
        "  # 메달 별로 몇 개가 있는지 count\n",
        "  gold_count, silver_count, bronze_count = 0, 0, 0\n",
        "\n",
        "  for medal in medal_bag:\n",
        "    if medal == 'Gold': gold_count += 1\n",
        "    elif medal == 'Silver': silver_count += 1\n",
        "    elif medal == 'Bronze': bronze_count += 1\n",
        "  \n",
        "  return gold_count, silver_count, bronze_count\n",
        "      \n",
        "\n",
        "def make_dictionary(gold_count, silver_count, bronze_count):\n",
        "  # 메달 별로 카운트 된 것을 딕셔너리로 변환\n",
        "  medal_dict = {}\n",
        "  medal_dict['Gold'], medal_dict['Silver'], medal_dict['Bronze'] = gold_count, silver_count, bronze_count\n",
        "  return medal_dict\n",
        "\n",
        "def init():\n",
        "  medal_bag = ['Bronze', 'Gold', 'Gold', 'Gold', 'Silver', 'Gold', 'Gold', 'Gold', 'Silver', 'Silver', 'Silver', 'Bronze', 'Bronze']\n",
        "\n",
        "  gold_count, silver_count, bronze_count = count_individual(medal_bag)\n",
        "  medal_dict = make_dictionary(gold_count, silver_count, bronze_count)\n",
        "\n",
        "  print(medal_dict)\n",
        "\n",
        "init()"
      ],
      "execution_count": 15,
      "outputs": [
        {
          "output_type": "stream",
          "name": "stdout",
          "text": [
            "{'Gold': 6, 'Silver': 4, 'Bronze': 3}\n"
          ]
        }
      ]
    }
  ]
}