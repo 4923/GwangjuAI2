{
 "metadata": {
  "language_info": {
   "codemirror_mode": {
    "name": "ipython",
    "version": 3
   },
   "file_extension": ".py",
   "mimetype": "text/x-python",
   "name": "python",
   "nbconvert_exporter": "python",
   "pygments_lexer": "ipython3",
   "version": "3.7.10"
  },
  "orig_nbformat": 2,
  "kernelspec": {
   "name": "python3",
   "display_name": "Python 3.7.10 64-bit ('tf2_py37': conda)",
   "metadata": {
    "interpreter": {
     "hash": "cd1d6a1ed908219ec4468aac6de40605c26f50ff7dc5411b40d2b744d6443d95"
    }
   }
  }
 },
 "nbformat": 4,
 "nbformat_minor": 2,
 "cells": [
  {
   "source": [
    "# Chapter 2\n",
    "## Python으로 만드는 메뉴 자판기"
   ],
   "cell_type": "markdown",
   "metadata": {}
  },
  {
   "source": [
    "### 프로젝트 개요\n",
    "\n",
    "* 목표  \n",
    "    * 점심 혹은 저녁 메뉴를 골라준다.  \n",
    "* 기능\n",
    "    1. 음식 추가 기능\n",
    "        * 음식을 연속해서 추가한다. (추가 완료했다면 q로 종료)\n",
    "        * 음식 입력 완료시 후보 메뉴 출력\n",
    "    2. 음식 삭제 기능\n",
    "        * 음식 추가 완료 후 삭제 step\n",
    "        * '음식을 삭제해주세요' 가 출력되었을 때 삭제하고 싶은 음식 입력\n",
    "    3. 메뉴 결정\n",
    "        * 삭제까지 완료했으면 5초 카운트다운과 함께 먹을 메뉴가 출력된다.\n",
    "\n",
    "    \n"
   ],
   "cell_type": "markdown",
   "metadata": {}
  }
 ]
}