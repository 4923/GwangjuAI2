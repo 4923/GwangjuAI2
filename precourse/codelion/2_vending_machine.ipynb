{
 "metadata": {
  "language_info": {
   "codemirror_mode": {
    "name": "ipython",
    "version": 3
   },
   "file_extension": ".py",
   "mimetype": "text/x-python",
   "name": "python",
   "nbconvert_exporter": "python",
   "pygments_lexer": "ipython3",
   "version": "3.7.10"
  },
  "orig_nbformat": 2,
  "kernelspec": {
   "name": "python3",
   "display_name": "Python 3.7.10 64-bit ('tf2_py37': conda)",
   "metadata": {
    "interpreter": {
     "hash": "cd1d6a1ed908219ec4468aac6de40605c26f50ff7dc5411b40d2b744d6443d95"
    }
   }
  }
 },
 "nbformat": 4,
 "nbformat_minor": 2,
 "cells": [
  {
   "source": [
    "# Chapter 2\n",
    "## Python으로 만드는 메뉴 자판기"
   ],
   "cell_type": "markdown",
   "metadata": {}
  },
  {
   "source": [
    "### 프로젝트 개요\n",
    "\n",
    "* 목표  \n",
    "    * 점심 혹은 저녁 메뉴를 골라준다.  \n",
    "* 기능\n",
    "    1. 음식 추가 기능\n",
    "        * 음식을 연속해서 추가한다. (추가 완료했다면 q로 종료)\n",
    "        * 음식 입력 완료시 후보 메뉴 출력\n",
    "    2. 음식 삭제 기능\n",
    "        * 음식 추가 완료 후 삭제 step\n",
    "        * '음식을 삭제해주세요' 가 출력되었을 때 삭제하고 싶은 음식 입력\n",
    "    3. 메뉴 결정\n",
    "        * 삭제까지 완료했으면 5초 카운트다운과 함께 먹을 메뉴가 출력된다.\n",
    "\n",
    "    \n"
   ],
   "cell_type": "markdown",
   "metadata": {}
  },
  {
   "source": [
    "## 코드 작성을 위한 이론\n",
    "\n",
    "> 프로그래밍은 마트료시카다!"
   ],
   "cell_type": "markdown",
   "metadata": {}
  },
  {
   "source": [
    "### Step 2 : Python 맛보기"
   ],
   "cell_type": "markdown",
   "metadata": {}
  },
  {
   "cell_type": "code",
   "execution_count": 4,
   "metadata": {},
   "outputs": [
    {
     "output_type": "stream",
     "name": "stdout",
     "text": [
      "된장찌개\n"
     ]
    }
   ],
   "source": [
    "import random  # random.choice\n",
    "\n",
    "# 1. 메뉴 모음\n",
    "menu = [\"된장찌개\", \"피자\", \"제육볶음\"]\n",
    "\n",
    "# 2. 랜덤으로 하나를 선택한다. random.choice()\n",
    "random_menu = random.choice(menu)\n",
    "\n",
    "# 3. 출력한다\n",
    "print(random_menu)"
   ]
  },
  {
   "source": [
    "독립된 파이썬 파일을 터미널에서 실행하는 코드\n",
    "\n",
    "```bash\n",
    "$ python python_file_name.py\n",
    "```"
   ],
   "cell_type": "markdown",
   "metadata": {}
  },
  {
   "source": [
    "### Step 3 ~ 4 : 반복하기\n",
    "\n",
    "for loop, while loop"
   ],
   "cell_type": "markdown",
   "metadata": {}
  },
  {
   "source": [
    "서른번 반복하게 하자.\n",
    "\n",
    "```python\n",
    "import time  # time.sleep\n",
    "\n",
    "for _ in range(30):\n",
    "    print(random.choice(menu))\n",
    "    print(\"이 문장도 반복됩니다.\")\n",
    "    time.sleep(1)  # 컴퓨터가 뻗는 상황을 방지하기 위해 한 바퀴 돌 때마다 1초씩 쉬도록 한다.\n",
    "\n",
    "while True:\n",
    "    print(random.choice(menu))\n",
    "    print(\"무한히 반복되는 loop\")\n",
    "    time.sleep(1)\n",
    "```"
   ],
   "cell_type": "markdown",
   "metadata": {}
  },
  {
   "source": [
    "### Step 5 : 데이터 상자\n",
    "\n",
    "assign variable"
   ],
   "cell_type": "markdown",
   "metadata": {}
  },
  {
   "cell_type": "code",
   "execution_count": 12,
   "metadata": {},
   "outputs": [
    {
     "output_type": "stream",
     "name": "stdout",
     "text": [
      "today's lunch menu is  피자\ntoday's dinner menu is  쫄면\n"
     ]
    }
   ],
   "source": [
    "# 이전엔 <= 도 할당연산자로 사용했으나 이제는 = 만 사용한다.\n",
    "# 일반적으로 = 가 같다는 의미로 여겨지니 <= 에서 < 가 빠진 형태로 이해하는게 더 쉽겠다.\n",
    "\n",
    "lunch = random.choice(['된장찌개', '피자', '제육볶음'])\n",
    "dinner = random.choice(['김밥', '쫄면', '돈까스'])\n",
    "\n",
    "print('today\\'s lunch menu is ', lunch)\n",
    "print('today\\'s dinner menu is ', dinner)"
   ]
  },
  {
   "source": [
    "### Step 8 : 끝까지 반복하기"
   ],
   "cell_type": "markdown",
   "metadata": {}
  },
  {
   "cell_type": "code",
   "execution_count": 14,
   "metadata": {},
   "outputs": [
    {
     "output_type": "stream",
     "name": "stdout",
     "text": [
      "된장찌개\n피자\n제육볶음\n"
     ]
    }
   ],
   "source": [
    "foods = [\"된장찌개\",\"피자\",\"제육볶음\"]\n",
    "\n",
    "for food in foods:\n",
    "    print(food)  # index가 아닌 lint의 원소를 바로 출력할 수 있다."
   ]
  },
  {
   "cell_type": "code",
   "execution_count": 17,
   "metadata": {},
   "outputs": [
    {
     "output_type": "stream",
     "name": "stdout",
     "text": [
      "key : 고향\tvalue :  수원\nkey : 취미\tvalue :  영화관람\nkey : 좋아하는 음식\tvalue :  국수\n"
     ]
    }
   ],
   "source": [
    "# dictionary : 조립식 약통\n",
    "\n",
    "information = {\"고향\":\"수원\", \"취미\":\"영화관람\", \"좋아하는 음식\":\"국수\"}\n",
    "for x, y in information.items():\n",
    "    print(f'key : {x}', end=\"\\t\")\n",
    "    print('value : ',y)"
   ]
  },
  {
   "source": [
    "### Step 9 : 집합 알아보기"
   ],
   "cell_type": "markdown",
   "metadata": {}
  },
  {
   "source": [
    "집합은 `set` 으로 다음과 같은 특징을 보인다.\n",
    "\n",
    "1. list와 다르게 순서가 없다.\n",
    "2. 중복되는 값을 입력할 수 없다. (중복을 제거한다.)\n",
    "3. 합집합 연산을 사용할 수 있다.  \n",
    "    합집합 : 두 집합을 합집합 연산 할 때 두 집합의 중복되는 값은 자동으로 한번만 추가된다.\n",
    "4. 차집합 연산을 사용할 수 있다.  \n",
    "    겹치는 원소만 제거된다.\n",
    "5. 교집합 원산을 사용할 수 있다.  \n",
    "    겹치는 원소만 반환된다."
   ],
   "cell_type": "markdown",
   "metadata": {}
  },
  {
   "cell_type": "code",
   "execution_count": 30,
   "metadata": {},
   "outputs": [],
   "source": [
    "# set은 list에서 출발한다.\n",
    "food_1 = ['배고프다','칼국수','된장찌개']\n",
    "food_2 = ['칼국수', '바지락칼국수']\n",
    "\n",
    "food_set_1 = set(food_1)\n",
    "food_set_2 = set(food_2)"
   ]
  },
  {
   "cell_type": "code",
   "execution_count": 25,
   "metadata": {},
   "outputs": [
    {
     "output_type": "stream",
     "name": "stdout",
     "text": [
      "['배고프다', '칼국수', '된장찌개', '칼국수', '바지락칼국수']\n{'칼국수', '된장찌개', '바지락칼국수', '배고프다'}\n"
     ]
    }
   ],
   "source": [
    "# 합집합 연산 : | (파이프)\n",
    "\n",
    "print(food_1 + food_2)\n",
    "print(food_set_1|food_set_2)  # 칼국수가 한번만 출력된다."
   ]
  },
  {
   "cell_type": "code",
   "execution_count": 27,
   "metadata": {},
   "outputs": [
    {
     "output_type": "stream",
     "name": "stdout",
     "text": [
      "['배고프다', '칼국수', '된장찌개', '칼국수', '바지락칼국수']\n{'칼국수'}\n"
     ]
    }
   ],
   "source": [
    "# 교집합 연산  \n",
    "\n",
    "print(food_1 + food_2)\n",
    "print(food_set_1 & food_set_2)  # 중복되는 값만 출력한다."
   ]
  },
  {
   "cell_type": "code",
   "execution_count": 29,
   "metadata": {},
   "outputs": [
    {
     "output_type": "stream",
     "name": "stdout",
     "text": [
      "['배고프다', '칼국수', '된장찌개', '칼국수', '바지락칼국수']\n{'된장찌개', '배고프다'}\n{'바지락칼국수'}\n"
     ]
    }
   ],
   "source": [
    "# 차집합 연산\n",
    "\n",
    "print(food_1 + food_2)\n",
    "print(food_set_1 - food_set_2)\n",
    "print(food_set_2 - food_set_1)"
   ]
  },
  {
   "source": [
    "### Step 11 : 만약에\n",
    "\n",
    "컴퓨터는 사용자와의 interaction을 통해 작동하므로  \n",
    "외부 상황에 미리 대처할 방법을 마련해야 한다.\n",
    "\n",
    "if - else condition"
   ],
   "cell_type": "markdown",
   "metadata": {}
  },
  {
   "source": [
    "## 프로덕트 제작"
   ],
   "cell_type": "markdown",
   "metadata": {}
  },
  {
   "cell_type": "code",
   "execution_count": 34,
   "metadata": {},
   "outputs": [],
   "source": [
    "# import \n",
    "\n",
    "import random, time  # random.choie(), time.sleep()"
   ]
  },
  {
   "cell_type": "code",
   "execution_count": 41,
   "metadata": {},
   "outputs": [
    {
     "output_type": "stream",
     "name": "stdout",
     "text": [
      "['된장찌개', '피자', '제육볶음', '짜장면']\n",
      "['된장찌개', '피자', '제육볶음', '짜장면', '칼국수']\n",
      "['된장찌개', '피자', '제육볶음', '짜장면', '칼국수', '등촌칼국수']\n",
      "['된장찌개', '피자', '제육볶음', '짜장면', '칼국수', '등촌칼국수', '바지락칼국수']\n",
      "{'짜장면', '칼국수', '된장찌개', '바지락칼국수', '제육볶음', '피자', '등촌칼국수'}\n"
     ]
    }
   ],
   "source": [
    "# input\n",
    "\n",
    "lunch = [\"된장찌개\", \"피자\", \"제육볶음\", \"짜장면\"]\n",
    "\n",
    "# 메뉴 추가\n",
    "append_menu = True\n",
    "while append_menu:\n",
    "    print(lunch)\n",
    "    food = input(\"음식을 추가하세요 (종료 : q)\").split()\n",
    "    if food == ['q']:  # 종료\n",
    "        append_menu = False\n",
    "    else:  # 메뉴 추가\n",
    "        lunch.append(food)\n",
    "\n",
    "lunch = set(lunch)\n",
    "print(lunch)  # today's lunch menu"
   ]
  },
  {
   "cell_type": "code",
   "execution_count": 47,
   "metadata": {},
   "outputs": [
    {
     "output_type": "stream",
     "name": "stdout",
     "text": [
      "{'칼국수', '된장찌개', '바지락칼국수', '등촌칼국수'}\n",
      "{'칼국수', '된장찌개', '바지락칼국수', '등촌칼국수'}\n",
      "{'바지락칼국수'}\n",
      "{'칼국수', '된장찌개', '등촌칼국수'}\n",
      "{'칼국수', '된장찌개', '등촌칼국수'} 중에서 선택합니다\n"
     ]
    }
   ],
   "source": [
    "# 메뉴 삭제\n",
    "\n",
    "delete_menu = True\n",
    "while delete_menu:\n",
    "    print(lunch)\n",
    "    delete_food = input('음식을 삭제하세요 (종료 : q)').split()\n",
    "    if delete_food == ['q']:  # 종료\n",
    "        delete_menu = False\n",
    "    else:\n",
    "        print(lunch)\n",
    "        lunch -= set(delete_food)  # set - set\n",
    "        print(set(delete_food))\n",
    "\n",
    "print(f'{lunch} 중에서 선택합니다')"
   ]
  },
  {
   "cell_type": "code",
   "execution_count": 49,
   "metadata": {},
   "outputs": [
    {
     "output_type": "stream",
     "name": "stdout",
     "text": [
      "5\n",
      "4\n",
      "3\n",
      "2\n",
      "1\n",
      "된장찌개\n"
     ]
    }
   ],
   "source": [
    "# 카운트다운\n",
    "for i in range(5, 0, -1):\n",
    "    print(i)\n",
    "    time.sleep(1)\n",
    "\n",
    "# 메뉴 선택\n",
    "print(random.choice(list(lunch)))  # random.choice는 list를 argument로 받는다"
   ]
  },
  {
   "cell_type": "code",
   "execution_count": null,
   "metadata": {},
   "outputs": [],
   "source": []
  }
 ]
}