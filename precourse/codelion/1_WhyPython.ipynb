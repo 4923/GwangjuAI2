{
 "metadata": {
  "language_info": {
   "codemirror_mode": {
    "name": "ipython",
    "version": 3
   },
   "file_extension": ".py",
   "mimetype": "text/x-python",
   "name": "python",
   "nbconvert_exporter": "python",
   "pygments_lexer": "ipython3",
   "version": "3.7.10"
  },
  "orig_nbformat": 2,
  "kernelspec": {
   "name": "python3",
   "display_name": "Python 3.7.10 64-bit ('tf2_py37': conda)",
   "metadata": {
    "interpreter": {
     "hash": "cd1d6a1ed908219ec4468aac6de40605c26f50ff7dc5411b40d2b744d6443d95"
    }
   }
  }
 },
 "nbformat": 4,
 "nbformat_minor": 2,
 "cells": [
  {
   "source": [
    "### 왜 파이썬을 배워야 하는가"
   ],
   "cell_type": "markdown",
   "metadata": {}
  },
  {
   "source": [
    "데이터의 중요성은 날이 갈수록 커지고 있다.  \n",
    "> 데이터를 소유하고 알고리즘을 만들 수 있는 사람이 일반인을 바라보는 시선은 19세기 유럽이 아프리카를 보는 것과 같다.  \n",
    "    유발 하라리 <호모데우스>"
   ],
   "cell_type": "markdown",
   "metadata": {}
  },
  {
   "source": [
    "### 어떻게 데이터를 소유하고, 다룰 수 있는가 = `Python`\n"
   ],
   "cell_type": "markdown",
   "metadata": {}
  },
  {
   "source": [
    "왜?\n",
    "> 선순환 구조가 완성되어있음\n",
    "\n",
    "1. Python은 데이터와 함께 성장하고 있는 언어있다.\n",
    "2. 현재 가장 큰 클라우드 서비스인 AWS가 Python을 전폭적으로 지원하고 있음. 다른 기업도 마찬가지.\n",
    "3. 무엇보다 중요한 것, 파이썬의 거대한 생태계 == 오픈소스 활용 폭이 넓음\n"
   ],
   "cell_type": "markdown",
   "metadata": {}
  },
  {
   "source": [
    "### 강의 진행 방법"
   ],
   "cell_type": "markdown",
   "metadata": {}
  },
  {
   "source": [
    "1. 프로젝트 개발 흐름을 따라간다.\n",
    "2. 그때그때 필요한 지식이 있다면 추가설명"
   ],
   "cell_type": "markdown",
   "metadata": {}
  }
 ]
}