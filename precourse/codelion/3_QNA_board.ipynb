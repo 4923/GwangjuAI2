{
 "metadata": {
  "language_info": {
   "codemirror_mode": {
    "name": "ipython",
    "version": 3
   },
   "file_extension": ".py",
   "mimetype": "text/x-python",
   "name": "python",
   "nbconvert_exporter": "python",
   "pygments_lexer": "ipython3",
   "version": "3.7.10"
  },
  "orig_nbformat": 2,
  "kernelspec": {
   "name": "python3",
   "display_name": "Python 3.7.10 64-bit ('tf2_py37': conda)",
   "metadata": {
    "interpreter": {
     "hash": "cd1d6a1ed908219ec4468aac6de40605c26f50ff7dc5411b40d2b744d6443d95"
    }
   }
  }
 },
 "nbformat": 4,
 "nbformat_minor": 2,
 "cells": [
  {
   "source": [
    "# Chapter 3\n",
    "## Python으로 만드는 익명 질문 게시판"
   ],
   "cell_type": "markdown",
   "metadata": {}
  },
  {
   "source": [
    "## 프로젝트 개요\n",
    "\n",
    "* 목표\n",
    "    * 질문에 대한 답 입력받기.\n",
    "* 기능\n",
    "    1. 질문을 입력받는 기능\n",
    "        - q를 입력할 때 까지 질문을 받는다.\n",
    "    2. 답변을 입력받는 기능\n",
    "        - 앞에서 입력한 질문이 하나씩 출력된다.\n",
    "        - 그에 대한 답을 입력받는다.\n",
    "    3. 결과 출력\n",
    "        - 모든 질문에 대답을 했을 때 질문과 대답을 정리하여 결과를 출력한다.\n",
    "        - 활용 예 : 회원가입 단계에서 답변 입력받을 때, 익명 게시판에서 질문과 답 할 때"
   ],
   "cell_type": "markdown",
   "metadata": {}
  },
  {
   "source": [
    "## 프로덕트 제작"
   ],
   "cell_type": "markdown",
   "metadata": {}
  },
  {
   "cell_type": "code",
   "execution_count": 14,
   "metadata": {},
   "outputs": [],
   "source": [
    "# 질문 입력\n",
    "def input_questions(result):    # resut : dict type\n",
    "    status = True\n",
    "    while status:\n",
    "        question = input(\"질문을 입력하세요 : \")\n",
    "        if question == 'q':\n",
    "            status = False\n",
    "        else:\n",
    "            result[question] = \"\""
   ]
  },
  {
   "cell_type": "code",
   "execution_count": 15,
   "metadata": {},
   "outputs": [],
   "source": [
    "# 답변 입력\n",
    "def input_answers(resut):\n",
    "    for question in result.keys():\n",
    "        print(question)\n",
    "        answer = input(\"답을 입력하세요 : \")\n",
    "        result[question] = answer"
   ]
  },
  {
   "cell_type": "code",
   "execution_count": 16,
   "metadata": {},
   "outputs": [],
   "source": [
    "result = {}\n",
    "\n",
    "input_questions(result)"
   ]
  },
  {
   "cell_type": "code",
   "execution_count": 17,
   "metadata": {},
   "outputs": [
    {
     "output_type": "stream",
     "name": "stdout",
     "text": [
      "이름\n",
      "좋아하는 음식\n",
      "취미\n"
     ]
    }
   ],
   "source": [
    "input_answers(result)"
   ]
  },
  {
   "cell_type": "code",
   "execution_count": 18,
   "metadata": {},
   "outputs": [
    {
     "output_type": "stream",
     "name": "stdout",
     "text": [
      "{'이름': '홍예은', '좋아하는 음식': '칼국수', '취미': '관극'}\n"
     ]
    }
   ],
   "source": [
    "# 출력\n",
    "print(result)"
   ]
  }
 ]
}