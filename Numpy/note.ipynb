{
 "metadata": {
  "language_info": {
   "codemirror_mode": {
    "name": "ipython",
    "version": 3
   },
   "file_extension": ".py",
   "mimetype": "text/x-python",
   "name": "python",
   "nbconvert_exporter": "python",
   "pygments_lexer": "ipython3",
   "version": "3.7.10"
  },
  "orig_nbformat": 4,
  "kernelspec": {
   "name": "python3",
   "display_name": "Python 3.7.10 64-bit ('tf2_py37': conda)"
  },
  "interpreter": {
   "hash": "b1c32768c3388c46e098f4634bfda4e74ee484e5ffc2ec37cd24883f67512a61"
  }
 },
 "nbformat": 4,
 "nbformat_minor": 2,
 "cells": [
  {
   "source": [
    "## Numpy"
   ],
   "cell_type": "markdown",
   "metadata": {}
  },
  {
   "cell_type": "code",
   "execution_count": 7,
   "metadata": {},
   "outputs": [
    {
     "output_type": "stream",
     "name": "stdout",
     "text": [
      "[1. 2. 3. 4. 5.]\n[1 2 3 4 5]\n"
     ]
    }
   ],
   "source": [
    "# 선언\n",
    "import numpy as np \n",
    "\n",
    "# 1차원 배열 선언\n",
    "# 튜플처럼 데이터의 쌍이 없고 리스트 형태로만 존재하므로 1차원 배열\n",
    "# dtype으로 데이터 배열을 지정해주는 편이 좋다.\n",
    "array_1d = np.array([1, 2, 3, 4, 5], dtype=float)\n",
    "print(array_1d)\n",
    "\n",
    "array_1d_int = np.array([1, 2, 3, 4, 5], dtype=int)\n",
    "print(array_1d_int)"
   ]
  },
  {
   "cell_type": "code",
   "execution_count": 4,
   "metadata": {},
   "outputs": [
    {
     "output_type": "stream",
     "name": "stdout",
     "text": [
      "[[1. 2. 3.]\n [4. 5. 6.]\n [7. 8. 9.]]\n"
     ]
    }
   ],
   "source": [
    "# 2차원 배열 선언\n",
    "array_2d = np.array([(1,2,3), (4,5,6), (7,8,9)], dtype=float)\n",
    "print(array_2d)"
   ]
  },
  {
   "source": [
    "다른 방식으로 array 만들기 : 형태만 지정"
   ],
   "cell_type": "markdown",
   "metadata": {}
  },
  {
   "cell_type": "code",
   "execution_count": 12,
   "metadata": {},
   "outputs": [
    {
     "output_type": "stream",
     "name": "stdout",
     "text": [
      "[[1. 2. 3.]\n [4. 5. 6.]\n [7. 8. 9.]]\n"
     ]
    }
   ],
   "source": [
    "# empty([row, col]): 배열의 형태만 지정하고 랜덤한 값을 할당\n",
    "# 왜 이런걸 쓰나? : 데이터셋을 만드는건 나중에 하고, 꼴만 만들어두기 위해\n",
    "array_2d_empty = np.empty([3,3])\n",
    "print(array_2d_empty)"
   ]
  },
  {
   "cell_type": "code",
   "execution_count": 14,
   "metadata": {},
   "outputs": [
    {
     "output_type": "stream",
     "name": "stdout",
     "text": [
      "[[0. 0. 0.]\n [0. 0. 0.]\n [0. 0. 0.]]\n"
     ]
    }
   ],
   "source": [
    "array_2d_zeros = np.zeros([3,3])\n",
    "print(array_2d_zeros)"
   ]
  },
  {
   "cell_type": "code",
   "execution_count": 15,
   "metadata": {},
   "outputs": [
    {
     "output_type": "stream",
     "name": "stdout",
     "text": [
      "[[1. 1. 1.]\n [1. 1. 1.]\n [1. 1. 1.]]\n"
     ]
    }
   ],
   "source": [
    "array_2d_ones = np.ones([3,3])\n",
    "print(array_2d_ones)"
   ]
  },
  {
   "source": [
    "테스트 데이터 생성"
   ],
   "cell_type": "markdown",
   "metadata": {}
  },
  {
   "cell_type": "code",
   "execution_count": 18,
   "metadata": {},
   "outputs": [
    {
     "output_type": "stream",
     "name": "stdout",
     "text": [
      "[0. 2. 4. 6. 8.]\n"
     ]
    }
   ],
   "source": [
    "# arange(start, end, step)\n",
    "# linspace와 유사\n",
    "array_arange = np.arange(0, 10, 2, dtype=float)\n",
    "print(array_arange)"
   ]
  },
  {
   "cell_type": "code",
   "execution_count": 20,
   "metadata": {},
   "outputs": [
    {
     "output_type": "stream",
     "name": "stdout",
     "text": [
      "[ 0. 10.]\n"
     ]
    }
   ],
   "source": [
    "array_linspace = np.linspace(0, 10, 2)\n",
    "print(array_linspace)\n",
    "\n",
    "# ?"
   ]
  },
  {
   "cell_type": "code",
   "execution_count": 29,
   "metadata": {},
   "outputs": [
    {
     "output_type": "execute_result",
     "data": {
      "text/plain": [
       "array([0, 1, 3, 3, 5, 6, 7])"
      ]
     },
     "metadata": {},
     "execution_count": 29
    }
   ],
   "source": [
    "np.sort(np.array([5, 7, 6, 1, 3, 3, 0]))"
   ]
  },
  {
   "source": [
    "배열 결합 : concat"
   ],
   "cell_type": "markdown",
   "metadata": {}
  },
  {
   "cell_type": "code",
   "execution_count": 30,
   "metadata": {},
   "outputs": [
    {
     "output_type": "stream",
     "name": "stdout",
     "text": [
      "[1. 2. 3. 4. 5. 3. 1. 2. 5. 6. 1.]\n"
     ]
    }
   ],
   "source": [
    "np_temp = np.array([3, 1, 2, 5, 6, 1])\n",
    "np_concat = np.concatenate([array_1d, np_temp])\n",
    "\n",
    "print(np_concat)"
   ]
  },
  {
   "source": [
    "데이터 삭제"
   ],
   "cell_type": "markdown",
   "metadata": {}
  },
  {
   "source": [
    "CRUD?\n",
    "\n",
    "대부분의 프로그램은 CRUD을 따른다\n",
    "\n",
    "CREATE  \n",
    "READ  \n",
    "UPLOAD  \n",
    "DELETE  "
   ],
   "cell_type": "markdown",
   "metadata": {}
  },
  {
   "cell_type": "code",
   "execution_count": 35,
   "metadata": {},
   "outputs": [
    {
     "output_type": "execute_result",
     "data": {
      "text/plain": [
       "array([1., 2., 3., 4., 5., 3., 1., 2., 5., 6.])"
      ]
     },
     "metadata": {},
     "execution_count": 35
    }
   ],
   "source": [
    "# delete(numpy array, index)\n",
    "np.delete(np_concat, [-1])\n",
    "np.delete(np_concat, -1)\n",
    "\n",
    "# concat는 1차원 데이터이므로 위 두 명령은 동일"
   ]
  },
  {
   "source": [
    "데이터가 방대할 경우 일일이 지정하는 경우는 없고 열단위로 제거한다"
   ],
   "cell_type": "markdown",
   "metadata": {}
  },
  {
   "source": [
    "파일 불러오기"
   ],
   "cell_type": "markdown",
   "metadata": {}
  },
  {
   "cell_type": "code",
   "execution_count": 60,
   "metadata": {},
   "outputs": [],
   "source": [
    "# loadtxt를 이용 : txt, csv 모두 읽을 수 있다.\n",
    "# delimiter 설정 안하면 오류 발생\n",
    "np_data = np.loadtxt(\"dataset/wine.csv\", delimiter=\",\")"
   ]
  },
  {
   "source": [
    "배열 크기"
   ],
   "cell_type": "markdown",
   "metadata": {}
  },
  {
   "cell_type": "code",
   "execution_count": 68,
   "metadata": {},
   "outputs": [
    {
     "output_type": "stream",
     "name": "stdout",
     "text": [
      "배열의 크기 : 84461\n배열의 크기 2 : 6497 X 13\n[3. 4. 5. 3. 1. 2. 5. 6. 1.]\n9\n[[3. 4. 5.]\n [3. 1. 2.]\n [5. 6. 1.]]\n"
     ]
    }
   ],
   "source": [
    "print(f'배열의 크기 : {np_data.size}')\n",
    "print(f'배열의 크기 2 : {np_data.shape[0]} X {np_data.shape[1]}')\n",
    "\n",
    "# reshape : 음성데이터 처리에서 활용\n",
    "np_concat_date_delete_copy = np.delete(np_concat, [0, 1])\n",
    "print(np_concat_date_delete_copy)\n",
    "print(len(np_concat_date_delete_copy))\n",
    "\n",
    "# 사이즈가 맞아야 함 3 * 3 : 9\n",
    "np_data_reshape = np_concat_date_delete_copy.reshape(3, 3)\n",
    "print(np_data_reshape)"
   ]
  },
  {
   "source": [
    "슬라이싱"
   ],
   "cell_type": "markdown",
   "metadata": {}
  },
  {
   "cell_type": "code",
   "execution_count": 75,
   "metadata": {},
   "outputs": [
    {
     "output_type": "stream",
     "name": "stdout",
     "text": [
      "[0]\n[3. 4. 5.]\n---------------\n[0:2]\n[[3. 4. 5.]\n [3. 1. 2.]]\n---------------\n[:]\n[[3. 4. 5.]\n [3. 1. 2.]\n [5. 6. 1.]]\n---------------\n[:, 2]\n[5. 2. 1.]\n"
     ]
    }
   ],
   "source": [
    "print(\"[0]\")\n",
    "print(np_data_reshape[0])\n",
    "print(\"---------------\")\n",
    "\n",
    "print(\"[0:2]\")\n",
    "print(np_data_reshape[0:2])\n",
    "print(\"---------------\")\n",
    "\n",
    "print(\"[:]\")\n",
    "print(np_data_reshape[:])\n",
    "print(\"---------------\")\n",
    "\n",
    "print(\"[:, 2]\")\n",
    "print(np_data_reshape[:, 2])"
   ]
  },
  {
   "source": [
    "배열 쌓기"
   ],
   "cell_type": "markdown",
   "metadata": {}
  },
  {
   "source": [
    "vertical stack"
   ],
   "cell_type": "markdown",
   "metadata": {}
  },
  {
   "cell_type": "code",
   "execution_count": 82,
   "metadata": {},
   "outputs": [
    {
     "output_type": "stream",
     "name": "stdout",
     "text": [
      "[[3. 4. 5.]\n [3. 1. 2.]\n [5. 6. 1.]]\n[[3. 4. 5.]\n [3. 1. 2.]\n [5. 6. 1.]]\n"
     ]
    }
   ],
   "source": [
    "np_array_1 = np_data_reshape\n",
    "print(np_array_1)\n",
    "np_array_2 = np_data_reshape\n",
    "print(np_array_2)"
   ]
  },
  {
   "cell_type": "code",
   "execution_count": 83,
   "metadata": {},
   "outputs": [
    {
     "output_type": "stream",
     "name": "stdout",
     "text": [
      "[[3. 4. 5.]\n [3. 1. 2.]\n [5. 6. 1.]\n [3. 4. 5.]\n [3. 1. 2.]\n [5. 6. 1.]]\n"
     ]
    }
   ],
   "source": [
    "np_array_vstack = np.vstack([np_array_1, np_array_2])\n",
    "print(np_array_vstack)"
   ]
  },
  {
   "source": [
    "h? stack"
   ],
   "cell_type": "markdown",
   "metadata": {}
  },
  {
   "cell_type": "code",
   "execution_count": 85,
   "metadata": {},
   "outputs": [
    {
     "output_type": "stream",
     "name": "stdout",
     "text": [
      "[[3. 4. 5. 3. 4. 5.]\n [3. 1. 2. 3. 1. 2.]\n [5. 6. 1. 5. 6. 1.]]\n"
     ]
    }
   ],
   "source": [
    "np_array_hstack = np.hstack([np_array_1, np_array_2])\n",
    "print(np_array_hstack)"
   ]
  },
  {
   "source": [
    "배열 자르기\n",
    "\n",
    "hsplit(array_name, number)  \n",
    "vsplit(array_name, number)"
   ],
   "cell_type": "markdown",
   "metadata": {}
  },
  {
   "cell_type": "code",
   "execution_count": 88,
   "metadata": {},
   "outputs": [
    {
     "output_type": "stream",
     "name": "stdout",
     "text": [
      "[array([[3., 4., 5.],\n       [3., 1., 2.],\n       [5., 6., 1.]]), array([[3., 4., 5.],\n       [3., 1., 2.],\n       [5., 6., 1.]])]\n"
     ]
    }
   ],
   "source": [
    "np_array_hsplit = np.hsplit(np_array_hstack, 2)\n",
    "print(np_array_hsplit)"
   ]
  },
  {
   "cell_type": "code",
   "execution_count": 94,
   "metadata": {},
   "outputs": [
    {
     "output_type": "stream",
     "name": "stdout",
     "text": [
      "[array([[3., 4., 5., 3., 4., 5.]]), array([[3., 1., 2., 3., 1., 2.]]), array([[5., 6., 1., 5., 6., 1.]])]\n"
     ]
    }
   ],
   "source": [
    "np_array_vsplit = np.vsplit(np_array_hstack, 3)\n",
    "print(np_array_vsplit)"
   ]
  },
  {
   "cell_type": "code",
   "execution_count": 90,
   "metadata": {},
   "outputs": [
    {
     "output_type": "stream",
     "name": "stdout",
     "text": [
      "[array([[3., 4., 5.],\n       [3., 1., 2.],\n       [5., 6., 1.]]), array([[3., 4., 5.],\n       [3., 1., 2.],\n       [5., 6., 1.]])]\n"
     ]
    }
   ],
   "source": [
    "np_array_vsplit = np.vsplit(np_array_vstack, 2)\n",
    "print(np_array_vsplit)"
   ]
  },
  {
   "source": [
    "통계"
   ],
   "cell_type": "markdown",
   "metadata": {}
  },
  {
   "source": [
    "- `sum()` : 합 \n",
    "- `max()` : 최대값\n",
    "- `min()` : 최소값\n",
    "- `mean()` : 평균\n",
    "- `std()` : 표준편차"
   ],
   "cell_type": "markdown",
   "metadata": {}
  },
  {
   "cell_type": "code",
   "execution_count": 95,
   "metadata": {},
   "outputs": [
    {
     "output_type": "stream",
     "name": "stdout",
     "text": [
      "[[3. 4. 5.]\n [3. 1. 2.]\n [5. 6. 1.]]\n30.0\n6.0\n1.0\n3.3333333333333335\n1.699673171197595\n"
     ]
    }
   ],
   "source": [
    "print( np_data_reshape )\n",
    "print( np_data_reshape.sum() )\n",
    "print( np_data_reshape.max() )\n",
    "print( np_data_reshape.min() )\n",
    "print( np_data_reshape.mean() )\n",
    "print( np_data_reshape.std() )"
   ]
  },
  {
   "source": [
    "난수 생성"
   ],
   "cell_type": "markdown",
   "metadata": {}
  },
  {
   "source": [
    "randint : 범위 안의 정수 추출  \n",
    "\n",
    "`random.randint(start, end, size=\"num\")`"
   ],
   "cell_type": "markdown",
   "metadata": {}
  },
  {
   "cell_type": "code",
   "execution_count": 97,
   "metadata": {},
   "outputs": [
    {
     "output_type": "stream",
     "name": "stdout",
     "text": [
      "[28 14  9 12 20  1]\n"
     ]
    }
   ],
   "source": [
    "np_randint = np.random.randint(0, 45, size = 6)\n",
    "print(np_randint)"
   ]
  },
  {
   "source": [
    "rand : 0부터 1 사이의 값을 무작위 추출\n",
    "\n",
    "`random.rand(row, col)`"
   ],
   "cell_type": "markdown",
   "metadata": {}
  },
  {
   "cell_type": "code",
   "execution_count": 99,
   "metadata": {},
   "outputs": [
    {
     "output_type": "stream",
     "name": "stdout",
     "text": [
      "[[0.42048434 0.03035864 0.07948655]\n [0.15533998 0.83733061 0.59673019]\n [0.43243304 0.99940508 0.35985139]]\n"
     ]
    }
   ],
   "source": [
    "np_rand = np.random.rand(3, 3)\n",
    "print(np_rand)"
   ]
  },
  {
   "source": [
    "randn : 표준 정규분포 안의 수 추출\n",
    "\n",
    "`random.randn(num)`"
   ],
   "cell_type": "markdown",
   "metadata": {}
  },
  {
   "cell_type": "code",
   "execution_count": 100,
   "metadata": {},
   "outputs": [
    {
     "output_type": "stream",
     "name": "stdout",
     "text": [
      "[-0.85866813 -0.08684326  0.06526858  1.02420493 -1.21701359 -1.34417628\n -1.79357237 -0.20758609  1.66264521 -0.22557499]\n"
     ]
    }
   ],
   "source": [
    "np_randn = np.random.randn(10)\n",
    "print(np_randn)"
   ]
  },
  {
   "source": [
    "데이터 가공"
   ],
   "cell_type": "markdown",
   "metadata": {}
  },
  {
   "source": [
    "shuffle : 데이터 섞기\n",
    "\n",
    "데이터를 활용할 때 어느정도 데이터를 섞어야 함  \n",
    "머신러닝 모델 만들 때 학습이 잘못되는 것을 (편향 등) 방지하기 위함  \n",
    "- 총 데이터를 train, test dataset으로 나눌 때 데이터가 편향되어있다면 훈련이 잘못될 수 있다. "
   ],
   "cell_type": "markdown",
   "metadata": {}
  },
  {
   "cell_type": "code",
   "execution_count": 103,
   "metadata": {},
   "outputs": [
    {
     "output_type": "stream",
     "name": "stdout",
     "text": [
      "[ 9 14 12 28  1 20] => [12 14  9 28 20  1]\n"
     ]
    }
   ],
   "source": [
    "print(np_randint, end=\" => \")\n",
    "np.random.shuffle(np_randint)\n",
    "print(np_randint)"
   ]
  },
  {
   "source": [
    "choice : 확률을 지정하여 선택\n",
    "- `random.choice(array_name, pick number, p = [ ... ])`\n",
    "- 결측치 처리시 활용 가능\n",
    "    \n",
    "\\[중요!] unique : 유일한것 선택 "
   ],
   "cell_type": "markdown",
   "metadata": {}
  },
  {
   "cell_type": "code",
   "execution_count": 110,
   "metadata": {},
   "outputs": [
    {
     "output_type": "stream",
     "name": "stdout",
     "text": [
      "['C' 'D' 'C' 'D' 'D' 'D' 'D' 'D' 'D' 'A']\n"
     ]
    }
   ],
   "source": [
    "np_texts = ['A', 'B', 'C', 'D', 'E']\n",
    "np_choice = np.random.choice(np_texts, 10, p = [0.1, 0, 0.3, 0.6, 0])\n",
    "print(np_choice)"
   ]
  },
  {
   "cell_type": "code",
   "execution_count": 111,
   "metadata": {},
   "outputs": [
    {
     "output_type": "stream",
     "name": "stdout",
     "text": [
      "['A' 'C' 'D']\n"
     ]
    }
   ],
   "source": [
    "# 중요!\n",
    "print(np.unique(np_choice))"
   ]
  },
  {
   "source": [
    "Matrix Transpose"
   ],
   "cell_type": "markdown",
   "metadata": {}
  },
  {
   "cell_type": "code",
   "execution_count": 114,
   "metadata": {},
   "outputs": [
    {
     "output_type": "stream",
     "name": "stdout",
     "text": [
      "[['row1_col1' 'row1_col2' 'row1_col3']\n ['row2_col1' 'row2_col2' 'row2_col3']\n ['row3_col1' 'row3_col2' 'row3_col3']]\n[['row1_col1' 'row2_col1' 'row3_col1']\n ['row1_col2' 'row2_col2' 'row3_col2']\n ['row1_col3' 'row2_col3' 'row3_col3']]\n"
     ]
    }
   ],
   "source": [
    "np_test_array = np.array([\n",
    "    ('row1_col1', 'row1_col2', 'row1_col3'),\n",
    "    ('row2_col1', 'row2_col2', 'row2_col3'), \n",
    "    ('row3_col1', 'row3_col2', 'row3_col3')])\n",
    "print(np_test_array)\n",
    "print(np_test_array.T)"
   ]
  },
  {
   "cell_type": "code",
   "execution_count": 115,
   "metadata": {},
   "outputs": [
    {
     "output_type": "stream",
     "name": "stdout",
     "text": [
      "[[ 7.  1.  0. ...  9.  5.  1.]\n [ 8.  1.  0. ... 10.  5.  1.]\n [ 8.  1.  0. ... 10.  5.  1.]\n ...\n [ 7.  0.  0. ...  9.  6.  0.]\n [ 6.  0.  0. ... 13.  7.  0.]\n [ 6.  0.  0. ... 12.  6.  0.]]\n"
     ]
    }
   ],
   "source": [
    "print(np_data)"
   ]
  },
  {
   "cell_type": "code",
   "execution_count": 116,
   "metadata": {},
   "outputs": [
    {
     "output_type": "stream",
     "name": "stdout",
     "text": [
      "[[ 7.  8.  8. ...  7.  6.  6.]\n [ 1.  1.  1. ...  0.  0.  0.]\n [ 0.  0.  0. ...  0.  0.  0.]\n ...\n [ 9. 10. 10. ...  9. 13. 12.]\n [ 5.  5.  5. ...  6.  7.  6.]\n [ 1.  1.  1. ...  0.  0.  0.]]\n"
     ]
    }
   ],
   "source": [
    "print(np_data.T)"
   ]
  },
  {
   "source": [
    "결과에 접근할 수 있도록 전치행렬 생성"
   ],
   "cell_type": "markdown",
   "metadata": {}
  }
 ]
}