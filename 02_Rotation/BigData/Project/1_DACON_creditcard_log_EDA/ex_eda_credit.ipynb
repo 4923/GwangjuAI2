{
 "cells": [
  {
   "cell_type": "markdown",
   "metadata": {},
   "source": [
    "###  신용 카드 사용 기록 EDA."
   ]
  },
  {
   "cell_type": "markdown",
   "metadata": {},
   "source": [
    "#### 0. 필요한 패키지를 불러온다."
   ]
  },
  {
   "cell_type": "code",
   "execution_count": null,
   "metadata": {},
   "outputs": [],
   "source": [
    "import numpy as np\n",
    "import pandas as pd\n",
    "import matplotlib.pyplot as plt\n",
    "import seaborn as sns\n",
    "import warnings\n",
    "warnings.filterwarnings('ignore')\n",
    "%matplotlib inline"
   ]
  },
  {
   "cell_type": "code",
   "execution_count": null,
   "metadata": {},
   "outputs": [],
   "source": [
    "pd.set_option(\"precision\",2)"
   ]
  },
  {
   "cell_type": "markdown",
   "metadata": {},
   "source": [
    "#### 1. 데이터를 불러와서 살펴 본다."
   ]
  },
  {
   "cell_type": "code",
   "execution_count": null,
   "metadata": {},
   "outputs": [],
   "source": [
    "df = pd.read_csv('data_credit.csv')"
   ]
  },
  {
   "cell_type": "code",
   "execution_count": null,
   "metadata": {},
   "outputs": [],
   "source": [
    "df.shape"
   ]
  },
  {
   "cell_type": "code",
   "execution_count": null,
   "metadata": {},
   "outputs": [],
   "source": [
    "df.head(5)"
   ]
  },
  {
   "cell_type": "markdown",
   "metadata": {},
   "source": [
    "#### 2. 데이터를 정제하고 결측치 처리를 한다."
   ]
  },
  {
   "cell_type": "code",
   "execution_count": null,
   "metadata": {},
   "outputs": [],
   "source": [
    "# 결측치가 분명히 있는 것 같으니 컬럼별 집계해 본다.\n",
    "nas = df.isnull()\n",
    "print(nas.sum(axis=0))"
   ]
  },
  {
   "cell_type": "code",
   "execution_count": null,
   "metadata": {},
   "outputs": [],
   "source": [
    "# installments 변수의 도수분포를 본다.\n",
    "df['installments'].value_counts()"
   ]
  },
  {
   "cell_type": "code",
   "execution_count": null,
   "metadata": {},
   "outputs": [],
   "source": [
    "# 일시불이 NA로 처리 되었으니 결측치를 1로 채운다.\n",
    "df = df.fillna(value=1)\n",
    "df.head(5)"
   ]
  },
  {
   "cell_type": "code",
   "execution_count": null,
   "metadata": {},
   "outputs": [],
   "source": [
    "# 다시 installments 변수의 도수분포를 본다.\n",
    "df['installments'].value_counts()"
   ]
  },
  {
   "cell_type": "code",
   "execution_count": null,
   "metadata": {},
   "outputs": [],
   "source": [
    "# 일단 date와 time은 사용하지 않겠으니 제거한다.\n",
    "df = df.drop(columns=['date','time'])\n",
    "df.head(5)"
   ]
  },
  {
   "cell_type": "markdown",
   "metadata": {},
   "source": [
    "#### 3. 개개 변수를 다양한 방법으로 요약하고 시각화 한다."
   ]
  },
  {
   "cell_type": "markdown",
   "metadata": {},
   "source": [
    "3.1. store_id 등장 횟수의 히스토그램."
   ]
  },
  {
   "cell_type": "code",
   "execution_count": null,
   "metadata": {},
   "outputs": [],
   "source": [
    "freq1 = df['store_id'].value_counts()\n",
    "freq1.plot.hist(bins=50,color=\"turquoise\",alpha=0.5)\n",
    "#sns.distplot(freq1.values,bins=50,color=\"turquoise\")      # 다른 방법.\n",
    "plt.show()"
   ]
  },
  {
   "cell_type": "code",
   "execution_count": null,
   "metadata": {},
   "outputs": [],
   "source": [
    "# 큰 skew를 보이므로 log 변환해 본다.\n",
    "freq1b = np.log(freq1)\n",
    "freq1b.plot.hist(bins=30,color=\"turquoise\",alpha=0.5)\n",
    "plt.show()"
   ]
  },
  {
   "cell_type": "code",
   "execution_count": null,
   "metadata": {},
   "outputs": [],
   "source": [
    "# 중위수를 계산해 본다.\n",
    "print(np.median(freq1))"
   ]
  },
  {
   "cell_type": "code",
   "execution_count": null,
   "metadata": {},
   "outputs": [],
   "source": [
    "# Top store id를 본다.\n",
    "freq1.sort_values(ascending=False)[:10]"
   ]
  },
  {
   "cell_type": "markdown",
   "metadata": {},
   "source": [
    "3.2. card_id 사용 횟수의 히스토그램."
   ]
  },
  {
   "cell_type": "code",
   "execution_count": null,
   "metadata": {},
   "outputs": [],
   "source": [
    "freq2 = df['card_id'].value_counts()\n",
    "freq2.plot.hist(bins=50,color=\"green\",alpha=0.5)\n",
    "#sns.distplot(freq2.values,bins=50,color=\"green\")         # 다른 방법.\n",
    "plt.show()"
   ]
  },
  {
   "cell_type": "code",
   "execution_count": null,
   "metadata": {},
   "outputs": [],
   "source": [
    "# 큰 skew를 보이므로 log 변환해 본다.\n",
    "freq2b = np.log(freq2)                                              \n",
    "freq2b.plot.hist(bins=20,color=\"green\",alpha=0.5)\n",
    "#sns.distplot(freq2b.values,bins=20,color=\"green\",kde=False)           # 다른 방법.\n",
    "plt.show()"
   ]
  },
  {
   "cell_type": "code",
   "execution_count": null,
   "metadata": {},
   "outputs": [],
   "source": [
    "# 사용 횟수 Top 10 card id를 본다.\n",
    "freq2.sort_values(ascending=False)[:10]"
   ]
  },
  {
   "cell_type": "markdown",
   "metadata": {},
   "source": [
    "3.3. amount의 히스토그램."
   ]
  },
  {
   "cell_type": "code",
   "execution_count": null,
   "metadata": {},
   "outputs": [],
   "source": [
    "df['amount'].plot.hist(bins=10)\n",
    "# sns.distplot(df.amount,bins=10,kde=False)\n",
    "plt.show()"
   ]
  },
  {
   "cell_type": "code",
   "execution_count": null,
   "metadata": {},
   "outputs": [],
   "source": [
    "# 실제 구매 or Cancel.\n",
    "ser = df.amount > 0\n",
    "np.round(ser.mean(),4)             # 실제 구매의 퍼센티지."
   ]
  },
  {
   "cell_type": "markdown",
   "metadata": {},
   "source": [
    "3.4. installments의 막대그림."
   ]
  },
  {
   "cell_type": "code",
   "execution_count": null,
   "metadata": {},
   "outputs": [],
   "source": [
    "freq3 = df['installments'].value_counts()\n",
    "print(\"installments의 가짓수 = {}\".format((freq3.index).nunique()))"
   ]
  },
  {
   "cell_type": "code",
   "execution_count": null,
   "metadata": {},
   "outputs": [],
   "source": [
    "# 도수 분포를 본다.\n",
    "freq3 = freq3.sort_index()\n",
    "df2 = pd.DataFrame({\"Installment\": freq3.index, \"Counts\":freq3.values})\n",
    "df2.plot.bar(x=\"Installment\")\n",
    "#sns.countplot(data=df, x='installments')   # Seaborn의 countplot() 함수로 집계하여 보여준다.  \n",
    "plt.show()"
   ]
  },
  {
   "cell_type": "code",
   "execution_count": null,
   "metadata": {},
   "outputs": [],
   "source": [
    "# installment = 1 (일시불)이 너무나 많으니 제거하고 다시 시각화 해본다.\n",
    "freq3b = df[df.installments != 1]['installments'].value_counts()\n",
    "freq3b = freq3b.sort_index()\n",
    "df2 = pd.DataFrame({\"Installment\": freq3b.index, \"Counts\":freq3b.values})\n",
    "df2.plot.bar(x=\"Installment\")\n",
    "#sns.countplot(data=df[df.installments != 1], x='installments')               # 다른 방법.\n",
    "plt.show()"
   ]
  },
  {
   "cell_type": "markdown",
   "metadata": {},
   "source": [
    "3.5. days_of_week의 도수 막대그림."
   ]
  },
  {
   "cell_type": "code",
   "execution_count": null,
   "metadata": {},
   "outputs": [],
   "source": [
    "freq4 = df['days_of_week'].value_counts()\n",
    "freq4 = freq4.sort_index()\n",
    "df2 = pd.DataFrame({\"Days of Week\": freq4.index, \"Counts\":freq4.values})\n",
    "df2.plot.bar(x=\"Days of Week\")\n",
    "print(\"days of week의 가짓수 = {}\".format((freq4.index).nunique()))\n",
    "plt.show()"
   ]
  },
  {
   "cell_type": "code",
   "execution_count": null,
   "metadata": {},
   "outputs": [],
   "source": [
    "# Seaborn의 countplot() 함수로 집계하여 보여준다.\n",
    "sns.countplot(data=df, x='days_of_week')\n",
    "plt.show()"
   ]
  },
  {
   "cell_type": "markdown",
   "metadata": {},
   "source": [
    "3.6. holiday의 막대그림."
   ]
  },
  {
   "cell_type": "code",
   "execution_count": null,
   "metadata": {},
   "outputs": [],
   "source": [
    "freq5 = df['holyday'].value_counts()                    # 스펠링 오류!!! \n",
    "freq5 = freq5.sort_index()\n",
    "df2 = pd.DataFrame({\"Holiday\": freq5.index, \"Counts\":freq5.values})\n",
    "df2.plot.bar(x=\"Holiday\")\n",
    "plt.show()"
   ]
  },
  {
   "cell_type": "markdown",
   "metadata": {},
   "source": [
    "#### 4. 수치형 변수 + 명목형 변수를 조합한 분석과 시각화."
   ]
  },
  {
   "cell_type": "code",
   "execution_count": null,
   "metadata": {},
   "outputs": [],
   "source": [
    "# 휴일 여부별 평균 사용 금액.\n",
    "df.groupby('holyday')['amount'].mean()"
   ]
  },
  {
   "cell_type": "code",
   "execution_count": null,
   "metadata": {},
   "outputs": [],
   "source": [
    "# 요일별 평균 결제 금액.\n",
    "ser1 = df.groupby('days_of_week')['amount'].mean()\n",
    "ser1"
   ]
  },
  {
   "cell_type": "code",
   "execution_count": null,
   "metadata": {},
   "outputs": [],
   "source": [
    "# 시각화.\n",
    "pd.DataFrame({\"Days of Week\":ser1.index, \"Amount\":ser1.values}).plot.bar(x=\"Days of Week\")\n",
    "plt.show()"
   ]
  },
  {
   "cell_type": "code",
   "execution_count": null,
   "metadata": {},
   "outputs": [],
   "source": [
    "# store_id 별 평균 결제 금액.\n",
    "ser2 = df.groupby('store_id')['amount'].mean()\n",
    "ser2.plot.hist(x=\"Store ID\",title=\"Mean Amount by Store\",bins=50)\n",
    "plt.show()"
   ]
  },
  {
   "cell_type": "code",
   "execution_count": null,
   "metadata": {},
   "outputs": [],
   "source": [
    "# store_id 별 Total 결제 금액. Top 10.\n",
    "ser2b = df.groupby('store_id')['amount'].sum()\n",
    "ser2b.sort_values(ascending=False)[:10]"
   ]
  },
  {
   "cell_type": "code",
   "execution_count": null,
   "metadata": {},
   "outputs": [],
   "source": [
    "# card_id 별 평균 결제 금액.\n",
    "ser3 = df.groupby('card_id')['amount'].mean()\n",
    "ser3.plot.hist(bins=50)\n",
    "plt.show()"
   ]
  },
  {
   "cell_type": "code",
   "execution_count": null,
   "metadata": {},
   "outputs": [],
   "source": [
    "# card_id 별 Total 결제 금액. Top 10.\n",
    "ser3b = df.groupby('card_id')['amount'].sum()\n",
    "ser3b.sort_values(ascending=False)[:10]"
   ]
  },
  {
   "cell_type": "markdown",
   "metadata": {},
   "source": [
    "#### 5. 등급화."
   ]
  },
  {
   "cell_type": "markdown",
   "metadata": {},
   "source": [
    "5.1. store_id 별 Total 결제 금액에 의한 3 등급 분류."
   ]
  },
  {
   "cell_type": "code",
   "execution_count": null,
   "metadata": {},
   "outputs": [],
   "source": [
    "ser2c = pd.qcut(ser2b,3,labels=['Low', 'Medium', 'High'])                      # qcut() 함수 사용!\n",
    "combo2 = pd.DataFrame({\"Store ID\":ser2b.index, \"Amount\":ser2b.values, \"Category\":ser2c.values})\n",
    "combo2.head(10)"
   ]
  },
  {
   "cell_type": "code",
   "execution_count": null,
   "metadata": {},
   "outputs": [],
   "source": [
    "# 등급별 평균.\n",
    "combo2.groupby(\"Category\")[\"Amount\"].mean()"
   ]
  },
  {
   "cell_type": "markdown",
   "metadata": {},
   "source": [
    "5.2. card_id 별 Total 결제 금액에 의한 3 등급 분류."
   ]
  },
  {
   "cell_type": "code",
   "execution_count": null,
   "metadata": {},
   "outputs": [],
   "source": [
    "ser3c = pd.qcut(ser3b,3,labels=['Low', 'Medium', 'High'])\n",
    "combo3 = pd.DataFrame({\"Card ID\":ser3b.index,\"Amount\":ser3b.values, \"Category\":ser3c.values})\n",
    "combo3.head(10)"
   ]
  },
  {
   "cell_type": "code",
   "execution_count": null,
   "metadata": {},
   "outputs": [],
   "source": [
    "# 등급별 평균.\n",
    "combo3.groupby(\"Category\")[\"Amount\"].mean()"
   ]
  },
  {
   "cell_type": "code",
   "execution_count": null,
   "metadata": {},
   "outputs": [],
   "source": []
  }
 ],
 "metadata": {
  "kernelspec": {
   "display_name": "Python 3",
   "language": "python",
   "name": "python3"
  },
  "language_info": {
   "codemirror_mode": {
    "name": "ipython",
    "version": 3
   },
   "file_extension": ".py",
   "mimetype": "text/x-python",
   "name": "python",
   "nbconvert_exporter": "python",
   "pygments_lexer": "ipython3",
   "version": "3.8.8"
  }
 },
 "nbformat": 4,
 "nbformat_minor": 2
}
