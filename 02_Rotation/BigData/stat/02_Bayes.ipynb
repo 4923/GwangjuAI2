{
 "metadata": {
  "language_info": {
   "codemirror_mode": {
    "name": "ipython",
    "version": 3
   },
   "file_extension": ".py",
   "mimetype": "text/x-python",
   "name": "python",
   "nbconvert_exporter": "python",
   "pygments_lexer": "ipython3",
   "version": 3
  },
  "orig_nbformat": 4
 },
 "nbformat": 4,
 "nbformat_minor": 2,
 "cells": [
  {
   "source": [
    "# 확률의 곱셈정리 : 조건부 확률 \n",
    "Conditional Probability"
   ],
   "cell_type": "markdown",
   "metadata": {}
  },
  {
   "source": [
    "## 정의\n",
    "\n",
    "$$P(B|A) = \\frac{P(A \\cap B)}{P(A)}$$\n",
    "\n",
    "확률이 0이 아닌 사건 A와 B에 대해서 사건 A가 일어났다는 **전제**로 사건 B가 일어날 확률"
   ],
   "cell_type": "markdown",
   "metadata": {}
  },
  {
   "source": [
    "## 유도\n",
    "\n",
    "$$\n",
    "\\begin{aligned}\n",
    "P(A \\cap B) &= P(B|A)P(A)\\\\\n",
    "&= P(A|B)P(B)\\\\\n",
    "\\because P(B|A) &= \\frac{P(A \\cap B)}{P(A)}\\\\\n",
    "\\end{aligned}\n",
    "$$\n",
    "\n"
   ],
   "cell_type": "markdown",
   "metadata": {}
  },
  {
   "source": [
    "# 확률의 곱셈정리 : 베이즈 정리\n",
    "Bayes's theory"
   ],
   "cell_type": "markdown",
   "metadata": {}
  },
  {
   "source": [
    "## 유도\n",
    "곱셈정리를 이용해 베이즈 정리를 도출한다.\n",
    "\n",
    "$$\n",
    "\\begin{aligned}\n",
    "P(A|B) &= \\frac{P(B|A)P(A)}{P(B)}\\\\\n",
    "&= \\frac{P(B|A)P(A)} {P(B|A)P(A) + P(B|A^{c})P(A^{c})}\n",
    "\\end{aligned}\n",
    "$$\n",
    "\n",
    "$\\because$ $P(B|A)P(A)$는 $P(B)$와 $P(A)$의 교집합이고  \n",
    "$P(B|A^{c})$는 $P(B)$와 $P(A^{c})$의 교집합이므로  \n",
    "$P(B|A)P(A) + P(B|A^{c})P(A^{c})$ 는 $P(B)$다."
   ],
   "cell_type": "markdown",
   "metadata": {}
  },
  {
   "source": [
    "<center>\n",
    "\n",
    "![bayes_1](img/bayes_1.png)\n",
    "![bayes_2](img/bayes_2.png)\n",
    "\n",
    "</center>"
   ],
   "cell_type": "markdown",
   "metadata": {}
  },
  {
   "source": [
    "**예제 #0106a**\n",
    "\n",
    "변종 인플루엔자가 돌고있다. 전체 감염자의 확률은 3%라고 한다. 보건부\n",
    "는 진단 방법을 개발 했는데 실제 감염자 중에서 98%를 정확하게 양성(+)\n",
    "으로 진단하고 또한 실제 비감염자 중에서 95%를 정확하게 음성(-)으로 진\n",
    "단할 수 있다고 한다. 본인도 이 검사를 받아 보았는데 결과는 양성(+)으로\n",
    "나왔다. 실제 이 변종 인플루엔자에 결렸을 확률은?"
   ],
   "cell_type": "markdown",
   "metadata": {}
  },
  {
   "source": [
    "**#0106a solution**\n",
    "\n",
    "선후관계를 잘 파악해야 한다. \n",
    "\n",
    "- 표기\n",
    "    1. 감염\n",
    "        - 전체 감염자 = $P(Disease)$ = $P(D)$ \n",
    "        - 비감염자 = $P(D^{c})$\n",
    "    2. 양성 : $P(+)$\n",
    "    3. 양성 : $P(-)$\n",
    "\n",
    "- 알고 있는 정보 \n",
    "    1. 감염\n",
    "        - $P(D)$ = 3% = 0.03\n",
    "        - $\\therefore$  $P(D^{c})$ = 100% - 3% = 97% = 0.97 \n",
    "    2. 진단 결과\n",
    "        - 실제 감염자 중에서 98%를 정확하게 양성(+) 으로 진단\n",
    "            - 전제 조건 : $D$ \n",
    "            - 상황 : $+$\n",
    "            - $\\therefore$ 확률 = $P(+|D)$\n",
    "        - 비감염자 중에서 95%를 정확하게 음성(-) 으로 진단\n",
    "            - 전제 조건 : $D^{c} $\n",
    "            - 상황 : $+$\n",
    "            - $\\therefore$ 확률 = $P(+|D^{c})$ \n",
    "\n",
    "- 구하려는 것\n",
    "결과는 양성(+)으로 나왔을 때 실제 이 변종 인플루엔자에 결렸을 (D) 확률 = $P(D|+)$\n",
    "\n",
    "따라서 베이즈 정리를 이용한다.\n",
    "\n",
    "$$\n",
    "\\begin{aligned}\n",
    "P(D|+) &= \\frac{P(+|D)P(D)} {P(+|D)P(D) + P(+|D^{c})P(D^{c})}\\\\\n",
    "&= \\frac{0.98 * 0.03}{0.98 * 0.03 +0.95 * (1-0.03)}\\\\\n",
    "&= 0.377\n",
    "\\end{aligned}\n",
    "$$\n"
   ],
   "cell_type": "markdown",
   "metadata": {}
  },
  {
   "source": [
    "- 민감도 (Sensitivity, Recall) = $P(+|D)$\n",
    "- 특이도 (Specificity) = $P(-|D^{c})$ "
   ],
   "cell_type": "markdown",
   "metadata": {}
  },
  {
   "source": [
    "**예제 #0106b**\n",
    "\n",
    "100 개의 관측치 중에서 6 개의 경우 반응 변수 (𝑌)의 실제 값이 1이며,\n",
    "나머지 94 경우에는 0이다. 어느 머신러닝 모형이 민감도 = 0.92, 특이도 = 0.90와\n",
    "같은 성능을 보인다고 가정한다. 새롭게 설명 변수의 관측값 (𝑋𝑡𝑒𝑠𝑡)을 사용하여\n",
    "예측한 반응 변수의 값이 1이다.\n",
    "어느 정도의 확률로 이 예측이 정확한가"
   ],
   "cell_type": "markdown",
   "metadata": {}
  },
  {
   "source": [],
   "cell_type": "markdown",
   "metadata": {}
  }
 ]
}