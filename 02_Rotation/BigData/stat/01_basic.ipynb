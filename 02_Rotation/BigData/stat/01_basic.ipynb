{
 "metadata": {
  "language_info": {
   "codemirror_mode": {
    "name": "ipython",
    "version": 3
   },
   "file_extension": ".py",
   "mimetype": "text/x-python",
   "name": "python",
   "nbconvert_exporter": "python",
   "pygments_lexer": "ipython3",
   "version": "3.8.8"
  },
  "orig_nbformat": 4,
  "kernelspec": {
   "name": "python3",
   "display_name": "Python 3.8.8 64-bit ('base': conda)"
  },
  "interpreter": {
   "hash": "b3ba2566441a7c06988d0923437866b63cedc61552a5af99d1f4fb67d367b25f"
  }
 },
 "nbformat": 4,
 "nbformat_minor": 2,
 "cells": [
  {
   "source": [
    "## 용어 정리"
   ],
   "cell_type": "markdown",
   "metadata": {}
  },
  {
   "source": [
    "### 시행과 사건 \n",
    "\n",
    "**시행 trial**\n",
    "\n",
    "1. 같은 조건 아래에서 반복 될 수 있다.\n",
    "2. 우연에 의해 결정된다.\n",
    "3. 가능한 모든 결과를 알 수 있는 실험이다.\n",
    "\n",
    "\n",
    "** 표본공간과 사건**  \n",
    "\n",
    "1. 사건 evnet : 시행의 결과, 표본공간의 부분집합\n",
    "- 근원 사건 : 두 개가 동시에 일어나는 일은 없는 사건 (유일한 사건)\n",
    "\n",
    "    - 한 가지 경우만 있는 사건. 모든 사건이 근원 사건은 아니다.\n",
    "    - 예) 동전을 두개를 던졌을 때 두 개 모두 같은 면이 나오는 사건\n",
    "    \n",
    "2. 표본공간 sample space S : 시행으로 가능한 결과들의 집합"
   ],
   "cell_type": "markdown",
   "metadata": {}
  },
  {
   "source": [
    "**not**\n",
    "\n",
    "B not A = B - A \n",
    "A not B = A - B \n",
    "\n",
    "X not Y는 X인데 Y는 아닌 사건을 말하므로\n",
    "\n",
    "**and**\n",
    "\n",
    "교집합\n",
    "\n",
    "\n",
    "**or**\n",
    "\n",
    "합집합"
   ],
   "cell_type": "markdown",
   "metadata": {}
  },
  {
   "source": [
    "**배반사건**\n",
    "\n",
    "교집합이 0인 사건들"
   ],
   "cell_type": "markdown",
   "metadata": {}
  },
  {
   "source": [
    "**여집합**\n",
    "\n",
    "- 남을 여, complement\n",
    "- B의 여집합 : 표본공간에서 B가 아닌 나머지의 사건을 모아 부르는 것"
   ],
   "cell_type": "markdown",
   "metadata": {}
  },
  {
   "source": [
    "## 확률의 정의"
   ],
   "cell_type": "markdown",
   "metadata": {}
  },
  {
   "source": [
    "**수학적 정의**\n",
    "\n",
    "모든경우의 수 대비 특정 사건이 일어나는 경우의 수\n",
    "\n",
    "N이 한 시행에 따라서 일어날 수 있는 모든 경우의 수\n",
    "\n",
    "$N_{A}$이 사건 A가 일어나는 경우의 수 일 때\n",
    "\n",
    "\n",
    "**경험적 정의**\n",
    "\n",
    "조건 아래에서 관측하거나 실험한 자료의 총 수를 N이라고 할 때 사건 A가 일어난 횟수를 $N_{A}$이라 한다."
   ],
   "cell_type": "markdown",
   "metadata": {}
  },
  {
   "source": [
    "## 확률 기초"
   ],
   "cell_type": "markdown",
   "metadata": {}
  },
  {
   "source": [
    "**기본성질**\n",
    "\n",
    "1. 확률은 0과 1 사이\n",
    "2. 근원 사건의 확률 $p_{i}$를 모두 더하면 1이 되어야 한다. (표본공간 전체에 대한 성질)\n",
    "    - 주사위를 던졌을 때 1이 나올 확률 + 2가 나올 확률 + $\\cdots$ + 6이 나올 확률 = 1\n",
    "    - 표본 공간 $S$에 대한 확률 P(S)=1 "
   ],
   "cell_type": "markdown",
   "metadata": {}
  },
  {
   "source": [
    "**예제 #0101**\n",
    "\n",
    "두 주사위를 던질 때  \n",
    "\n",
    "1. 두 개가 서로 다른 눈이 나올 확률을 구하여라\n",
    "\n",
    "- 같은 눈이 나오는 경우의 수 == (1, 1) (2, 2) (3, 3) (4, 4) (5, 5) (6, 6)\n",
    "- 따라서 해당하는 경우의 수 36 - 6\n",
    "- 확률 : $\\frac{30}{36} = \\frac{5}{6}$\n",
    "\n",
    "2. 두 개의 눈의 합이 7이될 확률을 구하여라.\n",
    "- 주사위 두 눈의 합이 7인 경우 : (1, 6), (2, 5), (3, 4), (4, 3), (5, 2), (6, 1)\n",
    "- 따라서 해당하는 경우의 수 6\n",
    "- 확률 : $\\frac{6}{36} = \\frac{1}{6}$"
   ],
   "cell_type": "markdown",
   "metadata": {}
  },
  {
   "source": [
    "**예제 #0102**\n",
    "\n",
    "다음 통계적(경험적) 확률에 대한 물음에 답하시오:\n",
    "\n",
    "1) 통계조사 결과 출생아 1000명 중 출생 후 1년까지 980명이 생존해 있다면, 출생\n",
    "아의 1년 생존확률은?\n",
    "\n",
    "확률의 경험적 정의는 $N$이 무한할 때의 사건 $N_{A}$ 이다. (==상대도수의 극한)\n",
    "\n",
    "$\\therefore$ 구하려는 확률은 경우의 수를 실험한 모든 횟수로 나누어야 한다.\n",
    "\n",
    "출생아의 1년 생존확률은 : $\\frac{980}{1000}$\n",
    "\n",
    "2) 한 개의 주사위를 10000번 던져서 1의 눈이 1650번 나왔다. 1의 눈이 나올 확률\n",
    "을 구하여라.\n",
    "\n",
    "확률 : $\\frac{1650}{10000}$"
   ],
   "cell_type": "markdown",
   "metadata": {}
  },
  {
   "source": [
    "**예제 #0103**\n",
    "\n",
    "하나의 주사위를 던질 때 짝수의 눈 또는 3 이상의 눈이 나올 확률\n",
    "\n",
    "관찰해야 하는 경우\n",
    "\n",
    ": 짝수의 눈 (2, 4, 6) + 3 이상의 눈 (3, 4, 5) 이 나오는 경우 == 2, 3, 4, 5, 6이 나오는 경우\n",
    "\n",
    "$\\therefore\\ \\frac{5}{6}$ "
   ],
   "cell_type": "markdown",
   "metadata": {}
  }
 ]
}