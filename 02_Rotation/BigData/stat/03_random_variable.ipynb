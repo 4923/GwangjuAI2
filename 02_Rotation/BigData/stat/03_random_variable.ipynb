{
 "metadata": {
  "language_info": {
   "codemirror_mode": {
    "name": "ipython",
    "version": 3
   },
   "file_extension": ".py",
   "mimetype": "text/x-python",
   "name": "python",
   "nbconvert_exporter": "python",
   "pygments_lexer": "ipython3",
   "version": "3.8.8"
  },
  "orig_nbformat": 4,
  "kernelspec": {
   "name": "python3",
   "display_name": "Python 3.8.8 64-bit ('base': conda)"
  },
  "interpreter": {
   "hash": "b3ba2566441a7c06988d0923437866b63cedc61552a5af99d1f4fb67d367b25f"
  }
 },
 "nbformat": 4,
 "nbformat_minor": 2,
 "cells": [
  {
   "cell_type": "code",
   "execution_count": 1,
   "source": [
    "import numpy as np\r\n",
    "\r\n",
    "#visualization\r\n",
    "import matplotlib.pyplot as plt\r\n",
    "\r\n",
    "#stat\r\n",
    "import scipy as sp\r\n",
    "import scipy.stats"
   ],
   "outputs": [],
   "metadata": {}
  },
  {
   "cell_type": "markdown",
   "source": [
    "# 확률변수\n",
    "\n",
    "random variable"
   ],
   "metadata": {}
  },
  {
   "cell_type": "markdown",
   "source": [
    "- 확률변수 : 확률 실험의 각 결과에 실수를 부여\n",
    "\n",
    "- 확률변수의 값은 **하나의 수치로 나타낸** 사건이다.\n",
    "    - 동전을 던지는 실험에서 앞이 나오면 1, 뒤가 나오면 0\n",
    "\n",
    "- 유형\n",
    "    1. 이산확률변수 discrete random variable\n",
    "        - 셀 수 있는 가지수를 나타낸다.\n",
    "        - 주로 정수로 표현\n",
    "        - 한정적인 가짓수의 값이다.\n",
    "        - 주사위를 던져서 나오는 눈의 수 ({1, 2, 3, 4, 5, 6})\n",
    "    2. 연속확률변수 continuous random variable\n",
    "        - 셀 수 없는 가지수를 나타낸다.\n",
    "        - 주로 실수로 표현\n",
    "            - 구간보다는 구간을 무한대로 쪼갠다는 것이 중요 \n",
    "        - 셀 수 없는 가짓수의 값이다.\n",
    "        - 1년 연봉, 성인 남성의 신장 등\n",
    "    \n",
    "- 표기\n",
    "    - 확률변수 : 영문 대문자\n",
    "    - 확률변수의 **값** : 영문 소문자\n",
    "    - 확률변수 X의 값이 x일 확률 : $P(X=x)$ or $P(x)$"
   ],
   "metadata": {}
  },
  {
   "cell_type": "markdown",
   "source": [
    "# 이산확률분포함수 \r\n",
    "discrete probability distribution\r\n",
    "\r\n",
    "- 이산확률변수가 가지는 값 및 이것과 확률 사이의 **대응관계**\r\n",
    "- 이산확률분포 그 자체로 확률이다.\r\n",
    "- 구체적인 표본이 없어도 확률분포함수는 있을 수 있다.\r\n",
    "\r\n",
    "\r\n",
    "- 조건\r\n",
    "    1. $0 \\leq < P(x) \\leq 1$\r\n",
    "        - $\\because$ 이산확률은 실제 일어난 일과 그렇지 않은 일로 구별되기 때문\r\n",
    "\r\n",
    "\r\n",
    "### 이산확률변수\r\n",
    "**모평균 $\\mu$**\r\n",
    "- 이산확률변수가 가질 수 있는 값들에 **확률**을 **가중치로** (가중평균) 곱해서 더한 것 (= 평균을 구한 것)\r\n",
    "- $=$ <font color='orange'>확률변수 $X$의 기대값 $E[X]$</font>으로 부른다.\r\n",
    "    - expected value\r\n",
    "    - $ \\mu = E[X] = \\sum_{all x} x P(X)$\r\n",
    "        - 이 때 $P(X)$ 가 **가중치**에 해당하는 **확률**이다.\r\n",
    "- 표본의 평균 $!=$ 모집단의 평균\r\n",
    "\r\n",
    "**모분산 $\\sigma^{2}$** \r\n",
    "- 모평균을 기준으로 **편차**를 구하여 **제곱**하고 모평균에서와 같이 **확률**을 **가중치로** (가중평균) 곱하여 더한 것 (=평균을 구한 것)\r\n",
    "- 확률변수 $X$의 모분산은 $Var(X)$이다. \r\n",
    "$$\r\n",
    "\\begin{aligned}\r\n",
    "\\sigma^{2} = Var(X) \r\n",
    "&= \\sum_{all x}(x-\\mu)^{2} P(X)\\\\\r\n",
    "&= (\\sum_{all x}x^{2}P(X)) - \\mu^{2}\\\\\r\n",
    "&= E[X^{2}] - (E[X])^{2}\r\n",
    "\\end{aligned}\r\n",
    "$$\r\n",
    "\r\n",
    "- (일반식) 편차의 제곱에 가중치로 확률을 곱해 평균을 구하거나 \r\n",
    "- (간편식) 제곱의 평균 *($E[X^{2}]$)* 에서 평균의 제곱 *($E[X]^{2}$)*을 뺀다\r\n",
    "    - $\\because$ $E[X] = \\mu$ (모평균)\r\n",
    "\r\n",
    "**모표준편차 $\\sigma$** \r\n",
    "\r\n",
    "- $\\sigma = \\sqrt{\\sigma^{2}}$\r\n"
   ],
   "metadata": {}
  },
  {
   "cell_type": "markdown",
   "source": [
    "### 이산확률분포 : 베르누이 확률분포 \r\n",
    "$Bernoulli\\ Distribution\\ = X \\sim Ber(p)$\r\n",
    "- *`~` symbol in LaTeX : \\sim*\r\n",
    "\r\n",
    "$$P(x) = p^{x}(1-p)^{1-x}$$\r\n",
    "\r\n",
    "- 동전을 던지는 경우처럼 결과가 이분법적인 상황이다.\r\n",
    "    - 예) T/F, 1/0, 비가 온다/오지 않는다, 주식이 오른다/오르지않는다\r\n",
    "    - $P$와 $1-P$는 반비례한다.\r\n",
    "- 이항 분포의 모수\r\n",
    "    - 평균 : $p$\r\n",
    "    - 분산 : $p(1-p)$"
   ],
   "metadata": {}
  },
  {
   "cell_type": "markdown",
   "source": [
    "### 이산확률분포 : 이항확률분포\r\n",
    "$Binomial\\ Distribution\\ =\\ X \\sim Bin(n, p)$\r\n",
    "$$P(x) = (^{n}_{x})p^{x}(1-p)^{n-x}$$\r\n",
    "\r\n",
    "- 이항분포에서\r\n",
    "    - n : 시행 횟수\r\n",
    "    - p : 확률\r\n",
    "\r\n",
    "베르누이 확률변수를 n개 더해서 만든다.\r\n",
    "\r\n",
    "- $X_{Ber}\\ +\\ X_{Ber}\\ +\\ \\cdots X_{Ber} \\neq X_{Ber} * n$ \r\n",
    "    - $because$ 더하는 경우는 각각 진행된 시행을 합한 값이므로 모든 시행이 독립적인데 곱하게 되면 동일한 시행을 여러번 하는 경우가 되기 때문.\r\n",
    "    - 확률은 그냥 수가 아니다. 시행의 결과를 수치로 변환한 값임을 유념해야 한다.\r\n",
    "- 이항분포의 모수\r\n",
    "    - 평균 : $np$\r\n",
    "        - 시행횟수 * 가중평균\r\n",
    "    - 분산 : $np(1-p)$ "
   ],
   "metadata": {}
  },
  {
   "cell_type": "markdown",
   "source": [
    "# 연속확률분포 / 확률밀도함수\r\n",
    "continuous random variable / probability density\r\n",
    "\r\n",
    "- 특정 구간에 속할 확률을 표현\r\n",
    "- 연속확률분포는 그 자체로 확률이 아니다. 연속확률분포를 이용해 구한 확률밀도함수의 값이 확률이다.\r\n",
    "    - 특정 지점에서의 연속 확률 분포는 0이므로 의미가 없지만\r\n",
    "    - 특정 구간 (실수 구간) 에서의 확률분포는 계산이 가능하므로 의미가 있다.\r\n",
    "- 조건\r\n",
    "    1. $f(x)$가 연속확률 분포라고 할 때 $0 \\leq f(x)$\r\n",
    "    2. $f(x)$가 정의된 구간에서의 면적  == 1\r\n",
    "        - 이 조건에서 수식들이 대부분 유도 된다."
   ],
   "metadata": {}
  },
  {
   "cell_type": "markdown",
   "source": [
    "연속확률분포함수 유형별 용도 \r\n",
    "\r\n",
    "명칭 | 활용 |\r\n",
    "-|-\r\n",
    "정규분포| 대표본 구간 추정, 대표본 평균 추론 (가설검정)\r\n",
    "스튜던트 t 분포 | 소표본 구간 추정, 소표본 평균 추론 (가설검정), 선형회귀 계수 추론 (가설 검정)\r\n",
    "카이제곱 분포 | 가설검정 : 분산추론, 범주형 자료를 정리한 도수표 추론, 분할표 추론\r\n",
    "F 분포 | 가설검정 : 분산의 차이 비교 추론, 선형회귀식의 설명력 추론 / 다수의 집단의 평균 비교 추론 (ANOVA)\r\n",
    "\r\n",
    "- 연속균등분포도 있지만 특별한 활용처가 없다."
   ],
   "metadata": {}
  },
  {
   "cell_type": "markdown",
   "source": [
    "### 연속확률분포 : 연속균등분포 (Uniform)"
   ],
   "metadata": {}
  },
  {
   "cell_type": "markdown",
   "source": [
    "그래프의 높이가 연속적이고 균등하다 "
   ],
   "metadata": {}
  },
  {
   "cell_type": "code",
   "execution_count": 2,
   "source": [
    "x = np.linspace(1, 10, 100)\r\n",
    "uni = sp.stats.uniform(loc=2, scale=1)\r\n",
    "pdf = uni.pdf(x)\r\n",
    "plt.plot(x, pdf)\r\n",
    "\r\n",
    "# pdf : probability density function, 확률 밀도함수"
   ],
   "outputs": [
    {
     "output_type": "execute_result",
     "data": {
      "text/plain": [
       "[<matplotlib.lines.Line2D at 0x1ec7e3aa0d0>]"
      ]
     },
     "metadata": {},
     "execution_count": 2
    },
    {
     "output_type": "display_data",
     "data": {
      "text/plain": [
       "<Figure size 432x288 with 1 Axes>"
      ],
      "image/png": "[encoded data removed]"
     },
     "metadata": {
      "needs_background": "light"
     }
    }
   ],
   "metadata": {}
  },
  {
   "cell_type": "markdown",
   "source": [
    "**모수**\r\n",
    "> 면적이 1이라는 조건을 지켜야 한다는 조건 하에 계산된 공식 \r\n",
    "\r\n",
    "- 확률밀도 : $f(X) = \\frac{1}{(b-a)}$\r\n",
    "- 평균 : $\\frac{1}{2}(a+b)$ \r\n",
    "- 분산 : $\\frac{1}{12}(b-a)^{2}$ \r\n",
    "- 표준편차 : $\\frac{1}{\\sqrt{2}}(b-a)$ \r\n",
    "\r\n",
    "확률 밀도가 균등하므로 (x축과 평행이므로) 확률은 주어진 구간의 폭 $x_{2}-x_{1}$에 비례한다. ($\\because$ 높이 일정)"
   ],
   "metadata": {}
  },
  {
   "cell_type": "markdown",
   "source": [
    "**표기** \r\n",
    "\r\n",
    "$X \\sim Unif(a,b)$"
   ],
   "metadata": {}
  },
  {
   "cell_type": "markdown",
   "source": [
    "**누적확률함수** Cumulative Density Function (CDF)\r\n",
    "\r\n",
    "확률분포가 각졌기 때문에 CDF도 각졌다\r\n",
    "\r\n",
    "연속균등분포의 누적확률 CDF는 구간 $[a, x]$ 에서의 $f(x)$ 아래의 면적과 같다.\r\n",
    "\r\n",
    "$CDF(x) = P(X \\lq x)$ 이다."
   ],
   "metadata": {}
  },
  {
   "cell_type": "code",
   "execution_count": 3,
   "source": [
    "cdf = uni.cdf(x)\r\n",
    "plt.plot(x, cdf)"
   ],
   "outputs": [
    {
     "output_type": "execute_result",
     "data": {
      "text/plain": [
       "[<matplotlib.lines.Line2D at 0x1ec7e480400>]"
      ]
     },
     "metadata": {},
     "execution_count": 3
    },
    {
     "output_type": "display_data",
     "data": {
      "text/plain": [
       "<Figure size 432x288 with 1 Axes>"
      ],
      "image/png": "[encoded data removed]"
     },
     "metadata": {
      "needs_background": "light"
     }
    }
   ],
   "metadata": {}
  },
  {
   "cell_type": "code",
   "execution_count": 6,
   "source": [
    "plt.plot(x, pdf)\r\n",
    "plt.plot(x, cdf)\r\n",
    "plt.xlim(1, 5)\r\n",
    "plt.show()"
   ],
   "outputs": [
    {
     "output_type": "display_data",
     "data": {
      "text/plain": [
       "<Figure size 432x288 with 1 Axes>"
      ],
      "image/png": "[encoded data removed]"
     },
     "metadata": {
      "needs_background": "light"
     }
    }
   ],
   "metadata": {}
  },
  {
   "cell_type": "markdown",
   "source": [
    "### 연속확률분포 : 정규분포 Normal\r\n",
    "\r\n",
    "- 식 암기하는편이 낫다.\r\n",
    "\r\n",
    "$$f(x) = \\frac{1}{\\sigma \\sqrt{e \\pi}} e^{\\frac{(x-\\mu)^{2}}{2 \\sigma^{2}}}$$"
   ],
   "metadata": {}
  },
  {
   "cell_type": "markdown",
   "source": [
    "- $\\mu$ : 평균 \r\n",
    "    - 정규분포 그래프는 $\\mu$ 를 기준으로 분포된다.\r\n",
    "    - 양수, 음수 모두 가능\r\n",
    "- $\\sigma$ : 모양 O 폭 X \r\n",
    "    - $\\sigma$ 가 커지면 폭이 커진 **모양의 그래프**가 그려진다.\r\n",
    "    - 어떤 양수라도 될 수 있다."
   ],
   "metadata": {}
  },
  {
   "cell_type": "markdown",
   "source": [
    "### 연속확률분포 : 표준정규분포 Standard Normal\r\n",
    "$\\mu$가 0이고 $\\sigma$가 1일때 <font color=orange>**표준정규분포**</font>라고 한다. \r\n",
    "- special한 경우 중 하나\r\n",
    "\r\n",
    "**표기** \r\n",
    "\r\n",
    "$Z \\sim N(0, 1)$"
   ],
   "metadata": {}
  },
  {
   "cell_type": "code",
   "execution_count": 17,
   "source": [
    "x = np.linspace(-10, 10, 100)\r\n",
    "norm = sp.stats.norm(loc = 0, scale = 1)    # loc : 기댓값, scale : 표준편차\r\n",
    "pdf = norm.pdf(x)\r\n",
    "plt.plot(x, pdf)\r\n",
    "plt.xlabel(\"$x$\")\r\n",
    "plt.ylabel(\"$p(x)$\")\r\n",
    "plt.title(\"normal distribution probability density function\")"
   ],
   "outputs": [
    {
     "output_type": "execute_result",
     "data": {
      "text/plain": [
       "Text(0.5, 1.0, 'normal distribution probability density function')"
      ]
     },
     "metadata": {},
     "execution_count": 17
    },
    {
     "output_type": "display_data",
     "data": {
      "text/plain": [
       "<Figure size 432x288 with 1 Axes>"
      ],
      "image/png": "[encoded data removed]"
     },
     "metadata": {
      "needs_background": "light"
     }
    }
   ],
   "metadata": {}
  },
  {
   "cell_type": "code",
   "execution_count": 18,
   "source": [
    "x = np.linspace(-10, 10, 100)\r\n",
    "norm = sp.stats.norm(loc = 0, scale = 1)    # loc : 기댓값, scale : 표준편차\r\n",
    "cdf = norm.cdf(x)\r\n",
    "plt.plot(x, cdf)\r\n",
    "plt.xlabel(\"$x$\")\r\n",
    "plt.ylabel(\"$p(x)$\")\r\n",
    "plt.title(\"normal distribution cummulative density function\")"
   ],
   "outputs": [
    {
     "output_type": "execute_result",
     "data": {
      "text/plain": [
       "Text(0.5, 1.0, 'normal distribution cummulative density function')"
      ]
     },
     "metadata": {},
     "execution_count": 18
    },
    {
     "output_type": "display_data",
     "data": {
      "text/plain": [
       "<Figure size 432x288 with 1 Axes>"
      ],
      "image/png": "[encoded data removed]"
     },
     "metadata": {
      "needs_background": "light"
     }
    }
   ],
   "metadata": {}
  },
  {
   "cell_type": "markdown",
   "source": [
    "표준정규분포의 누적확률함수 cdf는 sigmoid를 닮았다.\r\n"
   ],
   "metadata": {}
  },
  {
   "cell_type": "markdown",
   "source": [
    "### 정규분포 : 표준화 Standardization\r\n",
    "\r\n",
    "정규확률 분포를 표준정규확률변수로 변환하는 과정.\r\n",
    "\r\n",
    "$$X \\sim N(\\mu, \\sigma^{2})\\ \\rightarrow Z \\sim N(0,1)$$\r\n",
    "\r\n",
    "표준화를 거치면 $X$가 $Z$로 변화하며 $Z$로 표준화 된 값 $X$를 <font color=orange>$z-score$</font>, 표준점수 라고 부른다.\r\n",
    "- 머신러닝 전처리에서 사용\r\n",
    "\r\n",
    "$$z-score = \\frac{x - \\mu}{\\sigma}$$"
   ],
   "metadata": {}
  },
  {
   "cell_type": "markdown",
   "source": [
    "이 반대도 가능하다. 표준정규분포 확률변수 $Z$를 정규분포 $N(\\mu, \\sigma^{2})$를 따르는 확률변수로 변환할 수 있다.\r\n",
    "$$X = \\sigma Z + \\mu$$"
   ],
   "metadata": {}
  },
  {
   "cell_type": "code",
   "execution_count": null,
   "source": [],
   "outputs": [],
   "metadata": {}
  },
  {
   "cell_type": "markdown",
   "source": [],
   "metadata": {}
  },
  {
   "cell_type": "markdown",
   "source": [],
   "metadata": {}
  },
  {
   "cell_type": "markdown",
   "source": [
    "**분위수**\r\n",
    "\r\n",
    "- 구간추정 신뢰구간찾고 가설 검정에서 채택력, 기각력을 설정 할 수 있다.     \r\n",
    "    - 추론통계\r\n",
    "        - 반대 : 기술통계 (기술하다, 서술하다의 기술)\r\n"
   ],
   "metadata": {}
  },
  {
   "cell_type": "markdown",
   "source": [],
   "metadata": {}
  }
 ]
}