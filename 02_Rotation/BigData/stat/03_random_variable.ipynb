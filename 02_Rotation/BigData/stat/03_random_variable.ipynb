{
 "metadata": {
  "language_info": {
   "codemirror_mode": {
    "name": "ipython",
    "version": 3
   },
   "file_extension": ".py",
   "mimetype": "text/x-python",
   "name": "python",
   "nbconvert_exporter": "python",
   "pygments_lexer": "ipython3",
   "version": 3
  },
  "orig_nbformat": 4
 },
 "nbformat": 4,
 "nbformat_minor": 2,
 "cells": [
  {
   "source": [
    "# 확률변수\n",
    "\n",
    "random variable"
   ],
   "cell_type": "markdown",
   "metadata": {}
  },
  {
   "source": [
    "- 확률변수 : 확률 실험의 각 결과에 실수를 부여\n",
    "\n",
    "- 확률변수의 값은 **하나의 수치로 나타낸** 사건이다.\n",
    "    - 동전을 던지는 실험에서 앞이 나오면 1, 뒤가 나오면 0\n",
    "\n",
    "- 유형\n",
    "    1. 이산확률변수 discrete random variable\n",
    "        - 셀 수 있는 가지수를 나타낸다.\n",
    "        - 주로 정수로 표현\n",
    "        - 한정적인 가짓수의 값이다.\n",
    "        - 주사위를 던져서 나오는 눈의 수 ({1, 2, 3, 4, 5, 6})\n",
    "    2. 연속확률변수 continuous random variable\n",
    "        - 셀 수 없는 가지수를 나타낸다.\n",
    "        - 주로 실수로 표현\n",
    "            - 구간보다는 구간을 무한대로 쪼갠다는 것이 중요 \n",
    "        - 셀 수 없는 가짓수의 값이다.\n",
    "        - 1년 연봉, 성인 남성의 신장 등\n",
    "    \n",
    "- 표기\n",
    "    - 확률변수 : 영문 대문자\n",
    "    - 확률변수의 **값** : 영문 소문자\n",
    "    - 확률변수 X의 값이 x일 확률 : $P(X=x)$ or $P(x)$"
   ],
   "cell_type": "markdown",
   "metadata": {}
  },
  {
   "source": [
    "# 이산확률분포함수 \n",
    "discrete probability distribution\n",
    "\n",
    "- 이산확률변수가 가지는 값 및 이것과 확률 사이의 **대응관계**\n",
    "- 이산확률분포 그 자체로 확률이다.\n",
    "\n",
    "\n",
    "- 조건\n",
    "    1. $0 \\leq < P(x) \\leq 1$\n",
    "        - $\\because$ 이산확률은 실제 일어난 일과 그렇지 않은 일로 구별되기 때문\n"
   ],
   "cell_type": "markdown",
   "metadata": {}
  },
  {
   "source": [
    "# 연속확률분포 / 확률밀도함수\n",
    "continuous random variable / probability density\n",
    "\n",
    "- 특정 구간에 속할 확률을 표현\n",
    "- 연속확률분포는 그 자체로 확률이 아니다. 연속확률분포를 이용해 구한 확률밀도함수의 값이 확률이다.\n",
    "- "
   ],
   "cell_type": "markdown",
   "metadata": {}
  }
 ]
}