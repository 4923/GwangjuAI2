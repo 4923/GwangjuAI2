{
  "nbformat": 4,
  "nbformat_minor": 0,
  "metadata": {
    "colab": {
      "name": "py_06-데이터수집1.ipynb",
      "provenance": [],
      "collapsed_sections": []
    },
    "kernelspec": {
      "name": "python3",
      "display_name": "Python 3.8.8 64-bit ('base': conda)"
    },
    "interpreter": {
      "hash": "b3ba2566441a7c06988d0923437866b63cedc61552a5af99d1f4fb67d367b25f"
    }
  },
  "cells": [
    {
      "cell_type": "markdown",
      "metadata": {
        "id": "q2xPSyFFlJon"
      },
      "source": [
        "# 데이터수집"
      ]
    },
    {
      "cell_type": "markdown",
      "metadata": {
        "id": "eVWfdbr1lWJ8"
      },
      "source": [
        "### 수집 데이터 형태\n",
        "\n",
        "* 정형 – 일정한 규격에 맞춰서 구성된 데이터 (어떠한 역할을 알고 있는 데이터)\n",
        "    * 관계형 데이터베이스 시스템의 테이블과 같이 고정된 컬럼에 저장되는 데이터 파일 등이 될 수 있다.  \n",
        "    즉, 구조화 된 데이터가 정형 데이터  (표로 된 데이터)\n",
        "\n",
        "* 반정형 – 일정한 규격으로 구성되어 있지 않지만 일정한 틀을 갖추기 위해서 태그나 인덱스형태로 구성된 데이터\n",
        "    * 연산이 불가능한 데이터\n",
        "        ex) XML. HTML, JSON 등\n",
        "        - HTML은 화면에 보여주기에는 좋지만 데이터로 사용하기에는 불편하다.\n",
        "\n",
        "* 비정형 – 구조화 되지 않는 형태의 데이터 (정형과 반대로 어떠한 역할인지 알수 없는 데이터)\n",
        "    * 형태가 없으며, 연산도 불가능한 데이터\n",
        "        ex) SNS, 영상, 이미지, 음성, 텍스트 등\n",
        "\n",
        "\n",
        "우리가 주로 수집할 데이터들은 반정형 혹은 비정형 데이터라고 보면 된다.\n"
      ]
    },
    {
      "cell_type": "markdown",
      "metadata": {
        "id": "FCJ2BBYrTEUO"
      },
      "source": [
        "### 스크레이핑, 크롤링\n",
        "- Scraping: 웹 사이트의 특정 정보를 추출하는 것. 웹 데이터의 구조 분석이 필요\n",
        "    - 로그인이 필요한 경우가 많다\n",
        "    - `BeautifulSoup4`\n",
        "- Crawling: 프로그램이 웹사이트를 정기적으로 돌며 정보를 추출하는 것 (이러한 프로그램을 bot, 지능형 에이전트, 크롤러, 스파이더라고 한다)\n",
        "    - 자동으로 돌아가는 프로그램 \n",
        "    - `Selenium`\n",
        "\n"
      ]
    },
    {
      "cell_type": "markdown",
      "metadata": {
        "id": "fE4nVnnenZUH"
      },
      "source": [
        "### 웹 크롤러 (Web Crawler)\n",
        "\n",
        "* 인터넷에 있는 웹 페이지로 이동해서 데이터를 수집하는 프로그램\n",
        "* 크롤러 = 스크래퍼, 봇, 지능 에이전트, 스파이더 등으로 불림\n"
      ]
    },
    {
      "cell_type": "markdown",
      "metadata": {
        "id": "Y9qnoGTtn8RE"
      },
      "source": [
        "### 웹 크롤링을 위해 알아둘 것\n",
        "\n",
        "* Web 구조\n",
        "  - 네트워크 구조?\n",
        "    - 중앙 집중식 vs P2P (peer 2 peer)\n",
        "      - 중앙 집중식 : CoLab 처럼 중앙에 서버가 있는 것\n",
        "      - P2P : 여러명이 다 연결된 구소\n",
        "  - 클라이언트와 서버 \n",
        "    * 클라이언트 = 서버에 정보 또는 서비스를 요청하는 컴퓨터/소프트웨어/사용자 \n",
        "      - ex) **웹브라우저**\n",
        "      - 요청패킷\n",
        "    * 서버 = 정보를 보관하고 클라이언트가 요청한 정보 서비스를 제공해주는 컴퓨터/소프트웨어 \n",
        "      - ex) 영상, 파일, 채팅, 게임, 웹서버\n",
        "      - 응답패킷\n",
        "    - 클라이언트가 요청패킷(주소)를 요청하면 서버는 응답패킷을 제공한다.\n",
        "\n",
        "* URL 구조\n",
        "  * ex) http://192.168.0.10:9000/WebProject?msg=Hello\n",
        "  * `http` : 프로토콜, 웹 문서를 교환하기 위한 규칙\n",
        "  * `192.168.0.10` : 주소 또는 IP, 모든 컴퓨터에는 IP 주소가 있다.\n",
        "    - DNS라는 서버 : Domain Name Service\n",
        "    - 도메인 주소 (ex: google.com) 를 입력하면 IP주소를 준다.\n",
        "  * `9000` : 포트번호\n",
        "    - 한 컴퓨터에 통신 서비스를 여러개 올릴 수 있다.\n",
        "    - 통신 서비스를 포트 번호로 구분한다.\n",
        "  * `WebProject` : 리소스 경로 (파일명)\n",
        "    - router라는 기능으로 이름을 정해두면 다른 파일로 매칭해준다.\n",
        "  * `?msg=Hello` : 쿼리스트링\n",
        "    - 쿼리? : 요청\n",
        "    - 함수에 파라미터를 넣는 것과 비슷하다.\n",
        "    - message에 Hello를 넣는다. (`=`)\n",
        "    - 전체의 길이는 256자? 또는 255자\n",
        "    - 서버에서 사용한다.\n",
        "\n",
        "* 데이터 전송 방식\n",
        "  * GET, POST (등)\n",
        "  - GET : 주소에서 모든 것을 넣는 방식\n",
        "    - 전부 노출된다. 우편엽서 같은 방식\n",
        "  - POST : 포장하여 안에 있는 것을 노출하지 않는다.\n",
        "    - 파일 등을 전송할 때\n",
        "    - 비밀번호처럼 숨겨야 할 때\n",
        "\n",
        "* 패킷(Packet) 형식\n",
        "  - 서버 개발에서 : 패킷을 어떻게 설계하는지가 중요하다.\n",
        "  * 요청패킷:\n",
        "    클라이언트에서 필요한 헤더 Key/Value를 세팅한 후 요청, 전달\n",
        "  * 응답패킷:\n",
        "    서버에 필요한 Key/Value를 세팅한 후, 응답, 전달\n",
        "\n"
      ]
    },
    {
      "cell_type": "markdown",
      "metadata": {
        "id": "5NWkyzepvcJI"
      },
      "source": [
        "* 웹 페이지 구성 3요소\n",
        "  * HTML, CSS, Javascript [참고](w3schools.com)\n",
        "  * HTML: Tag, Element, Attribute, Content\n",
        "    - 문서의 구조를 만들 때 사용\n",
        "    - `<`, `>` : 태그\n",
        "      - body tag : `<body></body>` 표현해야 할 내용\n",
        "    - content : 태그와 태그 사이에 들어가는 내용\n",
        "  * CSS : 선택자 { 스타일 속성 : 스타일 값; }\n",
        "    - 선택자(셀렉터) : tag, id, class\n",
        "    - 디자인 요소 저장\n",
        "    - 세미콜론으로 구분하고, dictionary처럼 key값과 value값으로 나뉜다.\n",
        "  * Javascript :Web Page에서 어떤 동작에 대한 반응이 일어날 수 있도록 해주는 언어\n",
        "    - 브라우저에서 기본으로 제공하는 언어 (다른 언어는 플러그인 설치가 필수)\n",
        "    \n",
        "- DOM (Document Object Model) : 문서를 객체로 조작하기 위한 표준 모델. HTML 문서를 객체로 표현할 때 사용하는 API\n",
        "\n",
        "* 데이터 추출 방법\n",
        "  * 웹 페이지를 방문하고 크롤링하려는 단어나 문구를 검색하여 찾아낸 정보를 수집하여 기록\n",
        "  * 이때 파일로 기록해서 저장하거나 데이터베이스에 저장 (저장하는 과정에서 단어나 문구와 연관된 결과 값에 인덱스를 부여)\n",
        "\n",
        "  * 웹 크롤링을 위한 라이브러리\n",
        "  * requests: 접근할 웹 페이지의 데이터를 \n",
        "  요청/응답받기 위한 라이브러리\n",
        "  * BeautifulSoup : 응답받은 데이터 중 원하는 데이터를 추출하기 위한 라이브러리\n",
        "\n",
        "\n"
      ]
    },
    {
      "source": [
        "- requests가 가장 많이 쓰인다."
      ],
      "cell_type": "markdown",
      "metadata": {}
    },
    {
      "cell_type": "markdown",
      "metadata": {
        "id": "glcn8kXhnQOq"
      },
      "source": [
        "### urllib 사용법\n",
        "- url 관련 데이터를 처리하는 라이브러리\n",
        "- http 또는 ftp를 사용해 데이터를 다운로드 받는데 사용\n",
        "\n",
        "#### 웹에서 파일 다운로드하기"
      ]
    },
    {
      "cell_type": "code",
      "metadata": {
        "id": "PSGC5zeS5cca"
      },
      "source": [],
      "execution_count": null,
      "outputs": []
    },
    {
      "cell_type": "markdown",
      "metadata": {
        "id": "6O8oT7pnTEUZ"
      },
      "source": [
        "#### urlopen() 사용법\n",
        "- 위의 urlretrive()는 데이터를 파일에 바로 저장하였다.\n",
        "- urlopen()을 사용하면 데이터를 파이선에서 읽을 수 있다."
      ]
    },
    {
      "cell_type": "code",
      "metadata": {
        "id": "qyxpVEzk5gmA"
      },
      "source": [],
      "execution_count": null,
      "outputs": []
    },
    {
      "cell_type": "markdown",
      "metadata": {
        "id": "hWd3azS6TEUb"
      },
      "source": [
        "#### 웹 API 이용하기\n",
        "- 클라이언트정보를 보여주는 샘플 api 사이트 접속"
      ]
    },
    {
      "cell_type": "code",
      "metadata": {
        "id": "3F6iq9kL5nLV"
      },
      "source": [],
      "execution_count": null,
      "outputs": []
    },
    {
      "cell_type": "markdown",
      "metadata": {
        "id": "_6XeIA6WTEUc"
      },
      "source": [
        "####  GET  요청을 사용하여 파라미터를 보내는 경우\n",
        "- URL 끝 부분에 ?를 입력하고 key = value 형식으로 매개변수를 추가한다. 여러개의 파라미터를 넣는 경우 &를 사용하여 구분한다\n",
        "- 한글 등이 파라미터로 사용될 때는 반드시 이러한 코딩을 해주어야 한다\n",
        "\n",
        "#### 키보드에서 파라미터를 입력받는 방법"
      ]
    },
    {
      "cell_type": "code",
      "metadata": {
        "id": "Xv8euI5n5qh7"
      },
      "source": [],
      "execution_count": null,
      "outputs": []
    },
    {
      "cell_type": "markdown",
      "metadata": {
        "id": "Oy2QOvjJTc7I"
      },
      "source": [
        "# 스크레이핑"
      ]
    },
    {
      "cell_type": "markdown",
      "metadata": {
        "id": "MyAa3r0eTYXn"
      },
      "source": [
        "### 웹에서 원하는 정보를 추출하는 것\n",
        "- HTML과 XML 문서에서 정보를 추출할 수 있다"
      ]
    },
    {
      "cell_type": "markdown",
      "metadata": {
        "id": "bXX2CxHQJPyB"
      },
      "source": [
        "### BeautifulSoup 라이브러리\n",
        "\n",
        "HTML 문자열을 파이썬에서 사용 가능한 객체로 변환\n",
        "\n",
        "BeautifulSoup( markup, parser )\n",
        "\n",
        "* markup : requests로 요청/응답 받은 변수\n",
        "* parser : 원시 코드인 순수 문자열 객체를 해석할 수 있도록 분석  \n",
        " - 문자열을 파이썬에서 사용할 수 있도록 해석해주는 프로그램 (lxml, html.parser, html5lib)\n",
        "\n",
        "\n",
        "데이터를 추출하기 위한 속성\n",
        "\n",
        "|속성|설명|\n",
        "|-|-|\n",
        "|text|하위 태그에 대한 값 전부 출력|\n",
        "|string|정확히 태그에 대한 값만 출력|\n",
        "\n",
        "원하는 요소 접근하는 메소드\n",
        "\n",
        "|메소드|설명|\n",
        "|-|-|\n",
        "|find(tag),\n",
        " find(tag, id=값),\n",
        " find(tag, class=값), \n",
        " find(tag, attr{속성:속성값})|원하는 태그를 하나만 반환|\n",
        "|find_all(),\n",
        " find_all(tag, limit=숫자)|원하는 태그를 리스트 형태로 반환|\n",
        "|select(CSS Selector)|CSS Selector를 활용하여 원하는 태그를 리스트 형태로 반환|\n",
        "|extract()|태그를 지우는 기능|\n",
        "\n"
      ]
    },
    {
      "cell_type": "code",
      "metadata": {
        "id": "zsmJP1H4TYXv",
        "outputId": "aa666f4f-f35e-482e-b6f6-4768dbf96bbf"
      },
      "source": [
        "# !pip3 install beautifulsoup4"
      ],
      "execution_count": null,
      "outputs": [
        {
          "output_type": "stream",
          "text": [
            "Requirement already satisfied: beautifulsoup4 in /Users/hwa-jongkim/anaconda3/lib/python3.6/site-packages (4.6.3)\n",
            "\u001b[33mYou are using pip version 18.0, however version 19.0.2 is available.\n",
            "You should consider upgrading via the 'pip install --upgrade pip' command.\u001b[0m\n"
          ],
          "name": "stdout"
        }
      ]
    },
    {
      "cell_type": "code",
      "metadata": {
        "id": "ID1btHQC5tTF"
      },
      "source": [],
      "execution_count": null,
      "outputs": []
    },
    {
      "cell_type": "markdown",
      "metadata": {
        "id": "jEJEP0s4TYXy"
      },
      "source": [
        "#### id 를 사용하는 방법\n",
        "- 위와 같이 내부 구조를 일일이 파악하고 코딩하는 것은 복잡하다\n",
        "- find()를 사용하여 간단히 원하는 항목을 찾을 수 있다"
      ]
    },
    {
      "cell_type": "code",
      "metadata": {
        "id": "mxvP4Qtr5vEh"
      },
      "source": [],
      "execution_count": null,
      "outputs": []
    },
    {
      "cell_type": "markdown",
      "metadata": {
        "id": "AZP0W51QTYXz"
      },
      "source": [
        "#### find_all()을 이용하는 경우"
      ]
    },
    {
      "cell_type": "code",
      "metadata": {
        "id": "BEGdBZ-h5wYZ"
      },
      "source": [],
      "execution_count": null,
      "outputs": []
    },
    {
      "cell_type": "markdown",
      "metadata": {
        "id": "ZIwp3Z8dTYX0"
      },
      "source": [
        "### DOM 요소 파악하기\n",
        "- Document Object Model: XML이나 HTML 요소에 접근하는 구조를 나타낸다\n",
        "- DOM 요소의 속성이란 태그 뒤에 나오는 속성을 말한다 <a> 태그의 속성은 href이다"
      ]
    },
    {
      "cell_type": "code",
      "metadata": {
        "id": "Kl347_E75yPj"
      },
      "source": [],
      "execution_count": null,
      "outputs": []
    },
    {
      "cell_type": "markdown",
      "metadata": {
        "id": "RG3l7SJaTYX3"
      },
      "source": [
        "### urlopen() 사용 하기"
      ]
    },
    {
      "cell_type": "code",
      "metadata": {
        "id": "SmQ7Kcvf5zR0"
      },
      "source": [],
      "execution_count": null,
      "outputs": []
    },
    {
      "cell_type": "markdown",
      "metadata": {
        "id": "hMTAvq5OTYX4"
      },
      "source": [
        "### CSS 선택자 사용하기\n",
        "- CSS 선택자를 사용해서 원하는 요소를 추출할 수 있다.\n",
        "- h1 과 li 태그를 추출하는 코드"
      ]
    },
    {
      "cell_type": "code",
      "metadata": {
        "id": "wI_D22jU51Ob"
      },
      "source": [],
      "execution_count": null,
      "outputs": []
    },
    {
      "cell_type": "markdown",
      "metadata": {
        "id": "cU1NUnemTYX5"
      },
      "source": [
        "### CSS 자세히 알아보기\n",
        "- 웹 페이지의 검사 메뉴를 선택 (우측 버튼)\n",
        "- 특정 태그를 선택하고 다시 우측 버튼을 누르고 Copy - Copy selector를 선택하면 CSS 선택자가 클립보드에 저장된다 (아래 예시)\n",
        "\n",
        "#mw-content-text > div > ul:nth-child(6) > li > b > a\n",
        "\n",
        "- 위에서 nth-child(6)은 6번째에 있는 요소를 가리킨다\n",
        "- 이를 기반으로 작품목록을 가져오는 프로그램을 작성하겠다.\n"
      ]
    },
    {
      "cell_type": "code",
      "metadata": {
        "id": "E2xsmK_554LZ"
      },
      "source": [],
      "execution_count": null,
      "outputs": []
    },
    {
      "cell_type": "markdown",
      "metadata": {
        "id": "VRZ6pS5JTYX6"
      },
      "source": [
        "### CSS를 활용하는 방법 외에 re (정규표현식)을 사용하여 필요한 데이터를 추출할 수 있다"
      ]
    },
    {
      "cell_type": "code",
      "metadata": {
        "id": "47EtcLYt56F6"
      },
      "source": [
        "import re   # regular expression 이라 re\n",
        "import requests as req "
      ],
      "execution_count": 1,
      "outputs": []
    },
    {
      "cell_type": "code",
      "execution_count": 2,
      "metadata": {},
      "outputs": [],
      "source": [
        "text = req.get(\"https://www.google.com/\").text "
      ]
    },
    {
      "cell_type": "code",
      "execution_count": 4,
      "metadata": {},
      "outputs": [
        {
          "output_type": "execute_result",
          "data": {
            "text/plain": [
              "['gbh style=left:0',\n",
              " 'gbh style=right:0',\n",
              " '\"ds\" style=\"height:32px;margin:4px 0\"><div style=\"position:relative;zoom:1\"><input class=\"lst tiah\" style=\"margin:0;padding:5px 8px 0 6px;vertical-align:top;color:#000;padding-right:38px\" autocomplete=\"off\" value=\"\" title=\"Google &#44160;&#49353;\" maxlength=\"2048\" name=\"q\" size=\"57\"><img src=\"/textinputassistant/tia.png\" style=\"position:absolute;cursor:pointer;right:5px;top:4px;z-index:300\" data-script-url=\"/textinputassistant/11/ko_tia.js\" id=\"tsuid1\" alt=\"\" height=\"23\" width=\"27\"><script nonce=\"lQjx8ptPpezv6e5sX9sVsQ==\">(function(){var id=\\'tsuid1\\';document.getElementById(id).onclick = function(){var s = document.createElement(\\'script\\');s.src = this.getAttribute(\\'data-script-url\\');(document.getElementById(\\'xjsc\\')||document.body).appendChild(s);};})();</script']"
            ]
          },
          "metadata": {},
          "execution_count": 4
        }
      ],
      "source": [
        "re.findall('<div class=(.*?)></div>', text)      # ('expression', text), <div class=(~)></div> 가 공통된 부분 추출"
      ]
    },
    {
      "cell_type": "markdown",
      "metadata": {
        "id": "M3vONhwOJglF"
      },
      "source": [
        "## 네이버에서 정보처리기사 검색 후 파워링크 부분 가져오기"
      ]
    },
    {
      "source": [
        "![powerlink](img/crawl_naver_powerlink.png)"
      ],
      "cell_type": "markdown",
      "metadata": {
        "id": "il51az-C586R"
      }
    },
    {
      "cell_type": "markdown",
      "metadata": {
        "id": "jAYUH1wpJglH"
      },
      "source": [
        "# 뉴스페이지 스크레이핑\n"
      ]
    },
    {
      "cell_type": "code",
      "metadata": {
        "id": "DcfBudI_6Aiz"
      },
      "source": [],
      "execution_count": null,
      "outputs": []
    }
  ]
}