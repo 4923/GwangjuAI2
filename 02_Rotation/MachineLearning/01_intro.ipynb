{
 "cells": [
  {
   "cell_type": "markdown",
   "metadata": {},
   "source": [
    "## Machine Learning"
   ]
  },
  {
   "cell_type": "code",
   "execution_count": 1,
   "metadata": {},
   "outputs": [
    {
     "data": {
      "text/plain": [
       "'2.3.0'"
      ]
     },
     "execution_count": 1,
     "metadata": {},
     "output_type": "execute_result"
    }
   ],
   "source": [
    "import tensorflow as tf \r\n",
    "tf.__version__"
   ]
  },
  {
   "cell_type": "code",
   "execution_count": 2,
   "metadata": {},
   "outputs": [
    {
     "data": {
      "text/plain": [
       "[name: \"/device:CPU:0\"\n",
       " device_type: \"CPU\"\n",
       " memory_limit: 268435456\n",
       " locality {\n",
       " }\n",
       " incarnation: 7657225362557780988]"
      ]
     },
     "execution_count": 2,
     "metadata": {},
     "output_type": "execute_result"
    }
   ],
   "source": [
    "from tensorflow.python.client import device_lib\r\n",
    "device_lib.list_local_devices()"
   ]
  },
  {
   "cell_type": "markdown",
   "metadata": {},
   "source": [
    "GPU 설정을 해야하는데 CPU만 확인돼서 우선 코드는 로컬에서 짜고 돌리는 부분만 코랩에서 하기로 했다.  \r\n",
    "아직 GPU 다룰만큼 복잡한 작업을 하지는 않을 것 같다."
   ]
  },
  {
   "cell_type": "markdown",
   "metadata": {},
   "source": [
    "## Teachable Machine\r\n",
    "\r\n",
    "1. 개요 : 코딩없이 머신러닝 모델을 구현하는 방법 중 하나. 구글에서 개발한 서비스다.\r\n",
    "2. 모델 공유 : 모델을 내보낼 때 Tensorflow.js, Tensorflow, Tensorflow.Lite로 내보낼 수 있다.\r\n",
    "    - Tensorflow.js : 브라우저 기반 프로젝트\r\n",
    "        + 웹에서 구현할 수 있도록 만든 모델로, 클라우드에 업로드하여 링크를 생성할 수 있다. 최근에는 js로도 모델을 개발할 수 있게 되었다고 한다.\r\n",
    "    - Tensorflow : 네이티브 Tensorflow\r\n",
    "        + 일반적인 Tensorflow 파일이다. \r\n",
    "    - Tensorflow.Lite : 모바일 기반 프로젝트"
   ]
  },
  {
   "cell_type": "markdown",
   "metadata": {},
   "source": [
    "### Pose Tournament 21.06.29\r\n",
    "1. 3개에서 5개의 클래스를 만들어 모델을 훈련시킨다.\r\n",
    "2. 다음 강의에서 해당 모델이 무엇을 훈련시킨것인지 맞히면 맞힌 팀의 승리, 맞히지 못하면 모델 개발팀의 승리.\r\n",
    "3. 이 때 의도한 바와 다른 자세에서 95% 이상의 정확도 점수가 나온다면 모델 개발팀이 감점 또는 패배한다.\r\n"
   ]
  },
  {
   "cell_type": "markdown",
   "metadata": {},
   "source": [
    "목적 : 모델의 정확도를 높이기 위해 **어떤 데이터**를 넣어야 하는지 고민해본다.\r\n",
    "+ 포즈 기반이라 손발과 구체적인 자세를 인식하게 하는것이 어려웠는데, 이 부분은 데이터의 문제가 아닌 것 같아 넘기기로 했다.\r\n",
    "+ 뒷배경과 몸을 구분하지 못하는 경우가 있는데, 이 부분 역시 다양한 배경에서 같은 사람이 같은 자세를 취한 데이터를 입력해야 해결될 문제 같다.\r\n",
    "+ 여러 환경에서 공통된 타겟 (식별을 원하는 대상) 을 데이터로 넣어야 하는데, 이를 위해서는 여러 사람이 같은 포즈를 하는 것으로 해결할 수 있을 것 같다. (이번에는 시도하지 못했음)"
   ]
  }
 ],
 "metadata": {
  "interpreter": {
   "hash": "74fd4a83763ff9d33eb8c7d90f5978b6232a18d570c7d5902a5874efbf77fdde"
  },
  "kernelspec": {
   "display_name": "Python 3.8.10 64-bit ('tf2_py38': conda)",
   "name": "python3"
  },
  "language_info": {
   "name": "python",
   "version": ""
  },
  "orig_nbformat": 4
 },
 "nbformat": 4,
 "nbformat_minor": 2
}