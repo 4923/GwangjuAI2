{
  "nbformat": 4,
  "nbformat_minor": 0,
  "metadata": {
    "colab": {
      "name": "py_06-데이터수집2.ipynb",
      "provenance": [],
      "collapsed_sections": []
    },
    "kernelspec": {
      "name": "python3",
      "display_name": "Python 3"
    }
  },
  "cells": [
    {
      "cell_type": "markdown",
      "metadata": {
        "id": "q2xPSyFFlJon"
      },
      "source": [
        "# 데이터수집"
      ]
    },
    {
      "cell_type": "markdown",
      "metadata": {
        "id": "iGW7CUJjwACY"
      },
      "source": [
        "목표\n",
        "\n",
        "* Dynamic/Static Page의 차이\n",
        "* Selenium을 활용하여 동적 Web Page를 조작\n",
        "* Selenium과 bs4를 활용하여 데이터를 수집"
      ]
    },
    {
      "cell_type": "markdown",
      "metadata": {
        "id": "eVWfdbr1lWJ8"
      },
      "source": [
        "### 수집 데이터 형태\n",
        "\n",
        "* 정형 – 일정한 규격에 맞춰서 구성된 데이터 (어떠한 역할을 알고 있는 데이터)\n",
        " * 관계형 데이터베이스 시스템의 테이블과 같이 고정된 컬럼에 저장되는 데이터 파일 등이 될 수 있다.\n",
        "     즉, 구조화 된 데이터가 정형 데이터\n",
        "\n",
        "* 반정형 – 일정한 규격으로 구성되어 있지 않지만 일정한 틀을 갖추기 위해서 태그나 인덱스형태로 구성된 데이터\n",
        " * 연산이 불가능한 데이터\n",
        "     ex) XML. HTML, JSON 등\n",
        "\n",
        "* 비정형 – 구조화 되지 않는 형태의 데이터 (정형과 반대로 어떠한 역할인지 알수 없는 데이터)\n",
        " * 형태가 없으며, 연산도 불가능한 데이터\n",
        "     ex) SNS, 영상, 이미지, 음성, 텍스트 등\n",
        "\n",
        "\n",
        "우리가 주로 수집할 데이터들은 반정형 혹은 비정형 데이터라고 보면 된다.\n"
      ]
    },
    {
      "cell_type": "markdown",
      "metadata": {
        "id": "FCJ2BBYrTEUO"
      },
      "source": [
        "### 스크레이핑, 크롤링\n",
        "- Scraping: 웹 사이트의 특정 정보를 추출하는 것. 웹 데이터의 구조 분석이 필요\n",
        "- 로그인이 필요한 경우가 많다\n",
        "- Crawling: 프로그램이 웹사이트를 정기적으로 돌며 정보를 추출하는 것 (이러한 프로그램을 크롤러, 스파이더라고 한다)\n",
        "\n"
      ]
    },
    {
      "cell_type": "markdown",
      "metadata": {
        "id": "fE4nVnnenZUH"
      },
      "source": [
        "## 웹 크롤러 (Web Crawler)\n",
        "\n",
        "* 인터넷에 있는 웹 페이지로 이동해서 데이터를 수집하는 프로그램\n",
        "* 크롤러 = 스크래퍼, 봇, 지능 에이전트, 스파이더 등으로 불림\n"
      ]
    },
    {
      "cell_type": "markdown",
      "metadata": {
        "id": "BJRq3zXbohX5"
      },
      "source": [
        "### Selenium 라이브러리\n",
        "\n",
        "* 웹 페이지를 테스트(제어)하기 위한 자동 테스팅 모듈\n",
        "\n",
        "+ [Selenium with Python](https://selenium-python.readthedocs.io/index.html)\n",
        "+ [Selenium Documentation](https://www.selenium.dev/documentation/en/)\n"
      ]
    },
    {
      "cell_type": "markdown",
      "metadata": {
        "id": "ndQEFyzyTnFs"
      },
      "source": [
        "selenium 설치 & 크롬드라이버 설치\n",
        "\n",
        "* 크롤러와 웹 브라우저를 연결시켜 주기 위한 웹 드라이버 설치"
      ]
    },
    {
      "cell_type": "code",
      "metadata": {
        "id": "EruI3YQvQFae"
      },
      "source": [
        "# 설치(20.08 코랩 기준)\n",
        "!pip install Selenium\n",
        "!apt-get update # to update ubuntu to correctly run apt install\n",
        "!apt install chromium-chromedriver"
      ],
      "execution_count": null,
      "outputs": []
    },
    {
      "cell_type": "code",
      "metadata": {
        "id": "bf12zF0-VZkA"
      },
      "source": [
        "# 한글 폰트 설치\n",
        "!apt-get install -y fonts-nanum*"
      ],
      "execution_count": null,
      "outputs": []
    },
    {
      "cell_type": "markdown",
      "metadata": {
        "id": "KAs5GwAuTRqK"
      },
      "source": [
        "selenium 설정"
      ]
    },
    {
      "cell_type": "code",
      "metadata": {
        "colab": {
          "base_uri": "https://localhost:8080/"
        },
        "id": "8ItQT1vpQNbE",
        "outputId": "2e2bd63c-c7fb-4431-8d22-466916b3265c"
      },
      "source": [
        "from selenium import webdriver\n",
        "\n",
        "chrome_options = webdriver.ChromeOptions()\n",
        "chrome_options.add_argument('--headless') #내부 창을 띄울 수 없으므로 설정\n",
        "chrome_options.add_argument('--no-sandbox')\n",
        "chrome_options.add_argument('--disable-dev-shm-usage')\n",
        "\n",
        "# Chrome 드라이버 생성 후 Browser 객체 반환 \n",
        "wd = webdriver.Chrome('chromedriver', chrome_options=chrome_options)"
      ],
      "execution_count": null,
      "outputs": [
        {
          "output_type": "stream",
          "text": [
            "/usr/local/lib/python3.7/dist-packages/ipykernel_launcher.py:7: DeprecationWarning: use options instead of chrome_options\n",
            "  import sys\n"
          ],
          "name": "stderr"
        }
      ]
    },
    {
      "cell_type": "markdown",
      "metadata": {
        "id": "NGNvk8s8TT9m"
      },
      "source": [
        "selenium으로 크롬 브라우저 웹 사이트 접근"
      ]
    },
    {
      "cell_type": "code",
      "metadata": {
        "id": "H9Q_p_8kT0K7"
      },
      "source": [
        "# 해당 URL로 브라우저 실행\n"
      ],
      "execution_count": null,
      "outputs": []
    },
    {
      "cell_type": "code",
      "metadata": {
        "id": "kpTykMvQQ-Db"
      },
      "source": [
        "# 검색한 사이트 이미지로 저장\n"
      ],
      "execution_count": null,
      "outputs": []
    },
    {
      "cell_type": "markdown",
      "metadata": {
        "id": "yaBJ1QdKTcJW"
      },
      "source": [
        "원하는 태그 찾기\n",
        "\n",
        "요소검사를 진행해서 id나 class 또는 태그명을 확인\n",
        "* driver.find_element_by_css_selector (단수)\n",
        "* driver.find_elements_by_css_selector (복수)"
      ]
    },
    {
      "cell_type": "markdown",
      "metadata": {
        "id": "C78l9jtGQSYr"
      },
      "source": [
        "요소 접근 함수(Element Access Founction)\n",
        "\n",
        "|단일 객체 반환 함수 <br>(find()과 같은 형태로 반환) | 리스트 반환 함수 <br>(find_all()과 같은 형태로 반환)|\n",
        "|-|-|\n",
        "|find_element_by_id<br>find_element_by_class_name<br>find_element_by_css_selector<br>find_element_tag_name<br>find_element_name<br>find_element_by_link | find_elements_by_id<br>find_elements_by_class_name<br>find_elements_by_css_selector<br>find_elements_tag_name<br>find_elements_name<br>find_elements_by_link|"
      ]
    },
    {
      "cell_type": "code",
      "metadata": {
        "id": "lMaTiccqnwne"
      },
      "source": [
        "import urllib\n",
        "from urllib.request import urlopen\n",
        "from urllib.parse import quote_plus\n",
        "from bs4 import BeautifulSoup as bs\n",
        "from selenium.webdriver.common.keys import Keys\n",
        "import time"
      ],
      "execution_count": null,
      "outputs": []
    },
    {
      "cell_type": "code",
      "metadata": {
        "id": "CoPQYGMbaGzP"
      },
      "source": [
        "url = 'https://search.naver.com/search.naver?where=image&sm=tab_jum&query='\n"
      ],
      "execution_count": null,
      "outputs": []
    },
    {
      "cell_type": "code",
      "metadata": {
        "id": "7byEU8c76UKv"
      },
      "source": [
        ""
      ],
      "execution_count": null,
      "outputs": []
    },
    {
      "cell_type": "markdown",
      "metadata": {
        "id": "KURvYFrODXuL"
      },
      "source": [
        "### 네이버 검색"
      ]
    },
    {
      "cell_type": "code",
      "metadata": {
        "id": "Idj2YTayiQmq"
      },
      "source": [
        "from selenium import webdriver as wb\n",
        "from selenium.webdriver.common.keys import Keys"
      ],
      "execution_count": null,
      "outputs": []
    },
    {
      "cell_type": "code",
      "metadata": {
        "colab": {
          "base_uri": "https://localhost:8080/"
        },
        "id": "t_fjgMz9FQjn",
        "outputId": "a280d783-f88b-49a9-93fe-f725786f38f1"
      },
      "source": [
        "chrome_options = webdriver.ChromeOptions()\n",
        "chrome_options.add_argument('--headless') #내부 창을 띄울 수 없으므로 설정\n",
        "chrome_options.add_argument('--no-sandbox')\n",
        "chrome_options.add_argument('--disable-dev-shm-usage')\n",
        "\n",
        "wd = wb.Chrome('chromedriver', chrome_options=chrome_options)"
      ],
      "execution_count": null,
      "outputs": [
        {
          "output_type": "stream",
          "text": [
            "/usr/local/lib/python3.7/dist-packages/ipykernel_launcher.py:6: DeprecationWarning: use options instead of chrome_options\n",
            "  \n"
          ],
          "name": "stderr"
        }
      ]
    },
    {
      "cell_type": "code",
      "metadata": {
        "id": "KqfD4aBQ6X9q"
      },
      "source": [
        ""
      ],
      "execution_count": null,
      "outputs": []
    },
    {
      "cell_type": "markdown",
      "metadata": {
        "id": "Rg7209YTiQms"
      },
      "source": [
        "### 뉴스 제목, 내용가져오기"
      ]
    },
    {
      "cell_type": "code",
      "metadata": {
        "collapsed": true,
        "id": "qnwQ4eRTiQms"
      },
      "source": [
        "from selenium import webdriver as wb\n",
        "from selenium.webdriver.common.keys import Keys\n",
        "from bs4 import BeautifulSoup as bs\n",
        "import time\n",
        "import pandas as pd\n",
        "import requests as req"
      ],
      "execution_count": null,
      "outputs": []
    },
    {
      "cell_type": "code",
      "metadata": {
        "colab": {
          "base_uri": "https://localhost:8080/"
        },
        "id": "jbFirf4eH6oQ",
        "outputId": "ff76a450-6fe0-42b2-bf61-c66a01a0f8d6"
      },
      "source": [
        "chrome_options = webdriver.ChromeOptions()\n",
        "chrome_options.add_argument('--headless') #내부 창을 띄울 수 없으므로 설정\n",
        "chrome_options.add_argument('--no-sandbox')\n",
        "chrome_options.add_argument('--disable-dev-shm-usage')\n",
        "\n",
        "driver = wb.Chrome('chromedriver', chrome_options=chrome_options)"
      ],
      "execution_count": null,
      "outputs": [
        {
          "output_type": "stream",
          "text": [
            "/usr/local/lib/python3.7/dist-packages/ipykernel_launcher.py:6: DeprecationWarning: use options instead of chrome_options\n",
            "  \n"
          ],
          "name": "stderr"
        }
      ]
    },
    {
      "cell_type": "code",
      "metadata": {
        "collapsed": true,
        "id": "QpOzF4qwiQmt"
      },
      "source": [
        "url = 'https://news.naver.com/main/read.nhn?mode=LSD&mid=shm&sid1=105&oid=018&aid=0004171212'\n",
        "\n"
      ],
      "execution_count": null,
      "outputs": []
    },
    {
      "cell_type": "markdown",
      "metadata": {
        "id": "TkbmUP_GiQmu"
      },
      "source": [
        "### 네이버 실시간 검색어 가져오기"
      ]
    },
    {
      "cell_type": "code",
      "metadata": {
        "collapsed": true,
        "id": "mf0y-6CNiQmu"
      },
      "source": [
        "url = 'https://www.naver.com/'\n",
        "\n"
      ],
      "execution_count": null,
      "outputs": []
    },
    {
      "cell_type": "markdown",
      "metadata": {
        "id": "YD5TmzLGiQmv"
      },
      "source": [
        "### 구글에서 검색어 입력한 후 웹 페이지 결과 띄우기"
      ]
    },
    {
      "cell_type": "markdown",
      "metadata": {
        "id": "TIFvdITYRfav"
      },
      "source": [
        "웹 제어 함수 (Web Control Function)\n",
        "\n",
        "1. 마우스 제어\n",
        " * 클릭 요소 : driver.find_element_by_css_selector().click()\n",
        " * submit 타입요소 : driver.find_element_by_css_selector().submit()\n",
        "\n",
        "2. 키보드 제어\n",
        " * driver.find_element_by_css_selector().send_keys(text)\n",
        " * Ex1) input 태그에 ‘크롤링’을 입력할 때\n",
        "   -> driver.find_element_by_css_selector().send_keys(“크롤링”)\n",
        " * Ex2) 키보드의 특수키 중 Enter를 입력할 경우\n",
        "   -> driver.find_element_by_css_selector().send_keys(Keys.ENTER)\n"
      ]
    },
    {
      "cell_type": "code",
      "metadata": {
        "id": "PzxLtHO-iQmv"
      },
      "source": [
        "url = 'http://www.google.com'\n"
      ],
      "execution_count": null,
      "outputs": []
    },
    {
      "cell_type": "markdown",
      "metadata": {
        "id": "2A79xNdfiQmw"
      },
      "source": [
        "### 한솥도시락의 이름,가격 정보 수집"
      ]
    },
    {
      "cell_type": "code",
      "metadata": {
        "collapsed": true,
        "id": "yG7-e5wviQmw"
      },
      "source": [
        "from selenium import webdriver as wb\n",
        "from bs4 import BeautifulSoup as bs\n",
        "import time\n",
        "import pandas as pd"
      ],
      "execution_count": null,
      "outputs": []
    },
    {
      "cell_type": "code",
      "metadata": {
        "id": "1o5388SwiQmx"
      },
      "source": [
        "url = 'https://www.hsd.co.kr/menu/menu_list'\n",
        "\n"
      ],
      "execution_count": null,
      "outputs": []
    },
    {
      "cell_type": "code",
      "metadata": {
        "id": "aG7VGT0e6l86"
      },
      "source": [
        ""
      ],
      "execution_count": null,
      "outputs": []
    },
    {
      "cell_type": "markdown",
      "metadata": {
        "id": "mVAmjzGcSHz4"
      },
      "source": [
        "lunchBox_info.csv로 저장"
      ]
    },
    {
      "cell_type": "code",
      "metadata": {
        "id": "AHu2lAI66p0N"
      },
      "source": [
        ""
      ],
      "execution_count": null,
      "outputs": []
    },
    {
      "cell_type": "markdown",
      "metadata": {
        "id": "A5n6kAbhQsFd"
      },
      "source": [
        "### 스타벅스 매장 지점명, 주소, 번호 정보 수집"
      ]
    },
    {
      "cell_type": "code",
      "metadata": {
        "id": "rZ19O4P6QsFk"
      },
      "source": [
        "from selenium import webdriver as wb\n",
        "from bs4 import BeautifulSoup as bs\n",
        "import time\n",
        "import pandas as pd"
      ],
      "execution_count": null,
      "outputs": []
    },
    {
      "cell_type": "code",
      "metadata": {
        "id": "ZOmrQe7OQsFl"
      },
      "source": [
        "url = 'http://www.istarbucks.co.kr/store/store_map.do'\n"
      ],
      "execution_count": null,
      "outputs": []
    },
    {
      "cell_type": "markdown",
      "metadata": {
        "id": "NXyS0rFWQsFp"
      },
      "source": [
        "#### 스타벅스 모든 음료 정보 가져오기"
      ]
    },
    {
      "cell_type": "code",
      "metadata": {
        "id": "veBY4YmpQsFp"
      },
      "source": [
        "url = 'http://www.istarbucks.co.kr/menu/index.do'\n"
      ],
      "execution_count": null,
      "outputs": []
    },
    {
      "cell_type": "markdown",
      "metadata": {
        "id": "i26Ckk7JQsFt"
      },
      "source": [
        "### 웹 페이지 스크롤링\n",
        "\n",
        "* Keys.PAGE_DOWN 활용"
      ]
    },
    {
      "cell_type": "code",
      "metadata": {
        "collapsed": true,
        "id": "yI8VFT6MQsFu"
      },
      "source": [
        "from selenium import webdriver\n",
        "from selenium.webdriver.common.keys import Keys\n",
        "from bs4 import BeautifulSoup as bs\n",
        "import pandas as pd\n",
        "import time"
      ],
      "execution_count": null,
      "outputs": []
    },
    {
      "cell_type": "code",
      "metadata": {
        "collapsed": true,
        "id": "nxTM6x3HQsFu"
      },
      "source": [
        "url = 'https://www.google.com/search?source=hp&ei=-QZ1W6XKH4ui8AWe6oOgAQ&q=%EB%B9%85%EB%8D%B0%EC%9D%B4%ED%84%B0&oq=%EB%B9%85%EB%8D%B0%EC%9D%B4%ED%84%B0&gs_l=psy-ab.3..0l10.3446.6828.0.6945.11.9.0.1.1.0.178.797.1j5.6.0....0...1c.1j4.64.psy-ab..6.5.589...0i131k1j0i10k1.0.onTVEC6H7No'\n"
      ],
      "execution_count": null,
      "outputs": []
    },
    {
      "cell_type": "markdown",
      "metadata": {
        "id": "-839eJrFQsFu"
      },
      "source": [
        "### 유튜브 정보 수집\n",
        "\n",
        "* 영상제목 / 영상주소 / 조회수 "
      ]
    },
    {
      "cell_type": "code",
      "metadata": {
        "collapsed": true,
        "id": "n7D7Ik-rQsFv"
      },
      "source": [
        "url_main = 'https://www.youtube.com'\n",
        "url_sub = '/results?search_query='\n",
        "query = '머신러닝'\n"
      ],
      "execution_count": null,
      "outputs": []
    },
    {
      "cell_type": "code",
      "metadata": {
        "collapsed": true,
        "id": "CSCEfFyIQsFw"
      },
      "source": [
        ""
      ],
      "execution_count": null,
      "outputs": []
    }
  ]
}