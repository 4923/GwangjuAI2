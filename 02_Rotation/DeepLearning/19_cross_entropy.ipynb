{
 "cells": [
  {
   "cell_type": "markdown",
   "source": [
    "# Information Theory\r\n",
    "\r\n",
    "[참고](https://www.youtube.com/watch?v=d3iyDP3_AjU)"
   ],
   "metadata": {}
  },
  {
   "cell_type": "markdown",
   "source": [
    "클로드 섀넌이 제시한 '정보량'이라는 개념과 관계된다."
   ],
   "metadata": {}
  },
  {
   "cell_type": "markdown",
   "source": [],
   "metadata": {}
  },
  {
   "cell_type": "markdown",
   "source": [],
   "metadata": {}
  },
  {
   "cell_type": "markdown",
   "source": [
    "# Cross Entropy"
   ],
   "metadata": {}
  },
  {
   "cell_type": "markdown",
   "source": [],
   "metadata": {}
  }
 ],
 "metadata": {
  "orig_nbformat": 4,
  "language_info": {
   "name": "python"
  }
 },
 "nbformat": 4,
 "nbformat_minor": 2
}