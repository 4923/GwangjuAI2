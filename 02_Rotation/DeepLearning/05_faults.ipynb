{
 "metadata": {
  "language_info": {
   "codemirror_mode": {
    "name": "ipython",
    "version": 3
   },
   "file_extension": ".py",
   "mimetype": "text/x-python",
   "name": "python",
   "nbconvert_exporter": "python",
   "pygments_lexer": "ipython3",
   "version": "3.8.8"
  },
  "orig_nbformat": 4,
  "kernelspec": {
   "name": "python3",
   "display_name": "Python 3.8.8 64-bit ('base': conda)"
  },
  "interpreter": {
   "hash": "b3ba2566441a7c06988d0923437866b63cedc61552a5af99d1f4fb67d367b25f"
  }
 },
 "nbformat": 4,
 "nbformat_minor": 2,
 "cells": [
  {
   "cell_type": "code",
   "execution_count": 60,
   "metadata": {},
   "outputs": [
    {
     "output_type": "stream",
     "name": "stdout",
     "text": [
      "<class 'pandas.core.frame.DataFrame'>\nRangeIndex: 1941 entries, 0 to 1940\nData columns (total 34 columns):\n #   Column                 Non-Null Count  Dtype  \n---  ------                 --------------  -----  \n 0   X_Minimum              1941 non-null   int64  \n 1   X_Maximum              1941 non-null   int64  \n 2   Y_Minimum              1941 non-null   int64  \n 3   Y_Maximum              1941 non-null   int64  \n 4   Pixels_Areas           1941 non-null   int64  \n 5   X_Perimeter            1941 non-null   int64  \n 6   Y_Perimeter            1941 non-null   int64  \n 7   Sum_of_Luminosity      1941 non-null   int64  \n 8   Minimum_of_Luminosity  1941 non-null   int64  \n 9   Maximum_of_Luminosity  1941 non-null   int64  \n 10  Length_of_Conveyer     1941 non-null   int64  \n 11  TypeOfSteel_A300       1941 non-null   int64  \n 12  TypeOfSteel_A400       1941 non-null   int64  \n 13  Steel_Plate_Thickness  1941 non-null   int64  \n 14  Edges_Index            1941 non-null   float64\n 15  Empty_Index            1941 non-null   float64\n 16  Square_Index           1941 non-null   float64\n 17  Outside_X_Index        1941 non-null   float64\n 18  Edges_X_Index          1941 non-null   float64\n 19  Edges_Y_Index          1941 non-null   float64\n 20  Outside_Global_Index   1941 non-null   float64\n 21  LogOfAreas             1941 non-null   float64\n 22  Log_X_Index            1941 non-null   float64\n 23  Log_Y_Index            1941 non-null   float64\n 24  Orientation_Index      1941 non-null   float64\n 25  Luminosity_Index       1941 non-null   float64\n 26  SigmoidOfAreas         1941 non-null   float64\n 27  Pastry                 1941 non-null   int64  \n 28  Z_Scratch              1941 non-null   int64  \n 29  K_Scatch               1941 non-null   int64  \n 30  Stains                 1941 non-null   int64  \n 31  Dirtiness              1941 non-null   int64  \n 32  Bumps                  1941 non-null   int64  \n 33  Other_Faults           1941 non-null   int64  \ndtypes: float64(13), int64(21)\nmemory usage: 515.7 KB\n"
     ]
    }
   ],
   "source": [
    "import pandas as pd\n",
    "import numpy as np\n",
    "\n",
    "df = pd.read_csv('./dataset/dataset/faults.csv')\n",
    "df.info()"
   ]
  },
  {
   "cell_type": "code",
   "execution_count": 61,
   "metadata": {},
   "outputs": [
    {
     "output_type": "stream",
     "name": "stdout",
     "text": [
      "df_dataset.shape :  (1941, 7)\n<class 'pandas.core.frame.DataFrame'>\nRangeIndex: 1941 entries, 0 to 1940\nData columns (total 7 columns):\n #   Column                 Non-Null Count  Dtype  \n---  ------                 --------------  -----  \n 0   X_Minimum              1941 non-null   int64  \n 1   X_Maximum              1941 non-null   int64  \n 2   Steel_Plate_Thickness  1941 non-null   int64  \n 3   LogOfAreas             1941 non-null   float64\n 4   Pastry                 1941 non-null   int64  \n 5   Z_Scratch              1941 non-null   int64  \n 6   Bumps                  1941 non-null   int64  \ndtypes: float64(1), int64(6)\nmemory usage: 106.3 KB\nNone\n"
     ]
    }
   ],
   "source": [
    "df_dataset = df[['X_Minimum','X_Maximum','Steel_Plate_Thickness','LogOfAreas',\n",
    "                 'Pastry','Z_Scratch','Bumps']]\n",
    "print(\"df_dataset.shape : \", df_dataset.shape)\n",
    "print(df_dataset.info())"
   ]
  },
  {
   "cell_type": "code",
   "execution_count": 62,
   "metadata": {},
   "outputs": [],
   "source": [
    "df_dataset = np.asarray(df_dataset, dtype='float32')"
   ]
  },
  {
   "cell_type": "code",
   "execution_count": 63,
   "metadata": {},
   "outputs": [
    {
     "output_type": "stream",
     "name": "stdout",
     "text": [
      "df_dataset_x : \n [[42.     50.     80.      2.4265]]\ndf_dataset_x.shape :  (1, 4)\ndf_dataset_y :  [[1. 0. 0.]]\ndf_dataset_y.shape :  (1, 3)\n"
     ]
    }
   ],
   "source": [
    "df_dataset_x = df_dataset[0:1, :-3]\n",
    "df_dataset_y = df_dataset[0:1, -3:]\n",
    "\n",
    "print(\"df_dataset_x : \\n\", df_dataset_x)\n",
    "print(\"df_dataset_x.shape : \", df_dataset_x.shape)\n",
    "print(\"df_dataset_y : \", df_dataset_y)\n",
    "print(\"df_dataset_y.shape : \", df_dataset_y.shape)"
   ]
  },
  {
   "source": [
    "용어 재정의\n",
    "- $\\theta_{0}$  : bias\n",
    "- $\\theta_{1}$ : weight\n",
    "\n"
   ],
   "cell_type": "markdown",
   "metadata": {}
  },
  {
   "cell_type": "code",
   "execution_count": 64,
   "metadata": {},
   "outputs": [
    {
     "output_type": "stream",
     "name": "stdout",
     "text": [
      "weight.shape : (4, 3)\nbias.shape : (3,)\n"
     ]
    }
   ],
   "source": [
    "RND_STD = 1\n",
    "RND_MEAN = 0 \n",
    "\n",
    "# 독립변수와 종속변수의 개수를 값으로 명시\n",
    "input_cnt = df_dataset_x.shape[-1]      # 4\n",
    "output_cnt = df_dataset_y.shape[-1]     # 3\n",
    "# df_dataset_x.shape  # (1, 4)\n",
    "# df_dataset_y.shape  # (1, 3)\n",
    "\n",
    "weight = np.random.normal(RND_MEAN, RND_STD, size = [input_cnt, output_cnt])\n",
    "bias = np.random.normal(RND_MEAN, RND_STD, size = [output_cnt])\n",
    "\n",
    "print(f\"weight.shape : {weight.shape}\")     # (4, 3)\n",
    "print(f\"bias.shape : {bias.shape}\")     # (4, 3)"
   ]
  },
  {
   "cell_type": "code",
   "execution_count": 65,
   "metadata": {},
   "outputs": [
    {
     "output_type": "stream",
     "name": "stdout",
     "text": [
      "df_dataset_x : \n [[42.     50.     80.      2.4265]]\nweight : \n [[-0.12642799 -1.00977785 -0.86826677]\n [ 0.39894234  0.68350081 -0.63732268]\n [-0.63891916  1.35129303  1.16548603]\n [ 1.47240778 -0.14597245 -1.32445284]]\nbias : \n [1.51772814 0.14019126 1.21974359]\n"
     ]
    }
   ],
   "source": [
    "print(\"df_dataset_x : \\n\", df_dataset_x)\n",
    "print(\"weight : \\n\", weight)    # 독립변수 네개니까 weight도 네개가 필요하다.\n",
    "print(\"bias : \\n\", bias)"
   ]
  },
  {
   "source": [
    "df_dataset_x의 1행 1열과 weight의 1열을 곱한 후 bias를 더한다.\n",
    "\n",
    "- 행렬곱을 위한 함수 : np.matmul"
   ],
   "cell_type": "markdown",
   "metadata": {}
  },
  {
   "cell_type": "code",
   "execution_count": 66,
   "metadata": {},
   "outputs": [
    {
     "output_type": "stream",
     "name": "stdout",
     "text": [
      "-31.38586566564822 99.65380226995862 22.9115029918579\n====================\n[[-31.38586567  99.65380227  22.91150299]]\n"
     ]
    }
   ],
   "source": [
    "# weight[:, 0] == : 로 전체 행을 가져와서 가져온 행의 첫번째 열만 추출하겠다.\n",
    "P_1 = np.matmul(df_dataset_x[0], weight[:, 0]) + bias[0]\n",
    "P_2 = np.matmul(df_dataset_x[0], weight[:, 1]) + bias[1]    # 입력값은 하나뿐이므로 바꿀 수 없다. (다른 weight와 연산)\n",
    "P_3 = np.matmul(df_dataset_x[0], weight[:, 2]) + bias[2]\n",
    "\n",
    "P_total = np.matmul(df_dataset_x, weight) + bias \n",
    "\n",
    "print(P_1, P_2, P_3)\n",
    "print(\"=\" * 20)\n",
    "print(P_total)"
   ]
  },
  {
   "cell_type": "code",
   "execution_count": 67,
   "metadata": {},
   "outputs": [
    {
     "output_type": "stream",
     "name": "stdout",
     "text": [
      "df_dataset_x : [[42.     50.     80.      2.4265]]\ndf_dataset_x.shape : (1, 4)\n\ndf_dataset_x[0] : [42.     50.     80.      2.4265]\ndf_dataset_x[0].shape : (4,)\n"
     ]
    }
   ],
   "source": [
    "print(f\"df_dataset_x : {df_dataset_x}\")     # metrics\n",
    "print(f\"df_dataset_x.shape : {df_dataset_x.shape}\\n\")\n",
    "\n",
    "print(f\"df_dataset_x[0] : {df_dataset_x[0]}\")   # vector\n",
    "print(f\"df_dataset_x[0].shape : {df_dataset_x[0].shape}\")"
   ]
  },
  {
   "source": [
    "### (Model) Parameter\n",
    "\n",
    "적절한 weight와 bias를 찾기 위해 경사하강법을 적용하는데, 이 때의 weight와 bias를 `Parameter`라고 한다.\n",
    "\n",
    "### Hyper Parameter\n",
    "\n",
    "Learning Rate(lr), Epoch, STD 등 고정되어있는 값을 `Hyper Parameter`라고 한다.\n",
    "\n",
    "### "
   ],
   "cell_type": "markdown",
   "metadata": {}
  },
  {
   "source": [
    "<img alt= \"process (back, forward propagation)\" src=img/process.png>"
   ],
   "cell_type": "markdown",
   "metadata": {}
  },
  {
   "cell_type": "code",
   "execution_count": 68,
   "metadata": {},
   "outputs": [
    {
     "output_type": "stream",
     "name": "stdout",
     "text": [
      "<class 'pandas.core.frame.DataFrame'>\nRangeIndex: 10 entries, 0 to 9\nData columns (total 7 columns):\n #   Column                 Non-Null Count  Dtype\n---  ------                 --------------  -----\n 0   X_Minimum              10 non-null     int64\n 1   Y_Minimum              10 non-null     int64\n 2   Pixels_Areas           10 non-null     int64\n 3   Steel_Plate_Thickness  10 non-null     int64\n 4   Pastry                 10 non-null     int64\n 5   Z_Scratch              10 non-null     int64\n 6   K_Scatch               10 non-null     int64\ndtypes: int64(7)\nmemory usage: 688.0 bytes\n"
     ]
    },
    {
     "output_type": "display_data",
     "data": {
      "text/plain": "   X_Minimum  Y_Minimum  Pixels_Areas  Steel_Plate_Thickness  Pastry  \\\n0         42     270900           267                     80       1   \n1       1084     185575           108                     40       0   \n2       1109    1170194           130                    175       0   \n3        190     210936           132                    150       1   \n4        330     429227           264                    150       1   \n5         74     779144          1506                    150       1   \n6         51     585861           139                     70       0   \n7        397     604478           444                     70       0   \n8         43     366881          4048                     40       0   \n9         48     377537          3985                     40       0   \n\n   Z_Scratch  K_Scatch  \n0          0         0  \n1          0         1  \n2          1         0  \n3          0         0  \n4          0         0  \n5          0         0  \n6          1         0  \n7          1         0  \n8          0         1  \n9          0         1  ",
      "text/html": "<div>\n<style scoped>\n    .dataframe tbody tr th:only-of-type {\n        vertical-align: middle;\n    }\n\n    .dataframe tbody tr th {\n        vertical-align: top;\n    }\n\n    .dataframe thead th {\n        text-align: right;\n    }\n</style>\n<table border=\"1\" class=\"dataframe\">\n  <thead>\n    <tr style=\"text-align: right;\">\n      <th></th>\n      <th>X_Minimum</th>\n      <th>Y_Minimum</th>\n      <th>Pixels_Areas</th>\n      <th>Steel_Plate_Thickness</th>\n      <th>Pastry</th>\n      <th>Z_Scratch</th>\n      <th>K_Scatch</th>\n    </tr>\n  </thead>\n  <tbody>\n    <tr>\n      <th>0</th>\n      <td>42</td>\n      <td>270900</td>\n      <td>267</td>\n      <td>80</td>\n      <td>1</td>\n      <td>0</td>\n      <td>0</td>\n    </tr>\n    <tr>\n      <th>1</th>\n      <td>1084</td>\n      <td>185575</td>\n      <td>108</td>\n      <td>40</td>\n      <td>0</td>\n      <td>0</td>\n      <td>1</td>\n    </tr>\n    <tr>\n      <th>2</th>\n      <td>1109</td>\n      <td>1170194</td>\n      <td>130</td>\n      <td>175</td>\n      <td>0</td>\n      <td>1</td>\n      <td>0</td>\n    </tr>\n    <tr>\n      <th>3</th>\n      <td>190</td>\n      <td>210936</td>\n      <td>132</td>\n      <td>150</td>\n      <td>1</td>\n      <td>0</td>\n      <td>0</td>\n    </tr>\n    <tr>\n      <th>4</th>\n      <td>330</td>\n      <td>429227</td>\n      <td>264</td>\n      <td>150</td>\n      <td>1</td>\n      <td>0</td>\n      <td>0</td>\n    </tr>\n    <tr>\n      <th>5</th>\n      <td>74</td>\n      <td>779144</td>\n      <td>1506</td>\n      <td>150</td>\n      <td>1</td>\n      <td>0</td>\n      <td>0</td>\n    </tr>\n    <tr>\n      <th>6</th>\n      <td>51</td>\n      <td>585861</td>\n      <td>139</td>\n      <td>70</td>\n      <td>0</td>\n      <td>1</td>\n      <td>0</td>\n    </tr>\n    <tr>\n      <th>7</th>\n      <td>397</td>\n      <td>604478</td>\n      <td>444</td>\n      <td>70</td>\n      <td>0</td>\n      <td>1</td>\n      <td>0</td>\n    </tr>\n    <tr>\n      <th>8</th>\n      <td>43</td>\n      <td>366881</td>\n      <td>4048</td>\n      <td>40</td>\n      <td>0</td>\n      <td>0</td>\n      <td>1</td>\n    </tr>\n    <tr>\n      <th>9</th>\n      <td>48</td>\n      <td>377537</td>\n      <td>3985</td>\n      <td>40</td>\n      <td>0</td>\n      <td>0</td>\n      <td>1</td>\n    </tr>\n  </tbody>\n</table>\n</div>"
     },
     "metadata": {}
    }
   ],
   "source": [
    "df = pd.read_csv('dataset/dataset/faults_mini.csv')\n",
    "df.info()\n",
    "display(df)"
   ]
  },
  {
   "cell_type": "code",
   "execution_count": 69,
   "metadata": {},
   "outputs": [
    {
     "output_type": "stream",
     "name": "stdout",
     "text": [
      "<class 'numpy.ndarray'>\n[[4.200000e+01 2.709000e+05 2.670000e+02 8.000000e+01 1.000000e+00\n  0.000000e+00 0.000000e+00]\n [1.084000e+03 1.855750e+05 1.080000e+02 4.000000e+01 0.000000e+00\n  0.000000e+00 1.000000e+00]\n [1.109000e+03 1.170194e+06 1.300000e+02 1.750000e+02 0.000000e+00\n  1.000000e+00 0.000000e+00]\n [1.900000e+02 2.109360e+05 1.320000e+02 1.500000e+02 1.000000e+00\n  0.000000e+00 0.000000e+00]\n [3.300000e+02 4.292270e+05 2.640000e+02 1.500000e+02 1.000000e+00\n  0.000000e+00 0.000000e+00]\n [7.400000e+01 7.791440e+05 1.506000e+03 1.500000e+02 1.000000e+00\n  0.000000e+00 0.000000e+00]\n [5.100000e+01 5.858610e+05 1.390000e+02 7.000000e+01 0.000000e+00\n  1.000000e+00 0.000000e+00]\n [3.970000e+02 6.044780e+05 4.440000e+02 7.000000e+01 0.000000e+00\n  1.000000e+00 0.000000e+00]\n [4.300000e+01 3.668810e+05 4.048000e+03 4.000000e+01 0.000000e+00\n  0.000000e+00 1.000000e+00]\n [4.800000e+01 3.775370e+05 3.985000e+03 4.000000e+01 0.000000e+00\n  0.000000e+00 1.000000e+00]]\n"
     ]
    }
   ],
   "source": [
    "input_cnt, output_cnt = 4, 3\n",
    "data = np.asarray(df, dtype='float32')\n",
    "print(type(data))\n",
    "print(data)"
   ]
  },
  {
   "cell_type": "code",
   "execution_count": 70,
   "metadata": {},
   "outputs": [
    {
     "output_type": "stream",
     "name": "stdout",
     "text": [
      "weight.shape :  (4, 3)\nbias.shape :  (3,)\n"
     ]
    }
   ],
   "source": [
    "weight = np.random.normal(RND_MEAN, RND_MEAN, size = [input_cnt, output_cnt])\n",
    "bias = np.random.normal(RND_MEAN, RND_MEAN, size = [output_cnt])\n",
    "\n",
    "print(\"weight.shape : \", weight.shape)  # (4, 3)\n",
    "print(\"bias.shape : \", bias.shape)  # (3,)"
   ]
  },
  {
   "source": [
    "mini batch\n",
    "\n",
    "<img alt=\"mini batch\" src=img/minibatch.png> \n",
    "\n",
    "데이터의 개수가 많을 때 각 mini batch의 개수가 몇개인지도 알 수 있어야 한다."
   ],
   "cell_type": "markdown",
   "metadata": {}
  },
  {
   "cell_type": "code",
   "execution_count": 71,
   "metadata": {},
   "outputs": [],
   "source": [
    "# how?\n",
    "\n",
    "data_count = 10\n",
    "mb_size = 2\n",
    "train_ratio = 0.8 "
   ]
  },
  {
   "cell_type": "code",
   "execution_count": 72,
   "metadata": {},
   "outputs": [
    {
     "output_type": "stream",
     "name": "stdout",
     "text": [
      "MiniBatch_step_count :  4\n"
     ]
    }
   ],
   "source": [
    "# 처음에 몇 개의 mini batch 덩어리가 생성되느냐?\n",
    "MiniBatch_step_count = int(data_count * train_ratio) // mb_size\n",
    "print(\"MiniBatch_step_count : \", MiniBatch_step_count)"
   ]
  },
  {
   "cell_type": "code",
   "execution_count": 73,
   "metadata": {},
   "outputs": [
    {
     "output_type": "stream",
     "name": "stdout",
     "text": [
      "test_begin_index :  8\n"
     ]
    }
   ],
   "source": [
    "# train data가 끝나는 위치 == test data가 시작하는 위치! (위 그림 참고)\n",
    "test_begin_index = MiniBatch_step_count * mb_size\n",
    "print(\"test_begin_index : \", test_begin_index)"
   ]
  },
  {
   "cell_type": "code",
   "execution_count": 74,
   "metadata": {},
   "outputs": [
    {
     "output_type": "stream",
     "name": "stdout",
     "text": [
      "Before :  [0 1 2 3 4 5 6 7 8 9]\nAfter :  [2 4 1 9 5 6 0 7 8 3]\n"
     ]
    }
   ],
   "source": [
    "# test data가 시작하는 위치를 알았으니 그 위치를 기준으로 데이터를 섞는다.\n",
    "\n",
    "# shuffle_map : 데이터가 아니라 인덱스다\n",
    "\n",
    "shuffle_map = np.arange(data.shape[0])\n",
    "print(\"Before : \", shuffle_map)\n",
    "\n",
    "np.random.shuffle(shuffle_map)\n",
    "print(\"After : \", shuffle_map)"
   ]
  },
  {
   "cell_type": "code",
   "execution_count": 76,
   "metadata": {},
   "outputs": [
    {
     "output_type": "stream",
     "name": "stdout",
     "text": [
      "[[1.109000e+03 1.170194e+06 1.300000e+02 1.750000e+02 0.000000e+00\n  1.000000e+00 0.000000e+00]\n [3.300000e+02 4.292270e+05 2.640000e+02 1.500000e+02 1.000000e+00\n  0.000000e+00 0.000000e+00]]\n[[1.08400e+03 1.85575e+05 1.08000e+02 4.00000e+01 0.00000e+00 0.00000e+00\n  1.00000e+00]\n [4.80000e+01 3.77537e+05 3.98500e+03 4.00000e+01 0.00000e+00 0.00000e+00\n  1.00000e+00]]\n[[7.40000e+01 7.79144e+05 1.50600e+03 1.50000e+02 1.00000e+00 0.00000e+00\n  0.00000e+00]\n [5.10000e+01 5.85861e+05 1.39000e+02 7.00000e+01 0.00000e+00 1.00000e+00\n  0.00000e+00]]\n[[4.20000e+01 2.70900e+05 2.67000e+02 8.00000e+01 1.00000e+00 0.00000e+00\n  0.00000e+00]\n [3.97000e+02 6.04478e+05 4.44000e+02 7.00000e+01 0.00000e+00 1.00000e+00\n  0.00000e+00]]\n"
     ]
    }
   ],
   "source": [
    "# 섞은 인덱스를 데이터에 적용하는 방법\n",
    "\n",
    "mb_data_1 = data[shuffle_map[mb_size*0 : mb_size*1]]\n",
    "mb_data_2 = data[shuffle_map[mb_size*1 : mb_size*2]]\n",
    "mb_data_3 = data[shuffle_map[mb_size*2 : mb_size*3]]\n",
    "mb_data_4 = data[shuffle_map[mb_size*3 : mb_size*4]]\n",
    "\n",
    "\n",
    "print(mb_data_1)\n",
    "print(mb_data_2)\n",
    "print(mb_data_3)\n",
    "print(mb_data_4)"
   ]
  },
  {
   "cell_type": "code",
   "execution_count": 85,
   "metadata": {},
   "outputs": [
    {
     "output_type": "stream",
     "name": "stdout",
     "text": [
      "첫 번째 미니배치에 대한 독립변수와 종속변수\n=============================================\nmb_1_train_x :\n [[1.109000e+03 1.170194e+06 1.300000e+02 1.750000e+02]\n [3.300000e+02 4.292270e+05 2.640000e+02 1.500000e+02]]\nmb_1_train_y :\n [[175.   0.   1.   0.]\n [150.   1.   0.   0.]]\n"
     ]
    }
   ],
   "source": [
    "# 위 데이터는 독립과 종속 변수가 섞여있으므로 slicing으로 나눌 필요가 있다.test_begin_index\n",
    "\n",
    "print(\"첫 번째 미니배치에 대한 독립변수와 종속변수\")\n",
    "print(\"=\"*45)\n",
    "mb_1_train_x = mb_data_1[:, :-output_cnt]  # 독립변수\n",
    "mb_1_train_y = mb_data_1[:, output_cnt:]   # 종속변수\n",
    "\n",
    "print('mb_1_train_x :\\n', mb_1_train_x)\n",
    "print('mb_1_train_y :\\n', mb_1_train_y)"
   ]
  },
  {
   "cell_type": "code",
   "execution_count": 86,
   "metadata": {},
   "outputs": [
    {
     "output_type": "stream",
     "name": "stdout",
     "text": [
      "두 번째 미니배치에 대한 독립변수와 종속변수\n=============================================\nmb_2_train_x :\n [[1.08400e+03 1.85575e+05 1.08000e+02 4.00000e+01]\n [4.80000e+01 3.77537e+05 3.98500e+03 4.00000e+01]]\nmb_2_train_y :\n [[40.  0.  0.  1.]\n [40.  0.  0.  1.]]\n"
     ]
    }
   ],
   "source": [
    "print(\"두 번째 미니배치에 대한 독립변수와 종속변수\")\n",
    "print(\"=\"*45)\n",
    "mb_2_train_x = mb_data_2[:, :-output_cnt]  # 독립변수\n",
    "mb_2_train_y = mb_data_2[:, output_cnt:]   # 종속변수\n",
    "\n",
    "print('mb_2_train_x :\\n', mb_2_train_x)\n",
    "print('mb_2_train_y :\\n', mb_2_train_y)"
   ]
  },
  {
   "cell_type": "code",
   "execution_count": 87,
   "metadata": {},
   "outputs": [
    {
     "output_type": "stream",
     "name": "stdout",
     "text": [
      "세 번째 미니배치에 대한 독립변수와 종속변수\n=============================================\nmb_3_train_x :\n [[7.40000e+01 7.79144e+05 1.50600e+03 1.50000e+02]\n [5.10000e+01 5.85861e+05 1.39000e+02 7.00000e+01]]\nmb_3_train_y :\n [[150.   1.   0.   0.]\n [ 70.   0.   1.   0.]]\n"
     ]
    }
   ],
   "source": [
    "print(\"세 번째 미니배치에 대한 독립변수와 종속변수\")\n",
    "print(\"=\"*45)\n",
    "mb_3_train_x = mb_data_3[:, :-output_cnt]  # 독립변수\n",
    "mb_3_train_y = mb_data_3[:, output_cnt:]   # 종속변수\n",
    "\n",
    "print('mb_3_train_x :\\n', mb_3_train_x)\n",
    "print('mb_3_train_y :\\n', mb_3_train_y)"
   ]
  },
  {
   "cell_type": "code",
   "execution_count": 88,
   "metadata": {},
   "outputs": [
    {
     "output_type": "stream",
     "name": "stdout",
     "text": [
      "네 번째 미니배치에 대한 독립변수와 종속변수\n=============================================\nmb_4_train_x :\n [[4.20000e+01 2.70900e+05 2.67000e+02 8.00000e+01]\n [3.97000e+02 6.04478e+05 4.44000e+02 7.00000e+01]]\nmb_4_train_y :\n [[80.  1.  0.  0.]\n [70.  0.  1.  0.]]\n"
     ]
    }
   ],
   "source": [
    "print(\"네 번째 미니배치에 대한 독립변수와 종속변수\")\n",
    "print(\"=\"*45)\n",
    "mb_4_train_x = mb_data_4[:, :-output_cnt]  # 독립변수\n",
    "mb_4_train_y = mb_data_4[:, output_cnt:]   # 종속변수\n",
    "\n",
    "print('mb_4_train_x :\\n', mb_4_train_x)\n",
    "print('mb_4_train_y :\\n', mb_4_train_y)"
   ]
  },
  {
   "source": [
    "<img alt=\"when input, output layer number is over 1\" src=img/input_output_layers.png> "
   ],
   "cell_type": "markdown",
   "metadata": {}
  },
  {
   "cell_type": "code",
   "execution_count": 89,
   "metadata": {},
   "outputs": [],
   "source": [
    "mb_1_y_hat_1 = np.matmul(mb_1_train_x, weight[:, 0]) + bias[0]\n",
    "mb_1_y_hat_2 = np.matmul(mb_1_train_x, weight[:, 1]) + bias[1]\n",
    "mb_1_y_hat_3 = np.matmul(mb_1_train_x, weight[:, 2]) + bias[2]"
   ]
  },
  {
   "cell_type": "code",
   "execution_count": null,
   "metadata": {},
   "outputs": [],
   "source": []
  }
 ]
}