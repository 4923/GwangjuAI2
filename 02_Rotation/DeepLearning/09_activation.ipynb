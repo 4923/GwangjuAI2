{
 "metadata": {
  "language_info": {
   "codemirror_mode": {
    "name": "ipython",
    "version": 3
   },
   "file_extension": ".py",
   "mimetype": "text/x-python",
   "name": "python",
   "nbconvert_exporter": "python",
   "pygments_lexer": "ipython3",
   "version": "3.8.8"
  },
  "orig_nbformat": 4,
  "kernelspec": {
   "name": "python3",
   "display_name": "Python 3.8.8 64-bit ('base': conda)"
  },
  "interpreter": {
   "hash": "b3ba2566441a7c06988d0923437866b63cedc61552a5af99d1f4fb67d367b25f"
  }
 },
 "nbformat": 4,
 "nbformat_minor": 2,
 "cells": [
  {
   "source": [
    "### elu?\n",
    "\n",
    "faults practice 에서 hidden layer activate function을 elu로 설정했다."
   ],
   "cell_type": "markdown",
   "metadata": {}
  },
  {
   "source": [],
   "cell_type": "markdown",
   "metadata": {}
  },
  {
   "source": [
    "### Sigmoid"
   ],
   "cell_type": "markdown",
   "metadata": {}
  },
  {
   "source": [
    "처음엔 잘 썼는데 이후부터는 쓰지 않았음. 왜?\n",
    "\n",
    "- 왜? : 기울기 소멸 gradient descent\n",
    "\n",
    "    - 활성화 함수는 순전파 방식으로만 보는 것도 (수식) 중요하지만 이걸 편미분 했을 때 식이 달라지는 방식 또한 중요하다.($\\because$ 역전파도 고려해야 하기 때문)\n",
    "    - 편미분 했을 때 0.25가 최대값인데 신경망이 깊어질 때 0.25를 무한하게 곱하게 되면 0에 가까워 진다.\n",
    "    "
   ],
   "cell_type": "markdown",
   "metadata": {}
  },
  {
   "cell_type": "code",
   "execution_count": null,
   "metadata": {},
   "outputs": [],
   "source": []
  }
 ]
}