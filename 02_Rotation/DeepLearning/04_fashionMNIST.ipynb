{
 "cells": [
  {
   "cell_type": "markdown",
   "metadata": {},
   "source": [
    "## fasion MNIST practice"
   ]
  },
  {
   "cell_type": "markdown",
   "metadata": {},
   "source": [
    "이미지를 학습시킬 수 있는데, 이미지를 데이터로 사용하려면 수치화 해야한다. \r\n",
    "\r\n",
    "tensorflow에 내장되어 있는 fahion_MNIST로 실습해보자."
   ]
  },
  {
   "cell_type": "code",
   "execution_count": 1,
   "metadata": {},
   "outputs": [],
   "source": [
    "import tensorflow as tf"
   ]
  },
  {
   "cell_type": "code",
   "execution_count": 2,
   "metadata": {},
   "outputs": [],
   "source": [
    "# load dataset\r\n",
    "\r\n",
    "fashion_mnist = tf.keras.datasets.fashion_mnist"
   ]
  },
  {
   "cell_type": "code",
   "execution_count": 4,
   "metadata": {},
   "outputs": [
    {
     "name": "stdout",
     "output_type": "stream",
     "text": [
      "Downloading data from https://storage.googleapis.com/tensorflow/tf-keras-datasets/train-labels-idx1-ubyte.gz\n",
      "32768/29515 [=================================] - 0s 0us/step\n",
      "Downloading data from https://storage.googleapis.com/tensorflow/tf-keras-datasets/train-images-idx3-ubyte.gz\n",
      "26427392/26421880 [==============================] - 1s 0us/step\n",
      "Downloading data from https://storage.googleapis.com/tensorflow/tf-keras-datasets/t10k-labels-idx1-ubyte.gz\n",
      "8192/5148 [===============================================] - 0s 0us/step\n",
      "Downloading data from https://storage.googleapis.com/tensorflow/tf-keras-datasets/t10k-images-idx3-ubyte.gz\n",
      "4423680/4422102 [==============================] - 0s 0us/step\n"
     ]
    }
   ],
   "source": [
    "(train_X, train_Y) , (test_X, test_Y) = fashion_mnist.load_data()   # 이대로 출력하면 많은 값이 출력된다. "
   ]
  },
  {
   "cell_type": "code",
   "execution_count": 5,
   "metadata": {},
   "outputs": [
    {
     "data": {
      "image/png": "[encoded data removed]",
      "text/plain": [
       "<Figure size 432x288 with 2 Axes>"
      ]
     },
     "metadata": {
      "needs_background": "light"
     },
     "output_type": "display_data"
    }
   ],
   "source": [
    "# 우선 이미지로 살펴보자\r\n",
    "\r\n",
    "import matplotlib.pyplot as plt \r\n",
    "\r\n",
    "plt.imshow(train_X[3], cmap = \"pink\")   # cmap : 색 설정\r\n",
    "plt.colorbar()  # 밝기를 색으로 표현한다. (ex: 너무 어두우면 0, 밝으면 250)\r\n",
    "plt.show()"
   ]
  },
  {
   "cell_type": "code",
   "execution_count": 7,
   "metadata": {},
   "outputs": [
    {
     "data": {
      "text/plain": [
       "3"
      ]
     },
     "execution_count": 7,
     "metadata": {},
     "output_type": "execute_result"
    }
   ],
   "source": [
    "# label\r\n",
    "\r\n",
    "train_Y[3]\r\n",
    "# 3"
   ]
  },
  {
   "cell_type": "markdown",
   "metadata": {},
   "source": [
    "Y값은 label이며 fashion_MNIST의 label은 하단의 총 10개다.\r\n",
    "\r\n",
    "<img alt = fashion_mnist_label src = img/fashion_mnist_label.png width = 300>"
   ]
  },
  {
   "cell_type": "code",
   "execution_count": 8,
   "metadata": {},
   "outputs": [
    {
     "name": "stdout",
     "output_type": "stream",
     "text": [
      "train_X[11].shape : (28, 28)\n"
     ]
    }
   ],
   "source": [
    "print(f\"train_X[11].shape : {train_X[11].shape}\")"
   ]
  },
  {
   "cell_type": "code",
   "execution_count": 9,
   "metadata": {},
   "outputs": [
    {
     "name": "stdout",
     "output_type": "stream",
     "text": [
      "train_X[11].ndim :  2\n"
     ]
    }
   ],
   "source": [
    "print(\"train_X[11].ndim : \", train_X[11].ndim)      # ndim : n의 dimension, 즉 2차원 데이터다"
   ]
  },
  {
   "cell_type": "markdown",
   "metadata": {},
   "source": [
    "```python\r\n",
    "# train_X[11]\r\n",
    "```\r\n",
    "\r\n",
    "잘 보면 숫자의 경계가 이미지의 윤곽과 같다.\r\n",
    "\r\n",
    "<img alt=\"Matrix_of_train_X\" src=img/fashion_mnist_train_X.png width = 800>"
   ]
  },
  {
   "cell_type": "markdown",
   "metadata": {},
   "source": [
    "이전까지는 하나의 행 다수의 열로 하나를 예측했는데, 이미지 데이터는 다수의 행과 다수의 행으로 하나를 예측해야 된다. 다시말해, 구조적 차이가 생긴다.\r\n",
    "\r\n",
    "해결을 위해 2차원을 1차원으로 변환한다. (펼친다는 의미의 flatten 함수를 사용)\r\n",
    "\r\n",
    "<img alt=\"Matrix_of_train_X\" src=img/fashion_mnist_dimensions.png width = 700>\r\n"
   ]
  },
  {
   "cell_type": "code",
   "execution_count": 13,
   "metadata": {},
   "outputs": [
    {
     "name": "stdout",
     "output_type": "stream",
     "text": [
      "train_X_flat.shape : (784,)\n",
      "train_X_flat.ndim : 1\n"
     ]
    }
   ],
   "source": [
    "train_X_flat = train_X[0].flatten()\r\n",
    "print(f\"train_X_flat.shape : {train_X_flat.shape}\")     # 784 = 28 * 28\r\n",
    "print(f\"train_X_flat.ndim : {train_X_flat.ndim}\")"
   ]
  },
  {
   "cell_type": "markdown",
   "metadata": {},
   "source": [
    "위 내용을 그림으로 바꾸면 아래와 같다.\r\n",
    "\r\n",
    "### softmax\r\n",
    "- *단순 회귀, 이미지를 처리하는 CNN 모델이 아니다.*\r\n",
    "\r\n",
    "<img alt=\"Matrix_of_train_X\" src=img/fashion_mnist_flatten.png width = 700>\r\n",
    "\r\n",
    "- y 값이 10개이므로 bias도 10개 필요\r\n",
    "- 연산한 값 (x1 ~ xn)을 모두 더한 후 분모로 내린 후 해당하는 값을 분자로 올려 값을 구한다. ?\r\n",
    "\r\n",
    "- $e$ 자연상수\r\n",
    "    - 사용하는 이유 : 변화값을 극명하게 나타내기 위함\r\n",
    "    - 문제점\r\n",
    "        1. **overflow** / 수가 너무 커져 연산할 수 없다.  \r\n",
    "            ```python\r\n",
    "            import numpy as np \r\n",
    "\r\n",
    "            print(np.exp(1))\r\n",
    "            print(np.exp(10))\r\n",
    "            print(np.exp(100))\r\n",
    "            print(np.exp(1000)) \r\n",
    "\r\n",
    "            # 2.718281828459045\r\n",
    "            # 22026.465794806718\r\n",
    "            # 2.6881171418161356e+43\r\n",
    "            # inf\r\n",
    "            # <ipython-input-14-b4716efe606d>:6: RuntimeWarning: overflow encountered in exp\r\n",
    "            # print(np.exp(1000))\r\n",
    "            ```\r\n",
    "            \r\n",
    "            \r\n",
    "        2. 결과값이 모두 음수일 경우 값이 모두 작아져 0에 수렴한다. 즉, 0으로 나눌 수 없게 되므로 **zero division error** 가 발생한다.\r\n",
    "    - 이러한 문제 때문에 Softmax로 이미지를 처리할 수 없어진다. => CNN으로 이미지를 학습하고 연산하게 되었다.\r\n"
   ]
  },
  {
   "cell_type": "markdown",
   "metadata": {},
   "source": [
    "### 사용되는 모델들\r\n",
    "- 회귀 ANN\r\n",
    "    - Artificial Neural Network\r\n",
    "- 이미지 CNN\r\n",
    "    - Convolution Neural Network\r\n",
    "- 자연어 RNN\r\n",
    "    - Recurrent Neural Network\r\n",
    "- 생성 GAN\r\n",
    "    - Generative Adversarial Network"
   ]
  },
  {
   "cell_type": "markdown",
   "metadata": {},
   "source": []
  }
 ],
 "metadata": {
  "interpreter": {
   "hash": "74fd4a83763ff9d33eb8c7d90f5978b6232a18d570c7d5902a5874efbf77fdde"
  },
  "kernelspec": {
   "display_name": "Python 3.8.10 64-bit ('tf2_py38': conda)",
   "name": "python3"
  },
  "language_info": {
   "name": "python",
   "version": ""
  },
  "orig_nbformat": 4
 },
 "nbformat": 4,
 "nbformat_minor": 2
}