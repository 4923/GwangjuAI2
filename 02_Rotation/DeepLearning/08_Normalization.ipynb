{
 "metadata": {
  "language_info": {
   "codemirror_mode": {
    "name": "ipython",
    "version": 3
   },
   "file_extension": ".py",
   "mimetype": "text/x-python",
   "name": "python",
   "nbconvert_exporter": "python",
   "pygments_lexer": "ipython3",
   "version": 3
  },
  "orig_nbformat": 4
 },
 "nbformat": 4,
 "nbformat_minor": 2,
 "cells": [
  {
   "source": [
    "데이터 정제 data cleaning의 일종"
   ],
   "cell_type": "markdown",
   "metadata": {}
  },
  {
   "source": [
    "# $Evaluation\\ Index\\ (Measuring\\ Efficiency) = 1 - \\lvert \\frac{\\hat{y} - y}{y} \\rvert$\n",
    "\n",
    "# $Z-Score\\ Normalization = \\frac {x - \\bar{x}}{\\sigma}$\n",
    "\n",
    "- 데이터$x$ 에서  평균 $\\bar{x}$을 뺀 값을 표준편차 $\\sigma$로 나눈다."
   ],
   "cell_type": "markdown",
   "metadata": {}
  },
  {
   "cell_type": "code",
   "execution_count": null,
   "metadata": {},
   "outputs": [],
   "source": []
  }
 ]
}