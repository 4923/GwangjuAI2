{
 "cells": [
  {
   "cell_type": "code",
   "execution_count": 1,
   "source": [
    "import numpy as np\r\n",
    "import pandas as pd\r\n",
    "import tensorflow as tf\r\n",
    "\r\n",
    "import matplotlib.pyplot as plt\r\n",
    "import seaborn as sns"
   ],
   "outputs": [],
   "metadata": {}
  },
  {
   "cell_type": "code",
   "execution_count": 2,
   "source": [
    "fashion_mnist = tf.keras.datasets.fashion_mnist\r\n",
    "(train_X, train_Y), (test_X, test_Y) = fashion_mnist.load_data()"
   ],
   "outputs": [],
   "metadata": {}
  },
  {
   "cell_type": "markdown",
   "source": [
    "label 확인\r\n",
    "\r\n",
    "- 총 10개의 범주가 있다.\r\n",
    "\r\n",
    "- 0 : T-shirt\r\n",
    "- 1 : Pants\r\n",
    "- 2 : \r\n",
    "- 3 : \r\n",
    "- 4 : \r\n",
    "- 5 : \r\n",
    "- 6 : \r\n",
    "- 7 : \r\n",
    "- 9 : \r\n",
    "- 8 : \r\n"
   ],
   "metadata": {}
  },
  {
   "cell_type": "code",
   "execution_count": 3,
   "source": [
    "plt.figure(figsize=(10,10))\r\n",
    "\r\n",
    "# 한 화면에 9개를 동시에 출력할 것이므로 for문을 이용\r\n",
    "\r\n",
    "for i in range(9):\r\n",
    "    # subplot\r\n",
    "    plt.subplot(3,3, i+1)\r\n",
    "    # 제목\r\n",
    "    plt.title(' Y label : {}'.format(train_Y[i]))\r\n",
    "    # 크기를 알려주는 지표가 있긴 한데 딱히 볼필요 없으므로 off\r\n",
    "    plt.axis('off')\r\n",
    "    # 이미지 출력\r\n",
    "    plt.imshow(train_X[i])\r\n",
    "\r\n",
    "plt.show()"
   ],
   "outputs": [
    {
     "output_type": "display_data",
     "data": {
      "text/plain": [
       "<Figure size 720x720 with 9 Axes>"
      ],
      "image/png": "[encoded data removed]"
     },
     "metadata": {
      "needs_background": "light"
     }
    }
   ],
   "metadata": {}
  },
  {
   "cell_type": "markdown",
   "source": [
    "이미지 데이터이므로 차원 값은 2다."
   ],
   "metadata": {}
  },
  {
   "cell_type": "markdown",
   "source": [
    "**중요** : 이미지를 다루려면 차원에 대한 개념이 필요하다.\r\n",
    "\r\n",
    "한 장의 이미지의 shape를 봐야 한다. "
   ],
   "metadata": {}
  },
  {
   "cell_type": "code",
   "execution_count": 4,
   "source": [
    "print(\"train_X[0].shape : \", train_X[0].shape)\r\n",
    "print(\"train_X[0].ndim : \", train_X[0].ndim)"
   ],
   "outputs": [
    {
     "output_type": "stream",
     "name": "stdout",
     "text": [
      "train_X[0].shape :  (28, 28)\n",
      "train_X[0].ndim :  2\n"
     ]
    }
   ],
   "metadata": {}
  },
  {
   "cell_type": "code",
   "execution_count": 5,
   "source": [
    "# 한 장도 중요한데 미니배치를 기준으로 학습시키기 때문에! (미니배치사이즈를 학습 데이터 전체라고 본다.)\r\n",
    "# 차원이 하나 추가되게 된다.\r\n",
    "print(\"train_X.shape : \", train_X.shape)\r\n",
    "print(\"train_X.ndim : \", train_X.ndim)\r\n",
    "\r\n",
    "# 미니배치를 고려한 흑백 이미지의 차원은 3차원"
   ],
   "outputs": [
    {
     "output_type": "stream",
     "name": "stdout",
     "text": [
      "train_X.shape :  (60000, 28, 28)\n",
      "train_X.ndim :  3\n"
     ]
    }
   ],
   "metadata": {}
  },
  {
   "cell_type": "code",
   "execution_count": 6,
   "source": [
    "# 색이 있을 때 (컬러이미지) 차원은 하나 더 추가된다.\r\n",
    "# 채널값이라고 한다.\r\n",
    "\r\n",
    "# 색을 r, g, b로 나누는데 이 값을 채널값이라고 한다.\r\n",
    "# 데이터가 복잡해질수록 차원이 커지기 때문에 텐서 연산을 효과적으로 해야한다.ㅠ"
   ],
   "outputs": [],
   "metadata": {}
  },
  {
   "cell_type": "markdown",
   "source": [
    "그렇다면 영상은? : 이미지가 여러개 붙어있는 데이터이므로 차원수가 이미지에서 하나 더 추가한다.\r\n",
    "\r\n",
    "> 차원수가 복잡해진다 = 연산이 복잡해진다 = 순전파, 역전파에 의해 영향을 많이 받는다."
   ],
   "metadata": {}
  },
  {
   "cell_type": "markdown",
   "source": [
    "### 이미지 정규화?\r\n",
    "\r\n",
    "이미지도 숫자이므로 정규화 할 수 있다.\r\n",
    "\r\n",
    "**어떻게?**\r\n",
    "\r\n",
    "- RGB를 생각했을 때 가장 큰 값은 255다.\r\n",
    "- 0 ~ 255 이므로 이상치가 발생하지 않는다. $\\therefore$ MinMax 사용 가능"
   ],
   "metadata": {}
  },
  {
   "cell_type": "code",
   "execution_count": 7,
   "source": [
    "print(np.min(train_X))\r\n",
    "print(np.max(train_X))"
   ],
   "outputs": [
    {
     "output_type": "stream",
     "name": "stdout",
     "text": [
      "0\n",
      "255\n"
     ]
    }
   ],
   "metadata": {}
  },
  {
   "cell_type": "code",
   "execution_count": 8,
   "source": [
    "train_X_norm = train_X / 255.0\r\n",
    "print(np.min(train_X_norm))\r\n",
    "print(np.max(train_X_norm))"
   ],
   "outputs": [
    {
     "output_type": "stream",
     "name": "stdout",
     "text": [
      "0.0\n",
      "1.0\n"
     ]
    }
   ],
   "metadata": {}
  },
  {
   "cell_type": "code",
   "execution_count": 9,
   "source": [
    "# 이제 테스트 데이터도 확인하자.\r\n",
    "test_X_norm = test_X / 255.0"
   ],
   "outputs": [],
   "metadata": {}
  },
  {
   "cell_type": "code",
   "execution_count": 11,
   "source": [
    "Fmnist_relu_DNN = tf.keras.Sequential([\r\n",
    "                                        tf.keras.layers.Flatten(input_shape = (28,28)),\r\n",
    "                                        tf.keras.layers.Dense(units= 128, activation = \"relu\"),\r\n",
    "                                        tf.keras.layers.Dense(units= 64, activation = \"relu\"),\r\n",
    "                                        tf.keras.layers.Dense(units= 32, activation = \"relu\"),\r\n",
    "                                        tf.keras.layers.Dense(units= 10, activation = \"softmax\")     # unit값 : 종속변수의 개수만큼, 마지막은 softmax\r\n",
    "])\r\n",
    "\r\n",
    "# one hot vector 방식이 아닐 때에는 다른 손실함수를 부러와야 한다.\r\n",
    "# compile하자."
   ],
   "outputs": [],
   "metadata": {}
  },
  {
   "cell_type": "code",
   "execution_count": 12,
   "source": [
    "Fmnist_relu_DNN.compile(optimizer=tf.keras.optimizers.Adam(),\r\n",
    "                        loss = 'sparse_categorical_crossentropy',       # sparse? : 단순 one hot vector가 아닐 때 사용할 수 있다.\r\n",
    "                        metrics = ['accuracy'])"
   ],
   "outputs": [],
   "metadata": {}
  },
  {
   "cell_type": "code",
   "execution_count": 13,
   "source": [
    "# 이미지를 다루는 모델이고, 파라미터가 굉장히 많다.(summary로 확인 가능 : 11만개, 계층 많이 쌓은것도 아닌데 이렇다.)\r\n",
    "# flatten은 일차원으로 펼치는 과정이고 그 값을 128개와 모두 연결시키다보니 파라미터가 많이 생겼다.\r\n",
    "\r\n",
    "Fmnist_relu_DNN.summary()"
   ],
   "outputs": [
    {
     "output_type": "stream",
     "name": "stdout",
     "text": [
      "Model: \"sequential\"\n",
      "_________________________________________________________________\n",
      "Layer (type)                 Output Shape              Param #   \n",
      "=================================================================\n",
      "flatten (Flatten)            (None, 784)               0         \n",
      "_________________________________________________________________\n",
      "dense (Dense)                (None, 128)               100480    \n",
      "_________________________________________________________________\n",
      "dense_1 (Dense)              (None, 64)                8256      \n",
      "_________________________________________________________________\n",
      "dense_2 (Dense)              (None, 32)                2080      \n",
      "_________________________________________________________________\n",
      "dense_3 (Dense)              (None, 10)                330       \n",
      "=================================================================\n",
      "Total params: 111,146\n",
      "Trainable params: 111,146\n",
      "Non-trainable params: 0\n",
      "_________________________________________________________________\n"
     ]
    }
   ],
   "metadata": {}
  },
  {
   "cell_type": "code",
   "execution_count": 14,
   "source": [
    "# fit\r\n",
    "\r\n",
    "# epoch 값이 적으므로 call back은 넘어간다.\r\n",
    "\r\n",
    "history = Fmnist_relu_DNN.fit(train_X_norm, train_Y, epochs = 25, validation_split = 0.2, batch_size = 32)"
   ],
   "outputs": [
    {
     "output_type": "stream",
     "name": "stdout",
     "text": [
      "Epoch 1/25\n",
      "1500/1500 [==============================] - 2s 1ms/step - loss: 0.5308 - accuracy: 0.8101 - val_loss: 0.4302 - val_accuracy: 0.8467\n",
      "Epoch 2/25\n",
      "1500/1500 [==============================] - 2s 1ms/step - loss: 0.3830 - accuracy: 0.8606 - val_loss: 0.4226 - val_accuracy: 0.8496\n",
      "Epoch 3/25\n",
      "1500/1500 [==============================] - 2s 1ms/step - loss: 0.3459 - accuracy: 0.8746 - val_loss: 0.3673 - val_accuracy: 0.8707\n",
      "Epoch 4/25\n",
      "1500/1500 [==============================] - 2s 1ms/step - loss: 0.3209 - accuracy: 0.8822 - val_loss: 0.3885 - val_accuracy: 0.8563\n",
      "Epoch 5/25\n",
      "1500/1500 [==============================] - 2s 1ms/step - loss: 0.3022 - accuracy: 0.8870 - val_loss: 0.3768 - val_accuracy: 0.8670\n",
      "Epoch 6/25\n",
      "1500/1500 [==============================] - 2s 1ms/step - loss: 0.2910 - accuracy: 0.8912 - val_loss: 0.3296 - val_accuracy: 0.8827\n",
      "Epoch 7/25\n",
      "1500/1500 [==============================] - 2s 1ms/step - loss: 0.2773 - accuracy: 0.8964 - val_loss: 0.3861 - val_accuracy: 0.8643\n",
      "Epoch 8/25\n",
      "1500/1500 [==============================] - 2s 1ms/step - loss: 0.2676 - accuracy: 0.9001 - val_loss: 0.3253 - val_accuracy: 0.8829\n",
      "Epoch 9/25\n",
      "1500/1500 [==============================] - 2s 1ms/step - loss: 0.2578 - accuracy: 0.9026 - val_loss: 0.3115 - val_accuracy: 0.8899\n",
      "Epoch 10/25\n",
      "1500/1500 [==============================] - 2s 1ms/step - loss: 0.2480 - accuracy: 0.9068 - val_loss: 0.3214 - val_accuracy: 0.8875\n",
      "Epoch 11/25\n",
      "1500/1500 [==============================] - 2s 1ms/step - loss: 0.2371 - accuracy: 0.9110 - val_loss: 0.3517 - val_accuracy: 0.8776\n",
      "Epoch 12/25\n",
      "1500/1500 [==============================] - 2s 1ms/step - loss: 0.2310 - accuracy: 0.9128 - val_loss: 0.3318 - val_accuracy: 0.8854\n",
      "Epoch 13/25\n",
      "1500/1500 [==============================] - 2s 1ms/step - loss: 0.2240 - accuracy: 0.9153 - val_loss: 0.3281 - val_accuracy: 0.8888\n",
      "Epoch 14/25\n",
      "1500/1500 [==============================] - 2s 1ms/step - loss: 0.2186 - accuracy: 0.9170 - val_loss: 0.3284 - val_accuracy: 0.8888\n",
      "Epoch 15/25\n",
      "1500/1500 [==============================] - 2s 1ms/step - loss: 0.2112 - accuracy: 0.9196 - val_loss: 0.3403 - val_accuracy: 0.8859\n",
      "Epoch 16/25\n",
      "1500/1500 [==============================] - 2s 1ms/step - loss: 0.2060 - accuracy: 0.9215 - val_loss: 0.3430 - val_accuracy: 0.8900\n",
      "Epoch 17/25\n",
      "1500/1500 [==============================] - 2s 1ms/step - loss: 0.2009 - accuracy: 0.9239 - val_loss: 0.3423 - val_accuracy: 0.8845\n",
      "Epoch 18/25\n",
      "1500/1500 [==============================] - 1s 990us/step - loss: 0.1934 - accuracy: 0.9272 - val_loss: 0.3480 - val_accuracy: 0.8858\n",
      "Epoch 19/25\n",
      "1500/1500 [==============================] - 1s 980us/step - loss: 0.1908 - accuracy: 0.9281 - val_loss: 0.3525 - val_accuracy: 0.8857\n",
      "Epoch 20/25\n",
      "1500/1500 [==============================] - 2s 1ms/step - loss: 0.1842 - accuracy: 0.9305 - val_loss: 0.3315 - val_accuracy: 0.8906\n",
      "Epoch 21/25\n",
      "1500/1500 [==============================] - 2s 1ms/step - loss: 0.1808 - accuracy: 0.9302 - val_loss: 0.3653 - val_accuracy: 0.8880\n",
      "Epoch 22/25\n",
      "1500/1500 [==============================] - 2s 1ms/step - loss: 0.1732 - accuracy: 0.9341 - val_loss: 0.3643 - val_accuracy: 0.8900\n",
      "Epoch 23/25\n",
      "1500/1500 [==============================] - 2s 1ms/step - loss: 0.1724 - accuracy: 0.9344 - val_loss: 0.3561 - val_accuracy: 0.8934\n",
      "Epoch 24/25\n",
      "1500/1500 [==============================] - 1s 985us/step - loss: 0.1664 - accuracy: 0.9357 - val_loss: 0.3686 - val_accuracy: 0.8832\n",
      "Epoch 25/25\n",
      "1500/1500 [==============================] - 2s 1ms/step - loss: 0.1658 - accuracy: 0.9383 - val_loss: 0.3717 - val_accuracy: 0.8932\n"
     ]
    }
   ],
   "metadata": {}
  },
  {
   "cell_type": "markdown",
   "source": [
    "보통 한 번 학습할 때 1초정도 걸리는데 이번 학습과정은 한번에 4초씩 걸린다. => 파라미터가 많기 때문"
   ],
   "metadata": {}
  },
  {
   "cell_type": "code",
   "execution_count": 15,
   "source": [
    "# 예측된 값을 밖으로 꺼내보자. : 시각화\r\n",
    "val_accuracy = history.history['val_accuracy']\r\n",
    "accuracy = history.history['accuracy']\r\n",
    "\r\n",
    "val_loss = history.history['val_loss']\r\n",
    "loss     = history.history['loss']\r\n",
    "\r\n",
    "plt.figure(figsize=(12,4))\r\n",
    "plt.subplot(1,2,1)\r\n",
    "\r\n",
    "plt.plot(history.history['loss'], 'b-', label = 'train_loss')\r\n",
    "plt.plot(history.history['val_loss'], 'r--', label = 'val_loss')\r\n",
    "\r\n",
    "plt.xlabel('Epochs')\r\n",
    "plt.title('Train_Loss : {:.3f}\\nVal_Loss : {:.3f}'.\\\r\n",
    "          format(loss[-1], val_loss[-1]))\r\n",
    "\r\n",
    "plt.legend()\r\n",
    "plt.grid()\r\n",
    "\r\n",
    "plt.subplot(1,2,2)\r\n",
    "\r\n",
    "plt.plot(history.history['accuracy'], 'b-', label = 'train_accuracy')\r\n",
    "plt.plot(history.history['val_accuracy'], 'r--', label = 'val_accuracy')\r\n",
    "\r\n",
    "plt.xlabel('Epochs')\r\n",
    "plt.title('Train_Accuracy : {:.3f}\\nVal_Accuracy : {:.3f}'.\\\r\n",
    "          format(accuracy[-1], val_accuracy[-1]))\r\n",
    "\r\n",
    "plt.legend()\r\n",
    "plt.grid()\r\n",
    "\r\n",
    "plt.show()"
   ],
   "outputs": [
    {
     "output_type": "display_data",
     "data": {
      "text/plain": [
       "<Figure size 864x288 with 2 Axes>"
      ],
      "image/png": "[encoded data removed]"
     },
     "metadata": {
      "needs_background": "light"
     }
    }
   ],
   "metadata": {}
  },
  {
   "cell_type": "markdown",
   "source": [
    "학습데이터 값은 잘 올라가는데 검증데이터는 거기서 거기다. : 전형적인 overfitting\r\n",
    "\r\n",
    "- 과적합이 뜰 때? (참고)\r\n",
    "    - 드롭아웃 : 노드를 무작위로 탈락\r\n",
    "    - 배치정규화 : 배치마다 정규화를 걸어준다. (생각보다 성능 괜찮다.)"
   ],
   "metadata": {}
  },
  {
   "cell_type": "code",
   "execution_count": 17,
   "source": [
    "pred_Y = Fmnist_relu_DNN.predict(test_X[[47]])\r\n",
    "pred_Y = np.round(pred_Y, 3)\r\n",
    "print(pred_Y)"
   ],
   "outputs": [
    {
     "output_type": "stream",
     "name": "stdout",
     "text": [
      "[[0. 1. 0. 0. 0. 0. 0. 0. 0. 0.]]\n"
     ]
    }
   ],
   "metadata": {}
  },
  {
   "cell_type": "markdown",
   "source": [
    "소수점 세자리까지 올렸는데도 0, 1, 0 ... 정수로 표현되는걸 보면 학습이 무척 잘 되었단걸 알 수 있다. (오버피팅이 문제지)"
   ],
   "metadata": {}
  },
  {
   "cell_type": "code",
   "execution_count": null,
   "source": [
    "# 시각화\r\n",
    "\r\n",
    "plt.imshow(test_X[65])\r\n",
    "plt.show()\r\n",
    "\r\n",
    "# 예측값과 실제값이 똑같은지 아닌지 확인 : np.argmax\r\n",
    "pred_Y_argmax = np.argmax(pred_Y)   # 예측한 '확률'값에서 가장 큰 값의 index 추출\r\n",
    "correct = np.equal(pred_Y_argmax, test_Y[65])  # 실제값(np.equal())과 비교\r\n"
   ],
   "outputs": [],
   "metadata": {}
  }
 ],
 "metadata": {
  "orig_nbformat": 4,
  "language_info": {
   "name": "python",
   "version": "3.8.8",
   "mimetype": "text/x-python",
   "codemirror_mode": {
    "name": "ipython",
    "version": 3
   },
   "pygments_lexer": "ipython3",
   "nbconvert_exporter": "python",
   "file_extension": ".py"
  },
  "kernelspec": {
   "name": "python3",
   "display_name": "Python 3.8.8 64-bit ('base': conda)"
  },
  "interpreter": {
   "hash": "b3ba2566441a7c06988d0923437866b63cedc61552a5af99d1f4fb67d367b25f"
  }
 },
 "nbformat": 4,
 "nbformat_minor": 2
}