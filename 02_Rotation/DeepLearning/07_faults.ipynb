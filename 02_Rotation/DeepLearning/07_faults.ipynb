{
 "metadata": {
  "language_info": {
   "codemirror_mode": {
    "name": "ipython",
    "version": 3
   },
   "file_extension": ".py",
   "mimetype": "text/x-python",
   "name": "python",
   "nbconvert_exporter": "python",
   "pygments_lexer": "ipython3",
   "version": "3.8.8"
  },
  "orig_nbformat": 4,
  "kernelspec": {
   "name": "python3",
   "display_name": "Python 3.8.8 64-bit ('base': conda)"
  },
  "interpreter": {
   "hash": "b3ba2566441a7c06988d0923437866b63cedc61552a5af99d1f4fb67d367b25f"
  }
 },
 "nbformat": 4,
 "nbformat_minor": 2,
 "cells": [
  {
   "source": [
    "# import"
   ],
   "cell_type": "markdown",
   "metadata": {}
  },
  {
   "cell_type": "code",
   "execution_count": 1,
   "metadata": {},
   "outputs": [],
   "source": [
    "import tensorflow as tf \n",
    "import pandas as pd \n",
    "import numpy as np \n",
    "import matplotlib.pyplot as plt \n",
    "import seaborn as sns "
   ]
  },
  {
   "cell_type": "code",
   "execution_count": 14,
   "metadata": {},
   "outputs": [],
   "source": [
    "df_dataset = pd.read_csv('dataset/dataset/faults.csv')"
   ]
  },
  {
   "cell_type": "code",
   "execution_count": 15,
   "metadata": {},
   "outputs": [
    {
     "output_type": "stream",
     "name": "stdout",
     "text": [
      "<class 'pandas.core.frame.DataFrame'>\nRangeIndex: 1941 entries, 0 to 1940\nData columns (total 34 columns):\n #   Column                 Non-Null Count  Dtype  \n---  ------                 --------------  -----  \n 0   X_Minimum              1941 non-null   int64  \n 1   X_Maximum              1941 non-null   int64  \n 2   Y_Minimum              1941 non-null   int64  \n 3   Y_Maximum              1941 non-null   int64  \n 4   Pixels_Areas           1941 non-null   int64  \n 5   X_Perimeter            1941 non-null   int64  \n 6   Y_Perimeter            1941 non-null   int64  \n 7   Sum_of_Luminosity      1941 non-null   int64  \n 8   Minimum_of_Luminosity  1941 non-null   int64  \n 9   Maximum_of_Luminosity  1941 non-null   int64  \n 10  Length_of_Conveyer     1941 non-null   int64  \n 11  TypeOfSteel_A300       1941 non-null   int64  \n 12  TypeOfSteel_A400       1941 non-null   int64  \n 13  Steel_Plate_Thickness  1941 non-null   int64  \n 14  Edges_Index            1941 non-null   float64\n 15  Empty_Index            1941 non-null   float64\n 16  Square_Index           1941 non-null   float64\n 17  Outside_X_Index        1941 non-null   float64\n 18  Edges_X_Index          1941 non-null   float64\n 19  Edges_Y_Index          1941 non-null   float64\n 20  Outside_Global_Index   1941 non-null   float64\n 21  LogOfAreas             1941 non-null   float64\n 22  Log_X_Index            1941 non-null   float64\n 23  Log_Y_Index            1941 non-null   float64\n 24  Orientation_Index      1941 non-null   float64\n 25  Luminosity_Index       1941 non-null   float64\n 26  SigmoidOfAreas         1941 non-null   float64\n 27  Pastry                 1941 non-null   int64  \n 28  Z_Scratch              1941 non-null   int64  \n 29  K_Scatch               1941 non-null   int64  \n 30  Stains                 1941 non-null   int64  \n 31  Dirtiness              1941 non-null   int64  \n 32  Bumps                  1941 non-null   int64  \n 33  Other_Faults           1941 non-null   int64  \ndtypes: float64(13), int64(21)\nmemory usage: 515.7 KB\n"
     ]
    }
   ],
   "source": [
    "df_dataset.info()"
   ]
  },
  {
   "source": [
    "- 결측치 X\n",
    "- 0:27 독립변수, 27:-1 종속변수 (총 7개)\n"
   ],
   "cell_type": "markdown",
   "metadata": {}
  },
  {
   "source": [
    "**min max normalization**\n",
    "$$x_{new} = \\frac{x-x_{min}}{x_{max} - x_{min}}$$ "
   ],
   "cell_type": "markdown",
   "metadata": {}
  },
  {
   "cell_type": "code",
   "execution_count": 16,
   "metadata": {},
   "outputs": [
    {
     "output_type": "execute_result",
     "data": {
      "text/plain": [
       "         X_Minimum    X_Maximum    Y_Minimum    Y_Maximum  Pixels_Areas  \\\n",
       "count  1941.000000  1941.000000  1941.000000  1941.000000   1941.000000   \n",
       "mean      0.334977     0.359254     0.126645     0.126648      0.012393   \n",
       "std       0.305390     0.291180     0.136706     0.136707      0.033858   \n",
       "min       0.000000     0.000000     0.000000     0.000000      0.000000   \n",
       "25%       0.029912     0.110006     0.035786     0.035788      0.000537   \n",
       "50%       0.255132     0.270919     0.092244     0.092244      0.001127   \n",
       "75%       0.617595     0.624927     0.167658     0.167658      0.005372   \n",
       "max       1.000000     1.000000     1.000000     1.000000      1.000000   \n",
       "\n",
       "       X_Perimeter  Y_Perimeter  Sum_of_Luminosity  Minimum_of_Luminosity  \\\n",
       "count  1941.000000  1941.000000        1941.000000            1941.000000   \n",
       "mean      0.010515     0.004516           0.017778               0.416496   \n",
       "std       0.028832     0.023496           0.044197               0.158297   \n",
       "min       0.000000     0.000000           0.000000               0.000000   \n",
       "25%       0.001244     0.000661           0.000800               0.310345   \n",
       "50%       0.002297     0.001322           0.001635               0.443350   \n",
       "75%       0.007849     0.004518           0.007140               0.522167   \n",
       "max       1.000000     1.000000           1.000000               1.000000   \n",
       "\n",
       "       Maximum_of_Luminosity  ...  Orientation_Index  Luminosity_Index  \\\n",
       "count            1941.000000  ...        1941.000000       1941.000000   \n",
       "mean                0.431452  ...           0.541831          0.528699   \n",
       "std                 0.086532  ...           0.252619          0.090656   \n",
       "min                 0.000000  ...           0.000000          0.000000   \n",
       "25%                 0.402778  ...           0.331719          0.489884   \n",
       "50%                 0.416667  ...           0.547839          0.527666   \n",
       "75%                 0.476852  ...           0.757855          0.568129   \n",
       "max                 1.000000  ...           1.000000          1.000000   \n",
       "\n",
       "       SigmoidOfAreas       Pastry    Z_Scratch     K_Scatch       Stains  \\\n",
       "count     1941.000000  1941.000000  1941.000000  1941.000000  1941.000000   \n",
       "mean         0.529422     0.081401     0.097888     0.201443     0.037094   \n",
       "std          0.385303     0.273521     0.297239     0.401181     0.189042   \n",
       "min          0.000000     0.000000     0.000000     0.000000     0.000000   \n",
       "25%          0.146652     0.000000     0.000000     0.000000     0.000000   \n",
       "50%          0.439614     0.000000     0.000000     0.000000     0.000000   \n",
       "75%          0.999773     0.000000     0.000000     0.000000     0.000000   \n",
       "max          1.000000     1.000000     1.000000     1.000000     1.000000   \n",
       "\n",
       "         Dirtiness        Bumps  Other_Faults  \n",
       "count  1941.000000  1941.000000   1941.000000  \n",
       "mean      0.028336     0.207110      0.346728  \n",
       "std       0.165973     0.405339      0.476051  \n",
       "min       0.000000     0.000000      0.000000  \n",
       "25%       0.000000     0.000000      0.000000  \n",
       "50%       0.000000     0.000000      0.000000  \n",
       "75%       0.000000     0.000000      1.000000  \n",
       "max       1.000000     1.000000      1.000000  \n",
       "\n",
       "[8 rows x 34 columns]"
      ],
      "text/html": "<div>\n<style scoped>\n    .dataframe tbody tr th:only-of-type {\n        vertical-align: middle;\n    }\n\n    .dataframe tbody tr th {\n        vertical-align: top;\n    }\n\n    .dataframe thead th {\n        text-align: right;\n    }\n</style>\n<table border=\"1\" class=\"dataframe\">\n  <thead>\n    <tr style=\"text-align: right;\">\n      <th></th>\n      <th>X_Minimum</th>\n      <th>X_Maximum</th>\n      <th>Y_Minimum</th>\n      <th>Y_Maximum</th>\n      <th>Pixels_Areas</th>\n      <th>X_Perimeter</th>\n      <th>Y_Perimeter</th>\n      <th>Sum_of_Luminosity</th>\n      <th>Minimum_of_Luminosity</th>\n      <th>Maximum_of_Luminosity</th>\n      <th>...</th>\n      <th>Orientation_Index</th>\n      <th>Luminosity_Index</th>\n      <th>SigmoidOfAreas</th>\n      <th>Pastry</th>\n      <th>Z_Scratch</th>\n      <th>K_Scatch</th>\n      <th>Stains</th>\n      <th>Dirtiness</th>\n      <th>Bumps</th>\n      <th>Other_Faults</th>\n    </tr>\n  </thead>\n  <tbody>\n    <tr>\n      <th>count</th>\n      <td>1941.000000</td>\n      <td>1941.000000</td>\n      <td>1941.000000</td>\n      <td>1941.000000</td>\n      <td>1941.000000</td>\n      <td>1941.000000</td>\n      <td>1941.000000</td>\n      <td>1941.000000</td>\n      <td>1941.000000</td>\n      <td>1941.000000</td>\n      <td>...</td>\n      <td>1941.000000</td>\n      <td>1941.000000</td>\n      <td>1941.000000</td>\n      <td>1941.000000</td>\n      <td>1941.000000</td>\n      <td>1941.000000</td>\n      <td>1941.000000</td>\n      <td>1941.000000</td>\n      <td>1941.000000</td>\n      <td>1941.000000</td>\n    </tr>\n    <tr>\n      <th>mean</th>\n      <td>0.334977</td>\n      <td>0.359254</td>\n      <td>0.126645</td>\n      <td>0.126648</td>\n      <td>0.012393</td>\n      <td>0.010515</td>\n      <td>0.004516</td>\n      <td>0.017778</td>\n      <td>0.416496</td>\n      <td>0.431452</td>\n      <td>...</td>\n      <td>0.541831</td>\n      <td>0.528699</td>\n      <td>0.529422</td>\n      <td>0.081401</td>\n      <td>0.097888</td>\n      <td>0.201443</td>\n      <td>0.037094</td>\n      <td>0.028336</td>\n      <td>0.207110</td>\n      <td>0.346728</td>\n    </tr>\n    <tr>\n      <th>std</th>\n      <td>0.305390</td>\n      <td>0.291180</td>\n      <td>0.136706</td>\n      <td>0.136707</td>\n      <td>0.033858</td>\n      <td>0.028832</td>\n      <td>0.023496</td>\n      <td>0.044197</td>\n      <td>0.158297</td>\n      <td>0.086532</td>\n      <td>...</td>\n      <td>0.252619</td>\n      <td>0.090656</td>\n      <td>0.385303</td>\n      <td>0.273521</td>\n      <td>0.297239</td>\n      <td>0.401181</td>\n      <td>0.189042</td>\n      <td>0.165973</td>\n      <td>0.405339</td>\n      <td>0.476051</td>\n    </tr>\n    <tr>\n      <th>min</th>\n      <td>0.000000</td>\n      <td>0.000000</td>\n      <td>0.000000</td>\n      <td>0.000000</td>\n      <td>0.000000</td>\n      <td>0.000000</td>\n      <td>0.000000</td>\n      <td>0.000000</td>\n      <td>0.000000</td>\n      <td>0.000000</td>\n      <td>...</td>\n      <td>0.000000</td>\n      <td>0.000000</td>\n      <td>0.000000</td>\n      <td>0.000000</td>\n      <td>0.000000</td>\n      <td>0.000000</td>\n      <td>0.000000</td>\n      <td>0.000000</td>\n      <td>0.000000</td>\n      <td>0.000000</td>\n    </tr>\n    <tr>\n      <th>25%</th>\n      <td>0.029912</td>\n      <td>0.110006</td>\n      <td>0.035786</td>\n      <td>0.035788</td>\n      <td>0.000537</td>\n      <td>0.001244</td>\n      <td>0.000661</td>\n      <td>0.000800</td>\n      <td>0.310345</td>\n      <td>0.402778</td>\n      <td>...</td>\n      <td>0.331719</td>\n      <td>0.489884</td>\n      <td>0.146652</td>\n      <td>0.000000</td>\n      <td>0.000000</td>\n      <td>0.000000</td>\n      <td>0.000000</td>\n      <td>0.000000</td>\n      <td>0.000000</td>\n      <td>0.000000</td>\n    </tr>\n    <tr>\n      <th>50%</th>\n      <td>0.255132</td>\n      <td>0.270919</td>\n      <td>0.092244</td>\n      <td>0.092244</td>\n      <td>0.001127</td>\n      <td>0.002297</td>\n      <td>0.001322</td>\n      <td>0.001635</td>\n      <td>0.443350</td>\n      <td>0.416667</td>\n      <td>...</td>\n      <td>0.547839</td>\n      <td>0.527666</td>\n      <td>0.439614</td>\n      <td>0.000000</td>\n      <td>0.000000</td>\n      <td>0.000000</td>\n      <td>0.000000</td>\n      <td>0.000000</td>\n      <td>0.000000</td>\n      <td>0.000000</td>\n    </tr>\n    <tr>\n      <th>75%</th>\n      <td>0.617595</td>\n      <td>0.624927</td>\n      <td>0.167658</td>\n      <td>0.167658</td>\n      <td>0.005372</td>\n      <td>0.007849</td>\n      <td>0.004518</td>\n      <td>0.007140</td>\n      <td>0.522167</td>\n      <td>0.476852</td>\n      <td>...</td>\n      <td>0.757855</td>\n      <td>0.568129</td>\n      <td>0.999773</td>\n      <td>0.000000</td>\n      <td>0.000000</td>\n      <td>0.000000</td>\n      <td>0.000000</td>\n      <td>0.000000</td>\n      <td>0.000000</td>\n      <td>1.000000</td>\n    </tr>\n    <tr>\n      <th>max</th>\n      <td>1.000000</td>\n      <td>1.000000</td>\n      <td>1.000000</td>\n      <td>1.000000</td>\n      <td>1.000000</td>\n      <td>1.000000</td>\n      <td>1.000000</td>\n      <td>1.000000</td>\n      <td>1.000000</td>\n      <td>1.000000</td>\n      <td>...</td>\n      <td>1.000000</td>\n      <td>1.000000</td>\n      <td>1.000000</td>\n      <td>1.000000</td>\n      <td>1.000000</td>\n      <td>1.000000</td>\n      <td>1.000000</td>\n      <td>1.000000</td>\n      <td>1.000000</td>\n      <td>1.000000</td>\n    </tr>\n  </tbody>\n</table>\n<p>8 rows × 34 columns</p>\n</div>"
     },
     "metadata": {},
     "execution_count": 16
    }
   ],
   "source": [
    "# 수식 코드화\n",
    "\n",
    "faults_norm = (df_dataset - df_dataset.min()) / (df_dataset.max() - df_dataset.min())\n",
    "faults_norm.describe()"
   ]
  },
  {
   "cell_type": "code",
   "execution_count": 17,
   "metadata": {},
   "outputs": [
    {
     "output_type": "execute_result",
     "data": {
      "text/plain": [
       "      X_Minimum  X_Maximum  Y_Minimum  Y_Maximum  Pixels_Areas  X_Perimeter  \\\n",
       "1468   0.438123   0.441194   0.072601   0.072600      0.000452     0.001149   \n",
       "1039   0.547214   0.548274   0.020423   0.020423      0.000236     0.000670   \n",
       "400    0.000000   0.222352   0.038843   0.038859      0.137790     0.096966   \n",
       "413    0.024047   0.133411   0.064556   0.064570      0.133053     0.072078   \n",
       "302    0.062757   0.067876   0.163296   0.163296      0.000662     0.001627   \n",
       "\n",
       "      Y_Perimeter  Sum_of_Luminosity  Minimum_of_Luminosity  \\\n",
       "1468     0.000386           0.000649               0.472906   \n",
       "1039     0.000331           0.000320               0.418719   \n",
       "400      0.032230           0.217343               0.118227   \n",
       "413      0.027326           0.207083               0.113300   \n",
       "302      0.000661           0.001050               0.551724   \n",
       "\n",
       "      Maximum_of_Luminosity  ...  Orientation_Index  Luminosity_Index  \\\n",
       "1468               0.412037  ...           0.362284          0.520232   \n",
       "1039               0.379630  ...           0.436778          0.495856   \n",
       "400                0.490741  ...           0.283099          0.569531   \n",
       "413                0.481481  ...           0.494528          0.561974   \n",
       "302                0.439815  ...           0.499823          0.573614   \n",
       "\n",
       "      SigmoidOfAreas  Pastry  Z_Scratch  K_Scatch  Stains  Dirtiness  Bumps  \\\n",
       "1468        0.084449     0.0        0.0       0.0     0.0        0.0    0.0   \n",
       "1039        0.049035     0.0        0.0       0.0     0.0        0.0    1.0   \n",
       "400         1.000000     0.0        0.0       1.0     0.0        0.0    0.0   \n",
       "413         1.000000     0.0        0.0       1.0     0.0        0.0    0.0   \n",
       "302         0.195687     0.0        1.0       0.0     0.0        0.0    0.0   \n",
       "\n",
       "      Other_Faults  \n",
       "1468           1.0  \n",
       "1039           0.0  \n",
       "400            0.0  \n",
       "413            0.0  \n",
       "302            0.0  \n",
       "\n",
       "[5 rows x 34 columns]"
      ],
      "text/html": "<div>\n<style scoped>\n    .dataframe tbody tr th:only-of-type {\n        vertical-align: middle;\n    }\n\n    .dataframe tbody tr th {\n        vertical-align: top;\n    }\n\n    .dataframe thead th {\n        text-align: right;\n    }\n</style>\n<table border=\"1\" class=\"dataframe\">\n  <thead>\n    <tr style=\"text-align: right;\">\n      <th></th>\n      <th>X_Minimum</th>\n      <th>X_Maximum</th>\n      <th>Y_Minimum</th>\n      <th>Y_Maximum</th>\n      <th>Pixels_Areas</th>\n      <th>X_Perimeter</th>\n      <th>Y_Perimeter</th>\n      <th>Sum_of_Luminosity</th>\n      <th>Minimum_of_Luminosity</th>\n      <th>Maximum_of_Luminosity</th>\n      <th>...</th>\n      <th>Orientation_Index</th>\n      <th>Luminosity_Index</th>\n      <th>SigmoidOfAreas</th>\n      <th>Pastry</th>\n      <th>Z_Scratch</th>\n      <th>K_Scatch</th>\n      <th>Stains</th>\n      <th>Dirtiness</th>\n      <th>Bumps</th>\n      <th>Other_Faults</th>\n    </tr>\n  </thead>\n  <tbody>\n    <tr>\n      <th>1468</th>\n      <td>0.438123</td>\n      <td>0.441194</td>\n      <td>0.072601</td>\n      <td>0.072600</td>\n      <td>0.000452</td>\n      <td>0.001149</td>\n      <td>0.000386</td>\n      <td>0.000649</td>\n      <td>0.472906</td>\n      <td>0.412037</td>\n      <td>...</td>\n      <td>0.362284</td>\n      <td>0.520232</td>\n      <td>0.084449</td>\n      <td>0.0</td>\n      <td>0.0</td>\n      <td>0.0</td>\n      <td>0.0</td>\n      <td>0.0</td>\n      <td>0.0</td>\n      <td>1.0</td>\n    </tr>\n    <tr>\n      <th>1039</th>\n      <td>0.547214</td>\n      <td>0.548274</td>\n      <td>0.020423</td>\n      <td>0.020423</td>\n      <td>0.000236</td>\n      <td>0.000670</td>\n      <td>0.000331</td>\n      <td>0.000320</td>\n      <td>0.418719</td>\n      <td>0.379630</td>\n      <td>...</td>\n      <td>0.436778</td>\n      <td>0.495856</td>\n      <td>0.049035</td>\n      <td>0.0</td>\n      <td>0.0</td>\n      <td>0.0</td>\n      <td>0.0</td>\n      <td>0.0</td>\n      <td>1.0</td>\n      <td>0.0</td>\n    </tr>\n    <tr>\n      <th>400</th>\n      <td>0.000000</td>\n      <td>0.222352</td>\n      <td>0.038843</td>\n      <td>0.038859</td>\n      <td>0.137790</td>\n      <td>0.096966</td>\n      <td>0.032230</td>\n      <td>0.217343</td>\n      <td>0.118227</td>\n      <td>0.490741</td>\n      <td>...</td>\n      <td>0.283099</td>\n      <td>0.569531</td>\n      <td>1.000000</td>\n      <td>0.0</td>\n      <td>0.0</td>\n      <td>1.0</td>\n      <td>0.0</td>\n      <td>0.0</td>\n      <td>0.0</td>\n      <td>0.0</td>\n    </tr>\n    <tr>\n      <th>413</th>\n      <td>0.024047</td>\n      <td>0.133411</td>\n      <td>0.064556</td>\n      <td>0.064570</td>\n      <td>0.133053</td>\n      <td>0.072078</td>\n      <td>0.027326</td>\n      <td>0.207083</td>\n      <td>0.113300</td>\n      <td>0.481481</td>\n      <td>...</td>\n      <td>0.494528</td>\n      <td>0.561974</td>\n      <td>1.000000</td>\n      <td>0.0</td>\n      <td>0.0</td>\n      <td>1.0</td>\n      <td>0.0</td>\n      <td>0.0</td>\n      <td>0.0</td>\n      <td>0.0</td>\n    </tr>\n    <tr>\n      <th>302</th>\n      <td>0.062757</td>\n      <td>0.067876</td>\n      <td>0.163296</td>\n      <td>0.163296</td>\n      <td>0.000662</td>\n      <td>0.001627</td>\n      <td>0.000661</td>\n      <td>0.001050</td>\n      <td>0.551724</td>\n      <td>0.439815</td>\n      <td>...</td>\n      <td>0.499823</td>\n      <td>0.573614</td>\n      <td>0.195687</td>\n      <td>0.0</td>\n      <td>1.0</td>\n      <td>0.0</td>\n      <td>0.0</td>\n      <td>0.0</td>\n      <td>0.0</td>\n      <td>0.0</td>\n    </tr>\n  </tbody>\n</table>\n<p>5 rows × 34 columns</p>\n</div>"
     },
     "metadata": {},
     "execution_count": 17
    }
   ],
   "source": [
    "# 데이터 섞기\n",
    "\n",
    "faults_shuffle = faults_norm.sample(frac=1)\n",
    "faults_shuffle.head()"
   ]
  },
  {
   "cell_type": "code",
   "execution_count": 18,
   "metadata": {},
   "outputs": [
    {
     "output_type": "stream",
     "name": "stdout",
     "text": [
      "<class 'numpy.ndarray'>\n"
     ]
    },
    {
     "output_type": "execute_result",
     "data": {
      "text/plain": [
       "array([[4.38123167e-01, 4.41193681e-01, 7.26005472e-02, 7.26001327e-02,\n",
       "        4.52005529e-04, 1.14865512e-03, 3.85653683e-04, 6.48597501e-04,\n",
       "        4.72906404e-01, 4.12037037e-01, 8.30687831e-01, 0.00000000e+00,\n",
       "        1.00000000e+00, 7.69230769e-02, 8.84143891e-01, 2.04682699e-01,\n",
       "        7.25017646e-01, 5.71820677e-03, 7.82568994e-01, 1.00000000e+00,\n",
       "        0.00000000e+00, 3.17508755e-01, 2.66993617e-01, 2.12060018e-01,\n",
       "        3.62283754e-01, 5.20231566e-01, 8.44494892e-02, 0.00000000e+00,\n",
       "        0.00000000e+00, 0.00000000e+00, 0.00000000e+00, 0.00000000e+00,\n",
       "        0.00000000e+00, 1.00000000e+00],\n",
       "       [5.47214076e-01, 5.48273844e-01, 2.04231601e-02, 2.04227451e-02,\n",
       "        2.35828972e-04, 6.70048818e-04, 3.30560300e-04, 3.20330210e-04,\n",
       "        4.18719212e-01, 3.79629630e-01, 8.27160494e-01, 1.00000000e+00,\n",
       "        0.00000000e+00, 2.30769231e-01, 8.94594051e-01, 3.40502172e-01,\n",
       "        8.73953817e-01, 3.65965233e-03, 8.87276786e-01, 1.00000000e+00,\n",
       "        0.00000000e+00, 2.61904274e-01, 2.17121633e-01, 1.98440839e-01,\n",
       "        4.36778131e-01, 4.95856185e-01, 4.90351873e-02, 0.00000000e+00,\n",
       "        0.00000000e+00, 0.00000000e+00, 0.00000000e+00, 0.00000000e+00,\n",
       "        1.00000000e+00, 0.00000000e+00],\n",
       "       [0.00000000e+00, 2.22352253e-01, 3.88429998e-02, 3.88588894e-02,\n",
       "        1.37789627e-01, 9.69656361e-02, 3.22296292e-02, 2.17343228e-01,\n",
       "        1.18226601e-01, 4.90740741e-01, 3.08641975e-01, 0.00000000e+00,\n",
       "        1.00000000e+00, 0.00000000e+00, 0.00000000e+00, 7.94469753e-01,\n",
       "        5.66703640e-01, 3.11527905e-01, 3.69216721e-01, 3.41845313e-01,\n",
       "        0.00000000e+00, 8.23724579e-01, 8.23374563e-01, 5.49557377e-01,\n",
       "        2.83098805e-01, 5.69530774e-01, 1.00000000e+00, 0.00000000e+00,\n",
       "        0.00000000e+00, 1.00000000e+00, 0.00000000e+00, 0.00000000e+00,\n",
       "        0.00000000e+00, 0.00000000e+00],\n",
       "       [2.40469208e-02, 1.33411352e-01, 6.45562971e-02, 6.45698379e-02,\n",
       "        1.33053396e-01, 7.20781085e-02, 2.73263181e-02, 2.07083430e-01,\n",
       "        1.13300493e-01, 4.81481481e-01, 3.05114638e-01, 0.00000000e+00,\n",
       "        1.00000000e+00, 0.00000000e+00, 5.88826367e-02, 4.63290603e-01,\n",
       "        9.89412121e-01, 1.54277219e-01, 2.42086039e-01, 3.48781000e-01,\n",
       "        0.00000000e+00, 8.20611547e-01, 7.14002380e-01, 5.34552798e-01,\n",
       "        4.94527664e-01, 5.61974406e-01, 1.00000000e+00, 0.00000000e+00,\n",
       "        0.00000000e+00, 1.00000000e+00, 0.00000000e+00, 0.00000000e+00,\n",
       "        0.00000000e+00, 0.00000000e+00],\n",
       "       [6.27565982e-02, 6.78759508e-02, 1.63295996e-01, 1.63295834e-01,\n",
       "        6.61631281e-04, 1.62726141e-03, 6.61120599e-04, 1.05028278e-03,\n",
       "        5.51724138e-01, 4.39814815e-01, 2.27513228e-01, 1.00000000e+00,\n",
       "        0.00000000e+00, 1.15384615e-01, 1.58561093e-01, 4.13709079e-01,\n",
       "        1.00000000e+00, 9.26349497e-03, 6.79586039e-01, 1.00000000e+00,\n",
       "        5.00000000e-01, 3.50584717e-01, 2.93137644e-01, 2.61558692e-01,\n",
       "        4.99823473e-01, 5.73613650e-01, 1.95686720e-01, 0.00000000e+00,\n",
       "        1.00000000e+00, 0.00000000e+00, 0.00000000e+00, 0.00000000e+00,\n",
       "        0.00000000e+00, 0.00000000e+00]])"
      ]
     },
     "metadata": {},
     "execution_count": 18
    }
   ],
   "source": [
    "# 각 행을 numpy array로 변형 (이중 배열)\n",
    "faults_np =faults_shuffle.to_numpy()\n",
    "print(type(faults_np))\n",
    "faults_np[:5]"
   ]
  },
  {
   "cell_type": "code",
   "execution_count": 19,
   "metadata": {},
   "outputs": [],
   "source": [
    "# hyper params\n",
    "train_ratio = 0.9\n",
    "input_cnt   = 27\n",
    "output_cnt  = 7"
   ]
  },
  {
   "cell_type": "code",
   "execution_count": 20,
   "metadata": {},
   "outputs": [
    {
     "output_type": "stream",
     "name": "stdout",
     "text": [
      "train_idx :  1746\n"
     ]
    }
   ],
   "source": [
    "# 학습데이터가 끝나는 위치?\n",
    "train_idx =  int(len(faults_np) * train_ratio)\n",
    "print(\"train_idx : \", train_idx)"
   ]
  },
  {
   "source": [
    "1941 의 90% 이므로 1746에서 테스트 데이터가 분리된다."
   ],
   "cell_type": "markdown",
   "metadata": {}
  },
  {
   "cell_type": "code",
   "execution_count": 21,
   "metadata": {},
   "outputs": [],
   "source": [
    "train_X, train_Y = faults_np[:train_idx, :-output_cnt], faults_np[:train_idx, -output_cnt:]     # faults_np[row, col]\n",
    "test_X, test_Y  = faults_np[train_idx:, :-output_cnt], faults_np[train_idx:, -output_cnt:]"
   ]
  },
  {
   "cell_type": "code",
   "execution_count": 22,
   "metadata": {},
   "outputs": [
    {
     "output_type": "stream",
     "name": "stdout",
     "text": [
      "(1746, 27)\n(1746, 7)\n(195, 27)\n(195, 7)\n"
     ]
    }
   ],
   "source": [
    "print(train_X.shape)\n",
    "print(train_Y.shape)\n",
    "\n",
    "print(test_X.shape)\n",
    "print(test_Y.shape)"
   ]
  },
  {
   "source": [
    "### model abstract # 1\n",
    "\n",
    "![model abstract](./img/faults_practice_model_guide.png)"
   ],
   "cell_type": "markdown",
   "metadata": {}
  },
  {
   "cell_type": "code",
   "execution_count": 23,
   "metadata": {},
   "outputs": [],
   "source": [
    "# mini batch : tf가 알아서 함\n",
    "\n",
    "GJ_NET_model = tf.keras.Sequential([\n",
    "    tf.keras.layers.Dense(units=48, activation='elu', input_shape = (27,)), # 첫 layer에서는 input shape을 tuple 형식으로 알려줘야 한다. units는 케바케\n",
    "    tf.keras.layers.Dense(units=24, activation='elu'), # units 값 처음에 크게 쌓고 감소시키느냐 반대로 하느냐의 두 방법이 있음. 역시 케바케\n",
    "    tf.keras.layers.Dense(units=12, activation='elu'),\n",
    "    tf.keras.layers.Dense(units=7, activation='softmax')\n",
    "])"
   ]
  },
  {
   "source": [
    "### model abstract # 2\n",
    "\n",
    "![model abstract_2](./img/faults_practice_model_guide_2.png)\n",
    "\n",
    "- units : p의 개수"
   ],
   "cell_type": "markdown",
   "metadata": {}
  },
  {
   "cell_type": "code",
   "execution_count": 24,
   "metadata": {},
   "outputs": [],
   "source": [
    "GJ_NET_model.compile(optimizer=tf.keras.optimizers.Adam(learning_rate=0.001), loss = 'categorical_crossentropy')"
   ]
  },
  {
   "source": [
    "### 학습"
   ],
   "cell_type": "markdown",
   "metadata": {}
  },
  {
   "cell_type": "code",
   "execution_count": 25,
   "metadata": {},
   "outputs": [
    {
     "output_type": "stream",
     "name": "stdout",
     "text": [
      "Epoch 1/200\n",
      "175/175 [==============================] - 0s 503us/step - loss: 1.3339\n",
      "Epoch 2/200\n",
      "175/175 [==============================] - 0s 488us/step - loss: 1.0414\n",
      "Epoch 3/200\n",
      "175/175 [==============================] - 0s 489us/step - loss: 0.9264\n",
      "Epoch 4/200\n",
      "175/175 [==============================] - 0s 489us/step - loss: 0.8583\n",
      "Epoch 5/200\n",
      "175/175 [==============================] - 0s 495us/step - loss: 0.8270\n",
      "Epoch 6/200\n",
      "175/175 [==============================] - 0s 512us/step - loss: 0.7891\n",
      "Epoch 7/200\n",
      "175/175 [==============================] - 0s 494us/step - loss: 0.7708\n",
      "Epoch 8/200\n",
      "175/175 [==============================] - 0s 476us/step - loss: 0.7624\n",
      "Epoch 9/200\n",
      "175/175 [==============================] - 0s 496us/step - loss: 0.7537\n",
      "Epoch 10/200\n",
      "175/175 [==============================] - 0s 477us/step - loss: 0.7363\n",
      "Epoch 11/200\n",
      "175/175 [==============================] - 0s 528us/step - loss: 0.7294\n",
      "Epoch 12/200\n",
      "175/175 [==============================] - 0s 489us/step - loss: 0.7190\n",
      "Epoch 13/200\n",
      "175/175 [==============================] - 0s 489us/step - loss: 0.7105\n",
      "Epoch 14/200\n",
      "175/175 [==============================] - 0s 504us/step - loss: 0.6993\n",
      "Epoch 15/200\n",
      "175/175 [==============================] - 0s 482us/step - loss: 0.6987\n",
      "Epoch 16/200\n",
      "175/175 [==============================] - 0s 527us/step - loss: 0.6933\n",
      "Epoch 17/200\n",
      "175/175 [==============================] - 0s 502us/step - loss: 0.6819\n",
      "Epoch 18/200\n",
      "175/175 [==============================] - 0s 512us/step - loss: 0.6794\n",
      "Epoch 19/200\n",
      "175/175 [==============================] - 0s 488us/step - loss: 0.6751\n",
      "Epoch 20/200\n",
      "175/175 [==============================] - 0s 534us/step - loss: 0.6695\n",
      "Epoch 21/200\n",
      "175/175 [==============================] - 0s 506us/step - loss: 0.6631\n",
      "Epoch 22/200\n",
      "175/175 [==============================] - 0s 489us/step - loss: 0.6666\n",
      "Epoch 23/200\n",
      "175/175 [==============================] - 0s 504us/step - loss: 0.6554\n",
      "Epoch 24/200\n",
      "175/175 [==============================] - 0s 490us/step - loss: 0.6549\n",
      "Epoch 25/200\n",
      "175/175 [==============================] - 0s 506us/step - loss: 0.6544\n",
      "Epoch 26/200\n",
      "175/175 [==============================] - 0s 521us/step - loss: 0.6451\n",
      "Epoch 27/200\n",
      "175/175 [==============================] - 0s 490us/step - loss: 0.6400\n",
      "Epoch 28/200\n",
      "175/175 [==============================] - 0s 491us/step - loss: 0.6505\n",
      "Epoch 29/200\n",
      "175/175 [==============================] - 0s 488us/step - loss: 0.6392\n",
      "Epoch 30/200\n",
      "175/175 [==============================] - 0s 489us/step - loss: 0.6313\n",
      "Epoch 31/200\n",
      "175/175 [==============================] - 0s 477us/step - loss: 0.6293\n",
      "Epoch 32/200\n",
      "175/175 [==============================] - 0s 488us/step - loss: 0.6293\n",
      "Epoch 33/200\n",
      "175/175 [==============================] - 0s 489us/step - loss: 0.6303\n",
      "Epoch 34/200\n",
      "175/175 [==============================] - 0s 483us/step - loss: 0.6228\n",
      "Epoch 35/200\n",
      "175/175 [==============================] - 0s 500us/step - loss: 0.6135\n",
      "Epoch 36/200\n",
      "175/175 [==============================] - 0s 498us/step - loss: 0.6162\n",
      "Epoch 37/200\n",
      "175/175 [==============================] - 0s 500us/step - loss: 0.6074\n",
      "Epoch 38/200\n",
      "175/175 [==============================] - 0s 543us/step - loss: 0.6062\n",
      "Epoch 39/200\n",
      "175/175 [==============================] - 0s 505us/step - loss: 0.6101\n",
      "Epoch 40/200\n",
      "175/175 [==============================] - 0s 500us/step - loss: 0.6057\n",
      "Epoch 41/200\n",
      "175/175 [==============================] - 0s 486us/step - loss: 0.5997\n",
      "Epoch 42/200\n",
      "175/175 [==============================] - 0s 473us/step - loss: 0.5999\n",
      "Epoch 43/200\n",
      "175/175 [==============================] - 0s 506us/step - loss: 0.5939\n",
      "Epoch 44/200\n",
      "175/175 [==============================] - 0s 500us/step - loss: 0.5965\n",
      "Epoch 45/200\n",
      "175/175 [==============================] - 0s 482us/step - loss: 0.5906\n",
      "Epoch 46/200\n",
      "175/175 [==============================] - 0s 478us/step - loss: 0.5841\n",
      "Epoch 47/200\n",
      "175/175 [==============================] - 0s 500us/step - loss: 0.5830\n",
      "Epoch 48/200\n",
      "175/175 [==============================] - 0s 552us/step - loss: 0.5849\n",
      "Epoch 49/200\n",
      "175/175 [==============================] - 0s 488us/step - loss: 0.5915\n",
      "Epoch 50/200\n",
      "175/175 [==============================] - 0s 495us/step - loss: 0.5791\n",
      "Epoch 51/200\n",
      "175/175 [==============================] - 0s 494us/step - loss: 0.5783\n",
      "Epoch 52/200\n",
      "175/175 [==============================] - 0s 489us/step - loss: 0.5809\n",
      "Epoch 53/200\n",
      "175/175 [==============================] - 0s 488us/step - loss: 0.5697\n",
      "Epoch 54/200\n",
      "175/175 [==============================] - 0s 506us/step - loss: 0.5693\n",
      "Epoch 55/200\n",
      "175/175 [==============================] - 0s 495us/step - loss: 0.5685\n",
      "Epoch 56/200\n",
      "175/175 [==============================] - 0s 488us/step - loss: 0.5742\n",
      "Epoch 57/200\n",
      "175/175 [==============================] - 0s 494us/step - loss: 0.5645\n",
      "Epoch 58/200\n",
      "175/175 [==============================] - 0s 495us/step - loss: 0.5629\n",
      "Epoch 59/200\n",
      "175/175 [==============================] - 0s 517us/step - loss: 0.5576\n",
      "Epoch 60/200\n",
      "175/175 [==============================] - 0s 495us/step - loss: 0.5527\n",
      "Epoch 61/200\n",
      "175/175 [==============================] - 0s 482us/step - loss: 0.5602\n",
      "Epoch 62/200\n",
      "175/175 [==============================] - 0s 506us/step - loss: 0.5668\n",
      "Epoch 63/200\n",
      "175/175 [==============================] - 0s 546us/step - loss: 0.5526\n",
      "Epoch 64/200\n",
      "175/175 [==============================] - 0s 500us/step - loss: 0.5479\n",
      "Epoch 65/200\n",
      "175/175 [==============================] - 0s 494us/step - loss: 0.5497\n",
      "Epoch 66/200\n",
      "175/175 [==============================] - 0s 476us/step - loss: 0.5639\n",
      "Epoch 67/200\n",
      "175/175 [==============================] - 0s 500us/step - loss: 0.5498\n",
      "Epoch 68/200\n",
      "175/175 [==============================] - 0s 500us/step - loss: 0.5385\n",
      "Epoch 69/200\n",
      "175/175 [==============================] - 0s 483us/step - loss: 0.5391\n",
      "Epoch 70/200\n",
      "175/175 [==============================] - 0s 505us/step - loss: 0.5405\n",
      "Epoch 71/200\n",
      "175/175 [==============================] - 0s 480us/step - loss: 0.5437\n",
      "Epoch 72/200\n",
      "175/175 [==============================] - 0s 480us/step - loss: 0.5461\n",
      "Epoch 73/200\n",
      "175/175 [==============================] - 0s 470us/step - loss: 0.5396\n",
      "Epoch 74/200\n",
      "175/175 [==============================] - 0s 494us/step - loss: 0.5451\n",
      "Epoch 75/200\n",
      "175/175 [==============================] - 0s 494us/step - loss: 0.5353\n",
      "Epoch 76/200\n",
      "175/175 [==============================] - 0s 489us/step - loss: 0.5360\n",
      "Epoch 77/200\n",
      "175/175 [==============================] - 0s 482us/step - loss: 0.5334\n",
      "Epoch 78/200\n",
      "175/175 [==============================] - 0s 483us/step - loss: 0.5322\n",
      "Epoch 79/200\n",
      "175/175 [==============================] - 0s 489us/step - loss: 0.5242\n",
      "Epoch 80/200\n",
      "175/175 [==============================] - 0s 494us/step - loss: 0.5270\n",
      "Epoch 81/200\n",
      "175/175 [==============================] - 0s 488us/step - loss: 0.5278\n",
      "Epoch 82/200\n",
      "175/175 [==============================] - 0s 483us/step - loss: 0.5248\n",
      "Epoch 83/200\n",
      "175/175 [==============================] - 0s 480us/step - loss: 0.5319\n",
      "Epoch 84/200\n",
      "175/175 [==============================] - 0s 497us/step - loss: 0.5202\n",
      "Epoch 85/200\n",
      "175/175 [==============================] - 0s 500us/step - loss: 0.5249\n",
      "Epoch 86/200\n",
      "175/175 [==============================] - 0s 483us/step - loss: 0.5149\n",
      "Epoch 87/200\n",
      "175/175 [==============================] - 0s 494us/step - loss: 0.5130\n",
      "Epoch 88/200\n",
      "175/175 [==============================] - 0s 477us/step - loss: 0.5166\n",
      "Epoch 89/200\n",
      "175/175 [==============================] - 0s 495us/step - loss: 0.5132\n",
      "Epoch 90/200\n",
      "175/175 [==============================] - 0s 494us/step - loss: 0.5066\n",
      "Epoch 91/200\n",
      "175/175 [==============================] - 0s 506us/step - loss: 0.5164\n",
      "Epoch 92/200\n",
      "175/175 [==============================] - 0s 494us/step - loss: 0.5047\n",
      "Epoch 93/200\n",
      "175/175 [==============================] - 0s 483us/step - loss: 0.5071\n",
      "Epoch 94/200\n",
      "175/175 [==============================] - 0s 483us/step - loss: 0.5118\n",
      "Epoch 95/200\n",
      "175/175 [==============================] - 0s 661us/step - loss: 0.5067\n",
      "Epoch 96/200\n",
      "175/175 [==============================] - 0s 494us/step - loss: 0.5086\n",
      "Epoch 97/200\n",
      "175/175 [==============================] - 0s 494us/step - loss: 0.5023\n",
      "Epoch 98/200\n",
      "175/175 [==============================] - 0s 495us/step - loss: 0.4976\n",
      "Epoch 99/200\n",
      "175/175 [==============================] - 0s 489us/step - loss: 0.5076\n",
      "Epoch 100/200\n",
      "175/175 [==============================] - 0s 489us/step - loss: 0.4974\n",
      "Epoch 101/200\n",
      "175/175 [==============================] - 0s 466us/step - loss: 0.4954\n",
      "Epoch 102/200\n",
      "175/175 [==============================] - 0s 499us/step - loss: 0.4982\n",
      "Epoch 103/200\n",
      "175/175 [==============================] - 0s 489us/step - loss: 0.4929\n",
      "Epoch 104/200\n",
      "175/175 [==============================] - 0s 494us/step - loss: 0.4932\n",
      "Epoch 105/200\n",
      "175/175 [==============================] - 0s 494us/step - loss: 0.4891\n",
      "Epoch 106/200\n",
      "175/175 [==============================] - 0s 499us/step - loss: 0.4885\n",
      "Epoch 107/200\n",
      "175/175 [==============================] - 0s 483us/step - loss: 0.4899\n",
      "Epoch 108/200\n",
      "175/175 [==============================] - 0s 489us/step - loss: 0.4885\n",
      "Epoch 109/200\n",
      "175/175 [==============================] - 0s 470us/step - loss: 0.4834\n",
      "Epoch 110/200\n",
      "175/175 [==============================] - 0s 512us/step - loss: 0.4745\n",
      "Epoch 111/200\n",
      "175/175 [==============================] - 0s 497us/step - loss: 0.4832\n",
      "Epoch 112/200\n",
      "175/175 [==============================] - 0s 480us/step - loss: 0.4777\n",
      "Epoch 113/200\n",
      "175/175 [==============================] - 0s 488us/step - loss: 0.4918\n",
      "Epoch 114/200\n",
      "175/175 [==============================] - 0s 489us/step - loss: 0.4774\n",
      "Epoch 115/200\n",
      "175/175 [==============================] - 0s 489us/step - loss: 0.4782\n",
      "Epoch 116/200\n",
      "175/175 [==============================] - 0s 494us/step - loss: 0.4784\n",
      "Epoch 117/200\n",
      "175/175 [==============================] - 0s 488us/step - loss: 0.4774\n",
      "Epoch 118/200\n",
      "175/175 [==============================] - 0s 489us/step - loss: 0.4710\n",
      "Epoch 119/200\n",
      "175/175 [==============================] - 0s 489us/step - loss: 0.4743\n",
      "Epoch 120/200\n",
      "175/175 [==============================] - 0s 506us/step - loss: 0.4707\n",
      "Epoch 121/200\n",
      "175/175 [==============================] - 0s 488us/step - loss: 0.4752\n",
      "Epoch 122/200\n",
      "175/175 [==============================] - 0s 489us/step - loss: 0.4648\n",
      "Epoch 123/200\n",
      "175/175 [==============================] - 0s 506us/step - loss: 0.4671\n",
      "Epoch 124/200\n",
      "175/175 [==============================] - 0s 465us/step - loss: 0.4617\n",
      "Epoch 125/200\n",
      "175/175 [==============================] - 0s 488us/step - loss: 0.4679\n",
      "Epoch 126/200\n",
      "175/175 [==============================] - 0s 489us/step - loss: 0.4662\n",
      "Epoch 127/200\n",
      "175/175 [==============================] - 0s 511us/step - loss: 0.4614\n",
      "Epoch 128/200\n",
      "175/175 [==============================] - 0s 494us/step - loss: 0.4710\n",
      "Epoch 129/200\n",
      "175/175 [==============================] - 0s 497us/step - loss: 0.4591\n",
      "Epoch 130/200\n",
      "175/175 [==============================] - 0s 486us/step - loss: 0.4599\n",
      "Epoch 131/200\n",
      "175/175 [==============================] - 0s 581us/step - loss: 0.4493\n",
      "Epoch 132/200\n",
      "175/175 [==============================] - 0s 509us/step - loss: 0.4558\n",
      "Epoch 133/200\n",
      "175/175 [==============================] - 0s 497us/step - loss: 0.4506\n",
      "Epoch 134/200\n",
      "175/175 [==============================] - 0s 488us/step - loss: 0.4525\n",
      "Epoch 135/200\n",
      "175/175 [==============================] - 0s 500us/step - loss: 0.4483\n",
      "Epoch 136/200\n",
      "175/175 [==============================] - 0s 506us/step - loss: 0.4511\n",
      "Epoch 137/200\n",
      "175/175 [==============================] - 0s 489us/step - loss: 0.4456\n",
      "Epoch 138/200\n",
      "175/175 [==============================] - 0s 499us/step - loss: 0.4593\n",
      "Epoch 139/200\n",
      "175/175 [==============================] - 0s 500us/step - loss: 0.4431\n",
      "Epoch 140/200\n",
      "175/175 [==============================] - 0s 529us/step - loss: 0.4456\n",
      "Epoch 141/200\n",
      "175/175 [==============================] - 0s 500us/step - loss: 0.4429\n",
      "Epoch 142/200\n",
      "175/175 [==============================] - 0s 506us/step - loss: 0.4425\n",
      "Epoch 143/200\n",
      "175/175 [==============================] - 0s 505us/step - loss: 0.4432\n",
      "Epoch 144/200\n",
      "175/175 [==============================] - 0s 506us/step - loss: 0.4426\n",
      "Epoch 145/200\n",
      "175/175 [==============================] - 0s 512us/step - loss: 0.4348\n",
      "Epoch 146/200\n",
      "175/175 [==============================] - 0s 497us/step - loss: 0.4393\n",
      "Epoch 147/200\n",
      "175/175 [==============================] - 0s 474us/step - loss: 0.4380\n",
      "Epoch 148/200\n",
      "175/175 [==============================] - 0s 536us/step - loss: 0.4283\n",
      "Epoch 149/200\n",
      "175/175 [==============================] - 0s 488us/step - loss: 0.4333\n",
      "Epoch 150/200\n",
      "175/175 [==============================] - 0s 494us/step - loss: 0.4340\n",
      "Epoch 151/200\n",
      "175/175 [==============================] - 0s 523us/step - loss: 0.4282\n",
      "Epoch 152/200\n",
      "175/175 [==============================] - 0s 499us/step - loss: 0.4339\n",
      "Epoch 153/200\n",
      "175/175 [==============================] - 0s 531us/step - loss: 0.4240\n",
      "Epoch 154/200\n",
      "175/175 [==============================] - 0s 500us/step - loss: 0.4288\n",
      "Epoch 155/200\n",
      "175/175 [==============================] - 0s 486us/step - loss: 0.4332\n",
      "Epoch 156/200\n",
      "175/175 [==============================] - 0s 471us/step - loss: 0.4253\n",
      "Epoch 157/200\n",
      "175/175 [==============================] - 0s 516us/step - loss: 0.4234\n",
      "Epoch 158/200\n",
      "175/175 [==============================] - 0s 485us/step - loss: 0.4387\n",
      "Epoch 159/200\n",
      "175/175 [==============================] - 0s 515us/step - loss: 0.4204\n",
      "Epoch 160/200\n",
      "175/175 [==============================] - 0s 512us/step - loss: 0.4169\n",
      "Epoch 161/200\n",
      "175/175 [==============================] - 0s 482us/step - loss: 0.4205\n",
      "Epoch 162/200\n",
      "175/175 [==============================] - 0s 517us/step - loss: 0.4241\n",
      "Epoch 163/200\n",
      "175/175 [==============================] - 0s 500us/step - loss: 0.4157\n",
      "Epoch 164/200\n",
      "175/175 [==============================] - 0s 506us/step - loss: 0.4231\n",
      "Epoch 165/200\n",
      "175/175 [==============================] - 0s 558us/step - loss: 0.4178\n",
      "Epoch 166/200\n",
      "175/175 [==============================] - 0s 557us/step - loss: 0.4101\n",
      "Epoch 167/200\n",
      "175/175 [==============================] - 0s 482us/step - loss: 0.4130\n",
      "Epoch 168/200\n",
      "175/175 [==============================] - 0s 522us/step - loss: 0.4141\n",
      "Epoch 169/200\n",
      "175/175 [==============================] - 0s 489us/step - loss: 0.4101\n",
      "Epoch 170/200\n",
      "175/175 [==============================] - 0s 546us/step - loss: 0.4177\n",
      "Epoch 171/200\n",
      "175/175 [==============================] - 0s 494us/step - loss: 0.4140\n",
      "Epoch 172/200\n",
      "175/175 [==============================] - 0s 540us/step - loss: 0.4130\n",
      "Epoch 173/200\n",
      "175/175 [==============================] - 0s 509us/step - loss: 0.4063\n",
      "Epoch 174/200\n",
      "175/175 [==============================] - 0s 543us/step - loss: 0.4093\n",
      "Epoch 175/200\n",
      "175/175 [==============================] - 0s 509us/step - loss: 0.4036\n",
      "Epoch 176/200\n",
      "175/175 [==============================] - 0s 507us/step - loss: 0.4082\n",
      "Epoch 177/200\n",
      "175/175 [==============================] - 0s 508us/step - loss: 0.4005\n",
      "Epoch 178/200\n",
      "175/175 [==============================] - 0s 586us/step - loss: 0.4107\n",
      "Epoch 179/200\n",
      "175/175 [==============================] - 0s 511us/step - loss: 0.4013\n",
      "Epoch 180/200\n",
      "175/175 [==============================] - 0s 509us/step - loss: 0.4041\n",
      "Epoch 181/200\n",
      "175/175 [==============================] - 0s 502us/step - loss: 0.4062\n",
      "Epoch 182/200\n",
      "175/175 [==============================] - 0s 506us/step - loss: 0.3933\n",
      "Epoch 183/200\n",
      "175/175 [==============================] - 0s 500us/step - loss: 0.4032\n",
      "Epoch 184/200\n",
      "175/175 [==============================] - 0s 471us/step - loss: 0.4005\n",
      "Epoch 185/200\n",
      "175/175 [==============================] - 0s 540us/step - loss: 0.3966\n",
      "Epoch 186/200\n",
      "175/175 [==============================] - 0s 569us/step - loss: 0.3940\n",
      "Epoch 187/200\n",
      "175/175 [==============================] - 0s 544us/step - loss: 0.3996\n",
      "Epoch 188/200\n",
      "175/175 [==============================] - 0s 502us/step - loss: 0.3946\n",
      "Epoch 189/200\n",
      "175/175 [==============================] - 0s 506us/step - loss: 0.3906\n",
      "Epoch 190/200\n",
      "175/175 [==============================] - 0s 527us/step - loss: 0.3929\n",
      "Epoch 191/200\n",
      "175/175 [==============================] - 0s 493us/step - loss: 0.3963\n",
      "Epoch 192/200\n",
      "175/175 [==============================] - 0s 529us/step - loss: 0.3850\n",
      "Epoch 193/200\n",
      "175/175 [==============================] - 0s 523us/step - loss: 0.3882\n",
      "Epoch 194/200\n",
      "175/175 [==============================] - 0s 515us/step - loss: 0.3820\n",
      "Epoch 195/200\n",
      "175/175 [==============================] - 0s 506us/step - loss: 0.3938\n",
      "Epoch 196/200\n",
      "175/175 [==============================] - 0s 475us/step - loss: 0.3861\n",
      "Epoch 197/200\n",
      "175/175 [==============================] - 0s 524us/step - loss: 0.3912\n",
      "Epoch 198/200\n",
      "175/175 [==============================] - 0s 522us/step - loss: 0.3852\n",
      "Epoch 199/200\n",
      "175/175 [==============================] - 0s 498us/step - loss: 0.3789\n",
      "Epoch 200/200\n",
      "175/175 [==============================] - 0s 572us/step - loss: 0.3819\n"
     ]
    }
   ],
   "source": [
    "history_1 = GJ_NET_model.fit(train_X, train_Y, epochs=200, batch_size=10)\n",
    "\n",
    "# history = 학습 결과를 저장하는 변수 (일반적)\n",
    "# epochs : 몇 번, 몇 세대를 걸쳐서 업데이트 할 것인가?\n",
    "# mini_batch : batch 한번에 몇 개의 데이터를 넣을 것인가?\n",
    "\n",
    "# 결과값 숨김"
   ]
  },
  {
   "cell_type": "code",
   "execution_count": 26,
   "metadata": {},
   "outputs": [
    {
     "output_type": "stream",
     "name": "stdout",
     "text": [
      "7/7 [==============================] - 0s 668us/step - loss: 0.6785\n"
     ]
    },
    {
     "output_type": "execute_result",
     "data": {
      "text/plain": [
       "0.6785199046134949"
      ]
     },
     "metadata": {},
     "execution_count": 26
    }
   ],
   "source": [
    "GJ_NET_model.evaluate(test_X, test_Y)\n",
    "\n",
    "# 학습 시킬때는 성능이 금방 올라가는데 검증 또는 테스트 데이터로 검증하면 성능이 떨어지게 된다."
   ]
  },
  {
   "cell_type": "code",
   "execution_count": 27,
   "metadata": {},
   "outputs": [
    {
     "output_type": "display_data",
     "data": {
      "text/plain": "<Figure size 1440x288 with 1 Axes>",
      "image/svg+xml": "<?xml version=\"1.0\" encoding=\"utf-8\" standalone=\"no\"?>\r\n<!DOCTYPE svg PUBLIC \"-//W3C//DTD SVG 1.1//EN\"\r\n  \"http://www.w3.org/Graphics/SVG/1.1/DTD/svg11.dtd\">\r\n<!-- Created with matplotlib (https://matplotlib.org/) -->\r\n<svg height=\"262.19625pt\" version=\"1.1\" viewBox=\"0 0 1166.98125 262.19625\" width=\"1166.98125pt\" xmlns=\"http://www.w3.org/2000/svg\" xmlns:xlink=\"http://www.w3.org/1999/xlink\">\r\n <metadata>\r\n  <rdf:RDF xmlns:cc=\"http://creativecommons.org/ns#\" xmlns:dc=\"http://purl.org/dc/elements/1.1/\" xmlns:rdf=\"http://www.w3.org/1999/02/22-rdf-syntax-ns#\">\r\n   <cc:Work>\r\n    <dc:type rdf:resource=\"http://purl.org/dc/dcmitype/StillImage\"/>\r\n    <dc:date>2021-07-14T12:17:50.109118</dc:date>\r\n    <dc:format>image/svg+xml</dc:format>\r\n    <dc:creator>\r\n     <cc:Agent>\r\n      <dc:title>Matplotlib v3.3.4, https://matplotlib.org/</dc:title>\r\n     </cc:Agent>\r\n    </dc:creator>\r\n   </cc:Work>\r\n  </rdf:RDF>\r\n </metadata>\r\n <defs>\r\n  <style type=\"text/css\">*{stroke-linecap:butt;stroke-linejoin:round;}</style>\r\n </defs>\r\n <g id=\"figure_1\">\r\n  <g id=\"patch_1\">\r\n   <path d=\"M 0 262.19625 \r\nL 1166.98125 262.19625 \r\nL 1166.98125 0 \r\nL 0 0 \r\nz\r\n\" style=\"fill:none;\"/>\r\n  </g>\r\n  <g id=\"axes_1\">\r\n   <g id=\"patch_2\">\r\n    <path d=\"M 43.78125 224.64 \r\nL 1159.78125 224.64 \r\nL 1159.78125 7.2 \r\nL 43.78125 7.2 \r\nz\r\n\" style=\"fill:#ffffff;\"/>\r\n   </g>\r\n   <g id=\"matplotlib.axis_1\">\r\n    <g id=\"xtick_1\">\r\n     <g id=\"line2d_1\">\r\n      <path clip-path=\"url(#pf354273b7b)\" d=\"M 94.508523 224.64 \r\nL 94.508523 7.2 \r\n\" style=\"fill:none;stroke:#b0b0b0;stroke-linecap:square;stroke-width:0.8;\"/>\r\n     </g>\r\n     <g id=\"line2d_2\">\r\n      <defs>\r\n       <path d=\"M 0 0 \r\nL 0 3.5 \r\n\" id=\"mb9055da1dc\" style=\"stroke:#000000;stroke-width:0.8;\"/>\r\n      </defs>\r\n      <g>\r\n       <use style=\"stroke:#000000;stroke-width:0.8;\" x=\"94.508523\" xlink:href=\"#mb9055da1dc\" y=\"224.64\"/>\r\n      </g>\r\n     </g>\r\n     <g id=\"text_1\">\r\n      <!-- 0 -->\r\n      <g transform=\"translate(91.327273 239.238437)scale(0.1 -0.1)\">\r\n       <defs>\r\n        <path d=\"M 31.78125 66.40625 \r\nQ 24.171875 66.40625 20.328125 58.90625 \r\nQ 16.5 51.421875 16.5 36.375 \r\nQ 16.5 21.390625 20.328125 13.890625 \r\nQ 24.171875 6.390625 31.78125 6.390625 \r\nQ 39.453125 6.390625 43.28125 13.890625 \r\nQ 47.125 21.390625 47.125 36.375 \r\nQ 47.125 51.421875 43.28125 58.90625 \r\nQ 39.453125 66.40625 31.78125 66.40625 \r\nz\r\nM 31.78125 74.21875 \r\nQ 44.046875 74.21875 50.515625 64.515625 \r\nQ 56.984375 54.828125 56.984375 36.375 \r\nQ 56.984375 17.96875 50.515625 8.265625 \r\nQ 44.046875 -1.421875 31.78125 -1.421875 \r\nQ 19.53125 -1.421875 13.0625 8.265625 \r\nQ 6.59375 17.96875 6.59375 36.375 \r\nQ 6.59375 54.828125 13.0625 64.515625 \r\nQ 19.53125 74.21875 31.78125 74.21875 \r\nz\r\n\" id=\"DejaVuSans-48\"/>\r\n       </defs>\r\n       <use xlink:href=\"#DejaVuSans-48\"/>\r\n      </g>\r\n     </g>\r\n    </g>\r\n    <g id=\"xtick_2\">\r\n     <g id=\"line2d_3\">\r\n      <path clip-path=\"url(#pf354273b7b)\" d=\"M 221.963982 224.64 \r\nL 221.963982 7.2 \r\n\" style=\"fill:none;stroke:#b0b0b0;stroke-linecap:square;stroke-width:0.8;\"/>\r\n     </g>\r\n     <g id=\"line2d_4\">\r\n      <g>\r\n       <use style=\"stroke:#000000;stroke-width:0.8;\" x=\"221.963982\" xlink:href=\"#mb9055da1dc\" y=\"224.64\"/>\r\n      </g>\r\n     </g>\r\n     <g id=\"text_2\">\r\n      <!-- 25 -->\r\n      <g transform=\"translate(215.601482 239.238437)scale(0.1 -0.1)\">\r\n       <defs>\r\n        <path d=\"M 19.1875 8.296875 \r\nL 53.609375 8.296875 \r\nL 53.609375 0 \r\nL 7.328125 0 \r\nL 7.328125 8.296875 \r\nQ 12.9375 14.109375 22.625 23.890625 \r\nQ 32.328125 33.6875 34.8125 36.53125 \r\nQ 39.546875 41.84375 41.421875 45.53125 \r\nQ 43.3125 49.21875 43.3125 52.78125 \r\nQ 43.3125 58.59375 39.234375 62.25 \r\nQ 35.15625 65.921875 28.609375 65.921875 \r\nQ 23.96875 65.921875 18.8125 64.3125 \r\nQ 13.671875 62.703125 7.8125 59.421875 \r\nL 7.8125 69.390625 \r\nQ 13.765625 71.78125 18.9375 73 \r\nQ 24.125 74.21875 28.421875 74.21875 \r\nQ 39.75 74.21875 46.484375 68.546875 \r\nQ 53.21875 62.890625 53.21875 53.421875 \r\nQ 53.21875 48.921875 51.53125 44.890625 \r\nQ 49.859375 40.875 45.40625 35.40625 \r\nQ 44.1875 33.984375 37.640625 27.21875 \r\nQ 31.109375 20.453125 19.1875 8.296875 \r\nz\r\n\" id=\"DejaVuSans-50\"/>\r\n        <path d=\"M 10.796875 72.90625 \r\nL 49.515625 72.90625 \r\nL 49.515625 64.59375 \r\nL 19.828125 64.59375 \r\nL 19.828125 46.734375 \r\nQ 21.96875 47.46875 24.109375 47.828125 \r\nQ 26.265625 48.1875 28.421875 48.1875 \r\nQ 40.625 48.1875 47.75 41.5 \r\nQ 54.890625 34.8125 54.890625 23.390625 \r\nQ 54.890625 11.625 47.5625 5.09375 \r\nQ 40.234375 -1.421875 26.90625 -1.421875 \r\nQ 22.3125 -1.421875 17.546875 -0.640625 \r\nQ 12.796875 0.140625 7.71875 1.703125 \r\nL 7.71875 11.625 \r\nQ 12.109375 9.234375 16.796875 8.0625 \r\nQ 21.484375 6.890625 26.703125 6.890625 \r\nQ 35.15625 6.890625 40.078125 11.328125 \r\nQ 45.015625 15.765625 45.015625 23.390625 \r\nQ 45.015625 31 40.078125 35.4375 \r\nQ 35.15625 39.890625 26.703125 39.890625 \r\nQ 22.75 39.890625 18.8125 39.015625 \r\nQ 14.890625 38.140625 10.796875 36.28125 \r\nz\r\n\" id=\"DejaVuSans-53\"/>\r\n       </defs>\r\n       <use xlink:href=\"#DejaVuSans-50\"/>\r\n       <use x=\"63.623047\" xlink:href=\"#DejaVuSans-53\"/>\r\n      </g>\r\n     </g>\r\n    </g>\r\n    <g id=\"xtick_3\">\r\n     <g id=\"line2d_5\">\r\n      <path clip-path=\"url(#pf354273b7b)\" d=\"M 349.419441 224.64 \r\nL 349.419441 7.2 \r\n\" style=\"fill:none;stroke:#b0b0b0;stroke-linecap:square;stroke-width:0.8;\"/>\r\n     </g>\r\n     <g id=\"line2d_6\">\r\n      <g>\r\n       <use style=\"stroke:#000000;stroke-width:0.8;\" x=\"349.419441\" xlink:href=\"#mb9055da1dc\" y=\"224.64\"/>\r\n      </g>\r\n     </g>\r\n     <g id=\"text_3\">\r\n      <!-- 50 -->\r\n      <g transform=\"translate(343.056941 239.238437)scale(0.1 -0.1)\">\r\n       <use xlink:href=\"#DejaVuSans-53\"/>\r\n       <use x=\"63.623047\" xlink:href=\"#DejaVuSans-48\"/>\r\n      </g>\r\n     </g>\r\n    </g>\r\n    <g id=\"xtick_4\">\r\n     <g id=\"line2d_7\">\r\n      <path clip-path=\"url(#pf354273b7b)\" d=\"M 476.8749 224.64 \r\nL 476.8749 7.2 \r\n\" style=\"fill:none;stroke:#b0b0b0;stroke-linecap:square;stroke-width:0.8;\"/>\r\n     </g>\r\n     <g id=\"line2d_8\">\r\n      <g>\r\n       <use style=\"stroke:#000000;stroke-width:0.8;\" x=\"476.8749\" xlink:href=\"#mb9055da1dc\" y=\"224.64\"/>\r\n      </g>\r\n     </g>\r\n     <g id=\"text_4\">\r\n      <!-- 75 -->\r\n      <g transform=\"translate(470.5124 239.238437)scale(0.1 -0.1)\">\r\n       <defs>\r\n        <path d=\"M 8.203125 72.90625 \r\nL 55.078125 72.90625 \r\nL 55.078125 68.703125 \r\nL 28.609375 0 \r\nL 18.3125 0 \r\nL 43.21875 64.59375 \r\nL 8.203125 64.59375 \r\nz\r\n\" id=\"DejaVuSans-55\"/>\r\n       </defs>\r\n       <use xlink:href=\"#DejaVuSans-55\"/>\r\n       <use x=\"63.623047\" xlink:href=\"#DejaVuSans-53\"/>\r\n      </g>\r\n     </g>\r\n    </g>\r\n    <g id=\"xtick_5\">\r\n     <g id=\"line2d_9\">\r\n      <path clip-path=\"url(#pf354273b7b)\" d=\"M 604.330359 224.64 \r\nL 604.330359 7.2 \r\n\" style=\"fill:none;stroke:#b0b0b0;stroke-linecap:square;stroke-width:0.8;\"/>\r\n     </g>\r\n     <g id=\"line2d_10\">\r\n      <g>\r\n       <use style=\"stroke:#000000;stroke-width:0.8;\" x=\"604.330359\" xlink:href=\"#mb9055da1dc\" y=\"224.64\"/>\r\n      </g>\r\n     </g>\r\n     <g id=\"text_5\">\r\n      <!-- 100 -->\r\n      <g transform=\"translate(594.786609 239.238437)scale(0.1 -0.1)\">\r\n       <defs>\r\n        <path d=\"M 12.40625 8.296875 \r\nL 28.515625 8.296875 \r\nL 28.515625 63.921875 \r\nL 10.984375 60.40625 \r\nL 10.984375 69.390625 \r\nL 28.421875 72.90625 \r\nL 38.28125 72.90625 \r\nL 38.28125 8.296875 \r\nL 54.390625 8.296875 \r\nL 54.390625 0 \r\nL 12.40625 0 \r\nz\r\n\" id=\"DejaVuSans-49\"/>\r\n       </defs>\r\n       <use xlink:href=\"#DejaVuSans-49\"/>\r\n       <use x=\"63.623047\" xlink:href=\"#DejaVuSans-48\"/>\r\n       <use x=\"127.246094\" xlink:href=\"#DejaVuSans-48\"/>\r\n      </g>\r\n     </g>\r\n    </g>\r\n    <g id=\"xtick_6\">\r\n     <g id=\"line2d_11\">\r\n      <path clip-path=\"url(#pf354273b7b)\" d=\"M 731.785818 224.64 \r\nL 731.785818 7.2 \r\n\" style=\"fill:none;stroke:#b0b0b0;stroke-linecap:square;stroke-width:0.8;\"/>\r\n     </g>\r\n     <g id=\"line2d_12\">\r\n      <g>\r\n       <use style=\"stroke:#000000;stroke-width:0.8;\" x=\"731.785818\" xlink:href=\"#mb9055da1dc\" y=\"224.64\"/>\r\n      </g>\r\n     </g>\r\n     <g id=\"text_6\">\r\n      <!-- 125 -->\r\n      <g transform=\"translate(722.242068 239.238437)scale(0.1 -0.1)\">\r\n       <use xlink:href=\"#DejaVuSans-49\"/>\r\n       <use x=\"63.623047\" xlink:href=\"#DejaVuSans-50\"/>\r\n       <use x=\"127.246094\" xlink:href=\"#DejaVuSans-53\"/>\r\n      </g>\r\n     </g>\r\n    </g>\r\n    <g id=\"xtick_7\">\r\n     <g id=\"line2d_13\">\r\n      <path clip-path=\"url(#pf354273b7b)\" d=\"M 859.241277 224.64 \r\nL 859.241277 7.2 \r\n\" style=\"fill:none;stroke:#b0b0b0;stroke-linecap:square;stroke-width:0.8;\"/>\r\n     </g>\r\n     <g id=\"line2d_14\">\r\n      <g>\r\n       <use style=\"stroke:#000000;stroke-width:0.8;\" x=\"859.241277\" xlink:href=\"#mb9055da1dc\" y=\"224.64\"/>\r\n      </g>\r\n     </g>\r\n     <g id=\"text_7\">\r\n      <!-- 150 -->\r\n      <g transform=\"translate(849.697527 239.238437)scale(0.1 -0.1)\">\r\n       <use xlink:href=\"#DejaVuSans-49\"/>\r\n       <use x=\"63.623047\" xlink:href=\"#DejaVuSans-53\"/>\r\n       <use x=\"127.246094\" xlink:href=\"#DejaVuSans-48\"/>\r\n      </g>\r\n     </g>\r\n    </g>\r\n    <g id=\"xtick_8\">\r\n     <g id=\"line2d_15\">\r\n      <path clip-path=\"url(#pf354273b7b)\" d=\"M 986.696737 224.64 \r\nL 986.696737 7.2 \r\n\" style=\"fill:none;stroke:#b0b0b0;stroke-linecap:square;stroke-width:0.8;\"/>\r\n     </g>\r\n     <g id=\"line2d_16\">\r\n      <g>\r\n       <use style=\"stroke:#000000;stroke-width:0.8;\" x=\"986.696737\" xlink:href=\"#mb9055da1dc\" y=\"224.64\"/>\r\n      </g>\r\n     </g>\r\n     <g id=\"text_8\">\r\n      <!-- 175 -->\r\n      <g transform=\"translate(977.152987 239.238437)scale(0.1 -0.1)\">\r\n       <use xlink:href=\"#DejaVuSans-49\"/>\r\n       <use x=\"63.623047\" xlink:href=\"#DejaVuSans-55\"/>\r\n       <use x=\"127.246094\" xlink:href=\"#DejaVuSans-53\"/>\r\n      </g>\r\n     </g>\r\n    </g>\r\n    <g id=\"xtick_9\">\r\n     <g id=\"line2d_17\">\r\n      <path clip-path=\"url(#pf354273b7b)\" d=\"M 1114.152196 224.64 \r\nL 1114.152196 7.2 \r\n\" style=\"fill:none;stroke:#b0b0b0;stroke-linecap:square;stroke-width:0.8;\"/>\r\n     </g>\r\n     <g id=\"line2d_18\">\r\n      <g>\r\n       <use style=\"stroke:#000000;stroke-width:0.8;\" x=\"1114.152196\" xlink:href=\"#mb9055da1dc\" y=\"224.64\"/>\r\n      </g>\r\n     </g>\r\n     <g id=\"text_9\">\r\n      <!-- 200 -->\r\n      <g transform=\"translate(1104.608446 239.238437)scale(0.1 -0.1)\">\r\n       <use xlink:href=\"#DejaVuSans-50\"/>\r\n       <use x=\"63.623047\" xlink:href=\"#DejaVuSans-48\"/>\r\n       <use x=\"127.246094\" xlink:href=\"#DejaVuSans-48\"/>\r\n      </g>\r\n     </g>\r\n    </g>\r\n    <g id=\"text_10\">\r\n     <!-- Epochs -->\r\n     <g transform=\"translate(583.865625 252.916562)scale(0.1 -0.1)\">\r\n      <defs>\r\n       <path d=\"M 9.8125 72.90625 \r\nL 55.90625 72.90625 \r\nL 55.90625 64.59375 \r\nL 19.671875 64.59375 \r\nL 19.671875 43.015625 \r\nL 54.390625 43.015625 \r\nL 54.390625 34.71875 \r\nL 19.671875 34.71875 \r\nL 19.671875 8.296875 \r\nL 56.78125 8.296875 \r\nL 56.78125 0 \r\nL 9.8125 0 \r\nz\r\n\" id=\"DejaVuSans-69\"/>\r\n       <path d=\"M 18.109375 8.203125 \r\nL 18.109375 -20.796875 \r\nL 9.078125 -20.796875 \r\nL 9.078125 54.6875 \r\nL 18.109375 54.6875 \r\nL 18.109375 46.390625 \r\nQ 20.953125 51.265625 25.265625 53.625 \r\nQ 29.59375 56 35.59375 56 \r\nQ 45.5625 56 51.78125 48.09375 \r\nQ 58.015625 40.1875 58.015625 27.296875 \r\nQ 58.015625 14.40625 51.78125 6.484375 \r\nQ 45.5625 -1.421875 35.59375 -1.421875 \r\nQ 29.59375 -1.421875 25.265625 0.953125 \r\nQ 20.953125 3.328125 18.109375 8.203125 \r\nz\r\nM 48.6875 27.296875 \r\nQ 48.6875 37.203125 44.609375 42.84375 \r\nQ 40.53125 48.484375 33.40625 48.484375 \r\nQ 26.265625 48.484375 22.1875 42.84375 \r\nQ 18.109375 37.203125 18.109375 27.296875 \r\nQ 18.109375 17.390625 22.1875 11.75 \r\nQ 26.265625 6.109375 33.40625 6.109375 \r\nQ 40.53125 6.109375 44.609375 11.75 \r\nQ 48.6875 17.390625 48.6875 27.296875 \r\nz\r\n\" id=\"DejaVuSans-112\"/>\r\n       <path d=\"M 30.609375 48.390625 \r\nQ 23.390625 48.390625 19.1875 42.75 \r\nQ 14.984375 37.109375 14.984375 27.296875 \r\nQ 14.984375 17.484375 19.15625 11.84375 \r\nQ 23.34375 6.203125 30.609375 6.203125 \r\nQ 37.796875 6.203125 41.984375 11.859375 \r\nQ 46.1875 17.53125 46.1875 27.296875 \r\nQ 46.1875 37.015625 41.984375 42.703125 \r\nQ 37.796875 48.390625 30.609375 48.390625 \r\nz\r\nM 30.609375 56 \r\nQ 42.328125 56 49.015625 48.375 \r\nQ 55.71875 40.765625 55.71875 27.296875 \r\nQ 55.71875 13.875 49.015625 6.21875 \r\nQ 42.328125 -1.421875 30.609375 -1.421875 \r\nQ 18.84375 -1.421875 12.171875 6.21875 \r\nQ 5.515625 13.875 5.515625 27.296875 \r\nQ 5.515625 40.765625 12.171875 48.375 \r\nQ 18.84375 56 30.609375 56 \r\nz\r\n\" id=\"DejaVuSans-111\"/>\r\n       <path d=\"M 48.78125 52.59375 \r\nL 48.78125 44.1875 \r\nQ 44.96875 46.296875 41.140625 47.34375 \r\nQ 37.3125 48.390625 33.40625 48.390625 \r\nQ 24.65625 48.390625 19.8125 42.84375 \r\nQ 14.984375 37.3125 14.984375 27.296875 \r\nQ 14.984375 17.28125 19.8125 11.734375 \r\nQ 24.65625 6.203125 33.40625 6.203125 \r\nQ 37.3125 6.203125 41.140625 7.25 \r\nQ 44.96875 8.296875 48.78125 10.40625 \r\nL 48.78125 2.09375 \r\nQ 45.015625 0.34375 40.984375 -0.53125 \r\nQ 36.96875 -1.421875 32.421875 -1.421875 \r\nQ 20.0625 -1.421875 12.78125 6.34375 \r\nQ 5.515625 14.109375 5.515625 27.296875 \r\nQ 5.515625 40.671875 12.859375 48.328125 \r\nQ 20.21875 56 33.015625 56 \r\nQ 37.15625 56 41.109375 55.140625 \r\nQ 45.0625 54.296875 48.78125 52.59375 \r\nz\r\n\" id=\"DejaVuSans-99\"/>\r\n       <path d=\"M 54.890625 33.015625 \r\nL 54.890625 0 \r\nL 45.90625 0 \r\nL 45.90625 32.71875 \r\nQ 45.90625 40.484375 42.875 44.328125 \r\nQ 39.84375 48.1875 33.796875 48.1875 \r\nQ 26.515625 48.1875 22.3125 43.546875 \r\nQ 18.109375 38.921875 18.109375 30.90625 \r\nL 18.109375 0 \r\nL 9.078125 0 \r\nL 9.078125 75.984375 \r\nL 18.109375 75.984375 \r\nL 18.109375 46.1875 \r\nQ 21.34375 51.125 25.703125 53.5625 \r\nQ 30.078125 56 35.796875 56 \r\nQ 45.21875 56 50.046875 50.171875 \r\nQ 54.890625 44.34375 54.890625 33.015625 \r\nz\r\n\" id=\"DejaVuSans-104\"/>\r\n       <path d=\"M 44.28125 53.078125 \r\nL 44.28125 44.578125 \r\nQ 40.484375 46.53125 36.375 47.5 \r\nQ 32.28125 48.484375 27.875 48.484375 \r\nQ 21.1875 48.484375 17.84375 46.4375 \r\nQ 14.5 44.390625 14.5 40.28125 \r\nQ 14.5 37.15625 16.890625 35.375 \r\nQ 19.28125 33.59375 26.515625 31.984375 \r\nL 29.59375 31.296875 \r\nQ 39.15625 29.25 43.1875 25.515625 \r\nQ 47.21875 21.78125 47.21875 15.09375 \r\nQ 47.21875 7.46875 41.1875 3.015625 \r\nQ 35.15625 -1.421875 24.609375 -1.421875 \r\nQ 20.21875 -1.421875 15.453125 -0.5625 \r\nQ 10.6875 0.296875 5.421875 2 \r\nL 5.421875 11.28125 \r\nQ 10.40625 8.6875 15.234375 7.390625 \r\nQ 20.0625 6.109375 24.8125 6.109375 \r\nQ 31.15625 6.109375 34.5625 8.28125 \r\nQ 37.984375 10.453125 37.984375 14.40625 \r\nQ 37.984375 18.0625 35.515625 20.015625 \r\nQ 33.0625 21.96875 24.703125 23.78125 \r\nL 21.578125 24.515625 \r\nQ 13.234375 26.265625 9.515625 29.90625 \r\nQ 5.8125 33.546875 5.8125 39.890625 \r\nQ 5.8125 47.609375 11.28125 51.796875 \r\nQ 16.75 56 26.8125 56 \r\nQ 31.78125 56 36.171875 55.265625 \r\nQ 40.578125 54.546875 44.28125 53.078125 \r\nz\r\n\" id=\"DejaVuSans-115\"/>\r\n      </defs>\r\n      <use xlink:href=\"#DejaVuSans-69\"/>\r\n      <use x=\"63.183594\" xlink:href=\"#DejaVuSans-112\"/>\r\n      <use x=\"126.660156\" xlink:href=\"#DejaVuSans-111\"/>\r\n      <use x=\"187.841797\" xlink:href=\"#DejaVuSans-99\"/>\r\n      <use x=\"242.822266\" xlink:href=\"#DejaVuSans-104\"/>\r\n      <use x=\"306.201172\" xlink:href=\"#DejaVuSans-115\"/>\r\n     </g>\r\n    </g>\r\n   </g>\r\n   <g id=\"matplotlib.axis_2\">\r\n    <g id=\"ytick_1\">\r\n     <g id=\"line2d_19\">\r\n      <path clip-path=\"url(#pf354273b7b)\" d=\"M 43.78125 210.386341 \r\nL 1159.78125 210.386341 \r\n\" style=\"fill:none;stroke:#b0b0b0;stroke-linecap:square;stroke-width:0.8;\"/>\r\n     </g>\r\n     <g id=\"line2d_20\">\r\n      <defs>\r\n       <path d=\"M 0 0 \r\nL -3.5 0 \r\n\" id=\"m3683b13397\" style=\"stroke:#000000;stroke-width:0.8;\"/>\r\n      </defs>\r\n      <g>\r\n       <use style=\"stroke:#000000;stroke-width:0.8;\" x=\"43.78125\" xlink:href=\"#m3683b13397\" y=\"210.386341\"/>\r\n      </g>\r\n     </g>\r\n     <g id=\"text_11\">\r\n      <!-- 0.4 -->\r\n      <g transform=\"translate(20.878125 214.18556)scale(0.1 -0.1)\">\r\n       <defs>\r\n        <path d=\"M 10.6875 12.40625 \r\nL 21 12.40625 \r\nL 21 0 \r\nL 10.6875 0 \r\nz\r\n\" id=\"DejaVuSans-46\"/>\r\n        <path d=\"M 37.796875 64.3125 \r\nL 12.890625 25.390625 \r\nL 37.796875 25.390625 \r\nz\r\nM 35.203125 72.90625 \r\nL 47.609375 72.90625 \r\nL 47.609375 25.390625 \r\nL 58.015625 25.390625 \r\nL 58.015625 17.1875 \r\nL 47.609375 17.1875 \r\nL 47.609375 0 \r\nL 37.796875 0 \r\nL 37.796875 17.1875 \r\nL 4.890625 17.1875 \r\nL 4.890625 26.703125 \r\nz\r\n\" id=\"DejaVuSans-52\"/>\r\n       </defs>\r\n       <use xlink:href=\"#DejaVuSans-48\"/>\r\n       <use x=\"63.623047\" xlink:href=\"#DejaVuSans-46\"/>\r\n       <use x=\"95.410156\" xlink:href=\"#DejaVuSans-52\"/>\r\n      </g>\r\n     </g>\r\n    </g>\r\n    <g id=\"ytick_2\">\r\n     <g id=\"line2d_21\">\r\n      <path clip-path=\"url(#pf354273b7b)\" d=\"M 43.78125 168.988023 \r\nL 1159.78125 168.988023 \r\n\" style=\"fill:none;stroke:#b0b0b0;stroke-linecap:square;stroke-width:0.8;\"/>\r\n     </g>\r\n     <g id=\"line2d_22\">\r\n      <g>\r\n       <use style=\"stroke:#000000;stroke-width:0.8;\" x=\"43.78125\" xlink:href=\"#m3683b13397\" y=\"168.988023\"/>\r\n      </g>\r\n     </g>\r\n     <g id=\"text_12\">\r\n      <!-- 0.6 -->\r\n      <g transform=\"translate(20.878125 172.787242)scale(0.1 -0.1)\">\r\n       <defs>\r\n        <path d=\"M 33.015625 40.375 \r\nQ 26.375 40.375 22.484375 35.828125 \r\nQ 18.609375 31.296875 18.609375 23.390625 \r\nQ 18.609375 15.53125 22.484375 10.953125 \r\nQ 26.375 6.390625 33.015625 6.390625 \r\nQ 39.65625 6.390625 43.53125 10.953125 \r\nQ 47.40625 15.53125 47.40625 23.390625 \r\nQ 47.40625 31.296875 43.53125 35.828125 \r\nQ 39.65625 40.375 33.015625 40.375 \r\nz\r\nM 52.59375 71.296875 \r\nL 52.59375 62.3125 \r\nQ 48.875 64.0625 45.09375 64.984375 \r\nQ 41.3125 65.921875 37.59375 65.921875 \r\nQ 27.828125 65.921875 22.671875 59.328125 \r\nQ 17.53125 52.734375 16.796875 39.40625 \r\nQ 19.671875 43.65625 24.015625 45.921875 \r\nQ 28.375 48.1875 33.59375 48.1875 \r\nQ 44.578125 48.1875 50.953125 41.515625 \r\nQ 57.328125 34.859375 57.328125 23.390625 \r\nQ 57.328125 12.15625 50.6875 5.359375 \r\nQ 44.046875 -1.421875 33.015625 -1.421875 \r\nQ 20.359375 -1.421875 13.671875 8.265625 \r\nQ 6.984375 17.96875 6.984375 36.375 \r\nQ 6.984375 53.65625 15.1875 63.9375 \r\nQ 23.390625 74.21875 37.203125 74.21875 \r\nQ 40.921875 74.21875 44.703125 73.484375 \r\nQ 48.484375 72.75 52.59375 71.296875 \r\nz\r\n\" id=\"DejaVuSans-54\"/>\r\n       </defs>\r\n       <use xlink:href=\"#DejaVuSans-48\"/>\r\n       <use x=\"63.623047\" xlink:href=\"#DejaVuSans-46\"/>\r\n       <use x=\"95.410156\" xlink:href=\"#DejaVuSans-54\"/>\r\n      </g>\r\n     </g>\r\n    </g>\r\n    <g id=\"ytick_3\">\r\n     <g id=\"line2d_23\">\r\n      <path clip-path=\"url(#pf354273b7b)\" d=\"M 43.78125 127.589705 \r\nL 1159.78125 127.589705 \r\n\" style=\"fill:none;stroke:#b0b0b0;stroke-linecap:square;stroke-width:0.8;\"/>\r\n     </g>\r\n     <g id=\"line2d_24\">\r\n      <g>\r\n       <use style=\"stroke:#000000;stroke-width:0.8;\" x=\"43.78125\" xlink:href=\"#m3683b13397\" y=\"127.589705\"/>\r\n      </g>\r\n     </g>\r\n     <g id=\"text_13\">\r\n      <!-- 0.8 -->\r\n      <g transform=\"translate(20.878125 131.388924)scale(0.1 -0.1)\">\r\n       <defs>\r\n        <path d=\"M 31.78125 34.625 \r\nQ 24.75 34.625 20.71875 30.859375 \r\nQ 16.703125 27.09375 16.703125 20.515625 \r\nQ 16.703125 13.921875 20.71875 10.15625 \r\nQ 24.75 6.390625 31.78125 6.390625 \r\nQ 38.8125 6.390625 42.859375 10.171875 \r\nQ 46.921875 13.96875 46.921875 20.515625 \r\nQ 46.921875 27.09375 42.890625 30.859375 \r\nQ 38.875 34.625 31.78125 34.625 \r\nz\r\nM 21.921875 38.8125 \r\nQ 15.578125 40.375 12.03125 44.71875 \r\nQ 8.5 49.078125 8.5 55.328125 \r\nQ 8.5 64.0625 14.71875 69.140625 \r\nQ 20.953125 74.21875 31.78125 74.21875 \r\nQ 42.671875 74.21875 48.875 69.140625 \r\nQ 55.078125 64.0625 55.078125 55.328125 \r\nQ 55.078125 49.078125 51.53125 44.71875 \r\nQ 48 40.375 41.703125 38.8125 \r\nQ 48.828125 37.15625 52.796875 32.3125 \r\nQ 56.78125 27.484375 56.78125 20.515625 \r\nQ 56.78125 9.90625 50.3125 4.234375 \r\nQ 43.84375 -1.421875 31.78125 -1.421875 \r\nQ 19.734375 -1.421875 13.25 4.234375 \r\nQ 6.78125 9.90625 6.78125 20.515625 \r\nQ 6.78125 27.484375 10.78125 32.3125 \r\nQ 14.796875 37.15625 21.921875 38.8125 \r\nz\r\nM 18.3125 54.390625 \r\nQ 18.3125 48.734375 21.84375 45.5625 \r\nQ 25.390625 42.390625 31.78125 42.390625 \r\nQ 38.140625 42.390625 41.71875 45.5625 \r\nQ 45.3125 48.734375 45.3125 54.390625 \r\nQ 45.3125 60.0625 41.71875 63.234375 \r\nQ 38.140625 66.40625 31.78125 66.40625 \r\nQ 25.390625 66.40625 21.84375 63.234375 \r\nQ 18.3125 60.0625 18.3125 54.390625 \r\nz\r\n\" id=\"DejaVuSans-56\"/>\r\n       </defs>\r\n       <use xlink:href=\"#DejaVuSans-48\"/>\r\n       <use x=\"63.623047\" xlink:href=\"#DejaVuSans-46\"/>\r\n       <use x=\"95.410156\" xlink:href=\"#DejaVuSans-56\"/>\r\n      </g>\r\n     </g>\r\n    </g>\r\n    <g id=\"ytick_4\">\r\n     <g id=\"line2d_25\">\r\n      <path clip-path=\"url(#pf354273b7b)\" d=\"M 43.78125 86.191387 \r\nL 1159.78125 86.191387 \r\n\" style=\"fill:none;stroke:#b0b0b0;stroke-linecap:square;stroke-width:0.8;\"/>\r\n     </g>\r\n     <g id=\"line2d_26\">\r\n      <g>\r\n       <use style=\"stroke:#000000;stroke-width:0.8;\" x=\"43.78125\" xlink:href=\"#m3683b13397\" y=\"86.191387\"/>\r\n      </g>\r\n     </g>\r\n     <g id=\"text_14\">\r\n      <!-- 1.0 -->\r\n      <g transform=\"translate(20.878125 89.990606)scale(0.1 -0.1)\">\r\n       <use xlink:href=\"#DejaVuSans-49\"/>\r\n       <use x=\"63.623047\" xlink:href=\"#DejaVuSans-46\"/>\r\n       <use x=\"95.410156\" xlink:href=\"#DejaVuSans-48\"/>\r\n      </g>\r\n     </g>\r\n    </g>\r\n    <g id=\"ytick_5\">\r\n     <g id=\"line2d_27\">\r\n      <path clip-path=\"url(#pf354273b7b)\" d=\"M 43.78125 44.793069 \r\nL 1159.78125 44.793069 \r\n\" style=\"fill:none;stroke:#b0b0b0;stroke-linecap:square;stroke-width:0.8;\"/>\r\n     </g>\r\n     <g id=\"line2d_28\">\r\n      <g>\r\n       <use style=\"stroke:#000000;stroke-width:0.8;\" x=\"43.78125\" xlink:href=\"#m3683b13397\" y=\"44.793069\"/>\r\n      </g>\r\n     </g>\r\n     <g id=\"text_15\">\r\n      <!-- 1.2 -->\r\n      <g transform=\"translate(20.878125 48.592287)scale(0.1 -0.1)\">\r\n       <use xlink:href=\"#DejaVuSans-49\"/>\r\n       <use x=\"63.623047\" xlink:href=\"#DejaVuSans-46\"/>\r\n       <use x=\"95.410156\" xlink:href=\"#DejaVuSans-50\"/>\r\n      </g>\r\n     </g>\r\n    </g>\r\n    <g id=\"text_16\">\r\n     <!-- Loss -->\r\n     <g transform=\"translate(14.798437 126.887187)rotate(-90)scale(0.1 -0.1)\">\r\n      <defs>\r\n       <path d=\"M 9.8125 72.90625 \r\nL 19.671875 72.90625 \r\nL 19.671875 8.296875 \r\nL 55.171875 8.296875 \r\nL 55.171875 0 \r\nL 9.8125 0 \r\nz\r\n\" id=\"DejaVuSans-76\"/>\r\n      </defs>\r\n      <use xlink:href=\"#DejaVuSans-76\"/>\r\n      <use x=\"53.962891\" xlink:href=\"#DejaVuSans-111\"/>\r\n      <use x=\"115.144531\" xlink:href=\"#DejaVuSans-115\"/>\r\n      <use x=\"167.244141\" xlink:href=\"#DejaVuSans-115\"/>\r\n     </g>\r\n    </g>\r\n   </g>\r\n   <g id=\"line2d_29\">\r\n    <path clip-path=\"url(#pf354273b7b)\" d=\"M 94.508523 17.083636 \r\nL 99.606741 77.623523 \r\nL 104.704959 101.420378 \r\nL 109.803178 115.523483 \r\nL 114.901396 122.006541 \r\nL 119.999615 129.852429 \r\nL 125.097833 133.631615 \r\nL 135.29427 137.167218 \r\nL 140.392488 140.78182 \r\nL 145.490706 142.199293 \r\nL 150.588925 144.35087 \r\nL 155.687143 146.121781 \r\nL 160.785361 148.425568 \r\nL 165.88358 148.567846 \r\nL 170.981798 149.673176 \r\nL 176.080017 152.0321 \r\nL 181.178235 152.545902 \r\nL 186.276453 153.451671 \r\nL 191.374672 154.609339 \r\nL 196.47289 155.921473 \r\nL 201.571108 155.204199 \r\nL 206.669327 157.519941 \r\nL 216.865763 157.732494 \r\nL 221.963982 159.653727 \r\nL 227.0622 160.716443 \r\nL 232.160419 158.542276 \r\nL 237.258637 160.87043 \r\nL 242.356855 162.512239 \r\nL 247.455074 162.928253 \r\nL 252.553292 162.917519 \r\nL 257.65151 162.71475 \r\nL 262.749729 164.271466 \r\nL 267.847947 166.19165 \r\nL 272.946165 165.640811 \r\nL 278.044384 167.451066 \r\nL 283.142602 167.695833 \r\nL 288.240821 166.902929 \r\nL 293.339039 167.808858 \r\nL 298.437257 169.044561 \r\nL 303.535476 169.002749 \r\nL 308.633694 170.257872 \r\nL 313.731912 169.713102 \r\nL 318.830131 170.931199 \r\nL 323.928349 172.28453 \r\nL 329.026567 172.507891 \r\nL 334.124786 172.11179 \r\nL 339.223004 170.751933 \r\nL 344.321223 173.316291 \r\nL 349.419441 173.477236 \r\nL 354.517659 172.942102 \r\nL 359.615878 175.262249 \r\nL 369.812314 175.506695 \r\nL 374.910533 174.326227 \r\nL 380.008751 176.340967 \r\nL 385.10697 176.669581 \r\nL 395.303406 178.773177 \r\nL 400.401625 177.235164 \r\nL 405.499843 175.861057 \r\nL 410.598061 178.802084 \r\nL 415.69628 179.770232 \r\nL 420.794498 179.396327 \r\nL 425.892716 176.464073 \r\nL 430.990935 179.388012 \r\nL 436.089153 181.724937 \r\nL 441.187372 181.599759 \r\nL 446.28559 181.302138 \r\nL 451.383808 180.639803 \r\nL 456.482027 180.14056 \r\nL 461.580245 181.496752 \r\nL 466.678463 180.350016 \r\nL 471.776682 182.384595 \r\nL 476.8749 182.245044 \r\nL 481.973118 182.780955 \r\nL 487.071337 183.015321 \r\nL 492.169555 184.671195 \r\nL 497.267774 184.107524 \r\nL 502.365992 183.93798 \r\nL 507.46421 184.557183 \r\nL 512.562429 183.08625 \r\nL 517.660647 185.506677 \r\nL 522.758865 184.542452 \r\nL 527.857084 186.594032 \r\nL 532.955302 186.996215 \r\nL 538.05352 186.243766 \r\nL 543.151739 186.964556 \r\nL 548.249957 188.3188 \r\nL 553.348176 186.292709 \r\nL 558.446394 188.704068 \r\nL 563.544612 188.208809 \r\nL 568.642831 187.241438 \r\nL 573.741049 188.3074 \r\nL 578.839267 187.910756 \r\nL 583.937486 189.205433 \r\nL 589.035704 190.19228 \r\nL 594.133922 188.115216 \r\nL 599.232141 190.234351 \r\nL 604.330359 190.642246 \r\nL 609.428578 190.06836 \r\nL 614.526796 191.16585 \r\nL 619.625014 191.089308 \r\nL 624.723233 191.934067 \r\nL 629.821451 192.075722 \r\nL 634.919669 191.7881 \r\nL 640.017888 192.062459 \r\nL 645.116106 193.127236 \r\nL 650.214324 194.959551 \r\nL 655.312543 193.154694 \r\nL 660.410761 194.296748 \r\nL 665.50898 191.386522 \r\nL 670.607198 194.364229 \r\nL 675.705416 194.193204 \r\nL 680.803635 194.167967 \r\nL 685.901853 194.361588 \r\nL 691.000071 195.700231 \r\nL 696.09829 194.998415 \r\nL 701.196508 195.750075 \r\nL 706.294726 194.815682 \r\nL 711.392945 196.964174 \r\nL 716.491163 196.489298 \r\nL 721.589382 197.610304 \r\nL 726.6876 196.329254 \r\nL 731.785818 196.690556 \r\nL 736.884037 197.675663 \r\nL 741.982255 195.692797 \r\nL 747.080473 198.148504 \r\nL 752.178692 197.983327 \r\nL 757.27691 200.172787 \r\nL 762.375128 198.836211 \r\nL 767.473347 199.906929 \r\nL 772.571565 199.50981 \r\nL 777.669784 200.387783 \r\nL 782.768002 199.815938 \r\nL 787.86622 200.943644 \r\nL 792.964439 198.119004 \r\nL 798.062657 201.473774 \r\nL 803.160875 200.949128 \r\nL 808.259094 201.513687 \r\nL 813.357312 201.585554 \r\nL 818.45553 201.452066 \r\nL 823.553749 201.576097 \r\nL 828.651967 203.176026 \r\nL 833.750186 202.25753 \r\nL 838.848404 202.513562 \r\nL 843.946622 204.532428 \r\nL 849.044841 203.492456 \r\nL 854.143059 203.352072 \r\nL 859.241277 204.555531 \r\nL 864.339496 203.376821 \r\nL 869.437714 205.424929 \r\nL 879.634151 203.513325 \r\nL 884.732369 205.151945 \r\nL 889.830588 205.536708 \r\nL 894.928806 202.376496 \r\nL 900.027024 206.172646 \r\nL 905.125243 206.895917 \r\nL 915.321679 205.394294 \r\nL 920.419898 207.136958 \r\nL 925.518116 205.614892 \r\nL 930.616335 206.695769 \r\nL 935.714553 208.295618 \r\nL 940.812771 207.693312 \r\nL 945.91099 207.466737 \r\nL 951.009208 208.29428 \r\nL 956.107426 206.722499 \r\nL 961.205645 207.489488 \r\nL 966.303863 207.689167 \r\nL 971.402081 209.078258 \r\nL 976.5003 208.468938 \r\nL 981.598518 209.648751 \r\nL 986.696737 208.682731 \r\nL 991.794955 210.287688 \r\nL 996.893173 208.165302 \r\nL 1001.991392 210.108391 \r\nL 1007.08961 209.543363 \r\nL 1012.187828 209.110293 \r\nL 1017.286047 211.773771 \r\nL 1022.384265 209.734245 \r\nL 1027.482483 210.278015 \r\nL 1032.580702 211.093035 \r\nL 1037.67892 211.632641 \r\nL 1042.777139 210.479162 \r\nL 1047.875357 211.506908 \r\nL 1052.973575 212.340958 \r\nL 1058.071794 211.855453 \r\nL 1063.170012 211.148591 \r\nL 1068.26823 213.500933 \r\nL 1073.366449 212.818592 \r\nL 1078.464667 214.117335 \r\nL 1083.562885 211.673189 \r\nL 1088.661104 213.254599 \r\nL 1093.759322 212.199143 \r\nL 1103.955759 214.756364 \r\nL 1109.053977 214.131073 \r\nL 1109.053977 214.131073 \r\n\" style=\"fill:none;stroke:#0000ff;stroke-dasharray:5.55,2.4;stroke-dashoffset:0;stroke-width:1.5;\"/>\r\n    <defs>\r\n     <path d=\"M 0 3 \r\nC 0.795609 3 1.55874 2.683901 2.12132 2.12132 \r\nC 2.683901 1.55874 3 0.795609 3 0 \r\nC 3 -0.795609 2.683901 -1.55874 2.12132 -2.12132 \r\nC 1.55874 -2.683901 0.795609 -3 0 -3 \r\nC -0.795609 -3 -1.55874 -2.683901 -2.12132 -2.12132 \r\nC -2.683901 -1.55874 -3 -0.795609 -3 0 \r\nC -3 0.795609 -2.683901 1.55874 -2.12132 2.12132 \r\nC -1.55874 2.683901 -0.795609 3 0 3 \r\nz\r\n\" id=\"m9ea01853c7\" style=\"stroke:#0000ff;\"/>\r\n    </defs>\r\n    <g clip-path=\"url(#pf354273b7b)\">\r\n     <use style=\"fill:#0000ff;stroke:#0000ff;\" x=\"94.508523\" xlink:href=\"#m9ea01853c7\" y=\"17.083636\"/>\r\n     <use style=\"fill:#0000ff;stroke:#0000ff;\" x=\"99.606741\" xlink:href=\"#m9ea01853c7\" y=\"77.623523\"/>\r\n     <use style=\"fill:#0000ff;stroke:#0000ff;\" x=\"104.704959\" xlink:href=\"#m9ea01853c7\" y=\"101.420378\"/>\r\n     <use style=\"fill:#0000ff;stroke:#0000ff;\" x=\"109.803178\" xlink:href=\"#m9ea01853c7\" y=\"115.523483\"/>\r\n     <use style=\"fill:#0000ff;stroke:#0000ff;\" x=\"114.901396\" xlink:href=\"#m9ea01853c7\" y=\"122.006541\"/>\r\n     <use style=\"fill:#0000ff;stroke:#0000ff;\" x=\"119.999615\" xlink:href=\"#m9ea01853c7\" y=\"129.852429\"/>\r\n     <use style=\"fill:#0000ff;stroke:#0000ff;\" x=\"125.097833\" xlink:href=\"#m9ea01853c7\" y=\"133.631615\"/>\r\n     <use style=\"fill:#0000ff;stroke:#0000ff;\" x=\"130.196051\" xlink:href=\"#m9ea01853c7\" y=\"135.374495\"/>\r\n     <use style=\"fill:#0000ff;stroke:#0000ff;\" x=\"135.29427\" xlink:href=\"#m9ea01853c7\" y=\"137.167218\"/>\r\n     <use style=\"fill:#0000ff;stroke:#0000ff;\" x=\"140.392488\" xlink:href=\"#m9ea01853c7\" y=\"140.78182\"/>\r\n     <use style=\"fill:#0000ff;stroke:#0000ff;\" x=\"145.490706\" xlink:href=\"#m9ea01853c7\" y=\"142.199293\"/>\r\n     <use style=\"fill:#0000ff;stroke:#0000ff;\" x=\"150.588925\" xlink:href=\"#m9ea01853c7\" y=\"144.35087\"/>\r\n     <use style=\"fill:#0000ff;stroke:#0000ff;\" x=\"155.687143\" xlink:href=\"#m9ea01853c7\" y=\"146.121781\"/>\r\n     <use style=\"fill:#0000ff;stroke:#0000ff;\" x=\"160.785361\" xlink:href=\"#m9ea01853c7\" y=\"148.425568\"/>\r\n     <use style=\"fill:#0000ff;stroke:#0000ff;\" x=\"165.88358\" xlink:href=\"#m9ea01853c7\" y=\"148.567846\"/>\r\n     <use style=\"fill:#0000ff;stroke:#0000ff;\" x=\"170.981798\" xlink:href=\"#m9ea01853c7\" y=\"149.673176\"/>\r\n     <use style=\"fill:#0000ff;stroke:#0000ff;\" x=\"176.080017\" xlink:href=\"#m9ea01853c7\" y=\"152.0321\"/>\r\n     <use style=\"fill:#0000ff;stroke:#0000ff;\" x=\"181.178235\" xlink:href=\"#m9ea01853c7\" y=\"152.545902\"/>\r\n     <use style=\"fill:#0000ff;stroke:#0000ff;\" x=\"186.276453\" xlink:href=\"#m9ea01853c7\" y=\"153.451671\"/>\r\n     <use style=\"fill:#0000ff;stroke:#0000ff;\" x=\"191.374672\" xlink:href=\"#m9ea01853c7\" y=\"154.609339\"/>\r\n     <use style=\"fill:#0000ff;stroke:#0000ff;\" x=\"196.47289\" xlink:href=\"#m9ea01853c7\" y=\"155.921473\"/>\r\n     <use style=\"fill:#0000ff;stroke:#0000ff;\" x=\"201.571108\" xlink:href=\"#m9ea01853c7\" y=\"155.204199\"/>\r\n     <use style=\"fill:#0000ff;stroke:#0000ff;\" x=\"206.669327\" xlink:href=\"#m9ea01853c7\" y=\"157.519941\"/>\r\n     <use style=\"fill:#0000ff;stroke:#0000ff;\" x=\"211.767545\" xlink:href=\"#m9ea01853c7\" y=\"157.620271\"/>\r\n     <use style=\"fill:#0000ff;stroke:#0000ff;\" x=\"216.865763\" xlink:href=\"#m9ea01853c7\" y=\"157.732494\"/>\r\n     <use style=\"fill:#0000ff;stroke:#0000ff;\" x=\"221.963982\" xlink:href=\"#m9ea01853c7\" y=\"159.653727\"/>\r\n     <use style=\"fill:#0000ff;stroke:#0000ff;\" x=\"227.0622\" xlink:href=\"#m9ea01853c7\" y=\"160.716443\"/>\r\n     <use style=\"fill:#0000ff;stroke:#0000ff;\" x=\"232.160419\" xlink:href=\"#m9ea01853c7\" y=\"158.542276\"/>\r\n     <use style=\"fill:#0000ff;stroke:#0000ff;\" x=\"237.258637\" xlink:href=\"#m9ea01853c7\" y=\"160.87043\"/>\r\n     <use style=\"fill:#0000ff;stroke:#0000ff;\" x=\"242.356855\" xlink:href=\"#m9ea01853c7\" y=\"162.512239\"/>\r\n     <use style=\"fill:#0000ff;stroke:#0000ff;\" x=\"247.455074\" xlink:href=\"#m9ea01853c7\" y=\"162.928253\"/>\r\n     <use style=\"fill:#0000ff;stroke:#0000ff;\" x=\"252.553292\" xlink:href=\"#m9ea01853c7\" y=\"162.917519\"/>\r\n     <use style=\"fill:#0000ff;stroke:#0000ff;\" x=\"257.65151\" xlink:href=\"#m9ea01853c7\" y=\"162.71475\"/>\r\n     <use style=\"fill:#0000ff;stroke:#0000ff;\" x=\"262.749729\" xlink:href=\"#m9ea01853c7\" y=\"164.271466\"/>\r\n     <use style=\"fill:#0000ff;stroke:#0000ff;\" x=\"267.847947\" xlink:href=\"#m9ea01853c7\" y=\"166.19165\"/>\r\n     <use style=\"fill:#0000ff;stroke:#0000ff;\" x=\"272.946165\" xlink:href=\"#m9ea01853c7\" y=\"165.640811\"/>\r\n     <use style=\"fill:#0000ff;stroke:#0000ff;\" x=\"278.044384\" xlink:href=\"#m9ea01853c7\" y=\"167.451066\"/>\r\n     <use style=\"fill:#0000ff;stroke:#0000ff;\" x=\"283.142602\" xlink:href=\"#m9ea01853c7\" y=\"167.695833\"/>\r\n     <use style=\"fill:#0000ff;stroke:#0000ff;\" x=\"288.240821\" xlink:href=\"#m9ea01853c7\" y=\"166.902929\"/>\r\n     <use style=\"fill:#0000ff;stroke:#0000ff;\" x=\"293.339039\" xlink:href=\"#m9ea01853c7\" y=\"167.808858\"/>\r\n     <use style=\"fill:#0000ff;stroke:#0000ff;\" x=\"298.437257\" xlink:href=\"#m9ea01853c7\" y=\"169.044561\"/>\r\n     <use style=\"fill:#0000ff;stroke:#0000ff;\" x=\"303.535476\" xlink:href=\"#m9ea01853c7\" y=\"169.002749\"/>\r\n     <use style=\"fill:#0000ff;stroke:#0000ff;\" x=\"308.633694\" xlink:href=\"#m9ea01853c7\" y=\"170.257872\"/>\r\n     <use style=\"fill:#0000ff;stroke:#0000ff;\" x=\"313.731912\" xlink:href=\"#m9ea01853c7\" y=\"169.713102\"/>\r\n     <use style=\"fill:#0000ff;stroke:#0000ff;\" x=\"318.830131\" xlink:href=\"#m9ea01853c7\" y=\"170.931199\"/>\r\n     <use style=\"fill:#0000ff;stroke:#0000ff;\" x=\"323.928349\" xlink:href=\"#m9ea01853c7\" y=\"172.28453\"/>\r\n     <use style=\"fill:#0000ff;stroke:#0000ff;\" x=\"329.026567\" xlink:href=\"#m9ea01853c7\" y=\"172.507891\"/>\r\n     <use style=\"fill:#0000ff;stroke:#0000ff;\" x=\"334.124786\" xlink:href=\"#m9ea01853c7\" y=\"172.11179\"/>\r\n     <use style=\"fill:#0000ff;stroke:#0000ff;\" x=\"339.223004\" xlink:href=\"#m9ea01853c7\" y=\"170.751933\"/>\r\n     <use style=\"fill:#0000ff;stroke:#0000ff;\" x=\"344.321223\" xlink:href=\"#m9ea01853c7\" y=\"173.316291\"/>\r\n     <use style=\"fill:#0000ff;stroke:#0000ff;\" x=\"349.419441\" xlink:href=\"#m9ea01853c7\" y=\"173.477236\"/>\r\n     <use style=\"fill:#0000ff;stroke:#0000ff;\" x=\"354.517659\" xlink:href=\"#m9ea01853c7\" y=\"172.942102\"/>\r\n     <use style=\"fill:#0000ff;stroke:#0000ff;\" x=\"359.615878\" xlink:href=\"#m9ea01853c7\" y=\"175.262249\"/>\r\n     <use style=\"fill:#0000ff;stroke:#0000ff;\" x=\"364.714096\" xlink:href=\"#m9ea01853c7\" y=\"175.345923\"/>\r\n     <use style=\"fill:#0000ff;stroke:#0000ff;\" x=\"369.812314\" xlink:href=\"#m9ea01853c7\" y=\"175.506695\"/>\r\n     <use style=\"fill:#0000ff;stroke:#0000ff;\" x=\"374.910533\" xlink:href=\"#m9ea01853c7\" y=\"174.326227\"/>\r\n     <use style=\"fill:#0000ff;stroke:#0000ff;\" x=\"380.008751\" xlink:href=\"#m9ea01853c7\" y=\"176.340967\"/>\r\n     <use style=\"fill:#0000ff;stroke:#0000ff;\" x=\"385.10697\" xlink:href=\"#m9ea01853c7\" y=\"176.669581\"/>\r\n     <use style=\"fill:#0000ff;stroke:#0000ff;\" x=\"390.205188\" xlink:href=\"#m9ea01853c7\" y=\"177.75738\"/>\r\n     <use style=\"fill:#0000ff;stroke:#0000ff;\" x=\"395.303406\" xlink:href=\"#m9ea01853c7\" y=\"178.773177\"/>\r\n     <use style=\"fill:#0000ff;stroke:#0000ff;\" x=\"400.401625\" xlink:href=\"#m9ea01853c7\" y=\"177.235164\"/>\r\n     <use style=\"fill:#0000ff;stroke:#0000ff;\" x=\"405.499843\" xlink:href=\"#m9ea01853c7\" y=\"175.861057\"/>\r\n     <use style=\"fill:#0000ff;stroke:#0000ff;\" x=\"410.598061\" xlink:href=\"#m9ea01853c7\" y=\"178.802084\"/>\r\n     <use style=\"fill:#0000ff;stroke:#0000ff;\" x=\"415.69628\" xlink:href=\"#m9ea01853c7\" y=\"179.770232\"/>\r\n     <use style=\"fill:#0000ff;stroke:#0000ff;\" x=\"420.794498\" xlink:href=\"#m9ea01853c7\" y=\"179.396327\"/>\r\n     <use style=\"fill:#0000ff;stroke:#0000ff;\" x=\"425.892716\" xlink:href=\"#m9ea01853c7\" y=\"176.464073\"/>\r\n     <use style=\"fill:#0000ff;stroke:#0000ff;\" x=\"430.990935\" xlink:href=\"#m9ea01853c7\" y=\"179.388012\"/>\r\n     <use style=\"fill:#0000ff;stroke:#0000ff;\" x=\"436.089153\" xlink:href=\"#m9ea01853c7\" y=\"181.724937\"/>\r\n     <use style=\"fill:#0000ff;stroke:#0000ff;\" x=\"441.187372\" xlink:href=\"#m9ea01853c7\" y=\"181.599759\"/>\r\n     <use style=\"fill:#0000ff;stroke:#0000ff;\" x=\"446.28559\" xlink:href=\"#m9ea01853c7\" y=\"181.302138\"/>\r\n     <use style=\"fill:#0000ff;stroke:#0000ff;\" x=\"451.383808\" xlink:href=\"#m9ea01853c7\" y=\"180.639803\"/>\r\n     <use style=\"fill:#0000ff;stroke:#0000ff;\" x=\"456.482027\" xlink:href=\"#m9ea01853c7\" y=\"180.14056\"/>\r\n     <use style=\"fill:#0000ff;stroke:#0000ff;\" x=\"461.580245\" xlink:href=\"#m9ea01853c7\" y=\"181.496752\"/>\r\n     <use style=\"fill:#0000ff;stroke:#0000ff;\" x=\"466.678463\" xlink:href=\"#m9ea01853c7\" y=\"180.350016\"/>\r\n     <use style=\"fill:#0000ff;stroke:#0000ff;\" x=\"471.776682\" xlink:href=\"#m9ea01853c7\" y=\"182.384595\"/>\r\n     <use style=\"fill:#0000ff;stroke:#0000ff;\" x=\"476.8749\" xlink:href=\"#m9ea01853c7\" y=\"182.245044\"/>\r\n     <use style=\"fill:#0000ff;stroke:#0000ff;\" x=\"481.973118\" xlink:href=\"#m9ea01853c7\" y=\"182.780955\"/>\r\n     <use style=\"fill:#0000ff;stroke:#0000ff;\" x=\"487.071337\" xlink:href=\"#m9ea01853c7\" y=\"183.015321\"/>\r\n     <use style=\"fill:#0000ff;stroke:#0000ff;\" x=\"492.169555\" xlink:href=\"#m9ea01853c7\" y=\"184.671195\"/>\r\n     <use style=\"fill:#0000ff;stroke:#0000ff;\" x=\"497.267774\" xlink:href=\"#m9ea01853c7\" y=\"184.107524\"/>\r\n     <use style=\"fill:#0000ff;stroke:#0000ff;\" x=\"502.365992\" xlink:href=\"#m9ea01853c7\" y=\"183.93798\"/>\r\n     <use style=\"fill:#0000ff;stroke:#0000ff;\" x=\"507.46421\" xlink:href=\"#m9ea01853c7\" y=\"184.557183\"/>\r\n     <use style=\"fill:#0000ff;stroke:#0000ff;\" x=\"512.562429\" xlink:href=\"#m9ea01853c7\" y=\"183.08625\"/>\r\n     <use style=\"fill:#0000ff;stroke:#0000ff;\" x=\"517.660647\" xlink:href=\"#m9ea01853c7\" y=\"185.506677\"/>\r\n     <use style=\"fill:#0000ff;stroke:#0000ff;\" x=\"522.758865\" xlink:href=\"#m9ea01853c7\" y=\"184.542452\"/>\r\n     <use style=\"fill:#0000ff;stroke:#0000ff;\" x=\"527.857084\" xlink:href=\"#m9ea01853c7\" y=\"186.594032\"/>\r\n     <use style=\"fill:#0000ff;stroke:#0000ff;\" x=\"532.955302\" xlink:href=\"#m9ea01853c7\" y=\"186.996215\"/>\r\n     <use style=\"fill:#0000ff;stroke:#0000ff;\" x=\"538.05352\" xlink:href=\"#m9ea01853c7\" y=\"186.243766\"/>\r\n     <use style=\"fill:#0000ff;stroke:#0000ff;\" x=\"543.151739\" xlink:href=\"#m9ea01853c7\" y=\"186.964556\"/>\r\n     <use style=\"fill:#0000ff;stroke:#0000ff;\" x=\"548.249957\" xlink:href=\"#m9ea01853c7\" y=\"188.3188\"/>\r\n     <use style=\"fill:#0000ff;stroke:#0000ff;\" x=\"553.348176\" xlink:href=\"#m9ea01853c7\" y=\"186.292709\"/>\r\n     <use style=\"fill:#0000ff;stroke:#0000ff;\" x=\"558.446394\" xlink:href=\"#m9ea01853c7\" y=\"188.704068\"/>\r\n     <use style=\"fill:#0000ff;stroke:#0000ff;\" x=\"563.544612\" xlink:href=\"#m9ea01853c7\" y=\"188.208809\"/>\r\n     <use style=\"fill:#0000ff;stroke:#0000ff;\" x=\"568.642831\" xlink:href=\"#m9ea01853c7\" y=\"187.241438\"/>\r\n     <use style=\"fill:#0000ff;stroke:#0000ff;\" x=\"573.741049\" xlink:href=\"#m9ea01853c7\" y=\"188.3074\"/>\r\n     <use style=\"fill:#0000ff;stroke:#0000ff;\" x=\"578.839267\" xlink:href=\"#m9ea01853c7\" y=\"187.910756\"/>\r\n     <use style=\"fill:#0000ff;stroke:#0000ff;\" x=\"583.937486\" xlink:href=\"#m9ea01853c7\" y=\"189.205433\"/>\r\n     <use style=\"fill:#0000ff;stroke:#0000ff;\" x=\"589.035704\" xlink:href=\"#m9ea01853c7\" y=\"190.19228\"/>\r\n     <use style=\"fill:#0000ff;stroke:#0000ff;\" x=\"594.133922\" xlink:href=\"#m9ea01853c7\" y=\"188.115216\"/>\r\n     <use style=\"fill:#0000ff;stroke:#0000ff;\" x=\"599.232141\" xlink:href=\"#m9ea01853c7\" y=\"190.234351\"/>\r\n     <use style=\"fill:#0000ff;stroke:#0000ff;\" x=\"604.330359\" xlink:href=\"#m9ea01853c7\" y=\"190.642246\"/>\r\n     <use style=\"fill:#0000ff;stroke:#0000ff;\" x=\"609.428578\" xlink:href=\"#m9ea01853c7\" y=\"190.06836\"/>\r\n     <use style=\"fill:#0000ff;stroke:#0000ff;\" x=\"614.526796\" xlink:href=\"#m9ea01853c7\" y=\"191.16585\"/>\r\n     <use style=\"fill:#0000ff;stroke:#0000ff;\" x=\"619.625014\" xlink:href=\"#m9ea01853c7\" y=\"191.089308\"/>\r\n     <use style=\"fill:#0000ff;stroke:#0000ff;\" x=\"624.723233\" xlink:href=\"#m9ea01853c7\" y=\"191.934067\"/>\r\n     <use style=\"fill:#0000ff;stroke:#0000ff;\" x=\"629.821451\" xlink:href=\"#m9ea01853c7\" y=\"192.075722\"/>\r\n     <use style=\"fill:#0000ff;stroke:#0000ff;\" x=\"634.919669\" xlink:href=\"#m9ea01853c7\" y=\"191.7881\"/>\r\n     <use style=\"fill:#0000ff;stroke:#0000ff;\" x=\"640.017888\" xlink:href=\"#m9ea01853c7\" y=\"192.062459\"/>\r\n     <use style=\"fill:#0000ff;stroke:#0000ff;\" x=\"645.116106\" xlink:href=\"#m9ea01853c7\" y=\"193.127236\"/>\r\n     <use style=\"fill:#0000ff;stroke:#0000ff;\" x=\"650.214324\" xlink:href=\"#m9ea01853c7\" y=\"194.959551\"/>\r\n     <use style=\"fill:#0000ff;stroke:#0000ff;\" x=\"655.312543\" xlink:href=\"#m9ea01853c7\" y=\"193.154694\"/>\r\n     <use style=\"fill:#0000ff;stroke:#0000ff;\" x=\"660.410761\" xlink:href=\"#m9ea01853c7\" y=\"194.296748\"/>\r\n     <use style=\"fill:#0000ff;stroke:#0000ff;\" x=\"665.50898\" xlink:href=\"#m9ea01853c7\" y=\"191.386522\"/>\r\n     <use style=\"fill:#0000ff;stroke:#0000ff;\" x=\"670.607198\" xlink:href=\"#m9ea01853c7\" y=\"194.364229\"/>\r\n     <use style=\"fill:#0000ff;stroke:#0000ff;\" x=\"675.705416\" xlink:href=\"#m9ea01853c7\" y=\"194.193204\"/>\r\n     <use style=\"fill:#0000ff;stroke:#0000ff;\" x=\"680.803635\" xlink:href=\"#m9ea01853c7\" y=\"194.167967\"/>\r\n     <use style=\"fill:#0000ff;stroke:#0000ff;\" x=\"685.901853\" xlink:href=\"#m9ea01853c7\" y=\"194.361588\"/>\r\n     <use style=\"fill:#0000ff;stroke:#0000ff;\" x=\"691.000071\" xlink:href=\"#m9ea01853c7\" y=\"195.700231\"/>\r\n     <use style=\"fill:#0000ff;stroke:#0000ff;\" x=\"696.09829\" xlink:href=\"#m9ea01853c7\" y=\"194.998415\"/>\r\n     <use style=\"fill:#0000ff;stroke:#0000ff;\" x=\"701.196508\" xlink:href=\"#m9ea01853c7\" y=\"195.750075\"/>\r\n     <use style=\"fill:#0000ff;stroke:#0000ff;\" x=\"706.294726\" xlink:href=\"#m9ea01853c7\" y=\"194.815682\"/>\r\n     <use style=\"fill:#0000ff;stroke:#0000ff;\" x=\"711.392945\" xlink:href=\"#m9ea01853c7\" y=\"196.964174\"/>\r\n     <use style=\"fill:#0000ff;stroke:#0000ff;\" x=\"716.491163\" xlink:href=\"#m9ea01853c7\" y=\"196.489298\"/>\r\n     <use style=\"fill:#0000ff;stroke:#0000ff;\" x=\"721.589382\" xlink:href=\"#m9ea01853c7\" y=\"197.610304\"/>\r\n     <use style=\"fill:#0000ff;stroke:#0000ff;\" x=\"726.6876\" xlink:href=\"#m9ea01853c7\" y=\"196.329254\"/>\r\n     <use style=\"fill:#0000ff;stroke:#0000ff;\" x=\"731.785818\" xlink:href=\"#m9ea01853c7\" y=\"196.690556\"/>\r\n     <use style=\"fill:#0000ff;stroke:#0000ff;\" x=\"736.884037\" xlink:href=\"#m9ea01853c7\" y=\"197.675663\"/>\r\n     <use style=\"fill:#0000ff;stroke:#0000ff;\" x=\"741.982255\" xlink:href=\"#m9ea01853c7\" y=\"195.692797\"/>\r\n     <use style=\"fill:#0000ff;stroke:#0000ff;\" x=\"747.080473\" xlink:href=\"#m9ea01853c7\" y=\"198.148504\"/>\r\n     <use style=\"fill:#0000ff;stroke:#0000ff;\" x=\"752.178692\" xlink:href=\"#m9ea01853c7\" y=\"197.983327\"/>\r\n     <use style=\"fill:#0000ff;stroke:#0000ff;\" x=\"757.27691\" xlink:href=\"#m9ea01853c7\" y=\"200.172787\"/>\r\n     <use style=\"fill:#0000ff;stroke:#0000ff;\" x=\"762.375128\" xlink:href=\"#m9ea01853c7\" y=\"198.836211\"/>\r\n     <use style=\"fill:#0000ff;stroke:#0000ff;\" x=\"767.473347\" xlink:href=\"#m9ea01853c7\" y=\"199.906929\"/>\r\n     <use style=\"fill:#0000ff;stroke:#0000ff;\" x=\"772.571565\" xlink:href=\"#m9ea01853c7\" y=\"199.50981\"/>\r\n     <use style=\"fill:#0000ff;stroke:#0000ff;\" x=\"777.669784\" xlink:href=\"#m9ea01853c7\" y=\"200.387783\"/>\r\n     <use style=\"fill:#0000ff;stroke:#0000ff;\" x=\"782.768002\" xlink:href=\"#m9ea01853c7\" y=\"199.815938\"/>\r\n     <use style=\"fill:#0000ff;stroke:#0000ff;\" x=\"787.86622\" xlink:href=\"#m9ea01853c7\" y=\"200.943644\"/>\r\n     <use style=\"fill:#0000ff;stroke:#0000ff;\" x=\"792.964439\" xlink:href=\"#m9ea01853c7\" y=\"198.119004\"/>\r\n     <use style=\"fill:#0000ff;stroke:#0000ff;\" x=\"798.062657\" xlink:href=\"#m9ea01853c7\" y=\"201.473774\"/>\r\n     <use style=\"fill:#0000ff;stroke:#0000ff;\" x=\"803.160875\" xlink:href=\"#m9ea01853c7\" y=\"200.949128\"/>\r\n     <use style=\"fill:#0000ff;stroke:#0000ff;\" x=\"808.259094\" xlink:href=\"#m9ea01853c7\" y=\"201.513687\"/>\r\n     <use style=\"fill:#0000ff;stroke:#0000ff;\" x=\"813.357312\" xlink:href=\"#m9ea01853c7\" y=\"201.585554\"/>\r\n     <use style=\"fill:#0000ff;stroke:#0000ff;\" x=\"818.45553\" xlink:href=\"#m9ea01853c7\" y=\"201.452066\"/>\r\n     <use style=\"fill:#0000ff;stroke:#0000ff;\" x=\"823.553749\" xlink:href=\"#m9ea01853c7\" y=\"201.576097\"/>\r\n     <use style=\"fill:#0000ff;stroke:#0000ff;\" x=\"828.651967\" xlink:href=\"#m9ea01853c7\" y=\"203.176026\"/>\r\n     <use style=\"fill:#0000ff;stroke:#0000ff;\" x=\"833.750186\" xlink:href=\"#m9ea01853c7\" y=\"202.25753\"/>\r\n     <use style=\"fill:#0000ff;stroke:#0000ff;\" x=\"838.848404\" xlink:href=\"#m9ea01853c7\" y=\"202.513562\"/>\r\n     <use style=\"fill:#0000ff;stroke:#0000ff;\" x=\"843.946622\" xlink:href=\"#m9ea01853c7\" y=\"204.532428\"/>\r\n     <use style=\"fill:#0000ff;stroke:#0000ff;\" x=\"849.044841\" xlink:href=\"#m9ea01853c7\" y=\"203.492456\"/>\r\n     <use style=\"fill:#0000ff;stroke:#0000ff;\" x=\"854.143059\" xlink:href=\"#m9ea01853c7\" y=\"203.352072\"/>\r\n     <use style=\"fill:#0000ff;stroke:#0000ff;\" x=\"859.241277\" xlink:href=\"#m9ea01853c7\" y=\"204.555531\"/>\r\n     <use style=\"fill:#0000ff;stroke:#0000ff;\" x=\"864.339496\" xlink:href=\"#m9ea01853c7\" y=\"203.376821\"/>\r\n     <use style=\"fill:#0000ff;stroke:#0000ff;\" x=\"869.437714\" xlink:href=\"#m9ea01853c7\" y=\"205.424929\"/>\r\n     <use style=\"fill:#0000ff;stroke:#0000ff;\" x=\"874.535933\" xlink:href=\"#m9ea01853c7\" y=\"204.426318\"/>\r\n     <use style=\"fill:#0000ff;stroke:#0000ff;\" x=\"879.634151\" xlink:href=\"#m9ea01853c7\" y=\"203.513325\"/>\r\n     <use style=\"fill:#0000ff;stroke:#0000ff;\" x=\"884.732369\" xlink:href=\"#m9ea01853c7\" y=\"205.151945\"/>\r\n     <use style=\"fill:#0000ff;stroke:#0000ff;\" x=\"889.830588\" xlink:href=\"#m9ea01853c7\" y=\"205.536708\"/>\r\n     <use style=\"fill:#0000ff;stroke:#0000ff;\" x=\"894.928806\" xlink:href=\"#m9ea01853c7\" y=\"202.376496\"/>\r\n     <use style=\"fill:#0000ff;stroke:#0000ff;\" x=\"900.027024\" xlink:href=\"#m9ea01853c7\" y=\"206.172646\"/>\r\n     <use style=\"fill:#0000ff;stroke:#0000ff;\" x=\"905.125243\" xlink:href=\"#m9ea01853c7\" y=\"206.895917\"/>\r\n     <use style=\"fill:#0000ff;stroke:#0000ff;\" x=\"910.223461\" xlink:href=\"#m9ea01853c7\" y=\"206.143388\"/>\r\n     <use style=\"fill:#0000ff;stroke:#0000ff;\" x=\"915.321679\" xlink:href=\"#m9ea01853c7\" y=\"205.394294\"/>\r\n     <use style=\"fill:#0000ff;stroke:#0000ff;\" x=\"920.419898\" xlink:href=\"#m9ea01853c7\" y=\"207.136958\"/>\r\n     <use style=\"fill:#0000ff;stroke:#0000ff;\" x=\"925.518116\" xlink:href=\"#m9ea01853c7\" y=\"205.614892\"/>\r\n     <use style=\"fill:#0000ff;stroke:#0000ff;\" x=\"930.616335\" xlink:href=\"#m9ea01853c7\" y=\"206.695769\"/>\r\n     <use style=\"fill:#0000ff;stroke:#0000ff;\" x=\"935.714553\" xlink:href=\"#m9ea01853c7\" y=\"208.295618\"/>\r\n     <use style=\"fill:#0000ff;stroke:#0000ff;\" x=\"940.812771\" xlink:href=\"#m9ea01853c7\" y=\"207.693312\"/>\r\n     <use style=\"fill:#0000ff;stroke:#0000ff;\" x=\"945.91099\" xlink:href=\"#m9ea01853c7\" y=\"207.466737\"/>\r\n     <use style=\"fill:#0000ff;stroke:#0000ff;\" x=\"951.009208\" xlink:href=\"#m9ea01853c7\" y=\"208.29428\"/>\r\n     <use style=\"fill:#0000ff;stroke:#0000ff;\" x=\"956.107426\" xlink:href=\"#m9ea01853c7\" y=\"206.722499\"/>\r\n     <use style=\"fill:#0000ff;stroke:#0000ff;\" x=\"961.205645\" xlink:href=\"#m9ea01853c7\" y=\"207.489488\"/>\r\n     <use style=\"fill:#0000ff;stroke:#0000ff;\" x=\"966.303863\" xlink:href=\"#m9ea01853c7\" y=\"207.689167\"/>\r\n     <use style=\"fill:#0000ff;stroke:#0000ff;\" x=\"971.402081\" xlink:href=\"#m9ea01853c7\" y=\"209.078258\"/>\r\n     <use style=\"fill:#0000ff;stroke:#0000ff;\" x=\"976.5003\" xlink:href=\"#m9ea01853c7\" y=\"208.468938\"/>\r\n     <use style=\"fill:#0000ff;stroke:#0000ff;\" x=\"981.598518\" xlink:href=\"#m9ea01853c7\" y=\"209.648751\"/>\r\n     <use style=\"fill:#0000ff;stroke:#0000ff;\" x=\"986.696737\" xlink:href=\"#m9ea01853c7\" y=\"208.682731\"/>\r\n     <use style=\"fill:#0000ff;stroke:#0000ff;\" x=\"991.794955\" xlink:href=\"#m9ea01853c7\" y=\"210.287688\"/>\r\n     <use style=\"fill:#0000ff;stroke:#0000ff;\" x=\"996.893173\" xlink:href=\"#m9ea01853c7\" y=\"208.165302\"/>\r\n     <use style=\"fill:#0000ff;stroke:#0000ff;\" x=\"1001.991392\" xlink:href=\"#m9ea01853c7\" y=\"210.108391\"/>\r\n     <use style=\"fill:#0000ff;stroke:#0000ff;\" x=\"1007.08961\" xlink:href=\"#m9ea01853c7\" y=\"209.543363\"/>\r\n     <use style=\"fill:#0000ff;stroke:#0000ff;\" x=\"1012.187828\" xlink:href=\"#m9ea01853c7\" y=\"209.110293\"/>\r\n     <use style=\"fill:#0000ff;stroke:#0000ff;\" x=\"1017.286047\" xlink:href=\"#m9ea01853c7\" y=\"211.773771\"/>\r\n     <use style=\"fill:#0000ff;stroke:#0000ff;\" x=\"1022.384265\" xlink:href=\"#m9ea01853c7\" y=\"209.734245\"/>\r\n     <use style=\"fill:#0000ff;stroke:#0000ff;\" x=\"1027.482483\" xlink:href=\"#m9ea01853c7\" y=\"210.278015\"/>\r\n     <use style=\"fill:#0000ff;stroke:#0000ff;\" x=\"1032.580702\" xlink:href=\"#m9ea01853c7\" y=\"211.093035\"/>\r\n     <use style=\"fill:#0000ff;stroke:#0000ff;\" x=\"1037.67892\" xlink:href=\"#m9ea01853c7\" y=\"211.632641\"/>\r\n     <use style=\"fill:#0000ff;stroke:#0000ff;\" x=\"1042.777139\" xlink:href=\"#m9ea01853c7\" y=\"210.479162\"/>\r\n     <use style=\"fill:#0000ff;stroke:#0000ff;\" x=\"1047.875357\" xlink:href=\"#m9ea01853c7\" y=\"211.506908\"/>\r\n     <use style=\"fill:#0000ff;stroke:#0000ff;\" x=\"1052.973575\" xlink:href=\"#m9ea01853c7\" y=\"212.340958\"/>\r\n     <use style=\"fill:#0000ff;stroke:#0000ff;\" x=\"1058.071794\" xlink:href=\"#m9ea01853c7\" y=\"211.855453\"/>\r\n     <use style=\"fill:#0000ff;stroke:#0000ff;\" x=\"1063.170012\" xlink:href=\"#m9ea01853c7\" y=\"211.148591\"/>\r\n     <use style=\"fill:#0000ff;stroke:#0000ff;\" x=\"1068.26823\" xlink:href=\"#m9ea01853c7\" y=\"213.500933\"/>\r\n     <use style=\"fill:#0000ff;stroke:#0000ff;\" x=\"1073.366449\" xlink:href=\"#m9ea01853c7\" y=\"212.818592\"/>\r\n     <use style=\"fill:#0000ff;stroke:#0000ff;\" x=\"1078.464667\" xlink:href=\"#m9ea01853c7\" y=\"214.117335\"/>\r\n     <use style=\"fill:#0000ff;stroke:#0000ff;\" x=\"1083.562885\" xlink:href=\"#m9ea01853c7\" y=\"211.673189\"/>\r\n     <use style=\"fill:#0000ff;stroke:#0000ff;\" x=\"1088.661104\" xlink:href=\"#m9ea01853c7\" y=\"213.254599\"/>\r\n     <use style=\"fill:#0000ff;stroke:#0000ff;\" x=\"1093.759322\" xlink:href=\"#m9ea01853c7\" y=\"212.199143\"/>\r\n     <use style=\"fill:#0000ff;stroke:#0000ff;\" x=\"1098.857541\" xlink:href=\"#m9ea01853c7\" y=\"213.439689\"/>\r\n     <use style=\"fill:#0000ff;stroke:#0000ff;\" x=\"1103.955759\" xlink:href=\"#m9ea01853c7\" y=\"214.756364\"/>\r\n     <use style=\"fill:#0000ff;stroke:#0000ff;\" x=\"1109.053977\" xlink:href=\"#m9ea01853c7\" y=\"214.131073\"/>\r\n    </g>\r\n   </g>\r\n   <g id=\"patch_3\">\r\n    <path d=\"M 43.78125 224.64 \r\nL 43.78125 7.2 \r\n\" style=\"fill:none;stroke:#000000;stroke-linecap:square;stroke-linejoin:miter;stroke-width:0.8;\"/>\r\n   </g>\r\n   <g id=\"patch_4\">\r\n    <path d=\"M 1159.78125 224.64 \r\nL 1159.78125 7.2 \r\n\" style=\"fill:none;stroke:#000000;stroke-linecap:square;stroke-linejoin:miter;stroke-width:0.8;\"/>\r\n   </g>\r\n   <g id=\"patch_5\">\r\n    <path d=\"M 43.78125 224.64 \r\nL 1159.78125 224.64 \r\n\" style=\"fill:none;stroke:#000000;stroke-linecap:square;stroke-linejoin:miter;stroke-width:0.8;\"/>\r\n   </g>\r\n   <g id=\"patch_6\">\r\n    <path d=\"M 43.78125 7.2 \r\nL 1159.78125 7.2 \r\n\" style=\"fill:none;stroke:#000000;stroke-linecap:square;stroke-linejoin:miter;stroke-width:0.8;\"/>\r\n   </g>\r\n   <g id=\"legend_1\">\r\n    <g id=\"patch_7\">\r\n     <path d=\"M 1101.465625 29.878125 \r\nL 1152.78125 29.878125 \r\nQ 1154.78125 29.878125 1154.78125 27.878125 \r\nL 1154.78125 14.2 \r\nQ 1154.78125 12.2 1152.78125 12.2 \r\nL 1101.465625 12.2 \r\nQ 1099.465625 12.2 1099.465625 14.2 \r\nL 1099.465625 27.878125 \r\nQ 1099.465625 29.878125 1101.465625 29.878125 \r\nz\r\n\" style=\"fill:#ffffff;opacity:0.8;stroke:#cccccc;stroke-linejoin:miter;\"/>\r\n    </g>\r\n    <g id=\"line2d_30\">\r\n     <path d=\"M 1103.465625 20.298437 \r\nL 1123.465625 20.298437 \r\n\" style=\"fill:none;stroke:#0000ff;stroke-dasharray:5.55,2.4;stroke-dashoffset:0;stroke-width:1.5;\"/>\r\n    </g>\r\n    <g id=\"line2d_31\">\r\n     <g>\r\n      <use style=\"fill:#0000ff;stroke:#0000ff;\" x=\"1113.465625\" xlink:href=\"#m9ea01853c7\" y=\"20.298437\"/>\r\n     </g>\r\n    </g>\r\n    <g id=\"text_17\">\r\n     <!-- loss -->\r\n     <g transform=\"translate(1131.465625 23.798437)scale(0.1 -0.1)\">\r\n      <defs>\r\n       <path d=\"M 9.421875 75.984375 \r\nL 18.40625 75.984375 \r\nL 18.40625 0 \r\nL 9.421875 0 \r\nz\r\n\" id=\"DejaVuSans-108\"/>\r\n      </defs>\r\n      <use xlink:href=\"#DejaVuSans-108\"/>\r\n      <use x=\"27.783203\" xlink:href=\"#DejaVuSans-111\"/>\r\n      <use x=\"88.964844\" xlink:href=\"#DejaVuSans-115\"/>\r\n      <use x=\"141.064453\" xlink:href=\"#DejaVuSans-115\"/>\r\n     </g>\r\n    </g>\r\n   </g>\r\n  </g>\r\n </g>\r\n <defs>\r\n  <clipPath id=\"pf354273b7b\">\r\n   <rect height=\"217.44\" width=\"1116\" x=\"43.78125\" y=\"7.2\"/>\r\n  </clipPath>\r\n </defs>\r\n</svg>\r\n",
      "image/png": "[encoded data removed]"
     },
     "metadata": {
      "needs_background": "light"
     }
    }
   ],
   "source": [
    "plt.figure(figsize=(20,4))\n",
    "plt.plot(history_1.history['loss'], 'b--o', label = 'loss')\n",
    "plt.xlabel(\"Epochs\")\n",
    "plt.ylabel(\"Loss\")\n",
    "plt.legend()\n",
    "plt.grid()\n",
    "\n",
    "plt.show()"
   ]
  },
  {
   "cell_type": "code",
   "execution_count": 28,
   "metadata": {},
   "outputs": [
    {
     "output_type": "stream",
     "name": "stdout",
     "text": [
      "pred_Y \n  [[1.42984523e-03 5.04582458e-05 4.92241234e-02 ... 9.32280545e-06\n  2.88231997e-03 1.24225542e-01]\n [9.70454380e-07 1.91200916e-02 2.86117978e-02 ... 1.30603466e-08\n  6.09374956e-06 9.48875725e-01]\n [1.81967854e-01 1.86300122e-06 2.58927059e-04 ... 1.11273221e-04\n  1.93273034e-02 7.98332691e-01]\n ...\n [2.30957359e-01 1.53333202e-01 1.97075796e-08 ... 3.00060143e-03\n  1.20675154e-01 4.92033601e-01]\n [7.31769949e-03 5.55739462e-05 1.44079315e-09 ... 9.52499390e-01\n  1.85807643e-03 3.82690877e-02]\n [2.42712721e-01 2.01762441e-06 1.76482145e-02 ... 9.63990577e-04\n  2.13363003e-02 7.17336535e-01]]\n"
     ]
    }
   ],
   "source": [
    "pred_Y = GJ_NET_model.predict(test_X)\n",
    "print(\"pred_Y \\n \", pred_Y)"
   ]
  },
  {
   "cell_type": "code",
   "execution_count": 29,
   "metadata": {},
   "outputs": [
    {
     "output_type": "stream",
     "name": "stdout",
     "text": [
      "pred_Y : \n [3 6 6 2 2 1 2 2 5 2 6 5 2 6 6 6 2 3 4 2 0 0 6 6 4 6 2 1 6 6 2 6 6 0 2 2 1\n 6 6 1 6 1 2 0 2 0 2 5 2 1 0 2 1 6 5 5 6 6 6 1 5 0 2 2 0 5 6 2 2 0 0 5 6 0\n 5 2 0 6 2 5 6 6 2 1 2 2 6 6 2 2 1 6 6 2 6 0 2 2 4 0 2 6 2 2 6 6 5 5 6 2 6\n 6 6 5 6 5 5 6 6 0 1 6 6 6 6 2 2 1 6 1 2 6 6 6 6 1 2 6 0 2 5 6 6 6 1 6 6 6\n 1 5 1 6 5 6 0 6 2 6 0 0 4 6 6 5 6 2 5 2 2 2 5 5 2 6 6 6 6 2 6 1 2 5 6 2 2\n 5 1 5 6 5 4 6 6 4 6]\n"
     ]
    }
   ],
   "source": [
    "pred_Y = np.argmax(pred_Y, axis = 1)        # argmax?\n",
    "print(\"pred_Y : \\n\", pred_Y)"
   ]
  },
  {
   "cell_type": "code",
   "execution_count": 30,
   "metadata": {},
   "outputs": [
    {
     "output_type": "execute_result",
     "data": {
      "text/plain": [
       "array([[0., 0., 0., ..., 0., 0., 1.],\n",
       "       [0., 0., 0., ..., 0., 0., 1.],\n",
       "       [1., 0., 0., ..., 0., 0., 0.],\n",
       "       ...,\n",
       "       [1., 0., 0., ..., 0., 0., 0.],\n",
       "       [0., 0., 0., ..., 1., 0., 0.],\n",
       "       [0., 0., 0., ..., 0., 0., 1.]])"
      ]
     },
     "metadata": {},
     "execution_count": 30
    }
   ],
   "source": [
    "test_Y"
   ]
  },
  {
   "cell_type": "code",
   "execution_count": 31,
   "metadata": {},
   "outputs": [
    {
     "output_type": "error",
     "ename": "ValueError",
     "evalue": "operands could not be broadcast together with shapes (195,) (195,7) ",
     "traceback": [
      "\u001b[1;31m---------------------------------------------------------------------------\u001b[0m",
      "\u001b[1;31mValueError\u001b[0m                                Traceback (most recent call last)",
      "\u001b[1;32m<ipython-input-31-e5c18e992a37>\u001b[0m in \u001b[0;36m<module>\u001b[1;34m\u001b[0m\n\u001b[0;32m      1\u001b[0m \u001b[1;31m# 위 두 가지를 비교하기 위해 np.equal 을 사용한다.\u001b[0m\u001b[1;33m\u001b[0m\u001b[1;33m\u001b[0m\u001b[1;33m\u001b[0m\u001b[0m\n\u001b[0;32m      2\u001b[0m \u001b[1;33m\u001b[0m\u001b[0m\n\u001b[1;32m----> 3\u001b[1;33m \u001b[0mnp\u001b[0m\u001b[1;33m.\u001b[0m\u001b[0mequal\u001b[0m\u001b[1;33m(\u001b[0m\u001b[0mpred_Y\u001b[0m\u001b[1;33m,\u001b[0m \u001b[0mtest_Y\u001b[0m\u001b[1;33m)\u001b[0m      \u001b[1;31m# 예측한 값, 실제 값\u001b[0m\u001b[1;33m\u001b[0m\u001b[1;33m\u001b[0m\u001b[0m\n\u001b[0m",
      "\u001b[1;31mValueError\u001b[0m: operands could not be broadcast together with shapes (195,) (195,7) "
     ]
    }
   ],
   "source": [
    "# 위 두 가지를 비교하기 위해 np.equal 을 사용한다. \n",
    "\n",
    "np.equal(pred_Y, test_Y)      # 예측한 값, 실제 값"
   ]
  },
  {
   "cell_type": "code",
   "execution_count": null,
   "metadata": {},
   "outputs": [],
   "source": []
  }
 ]
}