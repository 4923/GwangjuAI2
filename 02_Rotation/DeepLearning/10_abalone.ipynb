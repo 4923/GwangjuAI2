{
 "metadata": {
  "language_info": {
   "codemirror_mode": {
    "name": "ipython",
    "version": 3
   },
   "file_extension": ".py",
   "mimetype": "text/x-python",
   "name": "python",
   "nbconvert_exporter": "python",
   "pygments_lexer": "ipython3",
   "version": "3.8.8"
  },
  "orig_nbformat": 4,
  "kernelspec": {
   "name": "python3",
   "display_name": "Python 3.8.8 64-bit ('base': conda)"
  },
  "interpreter": {
   "hash": "b3ba2566441a7c06988d0923437866b63cedc61552a5af99d1f4fb67d367b25f"
  }
 },
 "nbformat": 4,
 "nbformat_minor": 2,
 "cells": [
  {
   "cell_type": "code",
   "execution_count": 1,
   "source": [
    "import tensorflow as tf\r\n",
    "import numpy as np\r\n",
    "import pandas as pd\r\n",
    "import matplotlib.pyplot as plt\r\n",
    "import csv"
   ],
   "outputs": [],
   "metadata": {}
  },
  {
   "cell_type": "code",
   "execution_count": 2,
   "source": [
    "# data check\r\n",
    "\r\n",
    "df = pd.read_csv('dataset/dataset/abalone.csv')\r\n",
    "df.info()"
   ],
   "outputs": [
    {
     "output_type": "stream",
     "name": "stdout",
     "text": [
      "<class 'pandas.core.frame.DataFrame'>\n",
      "RangeIndex: 4177 entries, 0 to 4176\n",
      "Data columns (total 9 columns):\n",
      " #   Column          Non-Null Count  Dtype  \n",
      "---  ------          --------------  -----  \n",
      " 0   Sex             4177 non-null   object \n",
      " 1   Length          4177 non-null   float64\n",
      " 2   Diameter        4177 non-null   float64\n",
      " 3   Height          4177 non-null   float64\n",
      " 4   Whole weight    4177 non-null   float64\n",
      " 5   Shucked weight  4177 non-null   float64\n",
      " 6   Viscera weight  4177 non-null   float64\n",
      " 7   Shell weight    4177 non-null   float64\n",
      " 8   Rings           4177 non-null   int64  \n",
      "dtypes: float64(7), int64(1), object(1)\n",
      "memory usage: 293.8+ KB\n"
     ]
    }
   ],
   "metadata": {}
  },
  {
   "cell_type": "markdown",
   "source": [
    "모두 독립변수이고 마지막까지가 종속변수다.\n",
    "- 어떻게 알 수 있나?: 데이터 가져올 때 명시"
   ],
   "metadata": {}
  },
  {
   "cell_type": "markdown",
   "source": [
    "## Data Preprocessing"
   ],
   "metadata": {}
  },
  {
   "cell_type": "markdown",
   "source": [
    "### one hot vector"
   ],
   "metadata": {}
  },
  {
   "cell_type": "code",
   "execution_count": 3,
   "source": [
    "with open('dataset/dataset/abalone.csv') as csvfile:    # csvfile 이라는 이름으로 저장 (열기)\r\n",
    "    csvreader = csv.reader(csvfile)\r\n",
    "    # 첫번째 행은 변수 이름인 문자열이므로 next 함수로 건너뛴다.\r\n",
    "    next(csvreader)\r\n",
    "    \r\n",
    "    # check\r\n",
    "    rows = []\r\n",
    "    for row in csvreader:\r\n",
    "        rows.append(row)"
   ],
   "outputs": [],
   "metadata": {
    "tags": []
   }
  },
  {
   "cell_type": "markdown",
   "source": [
    "1행이 `['Sex', 'Length', 'Diameter', 'Height', 'Whole weight', 'Shucked weight', 'Viscera weight', 'Shell weight', 'Rings']` 처럼 변수 정보를 담고 있으므로 next 함수로 넘긴다.\n",
    "\n",
    "2행부터 확인되는 데이터 중 object type의 data는 one hot vector 처리한다. "
   ],
   "metadata": {}
  },
  {
   "cell_type": "code",
   "execution_count": 4,
   "source": [
    "input_cnt, output_cnt = 10, 1   # one hot encoding 하면 f m i 가 포함된 sex column이 3개로 늘어나기 때문\r\n",
    "data = np.zeros([len(rows), input_cnt + output_cnt])\r\n",
    "\r\n",
    "print(data.shape)   # shape() 라고 쓸 수 없다."
   ],
   "outputs": [
    {
     "output_type": "stream",
     "name": "stdout",
     "text": [
      "(4177, 11)\n"
     ]
    }
   ],
   "metadata": {}
  },
  {
   "cell_type": "code",
   "execution_count": 5,
   "source": [
    "for n, row in enumerate(rows):\r\n",
    "    if row[0] == 'M': data[n, 0] = 1 \r\n",
    "    elif row[0] == 'F': data[n, 1] = 1 \r\n",
    "    elif row[0] == 'I': data[n, 2] = 1\r\n",
    "\r\n",
    "    data[n, 3:] = row[1:]"
   ],
   "outputs": [],
   "metadata": {}
  },
  {
   "cell_type": "code",
   "execution_count": 6,
   "source": [
    "data[:5]    # 제대로 encoding 된 것을 확인 할 수 있다."
   ],
   "outputs": [
    {
     "output_type": "execute_result",
     "data": {
      "text/plain": [
       "array([[ 1.    ,  0.    ,  0.    ,  0.455 ,  0.365 ,  0.095 ,  0.514 ,\n",
       "         0.2245,  0.101 ,  0.15  , 15.    ],\n",
       "       [ 1.    ,  0.    ,  0.    ,  0.35  ,  0.265 ,  0.09  ,  0.2255,\n",
       "         0.0995,  0.0485,  0.07  ,  7.    ],\n",
       "       [ 0.    ,  1.    ,  0.    ,  0.53  ,  0.42  ,  0.135 ,  0.677 ,\n",
       "         0.2565,  0.1415,  0.21  ,  9.    ],\n",
       "       [ 1.    ,  0.    ,  0.    ,  0.44  ,  0.365 ,  0.125 ,  0.516 ,\n",
       "         0.2155,  0.114 ,  0.155 , 10.    ],\n",
       "       [ 0.    ,  0.    ,  1.    ,  0.33  ,  0.255 ,  0.08  ,  0.205 ,\n",
       "         0.0895,  0.0395,  0.055 ,  7.    ]])"
      ]
     },
     "metadata": {},
     "execution_count": 6
    }
   ],
   "metadata": {}
  },
  {
   "cell_type": "code",
   "execution_count": 7,
   "source": [
    "train_ratio = 0.85\r\n",
    "test_begin_index = int(data.shape[0] * train_ratio)\r\n",
    "print(\"test_begin_index :\", test_begin_index)"
   ],
   "outputs": [
    {
     "output_type": "stream",
     "name": "stdout",
     "text": [
      "test_begin_index : 3550\n"
     ]
    }
   ],
   "metadata": {}
  },
  {
   "cell_type": "code",
   "execution_count": 8,
   "source": [
    "# data.shape : (4177, 11)\r\n",
    "\r\n",
    "shuffle_map = np.arange(data.shape[0])  # 데이터의 개수만큼 인덱스 생성\r\n",
    "np.random.shuffle(shuffle_map)  # 섞는다.\r\n",
    "\r\n",
    "# shuffle_map 생성한 이유? : shuffle_map이 index이므로 이 index를 기반으로 row를 섞는다."
   ],
   "outputs": [],
   "metadata": {}
  },
  {
   "cell_type": "code",
   "execution_count": 9,
   "source": [
    "train_data = data[shuffle_map[:test_begin_index]]\r\n",
    "\r\n",
    "# check\r\n",
    "print(data[:3])\r\n",
    "print(\"===\"*20)\r\n",
    "print(train_data[::3])"
   ],
   "outputs": [
    {
     "output_type": "stream",
     "name": "stdout",
     "text": [
      "[[ 1.      0.      0.      0.455   0.365   0.095   0.514   0.2245  0.101\n",
      "   0.15   15.    ]\n",
      " [ 1.      0.      0.      0.35    0.265   0.09    0.2255  0.0995  0.0485\n",
      "   0.07    7.    ]\n",
      " [ 0.      1.      0.      0.53    0.42    0.135   0.677   0.2565  0.1415\n",
      "   0.21    9.    ]]\n",
      "============================================================\n",
      "[[ 0.      0.      1.     ...  0.0785  0.12    8.    ]\n",
      " [ 0.      1.      0.     ...  0.194   0.19   14.    ]\n",
      " [ 0.      1.      0.     ...  0.2025  0.2875  9.    ]\n",
      " ...\n",
      " [ 1.      0.      0.     ...  0.1405  0.1575  6.    ]\n",
      " [ 0.      1.      0.     ...  0.259   0.3245 10.    ]\n",
      " [ 0.      0.      1.     ...  0.073   0.198  14.    ]]\n"
     ]
    }
   ],
   "metadata": {}
  },
  {
   "cell_type": "code",
   "execution_count": 10,
   "source": [
    "test_data = data[shuffle_map[test_begin_index : ]]"
   ],
   "outputs": [],
   "metadata": {}
  },
  {
   "cell_type": "code",
   "execution_count": 11,
   "source": [
    "train_X, train_Y = train_data[:, : -output_cnt], train_data[:, -output_cnt:]\r\n",
    "test_X, test_Y   = test_data[:, : -output_cnt], test_data[:, -output_cnt:]\r\n",
    "\r\n",
    "print(train_X.shape)\r\n",
    "print(train_Y.shape)\r\n",
    "print(test_X.shape)\r\n",
    "print(test_Y.shape)"
   ],
   "outputs": [
    {
     "output_type": "stream",
     "name": "stdout",
     "text": [
      "(3550, 10)\n",
      "(3550, 1)\n",
      "(627, 10)\n",
      "(627, 1)\n"
     ]
    }
   ],
   "metadata": {}
  },
  {
   "cell_type": "markdown",
   "source": [
    "### $Z-Score\\ Normalization = \\frac {x - \\bar{x}}{\\sigma}$\n"
   ],
   "metadata": {}
  },
  {
   "cell_type": "code",
   "execution_count": 12,
   "source": [
    "# 각각의 변수마다 평균을 구하는 것이 목표이므로 x 축 방향이 아니라 y 축으로 계산해야 한다 : axis = 0\r\n",
    "\r\n",
    "train_X_mean = np.mean(train_X, axis=0)\r\n",
    "train_X_std = train_X.std(axis=0)"
   ],
   "outputs": [],
   "metadata": {}
  },
  {
   "cell_type": "code",
   "execution_count": 13,
   "source": [
    "print(train_X_mean)\r\n",
    "print(\"===\"*30)\r\n",
    "print(train_X_std)"
   ],
   "outputs": [
    {
     "output_type": "stream",
     "name": "stdout",
     "text": [
      "[0.36394366 0.31239437 0.32366197 0.5235338  0.4073831  0.13900845\n",
      " 0.82782056 0.35868296 0.18035535 0.23879718]\n",
      "==========================================================================================\n",
      "[0.4811327  0.46346966 0.46787274 0.12077536 0.09983513 0.03907202\n",
      " 0.49394018 0.22320902 0.11024592 0.1404804 ]\n"
     ]
    }
   ],
   "metadata": {}
  },
  {
   "cell_type": "code",
   "execution_count": 14,
   "source": [
    "# 수식 적용 : train\r\n",
    "train_X -= train_X_mean\r\n",
    "train_X /= train_X_std"
   ],
   "outputs": [],
   "metadata": {}
  },
  {
   "cell_type": "code",
   "execution_count": 15,
   "source": [
    "# 수식 적용 : test\r\n",
    "\r\n",
    "# [주의] test데이터는 우리에게 있지 않다고 가정해야 한다. (보통 모르므로)\r\n",
    "# 평균과 표준편차를 test data의 mean, std가 아닌 **train**의 mean, std를 사용할 것\r\n",
    "\r\n",
    "test_X -= train_X_mean\r\n",
    "test_X /= train_X_std"
   ],
   "outputs": [],
   "metadata": {}
  },
  {
   "cell_type": "markdown",
   "source": [
    "z score는 각각의 정규분포를 균일화 뭐였지?  \n",
    "그러니까 분포가 다를 때 사용하는것이 좋다  \n",
    "describe 로 살펴볼것. mean이나 mean, std가 다 비슷한걸 보면 이 데이터는 z score를 굳이 쓰지 않아도 된다.  \n",
    "\n",
    "=> 차이가 별로 나지 않는 데이터를 정규화 할 필요는 없다."
   ],
   "metadata": {}
  },
  {
   "cell_type": "code",
   "execution_count": 16,
   "source": [
    "df.describe()"
   ],
   "outputs": [
    {
     "output_type": "execute_result",
     "data": {
      "text/plain": [
       "            Length     Diameter       Height  Whole weight  Shucked weight  \\\n",
       "count  4177.000000  4177.000000  4177.000000   4177.000000     4177.000000   \n",
       "mean      0.523992     0.407881     0.139516      0.828742        0.359367   \n",
       "std       0.120093     0.099240     0.041827      0.490389        0.221963   \n",
       "min       0.075000     0.055000     0.000000      0.002000        0.001000   \n",
       "25%       0.450000     0.350000     0.115000      0.441500        0.186000   \n",
       "50%       0.545000     0.425000     0.140000      0.799500        0.336000   \n",
       "75%       0.615000     0.480000     0.165000      1.153000        0.502000   \n",
       "max       0.815000     0.650000     1.130000      2.825500        1.488000   \n",
       "\n",
       "       Viscera weight  Shell weight        Rings  \n",
       "count     4177.000000   4177.000000  4177.000000  \n",
       "mean         0.180594      0.238831     9.933684  \n",
       "std          0.109614      0.139203     3.224169  \n",
       "min          0.000500      0.001500     1.000000  \n",
       "25%          0.093500      0.130000     8.000000  \n",
       "50%          0.171000      0.234000     9.000000  \n",
       "75%          0.253000      0.329000    11.000000  \n",
       "max          0.760000      1.005000    29.000000  "
      ],
      "text/html": [
       "<div>\n",
       "<style scoped>\n",
       "    .dataframe tbody tr th:only-of-type {\n",
       "        vertical-align: middle;\n",
       "    }\n",
       "\n",
       "    .dataframe tbody tr th {\n",
       "        vertical-align: top;\n",
       "    }\n",
       "\n",
       "    .dataframe thead th {\n",
       "        text-align: right;\n",
       "    }\n",
       "</style>\n",
       "<table border=\"1\" class=\"dataframe\">\n",
       "  <thead>\n",
       "    <tr style=\"text-align: right;\">\n",
       "      <th></th>\n",
       "      <th>Length</th>\n",
       "      <th>Diameter</th>\n",
       "      <th>Height</th>\n",
       "      <th>Whole weight</th>\n",
       "      <th>Shucked weight</th>\n",
       "      <th>Viscera weight</th>\n",
       "      <th>Shell weight</th>\n",
       "      <th>Rings</th>\n",
       "    </tr>\n",
       "  </thead>\n",
       "  <tbody>\n",
       "    <tr>\n",
       "      <th>count</th>\n",
       "      <td>4177.000000</td>\n",
       "      <td>4177.000000</td>\n",
       "      <td>4177.000000</td>\n",
       "      <td>4177.000000</td>\n",
       "      <td>4177.000000</td>\n",
       "      <td>4177.000000</td>\n",
       "      <td>4177.000000</td>\n",
       "      <td>4177.000000</td>\n",
       "    </tr>\n",
       "    <tr>\n",
       "      <th>mean</th>\n",
       "      <td>0.523992</td>\n",
       "      <td>0.407881</td>\n",
       "      <td>0.139516</td>\n",
       "      <td>0.828742</td>\n",
       "      <td>0.359367</td>\n",
       "      <td>0.180594</td>\n",
       "      <td>0.238831</td>\n",
       "      <td>9.933684</td>\n",
       "    </tr>\n",
       "    <tr>\n",
       "      <th>std</th>\n",
       "      <td>0.120093</td>\n",
       "      <td>0.099240</td>\n",
       "      <td>0.041827</td>\n",
       "      <td>0.490389</td>\n",
       "      <td>0.221963</td>\n",
       "      <td>0.109614</td>\n",
       "      <td>0.139203</td>\n",
       "      <td>3.224169</td>\n",
       "    </tr>\n",
       "    <tr>\n",
       "      <th>min</th>\n",
       "      <td>0.075000</td>\n",
       "      <td>0.055000</td>\n",
       "      <td>0.000000</td>\n",
       "      <td>0.002000</td>\n",
       "      <td>0.001000</td>\n",
       "      <td>0.000500</td>\n",
       "      <td>0.001500</td>\n",
       "      <td>1.000000</td>\n",
       "    </tr>\n",
       "    <tr>\n",
       "      <th>25%</th>\n",
       "      <td>0.450000</td>\n",
       "      <td>0.350000</td>\n",
       "      <td>0.115000</td>\n",
       "      <td>0.441500</td>\n",
       "      <td>0.186000</td>\n",
       "      <td>0.093500</td>\n",
       "      <td>0.130000</td>\n",
       "      <td>8.000000</td>\n",
       "    </tr>\n",
       "    <tr>\n",
       "      <th>50%</th>\n",
       "      <td>0.545000</td>\n",
       "      <td>0.425000</td>\n",
       "      <td>0.140000</td>\n",
       "      <td>0.799500</td>\n",
       "      <td>0.336000</td>\n",
       "      <td>0.171000</td>\n",
       "      <td>0.234000</td>\n",
       "      <td>9.000000</td>\n",
       "    </tr>\n",
       "    <tr>\n",
       "      <th>75%</th>\n",
       "      <td>0.615000</td>\n",
       "      <td>0.480000</td>\n",
       "      <td>0.165000</td>\n",
       "      <td>1.153000</td>\n",
       "      <td>0.502000</td>\n",
       "      <td>0.253000</td>\n",
       "      <td>0.329000</td>\n",
       "      <td>11.000000</td>\n",
       "    </tr>\n",
       "    <tr>\n",
       "      <th>max</th>\n",
       "      <td>0.815000</td>\n",
       "      <td>0.650000</td>\n",
       "      <td>1.130000</td>\n",
       "      <td>2.825500</td>\n",
       "      <td>1.488000</td>\n",
       "      <td>0.760000</td>\n",
       "      <td>1.005000</td>\n",
       "      <td>29.000000</td>\n",
       "    </tr>\n",
       "  </tbody>\n",
       "</table>\n",
       "</div>"
      ]
     },
     "metadata": {},
     "execution_count": 16
    }
   ],
   "metadata": {}
  },
  {
   "cell_type": "markdown",
   "source": [
    "## Modeling (1) \n",
    "\n",
    "hidden layer O"
   ],
   "metadata": {}
  },
  {
   "cell_type": "code",
   "execution_count": 17,
   "source": [
    "GJ_NET_MODEL_V1 = tf.keras.Sequential([\r\n",
    "    tf.keras.layers.Dense(units=10, activation = 'elu', input_shape = (10,)),\r\n",
    "    tf.keras.layers.Dense(units=24, activation='elu'),\r\n",
    "    tf.keras.layers.Dense(units=36, activation='elu'),\r\n",
    "    tf.keras.layers.Dense(units=1) \r\n",
    "])"
   ],
   "outputs": [],
   "metadata": {}
  },
  {
   "cell_type": "markdown",
   "source": [
    "**마지막 layer가 특이한 이유?**\n",
    "- output == 1, 하나의 값을 예측하는 회귀이므로 마지막 unit값은 1\n",
    "- activation은 출력 값을 제한. \n",
    "- 값의 범위가 매우 다양할 것. 값의 범위를 제한하는 활성화 함수를 쓰면 원하는 값을 얻을 수 X"
   ],
   "metadata": {}
  },
  {
   "cell_type": "code",
   "execution_count": 18,
   "source": [
    "GJ_NET_MODEL_V1.summary()"
   ],
   "outputs": [
    {
     "output_type": "stream",
     "name": "stdout",
     "text": [
      "Model: \"sequential\"\n",
      "_________________________________________________________________\n",
      "Layer (type)                 Output Shape              Param #   \n",
      "=================================================================\n",
      "dense (Dense)                (None, 10)                110       \n",
      "_________________________________________________________________\n",
      "dense_1 (Dense)              (None, 24)                264       \n",
      "_________________________________________________________________\n",
      "dense_2 (Dense)              (None, 36)                900       \n",
      "_________________________________________________________________\n",
      "dense_3 (Dense)              (None, 1)                 37        \n",
      "=================================================================\n",
      "Total params: 1,311\n",
      "Trainable params: 1,311\n",
      "Non-trainable params: 0\n",
      "_________________________________________________________________\n"
     ]
    }
   ],
   "metadata": {}
  },
  {
   "cell_type": "code",
   "execution_count": 19,
   "source": [
    "GJ_NET_MODEL_V1.compile(\r\n",
    "    optimizer=tf.keras.optimizers.Adam(learning_rate=0.07), \r\n",
    "    loss='mse')"
   ],
   "outputs": [],
   "metadata": {}
  },
  {
   "cell_type": "markdown",
   "source": [
    "**Sampling Gradient Descent**  [link](https://developers.google.cn/machine-learning/glossary?hl=ko#%ED%99%95%EB%A5%A0%EC%A0%81-%EA%B2%BD%EC%82%AC%ED%95%98%EA%B0%95%EB%B2%95sgd,-stochastic-gradient-descent)\n",
    "\n",
    "배치 크기가 1인 경사하강법 알고리즘. 데이터 세트에서 무작위로 균일하게 선택한 하나의 예에 의존한다.  \n",
    "속도는 빠르지만 성능이나 안전성은 나쁘다. => google에서 실험\n",
    "\n",
    "**=> Mini-batch SGD** [link](https://developers.google.cn/machine-learning/glossary?hl=ko#%EB%AF%B8%EB%8B%88-%EB%B0%B0%EC%B9%98-%ED%99%95%EB%A5%A0%EC%A0%81-%EA%B2%BD%EC%82%AC%ED%95%98%EA%B0%95%EB%B2%95sgd,-mini-batch-stochastic-gradient-descent)  \n",
    "\n",
    "하나만 사용하는것은 너무 불안정하니 미니배치개수만큼 샘플링하여 경사하강법을 적용한다."
   ],
   "metadata": {}
  },
  {
   "cell_type": "code",
   "execution_count": 20,
   "source": [
    "history_1 = GJ_NET_MODEL_V1.fit(train_X, train_Y,\r\n",
    "                                epochs = 25, batch_size = 32,\r\n",
    "                                validation_split = 0.2)\r\n",
    "\r\n",
    "# loss : 학습 데이터에 대한 loss\r\n",
    "# val_loss : 검증 데이터에 대한 loss"
   ],
   "outputs": [
    {
     "output_type": "stream",
     "name": "stdout",
     "text": [
      "Epoch 1/25\n",
      "89/89 [==============================] - 0s 1ms/step - loss: 9.6167 - val_loss: 5.7987\n",
      "Epoch 2/25\n",
      "89/89 [==============================] - 0s 710us/step - loss: 5.2533 - val_loss: 5.5240\n",
      "Epoch 3/25\n",
      "89/89 [==============================] - 0s 533us/step - loss: 4.9821 - val_loss: 5.1576\n",
      "Epoch 4/25\n",
      "89/89 [==============================] - 0s 710us/step - loss: 5.0356 - val_loss: 4.9999\n",
      "Epoch 5/25\n",
      "89/89 [==============================] - 0s 710us/step - loss: 4.8812 - val_loss: 4.9853\n",
      "Epoch 6/25\n",
      "89/89 [==============================] - 0s 533us/step - loss: 4.9043 - val_loss: 5.3087\n",
      "Epoch 7/25\n",
      "89/89 [==============================] - 0s 533us/step - loss: 4.6851 - val_loss: 5.3738\n",
      "Epoch 8/25\n",
      "89/89 [==============================] - 0s 710us/step - loss: 5.0512 - val_loss: 5.1437\n",
      "Epoch 9/25\n",
      "89/89 [==============================] - 0s 710us/step - loss: 4.7971 - val_loss: 5.3819\n",
      "Epoch 10/25\n",
      "89/89 [==============================] - 0s 533us/step - loss: 4.9699 - val_loss: 6.8470\n",
      "Epoch 11/25\n",
      "89/89 [==============================] - 0s 710us/step - loss: 5.1609 - val_loss: 5.4493\n",
      "Epoch 12/25\n",
      "89/89 [==============================] - 0s 533us/step - loss: 14.6967 - val_loss: 10.8349\n",
      "Epoch 13/25\n",
      "89/89 [==============================] - 0s 710us/step - loss: 10.9003 - val_loss: 10.9250\n",
      "Epoch 14/25\n",
      "89/89 [==============================] - 0s 710us/step - loss: 10.8915 - val_loss: 10.6121\n",
      "Epoch 15/25\n",
      "89/89 [==============================] - 0s 533us/step - loss: 10.8963 - val_loss: 10.9711\n",
      "Epoch 16/25\n",
      "89/89 [==============================] - 0s 710us/step - loss: 10.7725 - val_loss: 10.7092\n",
      "Epoch 17/25\n",
      "89/89 [==============================] - 0s 710us/step - loss: 10.6578 - val_loss: 10.6181\n",
      "Epoch 18/25\n",
      "89/89 [==============================] - 0s 533us/step - loss: 10.6332 - val_loss: 10.7730\n",
      "Epoch 19/25\n",
      "89/89 [==============================] - 0s 710us/step - loss: 10.8174 - val_loss: 12.9769\n",
      "Epoch 20/25\n",
      "89/89 [==============================] - 0s 710us/step - loss: 11.0804 - val_loss: 11.3435\n",
      "Epoch 21/25\n",
      "89/89 [==============================] - 0s 533us/step - loss: 10.8145 - val_loss: 10.6237\n",
      "Epoch 22/25\n",
      "89/89 [==============================] - 0s 710us/step - loss: 10.9802 - val_loss: 11.3556\n",
      "Epoch 23/25\n",
      "89/89 [==============================] - 0s 710us/step - loss: 10.5885 - val_loss: 10.5866\n",
      "Epoch 24/25\n",
      "89/89 [==============================] - 0s 533us/step - loss: 10.5764 - val_loss: 10.5785\n",
      "Epoch 25/25\n",
      "89/89 [==============================] - 0s 710us/step - loss: 10.6716 - val_loss: 11.8302\n"
     ]
    }
   ],
   "metadata": {}
  },
  {
   "cell_type": "code",
   "execution_count": 21,
   "source": [
    "plt.plot(history_1.history['loss'], 'r--o', label = \"train_loss\")\r\n",
    "plt.plot(history_1.history['val_loss'], 'y--o', label = \"val_loss\")\r\n",
    "\r\n",
    "plt.xlabel(\"Epochs\")\r\n",
    "plt.ylabel(\"Loss\")\r\n",
    "\r\n",
    "plt.legend()\r\n",
    "plt.grid()"
   ],
   "outputs": [
    {
     "output_type": "display_data",
     "data": {
      "text/plain": [
       "<Figure size 432x288 with 1 Axes>"
      ],
      "image/png": "[encoded data removed]"
     },
     "metadata": {
      "needs_background": "light"
     }
    }
   ],
   "metadata": {}
  },
  {
   "cell_type": "code",
   "execution_count": 22,
   "source": [
    "pred_Y = GJ_NET_MODEL_V1.predict(test_X)\n",
    "\n",
    "for n in range(10):\n",
    "    print(pred_Y[n], test_Y[n])"
   ],
   "outputs": [
    {
     "output_type": "stream",
     "name": "stdout",
     "text": [
      "[8.936104] [10.]\n",
      "[8.936104] [15.]\n",
      "[8.936104] [8.]\n",
      "[8.936104] [11.]\n",
      "[8.936104] [10.]\n",
      "[8.936104] [9.]\n",
      "[8.936104] [7.]\n",
      "[8.936104] [4.]\n",
      "[8.936104] [11.]\n",
      "[8.936104] [8.]\n"
     ]
    }
   ],
   "metadata": {}
  },
  {
   "cell_type": "markdown",
   "source": [
    "**더 쉽게 보자**\n",
    "- 그래프에 둘 다 그려서 추이 확인\n",
    "- 실수형태 -> 정수형태"
   ],
   "metadata": {}
  },
  {
   "cell_type": "code",
   "execution_count": 23,
   "source": [
    "plt.plot(pred_Y, 'ro', label=\"Pred_Y\")\n",
    "plt.plot(test_Y, 'b+', label=\"Test_Y\")\n",
    "plt.legend()\n",
    "\n",
    "# 이게뭐람??"
   ],
   "outputs": [
    {
     "output_type": "execute_result",
     "data": {
      "text/plain": [
       "<matplotlib.legend.Legend at 0x241255502b0>"
      ]
     },
     "metadata": {},
     "execution_count": 23
    },
    {
     "output_type": "display_data",
     "data": {
      "text/plain": [
       "<Figure size 432x288 with 1 Axes>"
      ],
      "image/png": "[encoded data removed]"
     },
     "metadata": {
      "needs_background": "light"
     }
    }
   ],
   "metadata": {}
  },
  {
   "cell_type": "markdown",
   "source": [
    "그래프 보면 15 이상의 값은 대체로 예측을 잘 못했고, 그 이하의 값은 겹치는 부분이 많다.\n",
    "\n",
    "=> 그래서 예측을 잘 한걸까? : 오차율 계산"
   ],
   "metadata": {}
  },
  {
   "cell_type": "markdown",
   "source": [
    "$$Evaluation\\ Index(Measuring\\ Efficiency)\\ = 1 - \\lvert \\frac{\\hat{y} - y}{y} \\rvert$$"
   ],
   "metadata": {}
  },
  {
   "cell_type": "code",
   "execution_count": 24,
   "source": [
    "np.abs( (pred_Y - test_Y) / test_Y )[:10]"
   ],
   "outputs": [
    {
     "output_type": "execute_result",
     "data": {
      "text/plain": [
       "array([[0.10638962],\n",
       "       [0.40425975],\n",
       "       [0.11701298],\n",
       "       [0.18762693],\n",
       "       [0.10638962],\n",
       "       [0.00709958],\n",
       "       [0.27658626],\n",
       "       [1.23402596],\n",
       "       [0.18762693],\n",
       "       [0.11701298]])"
      ]
     },
     "metadata": {},
     "execution_count": 24
    }
   ],
   "metadata": {}
  },
  {
   "cell_type": "markdown",
   "source": [
    "이걸 하나로 만들어야 한다."
   ],
   "metadata": {}
  },
  {
   "cell_type": "code",
   "execution_count": 25,
   "source": [
    "acc = 1 - np.mean(np.abs((pred_Y - test_Y) / test_Y))\n",
    "print(\"GJ_NET_MODEL_V1 - ACC :  \", np.round(acc * 100, 3))"
   ],
   "outputs": [
    {
     "output_type": "stream",
     "name": "stdout",
     "text": [
      "GJ_NET_MODEL_V1 - ACC :   76.147\n"
     ]
    }
   ],
   "metadata": {}
  },
  {
   "cell_type": "markdown",
   "source": [
    "정확도가 85다? \n",
    "\n",
    "정확도\n",
    "- 70 ~ 80 : 금방 올린다\n",
    "- 80 ~ 90 : 고민을 좀 해야 한다\n",
    "- 90 ~ 95 : 연구의 영역\n",
    "- 95 ~ 100 : 다른 세상"
   ],
   "metadata": {}
  },
  {
   "cell_type": "markdown",
   "source": [
    "## Modeling (2) \n",
    "\n",
    "hidden layer X"
   ],
   "metadata": {}
  },
  {
   "cell_type": "code",
   "execution_count": null,
   "source": [],
   "outputs": [],
   "metadata": {}
  }
 ]
}