{
 "cells": [
  {
   "cell_type": "markdown",
   "metadata": {},
   "source": [
    "## Import Modules"
   ]
  },
  {
   "cell_type": "code",
   "execution_count": 11,
   "metadata": {},
   "outputs": [],
   "source": [
    "import numpy as np\r\n",
    "import pandas as pd\r\n",
    "import re   # 정규표현식 라이브러리"
   ]
  },
  {
   "cell_type": "markdown",
   "metadata": {},
   "source": [
    "## DB Load, DB Upload"
   ]
  },
  {
   "cell_type": "code",
   "execution_count": 12,
   "metadata": {},
   "outputs": [],
   "source": [
    "PATH = \"./login/Commerce6_login.csv\"\r\n",
    "\r\n",
    "def load_df(PATH):\r\n",
    "    df = pd.read_csv(PATH)\r\n",
    "    return df       # 해당 반환값을 변수에 지정하여 활용할 것 \r\n",
    "\r\n",
    "def upload(df):     # parameter : type(df) == dataframe \r\n",
    "    df.to_csv(PATH, encoding=\"utf-8\")\r\n",
    "    return load_df(PATH)    # return : 업로드한 csv를 df로 변환한 값"
   ]
  },
  {
   "cell_type": "markdown",
   "metadata": {},
   "source": [
    "## User Information"
   ]
  },
  {
   "cell_type": "code",
   "execution_count": 13,
   "metadata": {},
   "outputs": [],
   "source": [
    "class Account:\r\n",
    "    def info(self, id):      # return : series\r\n",
    "      df = load_df(PATH)\r\n",
    "      info = df.loc[df['id'] == id]     # 열을 돌면서 True, False를 반환 (Name : id, dtype : bool)\r\n",
    "      return info"
   ]
  },
  {
   "cell_type": "markdown",
   "metadata": {},
   "source": [
    "## Sign Up"
   ]
  },
  {
   "cell_type": "code",
   "execution_count": 14,
   "metadata": {},
   "outputs": [],
   "source": [
    "class Join :\r\n",
    "    # def __init__(self, id, pw) :\r\n",
    "    #     self.id = id\r\n",
    "    #     self.pw = pw\r\n",
    "\r\n",
    "    def join_check(self) :\r\n",
    "        # ID 중복 검사 추가, 비밀번호 유효성 추가\r\n",
    "        df = load_df(PATH)\r\n",
    "\r\n",
    "        join_info = ['id','password', 'nickname', 'location']\r\n",
    "        return_info = []\r\n",
    "\r\n",
    "        # ID 중복 검사 후 가입\r\n",
    "        while True :\r\n",
    "            input_id = input('{}를 입력해주세요 : '.format(join_info[0]))\r\n",
    "            if (len(df.loc[(df['id'] == input_id)])) == 0 :\r\n",
    "                return_info.append(input_id)\r\n",
    "                break\r\n",
    "            else :\r\n",
    "                print(\"중복된 아이디가 있습니다. 다시 입력해주세요.\")\r\n",
    "\r\n",
    "        # 비밀번호 입력\r\n",
    "        while True :\r\n",
    "            input_pw = input('{}를 입력해주세요 : '.format(join_info[1]))\r\n",
    "            if len(input_pw) > 8 and re.search('[A-Z]',input_pw) and re.search('[0-9]+',input_pw) and re.search('[~!@#$%^&*(),<.>/?]+',input_pw):\r\n",
    "                print('사용가능한 비밀번호입니다.')\r\n",
    "                break\r\n",
    "            else:\r\n",
    "                print('비밀번호는 최소 8자 이상, 영문 대문자, 숫자, 특수문자가 포함되어야 합니다.')\r\n",
    "        \r\n",
    "        # 입력 비밀번호 확인\r\n",
    "        while True :\r\n",
    "            confirm_pw = input('입력한 {}를 다시 입력해주세요 : '.format(join_info[1]))\r\n",
    "            if confirm_pw == input_pw :\r\n",
    "                return_info.append(confirm_pw)\r\n",
    "                print('입력한 비밀번호와 동일한 것으로 확인되었습니다.')\r\n",
    "                break\r\n",
    "            else:\r\n",
    "                print('입력한 비밀번호와 다릅니다. 다시 입력해주세요.')        \r\n",
    "\r\n",
    "        # nickName 중복 검사 후 가입\r\n",
    "        while True :\r\n",
    "            input_nick = input('{}를 입력해주세요 : '.format(join_info[2]))\r\n",
    "            if (len(df.loc[(df['nickname'] == input_nick)])) == 0 :\r\n",
    "                return_info.append(input_nick)\r\n",
    "                break\r\n",
    "            else :\r\n",
    "                print(\"중복된 닉네임이 있습니다. 다시 입력해주세요.\")\r\n",
    "        \r\n",
    "        input_addr = input('{}를 입력해주세요 : '.format(join_info[3]))\r\n",
    "        return_info.append(input_addr)\r\n",
    "\r\n",
    "        return_info = pd.DataFrame(np.array(return_info).reshape(1, -1), columns=join_info)\r\n",
    "        \r\n",
    "        df = df.append(return_info)\r\n",
    "        upload(df)\r\n",
    "\r\n",
    "        return \"회원가입 완료\""
   ]
  },
  {
   "cell_type": "markdown",
   "metadata": {},
   "source": [
    "## Sign In"
   ]
  },
  {
   "cell_type": "code",
   "execution_count": 15,
   "metadata": {},
   "outputs": [],
   "source": [
    "class Login :\r\n",
    "    # def __init__(self, id, pw) :\r\n",
    "    #     self.id = id\r\n",
    "    #     self.pw = pw\r\n",
    "\r\n",
    "    def login_check(self, id, pw):\r\n",
    "        df = load_df(PATH)\r\n",
    "        print(id, type(id))\r\n",
    "        print(pw, type(pw))\r\n",
    "        print(df.loc[df['pw'] == pw])\r\n",
    "\r\n",
    "        #login_check\r\n",
    "        # if len(df.loc[(df['id'] == id) & (df['pw'] == pw)]) == 1 :\r\n",
    "        df_to_dict = df.loc[df['id'] == id].iloc[0].to_dict()\r\n",
    "        if str(df_to_dict['pw']) == pw:\r\n",
    "            print(\"로그인 성공\")\r\n",
    "            return True \r\n",
    "        else :\r\n",
    "            print(\"로그인 실패\")\r\n",
    "            return False"
   ]
  },
  {
   "cell_type": "markdown",
   "metadata": {},
   "source": [
    "## Delete Account"
   ]
  },
  {
   "cell_type": "code",
   "execution_count": 16,
   "metadata": {},
   "outputs": [],
   "source": [
    "class Delete_account:  # 회원탈퇴, 로그인 한 상황에서만 노출\r\n",
    "  def __init__(self, id, pw):\r\n",
    "    self.id = id \r\n",
    "    self.pw = pw\r\n",
    "\r\n",
    "  def double_check(self):\r\n",
    "    print(\"확인을 위해 ID 와 PW를 다시 한 번 입력하세요.\")\r\n",
    "    while True:\r\n",
    "      input_id = input(\"Enter Your [ID] : \")\r\n",
    "      if self.id != input_id:\r\n",
    "        print(f\"{input_id}은/는 잘못된 ID 입니다.\")\r\n",
    "        status = True\r\n",
    "      else: \r\n",
    "        while True:\r\n",
    "          input_pw = input(\"Enter Your [pw] : \")\r\n",
    "          if str(self.pw) != input_pw:\r\n",
    "            print(f\"{input_pw}은/는 잘못된 PW입니다.\")\r\n",
    "\r\n",
    "            print(\"계속하려면 1을, 취소하려면 0을 입력하세요.\")\r\n",
    "            if int(input(\"입력 : \")) == 1: return False\r\n",
    "          else: \r\n",
    "            return True\r\n",
    "\r\n",
    "  def delete(self):\r\n",
    "    print(\"회원 탈퇴 절차를 진행합니다.\")\r\n",
    "    df = load_df(PATH)\r\n",
    "    cmd = input(\"정말로 탈퇴하겠습니까? 탈퇴하시려면 y를, 탈퇴하지 않으려면 n을 입력하세요. : \")\r\n",
    "    if cmd == 'y': \r\n",
    "      deleted_user = df.loc[df['id'] == self.id].iloc[0].to_dict()\r\n",
    "      deleted_user_index = df[ df['id'] == self.id ].index\r\n",
    "      df.drop(index = deleted_user_index, inplace=True)\r\n",
    "      print(f\"{deleted_user['id']}({deleted_user['nickname']})님의 정보가 안전하게 삭제되었습니다.\")\r\n",
    "      upload(df)\r\n",
    "      return True\r\n",
    "    elif cmd == 'n':\r\n",
    "      print(\"탈퇴처리를 종료합니다. 고객정보는 유지됩니다.\")\r\n",
    "      return False"
   ]
  },
  {
   "cell_type": "markdown",
   "metadata": {},
   "source": [
    "## Test Code"
   ]
  },
  {
   "cell_type": "code",
   "execution_count": 17,
   "metadata": {},
   "outputs": [],
   "source": [
    "account_instance = Account\r\n",
    "join_instance = Join\r\n",
    "login_instance = Login\r\n",
    "delete_instance = Delete_account\r\n",
    "\r\n",
    "def main():\r\n",
    "    # 회원여부 확인 -> 로그인\r\n",
    "    while True:\r\n",
    "        # 회원 전용 기능\r\n",
    "        account_check_cmd = int(input(\"OOO 쇼핑몰에 오신 것을 환영합니다.\\n회원이면 1 비회원이면 2 를 입력하세요 : \"))\r\n",
    "        if account_check_cmd == 1: # 회원이므로 로그인 기능으로 이동\r\n",
    "            user_id = input(\"로그인을 위해 ID를 입력하세요 : \")\r\n",
    "            user_pw = input(\"로그인을 위해 비밀번호를 입력하세요 : \")\r\n",
    "            login_status = login_instance.login_check(login_instance, user_id, user_pw)\r\n",
    "            if login_status: \r\n",
    "                info_dict = account_instance.info(account_instance, user_id).iloc[0].to_dict()\r\n",
    "                print(f\"환영합니다. {str(info_dict['nickname'])}님.\")\r\n",
    "                user_menu_cmd = int(input(\"원하시는 메뉴의 번호를 입력해주세요.\\n\\t1. 쇼핑\\n\\t2. 커뮤니티\\n\\t3. 회원탈퇴\"))\r\n",
    "                while user_menu_cmd:\r\n",
    "                    if user_menu_cmd == 1:\r\n",
    "                        print(\"----------------------------------------------------\")\r\n",
    "                        print(\"쇼핑을 시작합니다.\")\r\n",
    "                        print(\"----------------------------------------------------\")\r\n",
    "                        break    # 쇼핑기능으로 이동\r\n",
    "                    elif user_menu_cmd == 2:\r\n",
    "                        print(\"----------------------------------------------------\")\r\n",
    "                        print(\"커뮤니티로 이동합니다.\")\r\n",
    "                        print(\"----------------------------------------------------\")\r\n",
    "                        break    # 커뮤니티 기능으로 이동\r\n",
    "                    elif user_menu_cmd == 3:\r\n",
    "                        if delete_instance(user_id, user_pw).double_check(): \r\n",
    "                            delete_instance(user_id, user_pw).delete()\r\n",
    "                            break\r\n",
    "                    else:\r\n",
    "                        print(\"잘못된 입력입니다.\")\r\n",
    "            else: main()\r\n",
    "        # 비회원 -> 회원가입 유도\r\n",
    "        elif account_check_cmd == 2: # 비회원이므로 회원가입 기능으로 이동\r\n",
    "            join_instance.join_check(join_instance)\r\n",
    "            break\r\n",
    "        else: print(\"잘못된 입력입니다. 다시 입력하세요\")"
   ]
  },
  {
   "cell_type": "code",
   "execution_count": null,
   "metadata": {},
   "outputs": [],
   "source": [
    "load_df(PATH)"
   ]
  },
  {
   "cell_type": "code",
   "execution_count": null,
   "metadata": {},
   "outputs": [],
   "source": [
    "# main()"
   ]
  },
  {
   "cell_type": "markdown",
   "metadata": {},
   "source": []
  }
 ],
 "metadata": {
  "interpreter": {
   "hash": "74fd4a83763ff9d33eb8c7d90f5978b6232a18d570c7d5902a5874efbf77fdde"
  },
  "kernelspec": {
   "display_name": "Python 3.8.10 64-bit ('tf2_py38': conda)",
   "name": "python3"
  },
  "language_info": {
   "codemirror_mode": {
    "name": "ipython",
    "version": 3
   },
   "file_extension": ".py",
   "mimetype": "text/x-python",
   "name": "python",
   "nbconvert_exporter": "python",
   "pygments_lexer": "ipython3",
   "version": "3.8.10"
  },
  "orig_nbformat": 4
 },
 "nbformat": 4,
 "nbformat_minor": 2
}