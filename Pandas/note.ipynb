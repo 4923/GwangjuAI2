{
 "metadata": {
  "language_info": {
   "codemirror_mode": {
    "name": "ipython",
    "version": 3
   },
   "file_extension": ".py",
   "mimetype": "text/x-python",
   "name": "python",
   "nbconvert_exporter": "python",
   "pygments_lexer": "ipython3",
   "version": "3.7.10"
  },
  "orig_nbformat": 4,
  "kernelspec": {
   "name": "python3",
   "display_name": "Python 3.7.10 64-bit ('tf2_py37': conda)"
  },
  "interpreter": {
   "hash": "b1c32768c3388c46e098f4634bfda4e74ee484e5ffc2ec37cd24883f67512a61"
  }
 },
 "nbformat": 4,
 "nbformat_minor": 2,
 "cells": [
  {
   "source": [
    "import"
   ],
   "cell_type": "markdown",
   "metadata": {}
  },
  {
   "cell_type": "code",
   "execution_count": 1,
   "metadata": {},
   "outputs": [],
   "source": [
    "import pandas as pd \n",
    "import numpy as np "
   ]
  },
  {
   "source": [
    "file load\n",
    "\n",
    "`pd.read_***` 로 여러가지 파일을 불러올 수 있다. csv, pdf, html, json $\\cdots$\n",
    "\n",
    "- pickle : 압축한 데이터\n"
   ],
   "cell_type": "markdown",
   "metadata": {}
  },
  {
   "cell_type": "code",
   "execution_count": 2,
   "metadata": {},
   "outputs": [],
   "source": [
    "commerce = pd.read_csv(\"dataset/commerce.csv\")\n",
    "diabetes = pd.read_csv(\"dataset/diabetes.csv\", encoding=\"EUCKR\")\n",
    "history = pd.read_csv(\"dataset/Historical_Product_Demand.csv\")"
   ]
  },
  {
   "source": [
    "시리즈?\n",
    "- 인덱스와 값의 2열로로 구성\n",
    "- dictionary를 시리즈로 변환할 수 있다.\n",
    "- wordcloud, 분류 등의 작업에서 사용"
   ],
   "cell_type": "markdown",
   "metadata": {}
  },
  {
   "source": [
    "시리즈 : 데이터 삽입"
   ],
   "cell_type": "markdown",
   "metadata": {}
  },
  {
   "cell_type": "code",
   "execution_count": 3,
   "metadata": {},
   "outputs": [],
   "source": [
    "data_list = [3000, 40000, 5000, 7000, 10000, 10000]\n",
    "data_tuple = (3000, 40000, 5000, 7000, 10000, 10000)\n",
    "series = pd.Series(data_tuple, index = [\"라면\", \"김치\", \"떡볶이\", \"마라탕\", \"볶음밥\", \"짬뽕\"])"
   ]
  },
  {
   "cell_type": "code",
   "execution_count": 4,
   "metadata": {},
   "outputs": [
    {
     "output_type": "stream",
     "name": "stdout",
     "text": [
      "라면      3000\n김치     40000\n떡볶이     5000\n마라탕     7000\n볶음밥    10000\n짬뽕     10000\ndtype: int64\n"
     ]
    }
   ],
   "source": [
    "print(series)"
   ]
  },
  {
   "source": [
    "시리즈 : dictionary에서 변환"
   ],
   "cell_type": "markdown",
   "metadata": {}
  },
  {
   "cell_type": "code",
   "execution_count": 5,
   "metadata": {},
   "outputs": [],
   "source": [
    "data_dict = {\"음식\" : 0000, \"칼국수\" : 6000}\n",
    "series2 = pd.Series(data_dict)"
   ]
  },
  {
   "cell_type": "code",
   "execution_count": 6,
   "metadata": {},
   "outputs": [
    {
     "output_type": "stream",
     "name": "stdout",
     "text": [
      "라면      3000\n김치     40000\n떡볶이     5000\n마라탕     7000\n볶음밥    10000\n짬뽕     10000\ndtype: int64\n"
     ]
    }
   ],
   "source": [
    "print(series)"
   ]
  },
  {
   "source": [
    "시리즈 : 데이터 처리"
   ],
   "cell_type": "markdown",
   "metadata": {}
  },
  {
   "cell_type": "code",
   "execution_count": 7,
   "metadata": {},
   "outputs": [
    {
     "output_type": "stream",
     "name": "stdout",
     "text": [
      "마라탕    7000\ndtype: int64\n"
     ]
    }
   ],
   "source": [
    "print(series[[3]])"
   ]
  },
  {
   "cell_type": "code",
   "execution_count": 8,
   "metadata": {},
   "outputs": [
    {
     "output_type": "error",
     "ename": "SyntaxError",
     "evalue": "invalid syntax (<ipython-input-8-5e3f24455de9>, line 1)",
     "traceback": [
      "\u001b[1;36m  File \u001b[1;32m\"<ipython-input-8-5e3f24455de9>\"\u001b[1;36m, line \u001b[1;32m1\u001b[0m\n\u001b[1;33m    print(series[[1:]])\u001b[0m\n\u001b[1;37m                   ^\u001b[0m\n\u001b[1;31mSyntaxError\u001b[0m\u001b[1;31m:\u001b[0m invalid syntax\n"
     ]
    }
   ],
   "source": [
    "print(series[[1:]])\n"
   ]
  },
  {
   "source": [
    "series에 속성을 지정하여 index 또는 Value만 추출할 수 있다."
   ],
   "cell_type": "markdown",
   "metadata": {}
  },
  {
   "cell_type": "code",
   "execution_count": 25,
   "metadata": {},
   "outputs": [
    {
     "output_type": "stream",
     "name": "stdout",
     "text": [
      "Index(['라면', '김치', '떡볶이', '마라탕', '볶음밥', '짬뽕'], dtype='object')\n[ 3000 40000  5000  7000 10000 10000]\n"
     ]
    }
   ],
   "source": [
    "# index만 추출\n",
    "print(series.index)\n",
    "# 값 value만 추출\n",
    "print(series.values)"
   ]
  },
  {
   "source": [
    "자연어 처리의 라이브러리들이 보통 series에 최적화 되어있다. "
   ],
   "cell_type": "markdown",
   "metadata": {}
  },
  {
   "source": [
    "df : 데이터 삽입"
   ],
   "cell_type": "markdown",
   "metadata": {}
  },
  {
   "cell_type": "code",
   "execution_count": 28,
   "metadata": {},
   "outputs": [
    {
     "output_type": "stream",
     "name": "stdout",
     "text": [
      "   A  B  C\n0  1  2  3\n1  4  5  6\n"
     ]
    }
   ],
   "source": [
    "tuple_data = ((1, 2, 3), (4, 5, 6))\n",
    "print(pd.DataFrame(tuple_data, columns = [\"A\", \"B\", \"C\"]))"
   ]
  },
  {
   "cell_type": "code",
   "execution_count": 32,
   "metadata": {},
   "outputs": [
    {
     "output_type": "execute_result",
     "data": {
      "text/plain": [
       "     임신  포도당  혈압  피부 두께  인슐린   BMI  당뇨계열 병  나이  결과\n",
       "0     6  148  72     35    0  33.6   0.627  50   1\n",
       "1     1   85  66     29    0  26.6   0.351  31   0\n",
       "2     8  183  64      0    0  23.3   0.672  32   1\n",
       "3     1   89  66     23   94  28.1   0.167  21   0\n",
       "4     0  137  40     35  168  43.1   2.288  33   1\n",
       "..   ..  ...  ..    ...  ...   ...     ...  ..  ..\n",
       "763  10  101  76     48  180  32.9   0.171  63   0\n",
       "764   2  122  70     27    0  36.8   0.340  27   0\n",
       "765   5  121  72     23  112  26.2   0.245  30   0\n",
       "766   1  126  60      0    0  30.1   0.349  47   1\n",
       "767   1   93  70     31    0  30.4   0.315  23   0\n",
       "\n",
       "[768 rows x 9 columns]"
      ],
      "text/html": "<div>\n<style scoped>\n    .dataframe tbody tr th:only-of-type {\n        vertical-align: middle;\n    }\n\n    .dataframe tbody tr th {\n        vertical-align: top;\n    }\n\n    .dataframe thead th {\n        text-align: right;\n    }\n</style>\n<table border=\"1\" class=\"dataframe\">\n  <thead>\n    <tr style=\"text-align: right;\">\n      <th></th>\n      <th>임신</th>\n      <th>포도당</th>\n      <th>혈압</th>\n      <th>피부 두께</th>\n      <th>인슐린</th>\n      <th>BMI</th>\n      <th>당뇨계열 병</th>\n      <th>나이</th>\n      <th>결과</th>\n    </tr>\n  </thead>\n  <tbody>\n    <tr>\n      <th>0</th>\n      <td>6</td>\n      <td>148</td>\n      <td>72</td>\n      <td>35</td>\n      <td>0</td>\n      <td>33.6</td>\n      <td>0.627</td>\n      <td>50</td>\n      <td>1</td>\n    </tr>\n    <tr>\n      <th>1</th>\n      <td>1</td>\n      <td>85</td>\n      <td>66</td>\n      <td>29</td>\n      <td>0</td>\n      <td>26.6</td>\n      <td>0.351</td>\n      <td>31</td>\n      <td>0</td>\n    </tr>\n    <tr>\n      <th>2</th>\n      <td>8</td>\n      <td>183</td>\n      <td>64</td>\n      <td>0</td>\n      <td>0</td>\n      <td>23.3</td>\n      <td>0.672</td>\n      <td>32</td>\n      <td>1</td>\n    </tr>\n    <tr>\n      <th>3</th>\n      <td>1</td>\n      <td>89</td>\n      <td>66</td>\n      <td>23</td>\n      <td>94</td>\n      <td>28.1</td>\n      <td>0.167</td>\n      <td>21</td>\n      <td>0</td>\n    </tr>\n    <tr>\n      <th>4</th>\n      <td>0</td>\n      <td>137</td>\n      <td>40</td>\n      <td>35</td>\n      <td>168</td>\n      <td>43.1</td>\n      <td>2.288</td>\n      <td>33</td>\n      <td>1</td>\n    </tr>\n    <tr>\n      <th>...</th>\n      <td>...</td>\n      <td>...</td>\n      <td>...</td>\n      <td>...</td>\n      <td>...</td>\n      <td>...</td>\n      <td>...</td>\n      <td>...</td>\n      <td>...</td>\n    </tr>\n    <tr>\n      <th>763</th>\n      <td>10</td>\n      <td>101</td>\n      <td>76</td>\n      <td>48</td>\n      <td>180</td>\n      <td>32.9</td>\n      <td>0.171</td>\n      <td>63</td>\n      <td>0</td>\n    </tr>\n    <tr>\n      <th>764</th>\n      <td>2</td>\n      <td>122</td>\n      <td>70</td>\n      <td>27</td>\n      <td>0</td>\n      <td>36.8</td>\n      <td>0.340</td>\n      <td>27</td>\n      <td>0</td>\n    </tr>\n    <tr>\n      <th>765</th>\n      <td>5</td>\n      <td>121</td>\n      <td>72</td>\n      <td>23</td>\n      <td>112</td>\n      <td>26.2</td>\n      <td>0.245</td>\n      <td>30</td>\n      <td>0</td>\n    </tr>\n    <tr>\n      <th>766</th>\n      <td>1</td>\n      <td>126</td>\n      <td>60</td>\n      <td>0</td>\n      <td>0</td>\n      <td>30.1</td>\n      <td>0.349</td>\n      <td>47</td>\n      <td>1</td>\n    </tr>\n    <tr>\n      <th>767</th>\n      <td>1</td>\n      <td>93</td>\n      <td>70</td>\n      <td>31</td>\n      <td>0</td>\n      <td>30.4</td>\n      <td>0.315</td>\n      <td>23</td>\n      <td>0</td>\n    </tr>\n  </tbody>\n</table>\n<p>768 rows × 9 columns</p>\n</div>"
     },
     "metadata": {},
     "execution_count": 32
    }
   ],
   "source": [
    "diabetes"
   ]
  },
  {
   "source": [
    "데이터 확인\n",
    "\n",
    "- [] 인덱싱하거나 , `.` 으로 불러오거나\n",
    "- 모두 불러온 열의 특정 행만 인덱싱 할 수 있다.\n",
    "    - ex : `diabetes['변수'][:10]"
   ],
   "cell_type": "markdown",
   "metadata": {}
  },
  {
   "cell_type": "code",
   "execution_count": 46,
   "metadata": {},
   "outputs": [
    {
     "output_type": "stream",
     "name": "stdout",
     "text": [
      "0    72\n1    66\n2    64\n3    66\n4    40\nName: 혈압, dtype: int64\n---------------------\n0      0\n1      0\n2      0\n3     94\n4    168\nName: 인슐린, dtype: int64\n"
     ]
    }
   ],
   "source": [
    "print(diabetes['혈압'][:5])\n",
    "print(\"---------------------\")\n",
    "print(diabetes.인슐린[:5])"
   ]
  },
  {
   "source": [
    "`dataframe[['index1', 'index2',]]` : 데이터셋을 나눌 때 사용하게 된다. "
   ],
   "cell_type": "markdown",
   "metadata": {}
  },
  {
   "cell_type": "code",
   "execution_count": 49,
   "metadata": {},
   "outputs": [
    {
     "output_type": "execute_result",
     "data": {
      "text/plain": [
       "     혈압  인슐린  나이  포도당  결과\n",
       "0    72    0  50  148   1\n",
       "1    66    0  31   85   0\n",
       "2    64    0  32  183   1\n",
       "3    66   94  21   89   0\n",
       "4    40  168  33  137   1\n",
       "..   ..  ...  ..  ...  ..\n",
       "763  76  180  63  101   0\n",
       "764  70    0  27  122   0\n",
       "765  72  112  30  121   0\n",
       "766  60    0  47  126   1\n",
       "767  70    0  23   93   0\n",
       "\n",
       "[768 rows x 5 columns]"
      ],
      "text/html": "<div>\n<style scoped>\n    .dataframe tbody tr th:only-of-type {\n        vertical-align: middle;\n    }\n\n    .dataframe tbody tr th {\n        vertical-align: top;\n    }\n\n    .dataframe thead th {\n        text-align: right;\n    }\n</style>\n<table border=\"1\" class=\"dataframe\">\n  <thead>\n    <tr style=\"text-align: right;\">\n      <th></th>\n      <th>혈압</th>\n      <th>인슐린</th>\n      <th>나이</th>\n      <th>포도당</th>\n      <th>결과</th>\n    </tr>\n  </thead>\n  <tbody>\n    <tr>\n      <th>0</th>\n      <td>72</td>\n      <td>0</td>\n      <td>50</td>\n      <td>148</td>\n      <td>1</td>\n    </tr>\n    <tr>\n      <th>1</th>\n      <td>66</td>\n      <td>0</td>\n      <td>31</td>\n      <td>85</td>\n      <td>0</td>\n    </tr>\n    <tr>\n      <th>2</th>\n      <td>64</td>\n      <td>0</td>\n      <td>32</td>\n      <td>183</td>\n      <td>1</td>\n    </tr>\n    <tr>\n      <th>3</th>\n      <td>66</td>\n      <td>94</td>\n      <td>21</td>\n      <td>89</td>\n      <td>0</td>\n    </tr>\n    <tr>\n      <th>4</th>\n      <td>40</td>\n      <td>168</td>\n      <td>33</td>\n      <td>137</td>\n      <td>1</td>\n    </tr>\n    <tr>\n      <th>...</th>\n      <td>...</td>\n      <td>...</td>\n      <td>...</td>\n      <td>...</td>\n      <td>...</td>\n    </tr>\n    <tr>\n      <th>763</th>\n      <td>76</td>\n      <td>180</td>\n      <td>63</td>\n      <td>101</td>\n      <td>0</td>\n    </tr>\n    <tr>\n      <th>764</th>\n      <td>70</td>\n      <td>0</td>\n      <td>27</td>\n      <td>122</td>\n      <td>0</td>\n    </tr>\n    <tr>\n      <th>765</th>\n      <td>72</td>\n      <td>112</td>\n      <td>30</td>\n      <td>121</td>\n      <td>0</td>\n    </tr>\n    <tr>\n      <th>766</th>\n      <td>60</td>\n      <td>0</td>\n      <td>47</td>\n      <td>126</td>\n      <td>1</td>\n    </tr>\n    <tr>\n      <th>767</th>\n      <td>70</td>\n      <td>0</td>\n      <td>23</td>\n      <td>93</td>\n      <td>0</td>\n    </tr>\n  </tbody>\n</table>\n<p>768 rows × 5 columns</p>\n</div>"
     },
     "metadata": {},
     "execution_count": 49
    }
   ],
   "source": [
    "diabetes[[\"혈압\", \"인슐린\",\"나이\",\"포도당\", \"결과\"]]"
   ]
  },
  {
   "source": [
    "슬라이싱 할 때 `:` 과 `,` 를 모두 사용할 수 있다."
   ],
   "cell_type": "markdown",
   "metadata": {}
  },
  {
   "cell_type": "code",
   "execution_count": 51,
   "metadata": {},
   "outputs": [
    {
     "output_type": "execute_result",
     "data": {
      "text/plain": [
       "   임신  포도당  혈압  피부 두께  인슐린   BMI  당뇨계열 병  나이  결과\n",
       "0   6  148  72     35    0  33.6   0.627  50   1\n",
       "1   1   85  66     29    0  26.6   0.351  31   0\n",
       "2   8  183  64      0    0  23.3   0.672  32   1\n",
       "3   1   89  66     23   94  28.1   0.167  21   0\n",
       "4   0  137  40     35  168  43.1   2.288  33   1"
      ],
      "text/html": "<div>\n<style scoped>\n    .dataframe tbody tr th:only-of-type {\n        vertical-align: middle;\n    }\n\n    .dataframe tbody tr th {\n        vertical-align: top;\n    }\n\n    .dataframe thead th {\n        text-align: right;\n    }\n</style>\n<table border=\"1\" class=\"dataframe\">\n  <thead>\n    <tr style=\"text-align: right;\">\n      <th></th>\n      <th>임신</th>\n      <th>포도당</th>\n      <th>혈압</th>\n      <th>피부 두께</th>\n      <th>인슐린</th>\n      <th>BMI</th>\n      <th>당뇨계열 병</th>\n      <th>나이</th>\n      <th>결과</th>\n    </tr>\n  </thead>\n  <tbody>\n    <tr>\n      <th>0</th>\n      <td>6</td>\n      <td>148</td>\n      <td>72</td>\n      <td>35</td>\n      <td>0</td>\n      <td>33.6</td>\n      <td>0.627</td>\n      <td>50</td>\n      <td>1</td>\n    </tr>\n    <tr>\n      <th>1</th>\n      <td>1</td>\n      <td>85</td>\n      <td>66</td>\n      <td>29</td>\n      <td>0</td>\n      <td>26.6</td>\n      <td>0.351</td>\n      <td>31</td>\n      <td>0</td>\n    </tr>\n    <tr>\n      <th>2</th>\n      <td>8</td>\n      <td>183</td>\n      <td>64</td>\n      <td>0</td>\n      <td>0</td>\n      <td>23.3</td>\n      <td>0.672</td>\n      <td>32</td>\n      <td>1</td>\n    </tr>\n    <tr>\n      <th>3</th>\n      <td>1</td>\n      <td>89</td>\n      <td>66</td>\n      <td>23</td>\n      <td>94</td>\n      <td>28.1</td>\n      <td>0.167</td>\n      <td>21</td>\n      <td>0</td>\n    </tr>\n    <tr>\n      <th>4</th>\n      <td>0</td>\n      <td>137</td>\n      <td>40</td>\n      <td>35</td>\n      <td>168</td>\n      <td>43.1</td>\n      <td>2.288</td>\n      <td>33</td>\n      <td>1</td>\n    </tr>\n  </tbody>\n</table>\n</div>"
     },
     "metadata": {},
     "execution_count": 51
    }
   ],
   "source": [
    "diabetes.loc[0:4]"
   ]
  },
  {
   "source": [
    "단, `,` 를 사용할 때에는 대괄호 두개 `[[]]` 사용해야 한다. \n",
    "- 위에서 변수명 모아온 과정과 동일"
   ],
   "cell_type": "markdown",
   "metadata": {}
  },
  {
   "source": [
    "**범위를 가져올 때에는 대괄호 필요 없지만 각 값을 따로 가져와야 할 때는 대괄호가 필요하다** -> 모든 상황에 적용됨"
   ],
   "cell_type": "markdown",
   "metadata": {}
  },
  {
   "cell_type": "code",
   "execution_count": 54,
   "metadata": {},
   "outputs": [
    {
     "output_type": "execute_result",
     "data": {
      "text/plain": [
       "   임신  포도당  혈압  피부 두께  인슐린   BMI  당뇨계열 병  나이  결과\n",
       "0   6  148  72     35    0  33.6   0.627  50   1\n",
       "4   0  137  40     35  168  43.1   2.288  33   1"
      ],
      "text/html": "<div>\n<style scoped>\n    .dataframe tbody tr th:only-of-type {\n        vertical-align: middle;\n    }\n\n    .dataframe tbody tr th {\n        vertical-align: top;\n    }\n\n    .dataframe thead th {\n        text-align: right;\n    }\n</style>\n<table border=\"1\" class=\"dataframe\">\n  <thead>\n    <tr style=\"text-align: right;\">\n      <th></th>\n      <th>임신</th>\n      <th>포도당</th>\n      <th>혈압</th>\n      <th>피부 두께</th>\n      <th>인슐린</th>\n      <th>BMI</th>\n      <th>당뇨계열 병</th>\n      <th>나이</th>\n      <th>결과</th>\n    </tr>\n  </thead>\n  <tbody>\n    <tr>\n      <th>0</th>\n      <td>6</td>\n      <td>148</td>\n      <td>72</td>\n      <td>35</td>\n      <td>0</td>\n      <td>33.6</td>\n      <td>0.627</td>\n      <td>50</td>\n      <td>1</td>\n    </tr>\n    <tr>\n      <th>4</th>\n      <td>0</td>\n      <td>137</td>\n      <td>40</td>\n      <td>35</td>\n      <td>168</td>\n      <td>43.1</td>\n      <td>2.288</td>\n      <td>33</td>\n      <td>1</td>\n    </tr>\n  </tbody>\n</table>\n</div>"
     },
     "metadata": {},
     "execution_count": 54
    }
   ],
   "source": [
    "diabetes.loc[[0,4]]"
   ]
  },
  {
   "source": [
    "결과로 인덱스 설정\n",
    "- 주요하게 봐야 할 값을 index로 설정하면 편리하다"
   ],
   "cell_type": "markdown",
   "metadata": {}
  },
  {
   "cell_type": "code",
   "execution_count": 60,
   "metadata": {},
   "outputs": [
    {
     "output_type": "execute_result",
     "data": {
      "text/plain": [
       "    임신  포도당  혈압  피부 두께  인슐린   BMI  당뇨계열 병  나이\n",
       "결과                                           \n",
       "1    6  148  72     35    0  33.6   0.627  50\n",
       "0    1   85  66     29    0  26.6   0.351  31\n",
       "1    8  183  64      0    0  23.3   0.672  32\n",
       "0    1   89  66     23   94  28.1   0.167  21\n",
       "1    0  137  40     35  168  43.1   2.288  33\n",
       "..  ..  ...  ..    ...  ...   ...     ...  ..\n",
       "0   10  101  76     48  180  32.9   0.171  63\n",
       "0    2  122  70     27    0  36.8   0.340  27\n",
       "0    5  121  72     23  112  26.2   0.245  30\n",
       "1    1  126  60      0    0  30.1   0.349  47\n",
       "0    1   93  70     31    0  30.4   0.315  23\n",
       "\n",
       "[768 rows x 8 columns]"
      ],
      "text/html": "<div>\n<style scoped>\n    .dataframe tbody tr th:only-of-type {\n        vertical-align: middle;\n    }\n\n    .dataframe tbody tr th {\n        vertical-align: top;\n    }\n\n    .dataframe thead th {\n        text-align: right;\n    }\n</style>\n<table border=\"1\" class=\"dataframe\">\n  <thead>\n    <tr style=\"text-align: right;\">\n      <th></th>\n      <th>임신</th>\n      <th>포도당</th>\n      <th>혈압</th>\n      <th>피부 두께</th>\n      <th>인슐린</th>\n      <th>BMI</th>\n      <th>당뇨계열 병</th>\n      <th>나이</th>\n    </tr>\n    <tr>\n      <th>결과</th>\n      <th></th>\n      <th></th>\n      <th></th>\n      <th></th>\n      <th></th>\n      <th></th>\n      <th></th>\n      <th></th>\n    </tr>\n  </thead>\n  <tbody>\n    <tr>\n      <th>1</th>\n      <td>6</td>\n      <td>148</td>\n      <td>72</td>\n      <td>35</td>\n      <td>0</td>\n      <td>33.6</td>\n      <td>0.627</td>\n      <td>50</td>\n    </tr>\n    <tr>\n      <th>0</th>\n      <td>1</td>\n      <td>85</td>\n      <td>66</td>\n      <td>29</td>\n      <td>0</td>\n      <td>26.6</td>\n      <td>0.351</td>\n      <td>31</td>\n    </tr>\n    <tr>\n      <th>1</th>\n      <td>8</td>\n      <td>183</td>\n      <td>64</td>\n      <td>0</td>\n      <td>0</td>\n      <td>23.3</td>\n      <td>0.672</td>\n      <td>32</td>\n    </tr>\n    <tr>\n      <th>0</th>\n      <td>1</td>\n      <td>89</td>\n      <td>66</td>\n      <td>23</td>\n      <td>94</td>\n      <td>28.1</td>\n      <td>0.167</td>\n      <td>21</td>\n    </tr>\n    <tr>\n      <th>1</th>\n      <td>0</td>\n      <td>137</td>\n      <td>40</td>\n      <td>35</td>\n      <td>168</td>\n      <td>43.1</td>\n      <td>2.288</td>\n      <td>33</td>\n    </tr>\n    <tr>\n      <th>...</th>\n      <td>...</td>\n      <td>...</td>\n      <td>...</td>\n      <td>...</td>\n      <td>...</td>\n      <td>...</td>\n      <td>...</td>\n      <td>...</td>\n    </tr>\n    <tr>\n      <th>0</th>\n      <td>10</td>\n      <td>101</td>\n      <td>76</td>\n      <td>48</td>\n      <td>180</td>\n      <td>32.9</td>\n      <td>0.171</td>\n      <td>63</td>\n    </tr>\n    <tr>\n      <th>0</th>\n      <td>2</td>\n      <td>122</td>\n      <td>70</td>\n      <td>27</td>\n      <td>0</td>\n      <td>36.8</td>\n      <td>0.340</td>\n      <td>27</td>\n    </tr>\n    <tr>\n      <th>0</th>\n      <td>5</td>\n      <td>121</td>\n      <td>72</td>\n      <td>23</td>\n      <td>112</td>\n      <td>26.2</td>\n      <td>0.245</td>\n      <td>30</td>\n    </tr>\n    <tr>\n      <th>1</th>\n      <td>1</td>\n      <td>126</td>\n      <td>60</td>\n      <td>0</td>\n      <td>0</td>\n      <td>30.1</td>\n      <td>0.349</td>\n      <td>47</td>\n    </tr>\n    <tr>\n      <th>0</th>\n      <td>1</td>\n      <td>93</td>\n      <td>70</td>\n      <td>31</td>\n      <td>0</td>\n      <td>30.4</td>\n      <td>0.315</td>\n      <td>23</td>\n    </tr>\n  </tbody>\n</table>\n<p>768 rows × 8 columns</p>\n</div>"
     },
     "metadata": {},
     "execution_count": 60
    }
   ],
   "source": [
    "diabetes.set_index(\"결과\")"
   ]
  },
  {
   "cell_type": "code",
   "execution_count": 61,
   "metadata": {},
   "outputs": [
    {
     "output_type": "execute_result",
     "data": {
      "text/plain": [
       "   임신  혈압  인슐린  나이  결과\n",
       "0   6  72    0  50   1"
      ],
      "text/html": "<div>\n<style scoped>\n    .dataframe tbody tr th:only-of-type {\n        vertical-align: middle;\n    }\n\n    .dataframe tbody tr th {\n        vertical-align: top;\n    }\n\n    .dataframe thead th {\n        text-align: right;\n    }\n</style>\n<table border=\"1\" class=\"dataframe\">\n  <thead>\n    <tr style=\"text-align: right;\">\n      <th></th>\n      <th>임신</th>\n      <th>혈압</th>\n      <th>인슐린</th>\n      <th>나이</th>\n      <th>결과</th>\n    </tr>\n  </thead>\n  <tbody>\n    <tr>\n      <th>0</th>\n      <td>6</td>\n      <td>72</td>\n      <td>0</td>\n      <td>50</td>\n      <td>1</td>\n    </tr>\n  </tbody>\n</table>\n</div>"
     },
     "metadata": {},
     "execution_count": 61
    }
   ],
   "source": [
    "# n번 환자의 특정 값 (임신, 혈압, 인슐린, 나이, 결과) 확인\n",
    "diabetes.loc[[0], [\"임신\", \"혈압\", \"인슐린\", \"나이\", \"결과\"]]"
   ]
  },
  {
   "cell_type": "code",
   "execution_count": 65,
   "metadata": {},
   "outputs": [
    {
     "output_type": "execute_result",
     "data": {
      "text/plain": [
       "   나이  혈압  결과\n",
       "3  21  66   0\n",
       "4  33  40   1\n",
       "5  30  74   0"
      ],
      "text/html": "<div>\n<style scoped>\n    .dataframe tbody tr th:only-of-type {\n        vertical-align: middle;\n    }\n\n    .dataframe tbody tr th {\n        vertical-align: top;\n    }\n\n    .dataframe thead th {\n        text-align: right;\n    }\n</style>\n<table border=\"1\" class=\"dataframe\">\n  <thead>\n    <tr style=\"text-align: right;\">\n      <th></th>\n      <th>나이</th>\n      <th>혈압</th>\n      <th>결과</th>\n    </tr>\n  </thead>\n  <tbody>\n    <tr>\n      <th>3</th>\n      <td>21</td>\n      <td>66</td>\n      <td>0</td>\n    </tr>\n    <tr>\n      <th>4</th>\n      <td>33</td>\n      <td>40</td>\n      <td>1</td>\n    </tr>\n    <tr>\n      <th>5</th>\n      <td>30</td>\n      <td>74</td>\n      <td>0</td>\n    </tr>\n  </tbody>\n</table>\n</div>"
     },
     "metadata": {},
     "execution_count": 65
    }
   ],
   "source": [
    "diabetes.loc[3:5, [\"나이\", \"혈압\", \"결과\"]]"
   ]
  },
  {
   "cell_type": "code",
   "execution_count": 67,
   "metadata": {},
   "outputs": [
    {
     "output_type": "execute_result",
     "data": {
      "text/plain": [
       "   나이  혈압  결과\n",
       "3  21  66   0\n",
       "6  26  50   1\n",
       "9  54  96   1"
      ],
      "text/html": "<div>\n<style scoped>\n    .dataframe tbody tr th:only-of-type {\n        vertical-align: middle;\n    }\n\n    .dataframe tbody tr th {\n        vertical-align: top;\n    }\n\n    .dataframe thead th {\n        text-align: right;\n    }\n</style>\n<table border=\"1\" class=\"dataframe\">\n  <thead>\n    <tr style=\"text-align: right;\">\n      <th></th>\n      <th>나이</th>\n      <th>혈압</th>\n      <th>결과</th>\n    </tr>\n  </thead>\n  <tbody>\n    <tr>\n      <th>3</th>\n      <td>21</td>\n      <td>66</td>\n      <td>0</td>\n    </tr>\n    <tr>\n      <th>6</th>\n      <td>26</td>\n      <td>50</td>\n      <td>1</td>\n    </tr>\n    <tr>\n      <th>9</th>\n      <td>54</td>\n      <td>96</td>\n      <td>1</td>\n    </tr>\n  </tbody>\n</table>\n</div>"
     },
     "metadata": {},
     "execution_count": 67
    }
   ],
   "source": [
    "diabetes.loc[[3, 6, 9], [\"나이\", \"혈압\", \"결과\"]]"
   ]
  },
  {
   "source": [
    "특정 값 기준으로 정렬"
   ],
   "cell_type": "markdown",
   "metadata": {}
  },
  {
   "cell_type": "code",
   "execution_count": 75,
   "metadata": {},
   "outputs": [
    {
     "output_type": "execute_result",
     "data": {
      "text/plain": [
       "     임신  포도당  혈압  피부 두께  인슐린   BMI  당뇨계열 병  나이  결과\n",
       "255   1  113  64     35    0  33.6   0.543  21   1\n",
       "60    2   84   0      0    0   0.0   0.304  21   0\n",
       "102   0  125  96      0    0  22.5   0.262  21   0\n",
       "182   1    0  74     20   23  27.7   0.299  21   0"
      ],
      "text/html": "<div>\n<style scoped>\n    .dataframe tbody tr th:only-of-type {\n        vertical-align: middle;\n    }\n\n    .dataframe tbody tr th {\n        vertical-align: top;\n    }\n\n    .dataframe thead th {\n        text-align: right;\n    }\n</style>\n<table border=\"1\" class=\"dataframe\">\n  <thead>\n    <tr style=\"text-align: right;\">\n      <th></th>\n      <th>임신</th>\n      <th>포도당</th>\n      <th>혈압</th>\n      <th>피부 두께</th>\n      <th>인슐린</th>\n      <th>BMI</th>\n      <th>당뇨계열 병</th>\n      <th>나이</th>\n      <th>결과</th>\n    </tr>\n  </thead>\n  <tbody>\n    <tr>\n      <th>255</th>\n      <td>1</td>\n      <td>113</td>\n      <td>64</td>\n      <td>35</td>\n      <td>0</td>\n      <td>33.6</td>\n      <td>0.543</td>\n      <td>21</td>\n      <td>1</td>\n    </tr>\n    <tr>\n      <th>60</th>\n      <td>2</td>\n      <td>84</td>\n      <td>0</td>\n      <td>0</td>\n      <td>0</td>\n      <td>0.0</td>\n      <td>0.304</td>\n      <td>21</td>\n      <td>0</td>\n    </tr>\n    <tr>\n      <th>102</th>\n      <td>0</td>\n      <td>125</td>\n      <td>96</td>\n      <td>0</td>\n      <td>0</td>\n      <td>22.5</td>\n      <td>0.262</td>\n      <td>21</td>\n      <td>0</td>\n    </tr>\n    <tr>\n      <th>182</th>\n      <td>1</td>\n      <td>0</td>\n      <td>74</td>\n      <td>20</td>\n      <td>23</td>\n      <td>27.7</td>\n      <td>0.299</td>\n      <td>21</td>\n      <td>0</td>\n    </tr>\n  </tbody>\n</table>\n</div>"
     },
     "metadata": {},
     "execution_count": 75
    }
   ],
   "source": [
    "# column명 지정, 정렬 방향 지정\n",
    "diabetes_sorted = diabetes.sort_values(\"나이\", ascending=True)  # 오름차순\n",
    "diabetes_sorted.head(4)"
   ]
  },
  {
   "source": [
    "`drop` : 열 제거"
   ],
   "cell_type": "markdown",
   "metadata": {}
  },
  {
   "cell_type": "code",
   "execution_count": 78,
   "metadata": {},
   "outputs": [
    {
     "output_type": "execute_result",
     "data": {
      "text/plain": [
       "   혈압  피부 두께  인슐린   BMI  당뇨계열 병  나이  결과\n",
       "0  72     35    0  33.6   0.627  50   1\n",
       "1  66     29    0  26.6   0.351  31   0\n",
       "2  64      0    0  23.3   0.672  32   1\n",
       "3  66     23   94  28.1   0.167  21   0\n",
       "4  40     35  168  43.1   2.288  33   1"
      ],
      "text/html": "<div>\n<style scoped>\n    .dataframe tbody tr th:only-of-type {\n        vertical-align: middle;\n    }\n\n    .dataframe tbody tr th {\n        vertical-align: top;\n    }\n\n    .dataframe thead th {\n        text-align: right;\n    }\n</style>\n<table border=\"1\" class=\"dataframe\">\n  <thead>\n    <tr style=\"text-align: right;\">\n      <th></th>\n      <th>혈압</th>\n      <th>피부 두께</th>\n      <th>인슐린</th>\n      <th>BMI</th>\n      <th>당뇨계열 병</th>\n      <th>나이</th>\n      <th>결과</th>\n    </tr>\n  </thead>\n  <tbody>\n    <tr>\n      <th>0</th>\n      <td>72</td>\n      <td>35</td>\n      <td>0</td>\n      <td>33.6</td>\n      <td>0.627</td>\n      <td>50</td>\n      <td>1</td>\n    </tr>\n    <tr>\n      <th>1</th>\n      <td>66</td>\n      <td>29</td>\n      <td>0</td>\n      <td>26.6</td>\n      <td>0.351</td>\n      <td>31</td>\n      <td>0</td>\n    </tr>\n    <tr>\n      <th>2</th>\n      <td>64</td>\n      <td>0</td>\n      <td>0</td>\n      <td>23.3</td>\n      <td>0.672</td>\n      <td>32</td>\n      <td>1</td>\n    </tr>\n    <tr>\n      <th>3</th>\n      <td>66</td>\n      <td>23</td>\n      <td>94</td>\n      <td>28.1</td>\n      <td>0.167</td>\n      <td>21</td>\n      <td>0</td>\n    </tr>\n    <tr>\n      <th>4</th>\n      <td>40</td>\n      <td>35</td>\n      <td>168</td>\n      <td>43.1</td>\n      <td>2.288</td>\n      <td>33</td>\n      <td>1</td>\n    </tr>\n  </tbody>\n</table>\n</div>"
     },
     "metadata": {},
     "execution_count": 78
    }
   ],
   "source": [
    "diabetes_temp1 = diabetes\n",
    "diabetes_temp1.drop([\"임신\", \"포도당\"], axis = 1).head()"
   ]
  },
  {
   "source": [
    "## 내보내기"
   ],
   "cell_type": "markdown",
   "metadata": {}
  },
  {
   "cell_type": "code",
   "execution_count": 92,
   "metadata": {},
   "outputs": [],
   "source": [
    "diabetes.to_json(\"dataset/indian_diabetes.json\")"
   ]
  },
  {
   "cell_type": "code",
   "execution_count": 93,
   "metadata": {},
   "outputs": [
    {
     "output_type": "execute_result",
     "data": {
      "text/plain": [
       "     임신  포도당  혈압  피부 두께  인슐린   BMI  당뇨계열 병  나이  결과\n",
       "0     6  148  72     35    0  33.6   0.627  50   1\n",
       "1     1   85  66     29    0  26.6   0.351  31   0\n",
       "2     8  183  64      0    0  23.3   0.672  32   1\n",
       "3     1   89  66     23   94  28.1   0.167  21   0\n",
       "4     0  137  40     35  168  43.1   2.288  33   1\n",
       "..   ..  ...  ..    ...  ...   ...     ...  ..  ..\n",
       "763  10  101  76     48  180  32.9   0.171  63   0\n",
       "764   2  122  70     27    0  36.8   0.340  27   0\n",
       "765   5  121  72     23  112  26.2   0.245  30   0\n",
       "766   1  126  60      0    0  30.1   0.349  47   1\n",
       "767   1   93  70     31    0  30.4   0.315  23   0\n",
       "\n",
       "[768 rows x 9 columns]"
      ],
      "text/html": "<div>\n<style scoped>\n    .dataframe tbody tr th:only-of-type {\n        vertical-align: middle;\n    }\n\n    .dataframe tbody tr th {\n        vertical-align: top;\n    }\n\n    .dataframe thead th {\n        text-align: right;\n    }\n</style>\n<table border=\"1\" class=\"dataframe\">\n  <thead>\n    <tr style=\"text-align: right;\">\n      <th></th>\n      <th>임신</th>\n      <th>포도당</th>\n      <th>혈압</th>\n      <th>피부 두께</th>\n      <th>인슐린</th>\n      <th>BMI</th>\n      <th>당뇨계열 병</th>\n      <th>나이</th>\n      <th>결과</th>\n    </tr>\n  </thead>\n  <tbody>\n    <tr>\n      <th>0</th>\n      <td>6</td>\n      <td>148</td>\n      <td>72</td>\n      <td>35</td>\n      <td>0</td>\n      <td>33.6</td>\n      <td>0.627</td>\n      <td>50</td>\n      <td>1</td>\n    </tr>\n    <tr>\n      <th>1</th>\n      <td>1</td>\n      <td>85</td>\n      <td>66</td>\n      <td>29</td>\n      <td>0</td>\n      <td>26.6</td>\n      <td>0.351</td>\n      <td>31</td>\n      <td>0</td>\n    </tr>\n    <tr>\n      <th>2</th>\n      <td>8</td>\n      <td>183</td>\n      <td>64</td>\n      <td>0</td>\n      <td>0</td>\n      <td>23.3</td>\n      <td>0.672</td>\n      <td>32</td>\n      <td>1</td>\n    </tr>\n    <tr>\n      <th>3</th>\n      <td>1</td>\n      <td>89</td>\n      <td>66</td>\n      <td>23</td>\n      <td>94</td>\n      <td>28.1</td>\n      <td>0.167</td>\n      <td>21</td>\n      <td>0</td>\n    </tr>\n    <tr>\n      <th>4</th>\n      <td>0</td>\n      <td>137</td>\n      <td>40</td>\n      <td>35</td>\n      <td>168</td>\n      <td>43.1</td>\n      <td>2.288</td>\n      <td>33</td>\n      <td>1</td>\n    </tr>\n    <tr>\n      <th>...</th>\n      <td>...</td>\n      <td>...</td>\n      <td>...</td>\n      <td>...</td>\n      <td>...</td>\n      <td>...</td>\n      <td>...</td>\n      <td>...</td>\n      <td>...</td>\n    </tr>\n    <tr>\n      <th>763</th>\n      <td>10</td>\n      <td>101</td>\n      <td>76</td>\n      <td>48</td>\n      <td>180</td>\n      <td>32.9</td>\n      <td>0.171</td>\n      <td>63</td>\n      <td>0</td>\n    </tr>\n    <tr>\n      <th>764</th>\n      <td>2</td>\n      <td>122</td>\n      <td>70</td>\n      <td>27</td>\n      <td>0</td>\n      <td>36.8</td>\n      <td>0.340</td>\n      <td>27</td>\n      <td>0</td>\n    </tr>\n    <tr>\n      <th>765</th>\n      <td>5</td>\n      <td>121</td>\n      <td>72</td>\n      <td>23</td>\n      <td>112</td>\n      <td>26.2</td>\n      <td>0.245</td>\n      <td>30</td>\n      <td>0</td>\n    </tr>\n    <tr>\n      <th>766</th>\n      <td>1</td>\n      <td>126</td>\n      <td>60</td>\n      <td>0</td>\n      <td>0</td>\n      <td>30.1</td>\n      <td>0.349</td>\n      <td>47</td>\n      <td>1</td>\n    </tr>\n    <tr>\n      <th>767</th>\n      <td>1</td>\n      <td>93</td>\n      <td>70</td>\n      <td>31</td>\n      <td>0</td>\n      <td>30.4</td>\n      <td>0.315</td>\n      <td>23</td>\n      <td>0</td>\n    </tr>\n  </tbody>\n</table>\n<p>768 rows × 9 columns</p>\n</div>"
     },
     "metadata": {},
     "execution_count": 93
    }
   ],
   "source": [
    "diabetes_json = pd.read_json(\"dataset/indian_diabetes.json\")\n",
    "diabetes_json"
   ]
  },
  {
   "source": [
    "## 통계"
   ],
   "cell_type": "markdown",
   "metadata": {}
  },
  {
   "cell_type": "code",
   "execution_count": 99,
   "metadata": {},
   "outputs": [
    {
     "output_type": "execute_result",
     "data": {
      "text/plain": [
       "임신          3.845052\n",
       "포도당       120.894531\n",
       "혈압         69.105469\n",
       "피부 두께      20.536458\n",
       "인슐린        79.799479\n",
       "BMI        31.992578\n",
       "당뇨계열 병      0.471876\n",
       "나이         33.240885\n",
       "결과          0.348958\n",
       "dtype: float64"
      ]
     },
     "metadata": {},
     "execution_count": 99
    }
   ],
   "source": [
    "# 펑균\n",
    "diabetes_json.mean()"
   ]
  },
  {
   "cell_type": "code",
   "execution_count": 96,
   "metadata": {},
   "outputs": [
    {
     "output_type": "execute_result",
     "data": {
      "text/plain": [
       "임신          3.0000\n",
       "포도당       117.0000\n",
       "혈압         72.0000\n",
       "피부 두께      23.0000\n",
       "인슐린        30.5000\n",
       "BMI        32.0000\n",
       "당뇨계열 병      0.3725\n",
       "나이         29.0000\n",
       "결과          0.0000\n",
       "dtype: float64"
      ]
     },
     "metadata": {},
     "execution_count": 96
    }
   ],
   "source": [
    "# 중앙에 있는 값\n",
    "diabetes_json.median()"
   ]
  },
  {
   "cell_type": "code",
   "execution_count": 102,
   "metadata": {},
   "outputs": [
    {
     "output_type": "stream",
     "name": "stdout",
     "text": [
      "임신         17.00\n포도당       199.00\n혈압        122.00\n피부 두께      99.00\n인슐린       846.00\nBMI        67.10\n당뇨계열 병      2.42\n나이         81.00\n결과          1.00\ndtype: float64\n--------------------\n임신         0.000\n포도당        0.000\n혈압         0.000\n피부 두께      0.000\n인슐린        0.000\nBMI        0.000\n당뇨계열 병     0.078\n나이        21.000\n결과         0.000\ndtype: float64\n"
     ]
    }
   ],
   "source": [
    "# 최대, 최소\n",
    "\n",
    "print(diabetes_json.max())\n",
    "print(\"--------------------\")\n",
    "print(diabetes_json.min())"
   ]
  },
  {
   "cell_type": "code",
   "execution_count": 104,
   "metadata": {},
   "outputs": [
    {
     "output_type": "execute_result",
     "data": {
      "text/plain": [
       "임신          3.369578\n",
       "포도당        31.972618\n",
       "혈압         19.355807\n",
       "피부 두께      15.952218\n",
       "인슐린       115.244002\n",
       "BMI         7.884160\n",
       "당뇨계열 병      0.331329\n",
       "나이         11.760232\n",
       "결과          0.476951\n",
       "dtype: float64"
      ]
     },
     "metadata": {},
     "execution_count": 104
    }
   ],
   "source": [
    "# 표준편차\n",
    "diabetes_json.std()"
   ]
  },
  {
   "source": [
    "**`corr` : 데이터 분석시 중요하게 봐야 할 부분**"
   ],
   "cell_type": "markdown",
   "metadata": {}
  },
  {
   "source": [
    "인과관계 vs 상관관계  \n",
    "인과관계는 원인과 결과가 일대일 대응이고 상관관계는 영향을 주는 관계다.  \n",
    "- 물의 온도와 물이 끓는 상태는 인과관계다.\n",
    "- 광고가 매출신장에 기여를 했다.\n"
   ],
   "cell_type": "markdown",
   "metadata": {}
  },
  {
   "cell_type": "code",
   "execution_count": 105,
   "metadata": {},
   "outputs": [
    {
     "output_type": "execute_result",
     "data": {
      "text/plain": [
       "              임신       포도당        혈압     피부 두께       인슐린       BMI    당뇨계열 병  \\\n",
       "임신      1.000000  0.129459  0.141282 -0.081672 -0.073535  0.017683 -0.033523   \n",
       "포도당     0.129459  1.000000  0.152590  0.057328  0.331357  0.221071  0.137337   \n",
       "혈압      0.141282  0.152590  1.000000  0.207371  0.088933  0.281805  0.041265   \n",
       "피부 두께  -0.081672  0.057328  0.207371  1.000000  0.436783  0.392573  0.183928   \n",
       "인슐린    -0.073535  0.331357  0.088933  0.436783  1.000000  0.197859  0.185071   \n",
       "BMI     0.017683  0.221071  0.281805  0.392573  0.197859  1.000000  0.140647   \n",
       "당뇨계열 병 -0.033523  0.137337  0.041265  0.183928  0.185071  0.140647  1.000000   \n",
       "나이      0.544341  0.263514  0.239528 -0.113970 -0.042163  0.036242  0.033561   \n",
       "결과      0.221898  0.466581  0.065068  0.074752  0.130548  0.292695  0.173844   \n",
       "\n",
       "              나이        결과  \n",
       "임신      0.544341  0.221898  \n",
       "포도당     0.263514  0.466581  \n",
       "혈압      0.239528  0.065068  \n",
       "피부 두께  -0.113970  0.074752  \n",
       "인슐린    -0.042163  0.130548  \n",
       "BMI     0.036242  0.292695  \n",
       "당뇨계열 병  0.033561  0.173844  \n",
       "나이      1.000000  0.238356  \n",
       "결과      0.238356  1.000000  "
      ],
      "text/html": "<div>\n<style scoped>\n    .dataframe tbody tr th:only-of-type {\n        vertical-align: middle;\n    }\n\n    .dataframe tbody tr th {\n        vertical-align: top;\n    }\n\n    .dataframe thead th {\n        text-align: right;\n    }\n</style>\n<table border=\"1\" class=\"dataframe\">\n  <thead>\n    <tr style=\"text-align: right;\">\n      <th></th>\n      <th>임신</th>\n      <th>포도당</th>\n      <th>혈압</th>\n      <th>피부 두께</th>\n      <th>인슐린</th>\n      <th>BMI</th>\n      <th>당뇨계열 병</th>\n      <th>나이</th>\n      <th>결과</th>\n    </tr>\n  </thead>\n  <tbody>\n    <tr>\n      <th>임신</th>\n      <td>1.000000</td>\n      <td>0.129459</td>\n      <td>0.141282</td>\n      <td>-0.081672</td>\n      <td>-0.073535</td>\n      <td>0.017683</td>\n      <td>-0.033523</td>\n      <td>0.544341</td>\n      <td>0.221898</td>\n    </tr>\n    <tr>\n      <th>포도당</th>\n      <td>0.129459</td>\n      <td>1.000000</td>\n      <td>0.152590</td>\n      <td>0.057328</td>\n      <td>0.331357</td>\n      <td>0.221071</td>\n      <td>0.137337</td>\n      <td>0.263514</td>\n      <td>0.466581</td>\n    </tr>\n    <tr>\n      <th>혈압</th>\n      <td>0.141282</td>\n      <td>0.152590</td>\n      <td>1.000000</td>\n      <td>0.207371</td>\n      <td>0.088933</td>\n      <td>0.281805</td>\n      <td>0.041265</td>\n      <td>0.239528</td>\n      <td>0.065068</td>\n    </tr>\n    <tr>\n      <th>피부 두께</th>\n      <td>-0.081672</td>\n      <td>0.057328</td>\n      <td>0.207371</td>\n      <td>1.000000</td>\n      <td>0.436783</td>\n      <td>0.392573</td>\n      <td>0.183928</td>\n      <td>-0.113970</td>\n      <td>0.074752</td>\n    </tr>\n    <tr>\n      <th>인슐린</th>\n      <td>-0.073535</td>\n      <td>0.331357</td>\n      <td>0.088933</td>\n      <td>0.436783</td>\n      <td>1.000000</td>\n      <td>0.197859</td>\n      <td>0.185071</td>\n      <td>-0.042163</td>\n      <td>0.130548</td>\n    </tr>\n    <tr>\n      <th>BMI</th>\n      <td>0.017683</td>\n      <td>0.221071</td>\n      <td>0.281805</td>\n      <td>0.392573</td>\n      <td>0.197859</td>\n      <td>1.000000</td>\n      <td>0.140647</td>\n      <td>0.036242</td>\n      <td>0.292695</td>\n    </tr>\n    <tr>\n      <th>당뇨계열 병</th>\n      <td>-0.033523</td>\n      <td>0.137337</td>\n      <td>0.041265</td>\n      <td>0.183928</td>\n      <td>0.185071</td>\n      <td>0.140647</td>\n      <td>1.000000</td>\n      <td>0.033561</td>\n      <td>0.173844</td>\n    </tr>\n    <tr>\n      <th>나이</th>\n      <td>0.544341</td>\n      <td>0.263514</td>\n      <td>0.239528</td>\n      <td>-0.113970</td>\n      <td>-0.042163</td>\n      <td>0.036242</td>\n      <td>0.033561</td>\n      <td>1.000000</td>\n      <td>0.238356</td>\n    </tr>\n    <tr>\n      <th>결과</th>\n      <td>0.221898</td>\n      <td>0.466581</td>\n      <td>0.065068</td>\n      <td>0.074752</td>\n      <td>0.130548</td>\n      <td>0.292695</td>\n      <td>0.173844</td>\n      <td>0.238356</td>\n      <td>1.000000</td>\n    </tr>\n  </tbody>\n</table>\n</div>"
     },
     "metadata": {},
     "execution_count": 105
    }
   ],
   "source": [
    "# 결과값이 모두 백분율이다\n",
    "# 값이 낮으면 영향을 적게 미친다. : 선형성이 없다? \n",
    "diabetes_json.corr()"
   ]
  },
  {
   "cell_type": "code",
   "execution_count": 114,
   "metadata": {},
   "outputs": [
    {
     "output_type": "execute_result",
     "data": {
      "text/plain": [
       "     임신  포도당  인슐린   BMI  당뇨계열 병  나이  결과\n",
       "0     6  148    0  33.6   0.627  50   1\n",
       "1     1   85    0  26.6   0.351  31   0\n",
       "2     8  183    0  23.3   0.672  32   1\n",
       "3     1   89   94  28.1   0.167  21   0\n",
       "4     0  137  168  43.1   2.288  33   1\n",
       "..   ..  ...  ...   ...     ...  ..  ..\n",
       "763  10  101  180  32.9   0.171  63   0\n",
       "764   2  122    0  36.8   0.340  27   0\n",
       "765   5  121  112  26.2   0.245  30   0\n",
       "766   1  126    0  30.1   0.349  47   1\n",
       "767   1   93    0  30.4   0.315  23   0\n",
       "\n",
       "[768 rows x 7 columns]"
      ],
      "text/html": "<div>\n<style scoped>\n    .dataframe tbody tr th:only-of-type {\n        vertical-align: middle;\n    }\n\n    .dataframe tbody tr th {\n        vertical-align: top;\n    }\n\n    .dataframe thead th {\n        text-align: right;\n    }\n</style>\n<table border=\"1\" class=\"dataframe\">\n  <thead>\n    <tr style=\"text-align: right;\">\n      <th></th>\n      <th>임신</th>\n      <th>포도당</th>\n      <th>인슐린</th>\n      <th>BMI</th>\n      <th>당뇨계열 병</th>\n      <th>나이</th>\n      <th>결과</th>\n    </tr>\n  </thead>\n  <tbody>\n    <tr>\n      <th>0</th>\n      <td>6</td>\n      <td>148</td>\n      <td>0</td>\n      <td>33.6</td>\n      <td>0.627</td>\n      <td>50</td>\n      <td>1</td>\n    </tr>\n    <tr>\n      <th>1</th>\n      <td>1</td>\n      <td>85</td>\n      <td>0</td>\n      <td>26.6</td>\n      <td>0.351</td>\n      <td>31</td>\n      <td>0</td>\n    </tr>\n    <tr>\n      <th>2</th>\n      <td>8</td>\n      <td>183</td>\n      <td>0</td>\n      <td>23.3</td>\n      <td>0.672</td>\n      <td>32</td>\n      <td>1</td>\n    </tr>\n    <tr>\n      <th>3</th>\n      <td>1</td>\n      <td>89</td>\n      <td>94</td>\n      <td>28.1</td>\n      <td>0.167</td>\n      <td>21</td>\n      <td>0</td>\n    </tr>\n    <tr>\n      <th>4</th>\n      <td>0</td>\n      <td>137</td>\n      <td>168</td>\n      <td>43.1</td>\n      <td>2.288</td>\n      <td>33</td>\n      <td>1</td>\n    </tr>\n    <tr>\n      <th>...</th>\n      <td>...</td>\n      <td>...</td>\n      <td>...</td>\n      <td>...</td>\n      <td>...</td>\n      <td>...</td>\n      <td>...</td>\n    </tr>\n    <tr>\n      <th>763</th>\n      <td>10</td>\n      <td>101</td>\n      <td>180</td>\n      <td>32.9</td>\n      <td>0.171</td>\n      <td>63</td>\n      <td>0</td>\n    </tr>\n    <tr>\n      <th>764</th>\n      <td>2</td>\n      <td>122</td>\n      <td>0</td>\n      <td>36.8</td>\n      <td>0.340</td>\n      <td>27</td>\n      <td>0</td>\n    </tr>\n    <tr>\n      <th>765</th>\n      <td>5</td>\n      <td>121</td>\n      <td>112</td>\n      <td>26.2</td>\n      <td>0.245</td>\n      <td>30</td>\n      <td>0</td>\n    </tr>\n    <tr>\n      <th>766</th>\n      <td>1</td>\n      <td>126</td>\n      <td>0</td>\n      <td>30.1</td>\n      <td>0.349</td>\n      <td>47</td>\n      <td>1</td>\n    </tr>\n    <tr>\n      <th>767</th>\n      <td>1</td>\n      <td>93</td>\n      <td>0</td>\n      <td>30.4</td>\n      <td>0.315</td>\n      <td>23</td>\n      <td>0</td>\n    </tr>\n  </tbody>\n</table>\n<p>768 rows × 7 columns</p>\n</div>"
     },
     "metadata": {},
     "execution_count": 114
    }
   ],
   "source": [
    "diabetes_json.drop([\"혈압\", \"피부 두께\"], axis = 1)"
   ]
  },
  {
   "cell_type": "code",
   "execution_count": 109,
   "metadata": {},
   "outputs": [
    {
     "output_type": "stream",
     "name": "stdout",
     "text": [
      "<class 'pandas.core.frame.DataFrame'>\nInt64Index: 768 entries, 0 to 767\nData columns (total 9 columns):\n #   Column  Non-Null Count  Dtype  \n---  ------  --------------  -----  \n 0   임신      768 non-null    int64  \n 1   포도당     768 non-null    int64  \n 2   혈압      768 non-null    int64  \n 3   피부 두께   768 non-null    int64  \n 4   인슐린     768 non-null    int64  \n 5   BMI     768 non-null    float64\n 6   당뇨계열 병  768 non-null    float64\n 7   나이      768 non-null    int64  \n 8   결과      768 non-null    int64  \ndtypes: float64(2), int64(7)\nmemory usage: 76.2 KB\n"
     ]
    }
   ],
   "source": [
    "# 결측치, data type 확인\n",
    "diabetes_json.info()"
   ]
  },
  {
   "cell_type": "code",
   "execution_count": 111,
   "metadata": {},
   "outputs": [
    {
     "output_type": "execute_result",
     "data": {
      "text/plain": [
       "               임신         포도당          혈압       피부 두께         인슐린         BMI  \\\n",
       "count  768.000000  768.000000  768.000000  768.000000  768.000000  768.000000   \n",
       "mean     3.845052  120.894531   69.105469   20.536458   79.799479   31.992578   \n",
       "std      3.369578   31.972618   19.355807   15.952218  115.244002    7.884160   \n",
       "min      0.000000    0.000000    0.000000    0.000000    0.000000    0.000000   \n",
       "25%      1.000000   99.000000   62.000000    0.000000    0.000000   27.300000   \n",
       "50%      3.000000  117.000000   72.000000   23.000000   30.500000   32.000000   \n",
       "75%      6.000000  140.250000   80.000000   32.000000  127.250000   36.600000   \n",
       "max     17.000000  199.000000  122.000000   99.000000  846.000000   67.100000   \n",
       "\n",
       "           당뇨계열 병          나이          결과  \n",
       "count  768.000000  768.000000  768.000000  \n",
       "mean     0.471876   33.240885    0.348958  \n",
       "std      0.331329   11.760232    0.476951  \n",
       "min      0.078000   21.000000    0.000000  \n",
       "25%      0.243750   24.000000    0.000000  \n",
       "50%      0.372500   29.000000    0.000000  \n",
       "75%      0.626250   41.000000    1.000000  \n",
       "max      2.420000   81.000000    1.000000  "
      ],
      "text/html": "<div>\n<style scoped>\n    .dataframe tbody tr th:only-of-type {\n        vertical-align: middle;\n    }\n\n    .dataframe tbody tr th {\n        vertical-align: top;\n    }\n\n    .dataframe thead th {\n        text-align: right;\n    }\n</style>\n<table border=\"1\" class=\"dataframe\">\n  <thead>\n    <tr style=\"text-align: right;\">\n      <th></th>\n      <th>임신</th>\n      <th>포도당</th>\n      <th>혈압</th>\n      <th>피부 두께</th>\n      <th>인슐린</th>\n      <th>BMI</th>\n      <th>당뇨계열 병</th>\n      <th>나이</th>\n      <th>결과</th>\n    </tr>\n  </thead>\n  <tbody>\n    <tr>\n      <th>count</th>\n      <td>768.000000</td>\n      <td>768.000000</td>\n      <td>768.000000</td>\n      <td>768.000000</td>\n      <td>768.000000</td>\n      <td>768.000000</td>\n      <td>768.000000</td>\n      <td>768.000000</td>\n      <td>768.000000</td>\n    </tr>\n    <tr>\n      <th>mean</th>\n      <td>3.845052</td>\n      <td>120.894531</td>\n      <td>69.105469</td>\n      <td>20.536458</td>\n      <td>79.799479</td>\n      <td>31.992578</td>\n      <td>0.471876</td>\n      <td>33.240885</td>\n      <td>0.348958</td>\n    </tr>\n    <tr>\n      <th>std</th>\n      <td>3.369578</td>\n      <td>31.972618</td>\n      <td>19.355807</td>\n      <td>15.952218</td>\n      <td>115.244002</td>\n      <td>7.884160</td>\n      <td>0.331329</td>\n      <td>11.760232</td>\n      <td>0.476951</td>\n    </tr>\n    <tr>\n      <th>min</th>\n      <td>0.000000</td>\n      <td>0.000000</td>\n      <td>0.000000</td>\n      <td>0.000000</td>\n      <td>0.000000</td>\n      <td>0.000000</td>\n      <td>0.078000</td>\n      <td>21.000000</td>\n      <td>0.000000</td>\n    </tr>\n    <tr>\n      <th>25%</th>\n      <td>1.000000</td>\n      <td>99.000000</td>\n      <td>62.000000</td>\n      <td>0.000000</td>\n      <td>0.000000</td>\n      <td>27.300000</td>\n      <td>0.243750</td>\n      <td>24.000000</td>\n      <td>0.000000</td>\n    </tr>\n    <tr>\n      <th>50%</th>\n      <td>3.000000</td>\n      <td>117.000000</td>\n      <td>72.000000</td>\n      <td>23.000000</td>\n      <td>30.500000</td>\n      <td>32.000000</td>\n      <td>0.372500</td>\n      <td>29.000000</td>\n      <td>0.000000</td>\n    </tr>\n    <tr>\n      <th>75%</th>\n      <td>6.000000</td>\n      <td>140.250000</td>\n      <td>80.000000</td>\n      <td>32.000000</td>\n      <td>127.250000</td>\n      <td>36.600000</td>\n      <td>0.626250</td>\n      <td>41.000000</td>\n      <td>1.000000</td>\n    </tr>\n    <tr>\n      <th>max</th>\n      <td>17.000000</td>\n      <td>199.000000</td>\n      <td>122.000000</td>\n      <td>99.000000</td>\n      <td>846.000000</td>\n      <td>67.100000</td>\n      <td>2.420000</td>\n      <td>81.000000</td>\n      <td>1.000000</td>\n    </tr>\n  </tbody>\n</table>\n</div>"
     },
     "metadata": {},
     "execution_count": 111
    }
   ],
   "source": [
    "# 기술통계수치 한번에 확인 가능 \n",
    "diabetes_json.describe()"
   ]
  },
  {
   "source": [
    "value_count : 특정 분류(column)에서 가장 많은 값이 무엇인지 확인 \n",
    "- dropna : 결측치 고려"
   ],
   "cell_type": "markdown",
   "metadata": {}
  },
  {
   "cell_type": "code",
   "execution_count": 115,
   "metadata": {},
   "outputs": [
    {
     "output_type": "execute_result",
     "data": {
      "text/plain": [
       "32.0    13\n",
       "31.2    12\n",
       "31.6    12\n",
       "0.0     11\n",
       "33.3    10\n",
       "        ..\n",
       "19.3     1\n",
       "49.3     1\n",
       "19.4     1\n",
       "20.0     1\n",
       "40.1     1\n",
       "Name: BMI, Length: 248, dtype: int64"
      ]
     },
     "metadata": {},
     "execution_count": 115
    }
   ],
   "source": [
    "diabetes_json[\"BMI\"].value_counts(dropna=False)"
   ]
  },
  {
   "cell_type": "code",
   "execution_count": 140,
   "metadata": {},
   "outputs": [],
   "source": [
    "# data update : crUd\n",
    "diabetes_json.loc[0] = [6, 148, None, 35, 0, None, None, None, 1]"
   ]
  },
  {
   "cell_type": "code",
   "execution_count": 141,
   "metadata": {},
   "outputs": [
    {
     "output_type": "execute_result",
     "data": {
      "text/plain": [
       "임신        0\n",
       "포도당       0\n",
       "혈압        1\n",
       "피부 두께     0\n",
       "인슐린       0\n",
       "BMI       1\n",
       "당뇨계열 병    1\n",
       "나이        1\n",
       "결과        0\n",
       "dtype: int64"
      ]
     },
     "metadata": {},
     "execution_count": 141
    }
   ],
   "source": [
    "diabetes_json.isnull().sum()"
   ]
  },
  {
   "source": [
    "결측치가 일정 개수 이상이면 제거"
   ],
   "cell_type": "markdown",
   "metadata": {}
  },
  {
   "cell_type": "code",
   "execution_count": 142,
   "metadata": {},
   "outputs": [
    {
     "output_type": "execute_result",
     "data": {
      "text/plain": [
       "(768, 9)"
      ]
     },
     "metadata": {},
     "execution_count": 142
    }
   ],
   "source": [
    "diabetes_json.shape"
   ]
  },
  {
   "cell_type": "code",
   "execution_count": 153,
   "metadata": {},
   "outputs": [
    {
     "output_type": "execute_result",
     "data": {
      "text/plain": [
       "(768, 9)"
      ]
     },
     "metadata": {},
     "execution_count": 153
    }
   ],
   "source": [
    "# 결측치 1개 이상이면 제거하라고 했는데 안된다\n",
    "diabetes_json.dropna(axis=0, thresh=1).shape"
   ]
  },
  {
   "source": [
    "특정 분류에 특정 값이 있는 경우 데이터 제거\n"
   ],
   "cell_type": "markdown",
   "metadata": {}
  },
  {
   "cell_type": "code",
   "execution_count": 148,
   "metadata": {},
   "outputs": [
    {
     "output_type": "execute_result",
     "data": {
      "text/plain": [
       "     임신  포도당    혈압  피부 두께  인슐린   BMI  당뇨계열 병    나이  결과\n",
       "1     1   85  66.0     29    0  26.6   0.351  31.0   0\n",
       "2     8  183  64.0      0    0  23.3   0.672  32.0   1\n",
       "3     1   89  66.0     23   94  28.1   0.167  21.0   0\n",
       "4     0  137  40.0     35  168  43.1   2.288  33.0   1\n",
       "5     5  116  74.0      0    0  25.6   0.201  30.0   0\n",
       "..   ..  ...   ...    ...  ...   ...     ...   ...  ..\n",
       "763  10  101  76.0     48  180  32.9   0.171  63.0   0\n",
       "764   2  122  70.0     27    0  36.8   0.340  27.0   0\n",
       "765   5  121  72.0     23  112  26.2   0.245  30.0   0\n",
       "766   1  126  60.0      0    0  30.1   0.349  47.0   1\n",
       "767   1   93  70.0     31    0  30.4   0.315  23.0   0\n",
       "\n",
       "[767 rows x 9 columns]"
      ],
      "text/html": "<div>\n<style scoped>\n    .dataframe tbody tr th:only-of-type {\n        vertical-align: middle;\n    }\n\n    .dataframe tbody tr th {\n        vertical-align: top;\n    }\n\n    .dataframe thead th {\n        text-align: right;\n    }\n</style>\n<table border=\"1\" class=\"dataframe\">\n  <thead>\n    <tr style=\"text-align: right;\">\n      <th></th>\n      <th>임신</th>\n      <th>포도당</th>\n      <th>혈압</th>\n      <th>피부 두께</th>\n      <th>인슐린</th>\n      <th>BMI</th>\n      <th>당뇨계열 병</th>\n      <th>나이</th>\n      <th>결과</th>\n    </tr>\n  </thead>\n  <tbody>\n    <tr>\n      <th>1</th>\n      <td>1</td>\n      <td>85</td>\n      <td>66.0</td>\n      <td>29</td>\n      <td>0</td>\n      <td>26.6</td>\n      <td>0.351</td>\n      <td>31.0</td>\n      <td>0</td>\n    </tr>\n    <tr>\n      <th>2</th>\n      <td>8</td>\n      <td>183</td>\n      <td>64.0</td>\n      <td>0</td>\n      <td>0</td>\n      <td>23.3</td>\n      <td>0.672</td>\n      <td>32.0</td>\n      <td>1</td>\n    </tr>\n    <tr>\n      <th>3</th>\n      <td>1</td>\n      <td>89</td>\n      <td>66.0</td>\n      <td>23</td>\n      <td>94</td>\n      <td>28.1</td>\n      <td>0.167</td>\n      <td>21.0</td>\n      <td>0</td>\n    </tr>\n    <tr>\n      <th>4</th>\n      <td>0</td>\n      <td>137</td>\n      <td>40.0</td>\n      <td>35</td>\n      <td>168</td>\n      <td>43.1</td>\n      <td>2.288</td>\n      <td>33.0</td>\n      <td>1</td>\n    </tr>\n    <tr>\n      <th>5</th>\n      <td>5</td>\n      <td>116</td>\n      <td>74.0</td>\n      <td>0</td>\n      <td>0</td>\n      <td>25.6</td>\n      <td>0.201</td>\n      <td>30.0</td>\n      <td>0</td>\n    </tr>\n    <tr>\n      <th>...</th>\n      <td>...</td>\n      <td>...</td>\n      <td>...</td>\n      <td>...</td>\n      <td>...</td>\n      <td>...</td>\n      <td>...</td>\n      <td>...</td>\n      <td>...</td>\n    </tr>\n    <tr>\n      <th>763</th>\n      <td>10</td>\n      <td>101</td>\n      <td>76.0</td>\n      <td>48</td>\n      <td>180</td>\n      <td>32.9</td>\n      <td>0.171</td>\n      <td>63.0</td>\n      <td>0</td>\n    </tr>\n    <tr>\n      <th>764</th>\n      <td>2</td>\n      <td>122</td>\n      <td>70.0</td>\n      <td>27</td>\n      <td>0</td>\n      <td>36.8</td>\n      <td>0.340</td>\n      <td>27.0</td>\n      <td>0</td>\n    </tr>\n    <tr>\n      <th>765</th>\n      <td>5</td>\n      <td>121</td>\n      <td>72.0</td>\n      <td>23</td>\n      <td>112</td>\n      <td>26.2</td>\n      <td>0.245</td>\n      <td>30.0</td>\n      <td>0</td>\n    </tr>\n    <tr>\n      <th>766</th>\n      <td>1</td>\n      <td>126</td>\n      <td>60.0</td>\n      <td>0</td>\n      <td>0</td>\n      <td>30.1</td>\n      <td>0.349</td>\n      <td>47.0</td>\n      <td>1</td>\n    </tr>\n    <tr>\n      <th>767</th>\n      <td>1</td>\n      <td>93</td>\n      <td>70.0</td>\n      <td>31</td>\n      <td>0</td>\n      <td>30.4</td>\n      <td>0.315</td>\n      <td>23.0</td>\n      <td>0</td>\n    </tr>\n  </tbody>\n</table>\n<p>767 rows × 9 columns</p>\n</div>"
     },
     "metadata": {},
     "execution_count": 148
    }
   ],
   "source": [
    "diabetes_json.dropna(subset=[\"나이\"], how=\"any\", axis=0)"
   ]
  },
  {
   "source": [
    "공백 채우기"
   ],
   "cell_type": "markdown",
   "metadata": {}
  },
  {
   "cell_type": "code",
   "execution_count": 158,
   "metadata": {},
   "outputs": [
    {
     "output_type": "execute_result",
     "data": {
      "text/plain": [
       "임신          6.0\n",
       "포도당       148.0\n",
       "혈압          NaN\n",
       "피부 두께      35.0\n",
       "인슐린         0.0\n",
       "BMI         NaN\n",
       "당뇨계열 병      NaN\n",
       "나이          NaN\n",
       "결과          1.0\n",
       "Name: 0, dtype: float64"
      ]
     },
     "metadata": {},
     "execution_count": 158
    }
   ],
   "source": [
    "diabetes_json.loc[0]"
   ]
  },
  {
   "cell_type": "code",
   "execution_count": 160,
   "metadata": {},
   "outputs": [
    {
     "output_type": "execute_result",
     "data": {
      "text/plain": [
       "임신          6.0\n",
       "포도당       148.0\n",
       "혈압          NaN\n",
       "피부 두께      35.0\n",
       "인슐린         0.0\n",
       "BMI         NaN\n",
       "당뇨계열 병      NaN\n",
       "나이         29.0\n",
       "결과          1.0\n",
       "Name: 0, dtype: float64"
      ]
     },
     "metadata": {},
     "execution_count": 160
    }
   ],
   "source": [
    "# 0행 나이열의 NaN 값을 중앙값으로 채운다\n",
    "diabetes_json[\"나이\"].fillna(diabetes_json[\"나이\"].median(axis=0), inplace=True)\n",
    "diabetes_json.loc[0]"
   ]
  },
  {
   "source": [
    "`drop_duplicates()` : 중복제거 "
   ],
   "cell_type": "markdown",
   "metadata": {}
  },
  {
   "source": [
    "추천 알고리즘 만들 때 이름과 상품명이 같은 경우는 중복으로 처리하여 제거한다. "
   ],
   "cell_type": "markdown",
   "metadata": {}
  },
  {
   "cell_type": "code",
   "execution_count": 167,
   "metadata": {},
   "outputs": [
    {
     "output_type": "execute_result",
     "data": {
      "text/plain": [
       "    임신    포도당    혈압  피부 두께    인슐린   BMI  당뇨계열 병    나이   결과   1\n",
       "0  6.0  148.0   NaN   35.0    0.0   NaN     NaN  29.0  1.0 NaN\n",
       "1  6.0  148.0   NaN   35.0    0.0   NaN     NaN  29.0  1.0 NaN\n",
       "2  8.0  183.0  64.0    0.0    0.0  23.3   0.672  32.0  1.0 NaN\n",
       "3  1.0   89.0  66.0   23.0   94.0  28.1   0.167  21.0  0.0 NaN\n",
       "4  0.0  137.0  40.0   35.0  168.0  43.1   2.288  33.0  1.0 NaN"
      ],
      "text/html": "<div>\n<style scoped>\n    .dataframe tbody tr th:only-of-type {\n        vertical-align: middle;\n    }\n\n    .dataframe tbody tr th {\n        vertical-align: top;\n    }\n\n    .dataframe thead th {\n        text-align: right;\n    }\n</style>\n<table border=\"1\" class=\"dataframe\">\n  <thead>\n    <tr style=\"text-align: right;\">\n      <th></th>\n      <th>임신</th>\n      <th>포도당</th>\n      <th>혈압</th>\n      <th>피부 두께</th>\n      <th>인슐린</th>\n      <th>BMI</th>\n      <th>당뇨계열 병</th>\n      <th>나이</th>\n      <th>결과</th>\n      <th>1</th>\n    </tr>\n  </thead>\n  <tbody>\n    <tr>\n      <th>0</th>\n      <td>6.0</td>\n      <td>148.0</td>\n      <td>NaN</td>\n      <td>35.0</td>\n      <td>0.0</td>\n      <td>NaN</td>\n      <td>NaN</td>\n      <td>29.0</td>\n      <td>1.0</td>\n      <td>NaN</td>\n    </tr>\n    <tr>\n      <th>1</th>\n      <td>6.0</td>\n      <td>148.0</td>\n      <td>NaN</td>\n      <td>35.0</td>\n      <td>0.0</td>\n      <td>NaN</td>\n      <td>NaN</td>\n      <td>29.0</td>\n      <td>1.0</td>\n      <td>NaN</td>\n    </tr>\n    <tr>\n      <th>2</th>\n      <td>8.0</td>\n      <td>183.0</td>\n      <td>64.0</td>\n      <td>0.0</td>\n      <td>0.0</td>\n      <td>23.3</td>\n      <td>0.672</td>\n      <td>32.0</td>\n      <td>1.0</td>\n      <td>NaN</td>\n    </tr>\n    <tr>\n      <th>3</th>\n      <td>1.0</td>\n      <td>89.0</td>\n      <td>66.0</td>\n      <td>23.0</td>\n      <td>94.0</td>\n      <td>28.1</td>\n      <td>0.167</td>\n      <td>21.0</td>\n      <td>0.0</td>\n      <td>NaN</td>\n    </tr>\n    <tr>\n      <th>4</th>\n      <td>0.0</td>\n      <td>137.0</td>\n      <td>40.0</td>\n      <td>35.0</td>\n      <td>168.0</td>\n      <td>43.1</td>\n      <td>2.288</td>\n      <td>33.0</td>\n      <td>1.0</td>\n      <td>NaN</td>\n    </tr>\n  </tbody>\n</table>\n</div>"
     },
     "metadata": {},
     "execution_count": 167
    }
   ],
   "source": [
    "diabetes_json.loc[1] = diabetes_json.loc[0]\n",
    "diabetes_json.head()"
   ]
  },
  {
   "cell_type": "code",
   "execution_count": 170,
   "metadata": {},
   "outputs": [
    {
     "output_type": "execute_result",
     "data": {
      "text/plain": [
       "    임신    포도당    혈압  피부 두께    인슐린   BMI  당뇨계열 병    나이   결과   1\n",
       "0  6.0  148.0   NaN   35.0    0.0   NaN     NaN  29.0  1.0 NaN\n",
       "2  8.0  183.0  64.0    0.0    0.0  23.3   0.672  32.0  1.0 NaN\n",
       "3  1.0   89.0  66.0   23.0   94.0  28.1   0.167  21.0  0.0 NaN\n",
       "4  0.0  137.0  40.0   35.0  168.0  43.1   2.288  33.0  1.0 NaN\n",
       "5  5.0  116.0  74.0    0.0    0.0  25.6   0.201  30.0  0.0 NaN"
      ],
      "text/html": "<div>\n<style scoped>\n    .dataframe tbody tr th:only-of-type {\n        vertical-align: middle;\n    }\n\n    .dataframe tbody tr th {\n        vertical-align: top;\n    }\n\n    .dataframe thead th {\n        text-align: right;\n    }\n</style>\n<table border=\"1\" class=\"dataframe\">\n  <thead>\n    <tr style=\"text-align: right;\">\n      <th></th>\n      <th>임신</th>\n      <th>포도당</th>\n      <th>혈압</th>\n      <th>피부 두께</th>\n      <th>인슐린</th>\n      <th>BMI</th>\n      <th>당뇨계열 병</th>\n      <th>나이</th>\n      <th>결과</th>\n      <th>1</th>\n    </tr>\n  </thead>\n  <tbody>\n    <tr>\n      <th>0</th>\n      <td>6.0</td>\n      <td>148.0</td>\n      <td>NaN</td>\n      <td>35.0</td>\n      <td>0.0</td>\n      <td>NaN</td>\n      <td>NaN</td>\n      <td>29.0</td>\n      <td>1.0</td>\n      <td>NaN</td>\n    </tr>\n    <tr>\n      <th>2</th>\n      <td>8.0</td>\n      <td>183.0</td>\n      <td>64.0</td>\n      <td>0.0</td>\n      <td>0.0</td>\n      <td>23.3</td>\n      <td>0.672</td>\n      <td>32.0</td>\n      <td>1.0</td>\n      <td>NaN</td>\n    </tr>\n    <tr>\n      <th>3</th>\n      <td>1.0</td>\n      <td>89.0</td>\n      <td>66.0</td>\n      <td>23.0</td>\n      <td>94.0</td>\n      <td>28.1</td>\n      <td>0.167</td>\n      <td>21.0</td>\n      <td>0.0</td>\n      <td>NaN</td>\n    </tr>\n    <tr>\n      <th>4</th>\n      <td>0.0</td>\n      <td>137.0</td>\n      <td>40.0</td>\n      <td>35.0</td>\n      <td>168.0</td>\n      <td>43.1</td>\n      <td>2.288</td>\n      <td>33.0</td>\n      <td>1.0</td>\n      <td>NaN</td>\n    </tr>\n    <tr>\n      <th>5</th>\n      <td>5.0</td>\n      <td>116.0</td>\n      <td>74.0</td>\n      <td>0.0</td>\n      <td>0.0</td>\n      <td>25.6</td>\n      <td>0.201</td>\n      <td>30.0</td>\n      <td>0.0</td>\n      <td>NaN</td>\n    </tr>\n  </tbody>\n</table>\n</div>"
     },
     "metadata": {},
     "execution_count": 170
    }
   ],
   "source": [
    "# 1행이 사라진다. \n",
    "diabetes_json.drop_duplicates().head()"
   ]
  },
  {
   "source": [
    "--------------- 교안 외 ---------------"
   ],
   "cell_type": "markdown",
   "metadata": {}
  },
  {
   "cell_type": "code",
   "execution_count": 20,
   "metadata": {},
   "outputs": [
    {
     "output_type": "stream",
     "name": "stderr",
     "text": [
      "'sudo'��(��) ���� �Ǵ� �ܺ� ����, ������ �� �ִ� ���α׷�, �Ǵ�\n",
      "��ġ ������ �ƴմϴ�.\n",
      "'sudo'��(��) ���� �Ǵ� �ܺ� ����, ������ �� �ִ� ���α׷�, �Ǵ�\n",
      "��ġ ������ �ƴմϴ�.\n",
      "'rm'��(��) ���� �Ǵ� �ܺ� ����, ������ �� �ִ� ���α׷�, �Ǵ�\n",
      "��ġ ������ �ƴմϴ�.\n"
     ]
    }
   ],
   "source": [
    "# # 시각화의 한글폰트 보존을 위해 font download\n",
    "# !sudo apt-get install -y fonts-nanum\n",
    "# !sudo fc-cache -fv  # cache 덮어씌움\n",
    "# !rm ~/.cache/matplotlib -rf"
   ]
  },
  {
   "cell_type": "code",
   "execution_count": 21,
   "metadata": {},
   "outputs": [],
   "source": [
    "%matplotlib inline\n",
    "import matplotlib.pyplot as plt \n",
    "plt.rc(\"font\", family=\"NanumBarunGothic\")"
   ]
  },
  {
   "cell_type": "code",
   "execution_count": 18,
   "metadata": {},
   "outputs": [],
   "source": [
    "# !conda activate tf2_py37"
   ]
  },
  {
   "cell_type": "code",
   "execution_count": 19,
   "metadata": {},
   "outputs": [
    {
     "output_type": "stream",
     "name": "stdout",
     "text": [
      "Collecting missingno\n",
      "  Using cached missingno-0.4.2-py3-none-any.whl (9.7 kB)\n",
      "Requirement already satisfied: matplotlib in c:\\programdata\\anaconda3\\envs\\tf2_py37\\lib\\site-packages (from missingno) (3.3.4)\n",
      "Requirement already satisfied: numpy in c:\\programdata\\anaconda3\\envs\\tf2_py37\\lib\\site-packages (from missingno) (1.19.2)\n",
      "Requirement already satisfied: scipy in c:\\programdata\\anaconda3\\envs\\tf2_py37\\lib\\site-packages (from missingno) (1.6.1)\n",
      "Collecting seaborn\n",
      "  Using cached seaborn-0.11.1-py3-none-any.whl (285 kB)\n",
      "Requirement already satisfied: python-dateutil>=2.1 in c:\\programdata\\anaconda3\\envs\\tf2_py37\\lib\\site-packages (from matplotlib->missingno) (2.8.1)\n",
      "Requirement already satisfied: cycler>=0.10 in c:\\programdata\\anaconda3\\envs\\tf2_py37\\lib\\site-packages (from matplotlib->missingno) (0.10.0)\n",
      "Requirement already satisfied: pyparsing!=2.0.4,!=2.1.2,!=2.1.6,>=2.0.3 in c:\\programdata\\anaconda3\\envs\\tf2_py37\\lib\\site-packages (from matplotlib->missingno) (2.4.7)\n",
      "Requirement already satisfied: pillow>=6.2.0 in c:\\programdata\\anaconda3\\envs\\tf2_py37\\lib\\site-packages (from matplotlib->missingno) (8.1.2)\n",
      "Requirement already satisfied: kiwisolver>=1.0.1 in c:\\programdata\\anaconda3\\envs\\tf2_py37\\lib\\site-packages (from matplotlib->missingno) (1.3.1)\n",
      "Requirement already satisfied: six in c:\\programdata\\anaconda3\\envs\\tf2_py37\\lib\\site-packages (from cycler>=0.10->matplotlib->missingno) (1.15.0)\n",
      "Requirement already satisfied: pandas>=0.23 in c:\\programdata\\anaconda3\\envs\\tf2_py37\\lib\\site-packages (from seaborn->missingno) (1.2.3)\n",
      "Requirement already satisfied: pytz>=2017.3 in c:\\programdata\\anaconda3\\envs\\tf2_py37\\lib\\site-packages (from pandas>=0.23->seaborn->missingno) (2021.1)\n",
      "Installing collected packages: seaborn, missingno\n",
      "Successfully installed missingno-0.4.2 seaborn-0.11.1\n"
     ]
    }
   ],
   "source": [
    "# !pip install missingno\n",
    "!conda install missingno"
   ]
  },
  {
   "cell_type": "code",
   "execution_count": 22,
   "metadata": {},
   "outputs": [
    {
     "output_type": "error",
     "ename": "ModuleNotFoundError",
     "evalue": "No module named 'missingno'",
     "traceback": [
      "\u001b[1;31m---------------------------------------------------------------------------\u001b[0m",
      "\u001b[1;31mModuleNotFoundError\u001b[0m                       Traceback (most recent call last)",
      "\u001b[1;32m<ipython-input-22-48a132f93583>\u001b[0m in \u001b[0;36m<module>\u001b[1;34m\u001b[0m\n\u001b[0;32m      2\u001b[0m \u001b[0mwarnings\u001b[0m\u001b[1;33m.\u001b[0m\u001b[0mfilterwarnings\u001b[0m\u001b[1;33m(\u001b[0m\u001b[0maction\u001b[0m\u001b[1;33m=\u001b[0m\u001b[1;34m'ignore'\u001b[0m\u001b[1;33m)\u001b[0m\u001b[1;33m\u001b[0m\u001b[1;33m\u001b[0m\u001b[0m\n\u001b[0;32m      3\u001b[0m \u001b[1;33m\u001b[0m\u001b[0m\n\u001b[1;32m----> 4\u001b[1;33m \u001b[1;32mimport\u001b[0m \u001b[0mmissingno\u001b[0m \u001b[1;32mas\u001b[0m \u001b[0mmsno\u001b[0m\u001b[1;33m\u001b[0m\u001b[1;33m\u001b[0m\u001b[0m\n\u001b[0m\u001b[0;32m      5\u001b[0m \u001b[0mmsno\u001b[0m\u001b[1;33m.\u001b[0m\u001b[0mmatrix\u001b[0m\u001b[1;33m(\u001b[0m\u001b[0mjson_df\u001b[0m\u001b[1;33m,\u001b[0m \u001b[0mfigsize\u001b[0m\u001b[1;33m=\u001b[0m\u001b[1;33m(\u001b[0m\u001b[1;36m12\u001b[0m\u001b[1;33m,\u001b[0m\u001b[1;36m5\u001b[0m\u001b[1;33m)\u001b[0m\u001b[1;33m)\u001b[0m\u001b[1;33m\u001b[0m\u001b[1;33m\u001b[0m\u001b[0m\n",
      "\u001b[1;31mModuleNotFoundError\u001b[0m: No module named 'missingno'"
     ]
    }
   ],
   "source": [
    "import warnings     # 경고문 제거를 위함\n",
    "warnings.filterwarnings(action='ignore')\n",
    "\n",
    "import missingno as msno\n",
    "msno.matrix(json_df, figsize=(12,5))"
   ]
  },
  {
   "source": [
    "-----------------------------------"
   ],
   "cell_type": "markdown",
   "metadata": {}
  },
  {
   "source": [
    "날짜데이터"
   ],
   "cell_type": "markdown",
   "metadata": {}
  },
  {
   "cell_type": "code",
   "execution_count": 10,
   "metadata": {},
   "outputs": [
    {
     "output_type": "execute_result",
     "data": {
      "text/plain": [
       "  InvoiceNo StockCode                          Description  Quantity  \\\n",
       "0    536365    85123A   WHITE HANGING HEART T-LIGHT HOLDER         6   \n",
       "1    536365     71053                  WHITE METAL LANTERN         6   \n",
       "2    536365    84406B       CREAM CUPID HEARTS COAT HANGER         8   \n",
       "3    536365    84029G  KNITTED UNION FLAG HOT WATER BOTTLE         6   \n",
       "4    536365    84029E       RED WOOLLY HOTTIE WHITE HEART.         6   \n",
       "\n",
       "      InvoiceDate  UnitPrice  CustomerID         Country  \n",
       "0  12/1/2010 8:26       2.55     17850.0  United Kingdom  \n",
       "1  12/1/2010 8:26       3.39     17850.0  United Kingdom  \n",
       "2  12/1/2010 8:26       2.75     17850.0  United Kingdom  \n",
       "3  12/1/2010 8:26       3.39     17850.0  United Kingdom  \n",
       "4  12/1/2010 8:26       3.39     17850.0  United Kingdom  "
      ],
      "text/html": "<div>\n<style scoped>\n    .dataframe tbody tr th:only-of-type {\n        vertical-align: middle;\n    }\n\n    .dataframe tbody tr th {\n        vertical-align: top;\n    }\n\n    .dataframe thead th {\n        text-align: right;\n    }\n</style>\n<table border=\"1\" class=\"dataframe\">\n  <thead>\n    <tr style=\"text-align: right;\">\n      <th></th>\n      <th>InvoiceNo</th>\n      <th>StockCode</th>\n      <th>Description</th>\n      <th>Quantity</th>\n      <th>InvoiceDate</th>\n      <th>UnitPrice</th>\n      <th>CustomerID</th>\n      <th>Country</th>\n    </tr>\n  </thead>\n  <tbody>\n    <tr>\n      <th>0</th>\n      <td>536365</td>\n      <td>85123A</td>\n      <td>WHITE HANGING HEART T-LIGHT HOLDER</td>\n      <td>6</td>\n      <td>12/1/2010 8:26</td>\n      <td>2.55</td>\n      <td>17850.0</td>\n      <td>United Kingdom</td>\n    </tr>\n    <tr>\n      <th>1</th>\n      <td>536365</td>\n      <td>71053</td>\n      <td>WHITE METAL LANTERN</td>\n      <td>6</td>\n      <td>12/1/2010 8:26</td>\n      <td>3.39</td>\n      <td>17850.0</td>\n      <td>United Kingdom</td>\n    </tr>\n    <tr>\n      <th>2</th>\n      <td>536365</td>\n      <td>84406B</td>\n      <td>CREAM CUPID HEARTS COAT HANGER</td>\n      <td>8</td>\n      <td>12/1/2010 8:26</td>\n      <td>2.75</td>\n      <td>17850.0</td>\n      <td>United Kingdom</td>\n    </tr>\n    <tr>\n      <th>3</th>\n      <td>536365</td>\n      <td>84029G</td>\n      <td>KNITTED UNION FLAG HOT WATER BOTTLE</td>\n      <td>6</td>\n      <td>12/1/2010 8:26</td>\n      <td>3.39</td>\n      <td>17850.0</td>\n      <td>United Kingdom</td>\n    </tr>\n    <tr>\n      <th>4</th>\n      <td>536365</td>\n      <td>84029E</td>\n      <td>RED WOOLLY HOTTIE WHITE HEART.</td>\n      <td>6</td>\n      <td>12/1/2010 8:26</td>\n      <td>3.39</td>\n      <td>17850.0</td>\n      <td>United Kingdom</td>\n    </tr>\n  </tbody>\n</table>\n</div>"
     },
     "metadata": {},
     "execution_count": 10
    }
   ],
   "source": [
    "commerce.head()"
   ]
  },
  {
   "source": [
    "실제 구매한 고객의 데이터로, invoice date를 활용한다. \n",
    "\n",
    "인식을 위해 unicode_escape로 encoding했으나 이 환경에서는 문제 없으므로 그대로 진행 \n"
   ],
   "cell_type": "markdown",
   "metadata": {}
  },
  {
   "source": [
    "**하단 중요!! : customed column** "
   ],
   "cell_type": "markdown",
   "metadata": {}
  },
  {
   "cell_type": "code",
   "execution_count": 13,
   "metadata": {},
   "outputs": [
    {
     "output_type": "execute_result",
     "data": {
      "text/plain": [
       "    parse_InvoiceDate     InvoiceDate\n",
       "0 2010-12-01 08:26:00  12/1/2010 8:26\n",
       "1 2010-12-01 08:26:00  12/1/2010 8:26\n",
       "2 2010-12-01 08:26:00  12/1/2010 8:26\n",
       "3 2010-12-01 08:26:00  12/1/2010 8:26\n",
       "4 2010-12-01 08:26:00  12/1/2010 8:26"
      ],
      "text/html": "<div>\n<style scoped>\n    .dataframe tbody tr th:only-of-type {\n        vertical-align: middle;\n    }\n\n    .dataframe tbody tr th {\n        vertical-align: top;\n    }\n\n    .dataframe thead th {\n        text-align: right;\n    }\n</style>\n<table border=\"1\" class=\"dataframe\">\n  <thead>\n    <tr style=\"text-align: right;\">\n      <th></th>\n      <th>parse_InvoiceDate</th>\n      <th>InvoiceDate</th>\n    </tr>\n  </thead>\n  <tbody>\n    <tr>\n      <th>0</th>\n      <td>2010-12-01 08:26:00</td>\n      <td>12/1/2010 8:26</td>\n    </tr>\n    <tr>\n      <th>1</th>\n      <td>2010-12-01 08:26:00</td>\n      <td>12/1/2010 8:26</td>\n    </tr>\n    <tr>\n      <th>2</th>\n      <td>2010-12-01 08:26:00</td>\n      <td>12/1/2010 8:26</td>\n    </tr>\n    <tr>\n      <th>3</th>\n      <td>2010-12-01 08:26:00</td>\n      <td>12/1/2010 8:26</td>\n    </tr>\n    <tr>\n      <th>4</th>\n      <td>2010-12-01 08:26:00</td>\n      <td>12/1/2010 8:26</td>\n    </tr>\n  </tbody>\n</table>\n</div>"
     },
     "metadata": {},
     "execution_count": 13
    }
   ],
   "source": [
    "# column을 만든다. 이후의 작업들 단축!\n",
    "\n",
    "commerce['parse_InvoiceDate'] = pd.to_datetime(commerce[\"InvoiceDate\"])\n",
    "commerce[[\"parse_InvoiceDate\", \"InvoiceDate\"]].head()"
   ]
  },
  {
   "source": [
    "Query와 유사한 기능으로 내가 원하는 데이터만 추출한다. \n",
    "\n",
    "1. 데이터프레임을 맨 앞에 선언\n",
    "2. 대괄호 열고,\n",
    "3. if문처럼 조건과 & 를 반복해서 쓴다.\n",
    "    - and는 먹히지 않는다.\n",
    "    - ex) `commerce[ (commerce_df['year_InvoiceDate'] == 2011) & (commerce_df['CustomerID'] == 13313.)]`\n",
    "    - invoice 가 2011인 데이터 중 customer id가 13313인 사람을 골라낸다 == 13313번 고객이 2011년도에 구매한 기록 "
   ],
   "cell_type": "markdown",
   "metadata": {}
  },
  {
   "cell_type": "code",
   "execution_count": null,
   "metadata": {},
   "outputs": [],
   "source": []
  }
 ]
}