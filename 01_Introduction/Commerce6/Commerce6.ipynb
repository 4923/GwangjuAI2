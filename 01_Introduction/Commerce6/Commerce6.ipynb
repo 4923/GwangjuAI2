{
  "cells": [
    {
      "cell_type": "code",
      "execution_count": 1,
      "metadata": {
        "colab": {
          "base_uri": "https://localhost:8080/"
        },
        "id": "z09srQMjHY7Y",
        "outputId": "051438e0-b87c-42d3-ce55-5747d215bd7b"
      },
      "outputs": [],
      "source": [
        "# from google.colab import drive\r\n",
        "# drive.mount('/content/drive')"
      ]
    },
    {
      "cell_type": "markdown",
      "metadata": {},
      "source": [
        "### Module Import"
      ]
    },
    {
      "cell_type": "code",
      "execution_count": 2,
      "metadata": {},
      "outputs": [],
      "source": [
        "# Data\r\n",
        "import pandas as pd\r\n",
        "import numpy as np\r\n",
        "\r\n",
        "# Crawling\r\n",
        "import requests\r\n",
        "import json"
      ]
    },
    {
      "cell_type": "code",
      "execution_count": 3,
      "metadata": {},
      "outputs": [
        {
          "data": {
            "text/html": [
              "<div>\n",
              "<style scoped>\n",
              "    .dataframe tbody tr th:only-of-type {\n",
              "        vertical-align: middle;\n",
              "    }\n",
              "\n",
              "    .dataframe tbody tr th {\n",
              "        vertical-align: top;\n",
              "    }\n",
              "\n",
              "    .dataframe thead th {\n",
              "        text-align: right;\n",
              "    }\n",
              "</style>\n",
              "<table border=\"1\" class=\"dataframe\">\n",
              "  <thead>\n",
              "    <tr style=\"text-align: right;\">\n",
              "      <th></th>\n",
              "      <th>id</th>\n",
              "      <th>pw</th>\n",
              "      <th>nickname</th>\n",
              "      <th>location</th>\n",
              "    </tr>\n",
              "  </thead>\n",
              "  <tbody>\n",
              "    <tr>\n",
              "      <th>0</th>\n",
              "      <td>문재인</td>\n",
              "      <td>1100</td>\n",
              "      <td>moon_justice</td>\n",
              "      <td>서울특별시 종로구</td>\n",
              "    </tr>\n",
              "    <tr>\n",
              "      <th>1</th>\n",
              "      <td>이준석</td>\n",
              "      <td>1234</td>\n",
              "      <td>bicycle_guy</td>\n",
              "      <td>서울특별시 영등포구</td>\n",
              "    </tr>\n",
              "    <tr>\n",
              "      <th>2</th>\n",
              "      <td>이명박</td>\n",
              "      <td>3243</td>\n",
              "      <td>liar_lee</td>\n",
              "      <td>서울특별시 서초구</td>\n",
              "    </tr>\n",
              "    <tr>\n",
              "      <th>3</th>\n",
              "      <td>test</td>\n",
              "      <td>1234</td>\n",
              "      <td>1234</td>\n",
              "      <td>1234</td>\n",
              "    </tr>\n",
              "    <tr>\n",
              "      <th>4</th>\n",
              "      <td>나호용</td>\n",
              "      <td>3456</td>\n",
              "      <td>여름바다</td>\n",
              "      <td>서울 송파구</td>\n",
              "    </tr>\n",
              "  </tbody>\n",
              "</table>\n",
              "</div>"
            ],
            "text/plain": [
              "     id    pw      nickname    location\n",
              "0   문재인  1100  moon_justice   서울특별시 종로구\n",
              "1   이준석  1234   bicycle_guy  서울특별시 영등포구\n",
              "2   이명박  3243      liar_lee   서울특별시 서초구\n",
              "3  test  1234          1234        1234\n",
              "4   나호용  3456          여름바다      서울 송파구"
            ]
          },
          "execution_count": 3,
          "metadata": {},
          "output_type": "execute_result"
        }
      ],
      "source": [
        "login_df = pd.read_csv(\"./login/Commerce6_login.csv\")\r\n",
        "login_df"
      ]
    },
    {
      "cell_type": "markdown",
      "metadata": {},
      "source": [
        "## Class list\r\n",
        "\r\n",
        "- login\r\n",
        "    + 로그인 / 회원 DB 처리 (담당)\r\n",
        "- product\r\n",
        "    + 상품보기\r\n",
        "- purchase\r\n",
        "    + 상품결제\r\n",
        "- share\r\n",
        "    + 결제 처리 메일 보내기"
      ]
    },
    {
      "cell_type": "code",
      "execution_count": 4,
      "metadata": {
        "colab": {
          "base_uri": "https://localhost:8080/",
          "height": 1000
        },
        "id": "KCo28MXF8n37",
        "outputId": "c3f165e2-8bb9-47cd-ea4c-a7f1f53c865f"
      },
      "outputs": [],
      "source": [
        "# 로그인 기능을 만들면, 쇼핑 기능과 연결할 뿐만 아니라 커뮤니케이션 기능을 만들 수도 있겠네요.\r\n",
        "# 리뷰 게시판을 만들고 내가 글을 써볼 수도 있겠어요.\r\n",
        "class Commerce6_login :\r\n",
        "  \r\n",
        "  def __init__(self, id, pw) :\r\n",
        "    self.id = id\r\n",
        "    self.pw = pw\r\n",
        "\r\n",
        "  def login_doit(self) :\r\n",
        "    login_df = pd.read_csv(\"./login/Commerce6_login.csv\")\r\n",
        "    \r\n",
        "    # Check Login\r\n",
        "    if len(login_df.loc[(login_df['id'] == self.id) & (login_df['pw'] == self.pw)]) == 1 :\r\n",
        "      return 'login_complete'\r\n",
        "    else :\r\n",
        "      return 'login_fail'\r\n",
        "\r\n",
        "  def login_guest(self) :\r\n",
        "    login_df = pd.read_csv(\"./login/Commerce6_login.csv\")\r\n",
        "    \r\n",
        "    info_table = ['id',\t'pw',\t'nickname',\t'location']\r\n",
        "    return_table = []\r\n",
        "\r\n",
        "    for i in range( 4 ) : # id\tpw\tnickname\tlocation\r\n",
        "      return_table.append( input(\"Enter Your Information [{}] : \".format(info_table[i])) )\r\n",
        "    \r\n",
        "    return_table_df = pd.DataFrame( np.array(return_table).reshape(1, -1), columns=info_table )\r\n",
        "    \r\n",
        "    login_df = login_df.append(return_table_df)\r\n",
        "    login_df.to_csv(\"./login/Commerce6_login.csv\", index = False)\r\n",
        "\r\n",
        "    return 'login_guest_complete'\r\n"
      ]
    },
    {
      "cell_type": "code",
      "execution_count": 5,
      "metadata": {},
      "outputs": [
        {
          "data": {
            "text/plain": [
              "'id'"
            ]
          },
          "execution_count": 5,
          "metadata": {},
          "output_type": "execute_result"
        }
      ],
      "source": [
        "C = Commerce6_login('id', 'pw')\r\n",
        "C.id"
      ]
    },
    {
      "cell_type": "code",
      "execution_count": 6,
      "metadata": {},
      "outputs": [],
      "source": [
        "\r\n",
        "# 상품을 장르별로도 검색해볼 수는 없을까요?\r\n",
        "# 단순히 구매하기 말고, csv 파일을 DB 처럼 활용하는 방법으로 장바구니도 구현할 수 있을것 같습니다.\r\n",
        "class Commerce6_product :\r\n",
        "  def __init__(self, id, pw) :\r\n",
        "    self.id = id\r\n",
        "    self.pw = pw\r\n",
        "\r\n",
        "  def product_infomation_resule(self) :\r\n",
        "    login_df = pd.read_csv(\"./login/Commerce6_login.csv\")\r\n",
        "    product_df = pd.read_csv(\"./product/bestsellers with categories.csv\")\r\n",
        "\r\n",
        "    while True :\r\n",
        "      product_choice_options = int(input(\"평점높은순(1) / 리뷰많은순(2) / 낮은가격순(3) / 높은가격순(4) / 최신출시순(5): \"))\r\n",
        "      \r\n",
        "      if product_choice_options == 1 :\r\n",
        "        product_df = product_df.sort_values(by=['User Rating'], axis=0, ascending=False)\r\n",
        "      elif product_choice_options == 2 :\r\n",
        "        product_df = product_df.sort_values(by=['Reviews'], axis=0, ascending=False)\r\n",
        "      elif product_choice_options == 3 :\r\n",
        "        product_df = product_df.sort_values(by=['Price'], axis=0, ascending=True)\r\n",
        "      elif product_choice_options == 4 :\r\n",
        "        product_df = product_df.sort_values(by=['Price'], axis=0, ascending=False)\r\n",
        "      elif product_choice_options == 5 :\r\n",
        "        product_df = product_df.sort_values(by=['Year'], axis=0, ascending=False)\r\n",
        "\r\n",
        "      for i in range( 5 ) :\r\n",
        "        print( \"-------------------------------\" )\r\n",
        "        print( \"-{} 번째 서적번호------------------\".format(i+1) )\r\n",
        "        print( \"-------------------------------\" )\r\n",
        "        for j in range( len(product_df.columns) ) :\r\n",
        "          if j == 4 :\r\n",
        "            print( \"{} : {} 원\".format(product_df.columns.to_list()[j], format(product_df.loc[i][j]*1000, \",\") ) )\r\n",
        "          else :\r\n",
        "            print( \"{} : {}\".format(product_df.columns.to_list()[j], product_df.loc[i][j]) )\r\n",
        "        print( \"-------------------------------\" )\r\n",
        "\r\n",
        "      choice_product_booknumber = int(input(\"구매하실 서적 번호를 입력 : \"))\r\n",
        "\r\n",
        "      print( \"{} 님, 구매 신청하신 서적은 {} 입니다.\".format( login_df.loc[(login_df['id'] == self.id) & (login_df['pw'] == self.pw)]['nickname'].values[0], product_df.loc[choice_product_booknumber-1][0] ) )\r\n",
        "      print( \"가격은 {} 원입니다.\".format( product_df.loc[choice_product_booknumber][4]*1000 ) )\r\n",
        "      \r\n",
        "      choice_product_bookorder = int(input(\"구매(1) / 비구매(2) : \"))\r\n",
        "\r\n",
        "      if choice_product_bookorder == 1 :\r\n",
        "        print(\"결제처리 진행 중\")\r\n",
        "        break\r\n",
        "      elif choice_product_bookorder == 2 :\r\n",
        "        print(\"다른 서적을 확인 중\")\r\n",
        "        pass\r\n",
        "  \r\n",
        "    return 'product_choose_success'\r\n"
      ]
    },
    {
      "cell_type": "code",
      "execution_count": 7,
      "metadata": {},
      "outputs": [],
      "source": [
        "# 결제가 완료되었을 때, 디테일한 주문서를 작성할 수 있겠죠? 안전결제를 위해 조건문&반복문을 활용해 \r\n",
        "# 자체적으로 보안문자기능을 만들고, Delivery 클래스를 새로 생성하여\r\n",
        "# 영수증을 만들어 배송처리하는데 데이터를 넘겨주는 기능도 만들 수 있겠죠.\r\n",
        "class Commerce6_purchase :\r\n",
        "    pass\r\n"
      ]
    },
    {
      "cell_type": "code",
      "execution_count": 8,
      "metadata": {},
      "outputs": [],
      "source": [
        "\r\n",
        "# 카카오톡 혹은 메일로 결제 내용을 보내줄 수도 있겠습니다.\r\n",
        "class Commerce6_share :\r\n",
        "    pass\r\n"
      ]
    },
    {
      "cell_type": "markdown",
      "metadata": {},
      "source": [
        "### Execute"
      ]
    },
    {
      "cell_type": "code",
      "execution_count": 9,
      "metadata": {},
      "outputs": [
        {
          "name": "stdout",
          "output_type": "stream",
          "text": [
            "-------------------------------\n",
            "-1 번째 서적번호------------------\n",
            "-------------------------------\n",
            "Name : 10-Day Green Smoothie Cleanse\n",
            "Author : JJ Smith\n",
            "User Rating : 4.7\n",
            "Reviews : 17350\n",
            "Price : 8,000 원\n",
            "Year : 2016\n",
            "Genre : Non Fiction\n",
            "-------------------------------\n",
            "-------------------------------\n",
            "-2 번째 서적번호------------------\n",
            "-------------------------------\n",
            "Name : 11/22/63: A Novel\n",
            "Author : Stephen King\n",
            "User Rating : 4.6\n",
            "Reviews : 2052\n",
            "Price : 22,000 원\n",
            "Year : 2011\n",
            "Genre : Fiction\n",
            "-------------------------------\n",
            "-------------------------------\n",
            "-3 번째 서적번호------------------\n",
            "-------------------------------\n",
            "Name : 12 Rules for Life: An Antidote to Chaos\n",
            "Author : Jordan B. Peterson\n",
            "User Rating : 4.7\n",
            "Reviews : 18979\n",
            "Price : 15,000 원\n",
            "Year : 2018\n",
            "Genre : Non Fiction\n",
            "-------------------------------\n",
            "-------------------------------\n",
            "-4 번째 서적번호------------------\n",
            "-------------------------------\n",
            "Name : 1984 (Signet Classics)\n",
            "Author : George Orwell\n",
            "User Rating : 4.7\n",
            "Reviews : 21424\n",
            "Price : 6,000 원\n",
            "Year : 2017\n",
            "Genre : Fiction\n",
            "-------------------------------\n",
            "-------------------------------\n",
            "-5 번째 서적번호------------------\n",
            "-------------------------------\n",
            "Name : 5,000 Awesome Facts (About Everything!) (National Geographic Kids)\n",
            "Author : National Geographic Kids\n",
            "User Rating : 4.8\n",
            "Reviews : 7665\n",
            "Price : 12,000 원\n",
            "Year : 2019\n",
            "Genre : Non Fiction\n",
            "-------------------------------\n",
            "여름바다 님, 구매 신청하신 서적은 10-Day Green Smoothie Cleanse 입니다.\n",
            "가격은 22000 원입니다.\n",
            "결제처리 진행 중\n"
          ]
        },
        {
          "data": {
            "text/plain": [
              "'product_choose_success'"
            ]
          },
          "execution_count": 9,
          "metadata": {},
          "output_type": "execute_result"
        }
      ],
      "source": [
        "a = Commerce6_product(\"나호용\", 3456)\r\n",
        "a.product_infomation_resule()\r\n"
      ]
    }
  ],
  "metadata": {
    "colab": {
      "collapsed_sections": [],
      "name": "Commerce6",
      "provenance": []
    },
    "interpreter": {
      "hash": "74fd4a83763ff9d33eb8c7d90f5978b6232a18d570c7d5902a5874efbf77fdde"
    },
    "kernelspec": {
      "display_name": "Python 3.8.10 64-bit ('tf2_py38': conda)",
      "name": "python3"
    },
    "language_info": {
      "name": "python",
      "version": ""
    }
  },
  "nbformat": 4,
  "nbformat_minor": 0
}