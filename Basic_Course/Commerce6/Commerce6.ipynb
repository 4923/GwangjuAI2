{
  "cells": [
    {
      "cell_type": "code",
      "execution_count": 1,
      "metadata": {
        "colab": {
          "base_uri": "https://localhost:8080/"
        },
        "id": "z09srQMjHY7Y",
        "outputId": "051438e0-b87c-42d3-ce55-5747d215bd7b"
      },
      "outputs": [],
      "source": [
        "# from google.colab import drive\r\n",
        "# drive.mount('/content/drive')"
      ]
    },
    {
      "cell_type": "markdown",
      "metadata": {},
      "source": [
        "### Module Import"
      ]
    },
    {
      "cell_type": "code",
      "execution_count": 2,
      "metadata": {},
      "outputs": [],
      "source": [
        "# Data\r\n",
        "import pandas as pd\r\n",
        "import numpy as np\r\n",
        "\r\n",
        "# Crawling\r\n",
        "import requests\r\n",
        "import json"
      ]
    },
    {
      "cell_type": "markdown",
      "metadata": {},
      "source": [
        "## Class list\r\n",
        "\r\n",
        "- login\r\n",
        "    + 로그인 / 회원 DB 처리\r\n",
        "- product\r\n",
        "    + 상품보기\r\n",
        "- purchase\r\n",
        "    + 상품결제\r\n",
        "- share\r\n",
        "    + 결제 처리 메일 보내기"
      ]
    },
    {
      "cell_type": "code",
      "execution_count": 3,
      "metadata": {
        "colab": {
          "base_uri": "https://localhost:8080/",
          "height": 1000
        },
        "id": "KCo28MXF8n37",
        "outputId": "c3f165e2-8bb9-47cd-ea4c-a7f1f53c865f"
      },
      "outputs": [],
      "source": [
        "\r\n",
        "# 로그인 기능을 만들면, 쇼핑 기능과 연결할 뿐만 아니라 커뮤니케이션 기능을 만들 수도 있겠네요.\r\n",
        "# 리뷰 게시판을 만들고 내가 글을 써볼 수도 있겠어요.\r\n",
        "class Commerce6_login :\r\n",
        "  \r\n",
        "  def __init__(self, id, pw) :\r\n",
        "    self.id = id\r\n",
        "    self.pw = pw\r\n",
        "\r\n",
        "  def login_doit(self) :\r\n",
        "    login_df = pd.read_csv(\"./login/Commerce6_login.csv\")\r\n",
        "    \r\n",
        "    # Check Login\r\n",
        "    if len(login_df.loc[(login_df['id'] == self.id) & (login_df['pw'] == self.pw)]) == 1 :\r\n",
        "      return 'login_complete'\r\n",
        "    else :\r\n",
        "      return 'login_fail'\r\n",
        "\r\n",
        "  def login_guest(self) :\r\n",
        "    login_df = pd.read_csv(\"./login/Commerce6_login.csv\")\r\n",
        "    \r\n",
        "    info_table = ['id',\t'pw',\t'nickname',\t'location']\r\n",
        "    return_table = []\r\n",
        "\r\n",
        "    for i in range( 4 ) : # id\tpw\tnickname\tlocation\r\n",
        "      return_table.append( input(\"Enter Your Information [{}] : \".format(info_table[i])) )\r\n",
        "    \r\n",
        "    return_table_df = pd.DataFrame( np.array(return_table).reshape(1, -1), columns=info_table )\r\n",
        "    \r\n",
        "    login_df = login_df.append(return_table_df)\r\n",
        "    login_df.to_csv(\"./login/Commerce6_login.csv\", index = False)\r\n",
        "\r\n",
        "    return 'login_guest_complete'\r\n"
      ]
    },
    {
      "cell_type": "code",
      "execution_count": 4,
      "metadata": {},
      "outputs": [],
      "source": [
        "\r\n",
        "# 상품을 장르별로도 검색해볼 수는 없을까요?\r\n",
        "# 단순히 구매하기 말고, csv 파일을 DB 처럼 활용하는 방법으로 장바구니도 구현할 수 있을것 같습니다.\r\n",
        "class Commerce6_product :\r\n",
        "  def __init__(self, id, pw) :\r\n",
        "    self.id = id\r\n",
        "    self.pw = pw\r\n",
        "\r\n",
        "  def product_infomation_resule(self) :\r\n",
        "    login_df = pd.read_csv(\"./login/Commerce6_login.csv\")\r\n",
        "    product_df = pd.read_csv(\"./product/bestsellers with categories.csv\")\r\n",
        "\r\n",
        "    while True :\r\n",
        "      product_choice_options = int(input(\"평점높은순(1) / 리뷰많은순(2) / 낮은가격순(3) / 높은가격순(4) / 최신출시순(5): \"))\r\n",
        "      \r\n",
        "      if product_choice_options == 1 :\r\n",
        "        product_df = product_df.sort_values(by=['User Rating'], axis=0, ascending=False)\r\n",
        "      elif product_choice_options == 2 :\r\n",
        "        product_df = product_df.sort_values(by=['Reviews'], axis=0, ascending=False)\r\n",
        "      elif product_choice_options == 3 :\r\n",
        "        product_df = product_df.sort_values(by=['Price'], axis=0, ascending=True)\r\n",
        "      elif product_choice_options == 4 :\r\n",
        "        product_df = product_df.sort_values(by=['Price'], axis=0, ascending=False)\r\n",
        "      elif product_choice_options == 5 :\r\n",
        "        product_df = product_df.sort_values(by=['Year'], axis=0, ascending=False)\r\n",
        "\r\n",
        "      for i in range( 5 ) :\r\n",
        "        print( \"-------------------------------\" )\r\n",
        "        print( \"-{} 번째 서적번호------------------\".format(i+1) )\r\n",
        "        print( \"-------------------------------\" )\r\n",
        "        for j in range( len(product_df.columns) ) :\r\n",
        "          if j == 4 :\r\n",
        "            print( \"{} : {} 원\".format(product_df.columns.to_list()[j], format(product_df.loc[i][j]*1000, \",\") ) )\r\n",
        "          else :\r\n",
        "            print( \"{} : {}\".format(product_df.columns.to_list()[j], product_df.loc[i][j]) )\r\n",
        "        print( \"-------------------------------\" )\r\n",
        "\r\n",
        "      choice_product_booknumber = int(input(\"구매하실 서적 번호를 입력 : \"))\r\n",
        "\r\n",
        "      print( \"{} 님, 구매 신청하신 서적은 {} 입니다.\".format( login_df.loc[(login_df['id'] == self.id) & (login_df['pw'] == self.pw)]['nickname'].values[0], product_df.loc[choice_product_booknumber-1][0] ) )\r\n",
        "      print( \"가격은 {} 원입니다.\".format( product_df.loc[choice_product_booknumber][4]*1000 ) )\r\n",
        "      \r\n",
        "      choice_product_bookorder = int(input(\"구매(1) / 비구매(2) : \"))\r\n",
        "\r\n",
        "      if choice_product_bookorder == 1 :\r\n",
        "        print(\"결제처리 진행 중\")\r\n",
        "        break\r\n",
        "      elif choice_product_bookorder == 2 :\r\n",
        "        print(\"다른 서적을 확인 중\")\r\n",
        "        pass\r\n",
        "  \r\n",
        "    return 'product_choose_success'\r\n"
      ]
    },
    {
      "cell_type": "code",
      "execution_count": 5,
      "metadata": {},
      "outputs": [],
      "source": [
        "# 결제가 완료되었을 때, 디테일한 주문서를 작성할 수 있겠죠? 안전결제를 위해 조건문&반복문을 활용해 \r\n",
        "# 자체적으로 보안문자기능을 만들고, Delivery 클래스를 새로 생성하여\r\n",
        "# 영수증을 만들어 배송처리하는데 데이터를 넘겨주는 기능도 만들 수 있겠죠.\r\n",
        "class Commerce6_purchase :\r\n",
        "    pass\r\n"
      ]
    },
    {
      "cell_type": "code",
      "execution_count": 6,
      "metadata": {},
      "outputs": [],
      "source": [
        "\r\n",
        "# 카카오톡 혹은 메일로 결제 내용을 보내줄 수도 있겠습니다.\r\n",
        "class Commerce6_share :\r\n",
        "    pass\r\n"
      ]
    },
    {
      "cell_type": "markdown",
      "metadata": {},
      "source": [
        "### Execute"
      ]
    },
    {
      "cell_type": "code",
      "execution_count": 7,
      "metadata": {},
      "outputs": [
        {
          "ename": "ValueError",
          "evalue": "invalid literal for int() with base 10: ''",
          "output_type": "error",
          "traceback": [
            "\u001b[1;31m---------------------------------------------------------------------------\u001b[0m",
            "\u001b[1;31mValueError\u001b[0m                                Traceback (most recent call last)",
            "\u001b[1;32m<ipython-input-7-8c555efc2758>\u001b[0m in \u001b[0;36m<module>\u001b[1;34m\u001b[0m\n\u001b[0;32m      1\u001b[0m \u001b[0ma\u001b[0m \u001b[1;33m=\u001b[0m \u001b[0mCommerce6_product\u001b[0m\u001b[1;33m(\u001b[0m\u001b[1;34m\"나호용\"\u001b[0m\u001b[1;33m,\u001b[0m \u001b[1;36m3456\u001b[0m\u001b[1;33m)\u001b[0m\u001b[1;33m\u001b[0m\u001b[1;33m\u001b[0m\u001b[0m\n\u001b[1;32m----> 2\u001b[1;33m \u001b[0ma\u001b[0m\u001b[1;33m.\u001b[0m\u001b[0mproduct_infomation_resule\u001b[0m\u001b[1;33m(\u001b[0m\u001b[1;33m)\u001b[0m\u001b[1;33m\u001b[0m\u001b[1;33m\u001b[0m\u001b[0m\n\u001b[0m",
            "\u001b[1;32m<ipython-input-4-048df6c31c94>\u001b[0m in \u001b[0;36mproduct_infomation_resule\u001b[1;34m(self)\u001b[0m\n\u001b[0;32m     11\u001b[0m \u001b[1;33m\u001b[0m\u001b[0m\n\u001b[0;32m     12\u001b[0m     \u001b[1;32mwhile\u001b[0m \u001b[1;32mTrue\u001b[0m \u001b[1;33m:\u001b[0m\u001b[1;33m\u001b[0m\u001b[1;33m\u001b[0m\u001b[0m\n\u001b[1;32m---> 13\u001b[1;33m       \u001b[0mproduct_choice_options\u001b[0m \u001b[1;33m=\u001b[0m \u001b[0mint\u001b[0m\u001b[1;33m(\u001b[0m\u001b[0minput\u001b[0m\u001b[1;33m(\u001b[0m\u001b[1;34m\"평점높은순(1) / 리뷰많은순(2) / 낮은가격순(3) / 높은가격순(4) / 최신출시순(5): \"\u001b[0m\u001b[1;33m)\u001b[0m\u001b[1;33m)\u001b[0m\u001b[1;33m\u001b[0m\u001b[1;33m\u001b[0m\u001b[0m\n\u001b[0m\u001b[0;32m     14\u001b[0m \u001b[1;33m\u001b[0m\u001b[0m\n\u001b[0;32m     15\u001b[0m       \u001b[1;32mif\u001b[0m \u001b[0mproduct_choice_options\u001b[0m \u001b[1;33m==\u001b[0m \u001b[1;36m1\u001b[0m \u001b[1;33m:\u001b[0m\u001b[1;33m\u001b[0m\u001b[1;33m\u001b[0m\u001b[0m\n",
            "\u001b[1;31mValueError\u001b[0m: invalid literal for int() with base 10: ''"
          ]
        }
      ],
      "source": [
        "a = Commerce6_product(\"나호용\", 3456)\r\n",
        "a.product_infomation_resule()\r\n"
      ]
    }
  ],
  "metadata": {
    "colab": {
      "collapsed_sections": [],
      "name": "Commerce6",
      "provenance": []
    },
    "interpreter": {
      "hash": "74fd4a83763ff9d33eb8c7d90f5978b6232a18d570c7d5902a5874efbf77fdde"
    },
    "kernelspec": {
      "display_name": "Python 3.8.10 64-bit ('tf2_py38': conda)",
      "name": "python3"
    },
    "language_info": {
      "codemirror_mode": {
        "name": "ipython",
        "version": 3
      },
      "file_extension": ".py",
      "mimetype": "text/x-python",
      "name": "python",
      "nbconvert_exporter": "python",
      "pygments_lexer": "ipython3",
      "version": "3.8.10"
    }
  },
  "nbformat": 4,
  "nbformat_minor": 0
}